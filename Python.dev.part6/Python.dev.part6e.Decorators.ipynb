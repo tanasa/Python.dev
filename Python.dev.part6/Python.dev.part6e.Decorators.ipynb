{
 "cells": [
  {
   "cell_type": "code",
   "execution_count": null,
   "id": "cf8d66be-613e-45d0-9a2d-f23dd9c097ea",
   "metadata": {},
   "outputs": [],
   "source": []
  },
  {
   "cell_type": "code",
   "execution_count": 1,
   "id": "638318cd-cf40-485a-a6d4-4fc47b360241",
   "metadata": {},
   "outputs": [
    {
     "name": "stdout",
     "output_type": "stream",
     "text": [
      "\n",
      "\n",
      "What is a Decorator?\n",
      "\n",
      "A decorator is a function that takes another function or class as input, wraps it, and returns a modified version of it — usually adding extra behavior.\n",
      "\n",
      "✅ You “decorate” a function by adding @decorator_name above it.\n",
      "\n",
      "@decorator\n",
      "def original_function():\n",
      "    pass\n",
      "\n",
      "Is equivalent to:\n",
      "\n",
      "def original_function():\n",
      "    pass\n",
      "\n",
      "original_function = decorator(original_function)\n",
      "\n",
      "\n",
      "Before the function\n",
      "Hello!\n",
      "After the function\n",
      "\n",
      "\n",
      "Relationship Summary:\n",
      "\n",
      "Name\tWhat it does\n",
      "func()\tThe original function (e.g. say_hello)\n",
      "wrapper()\tThe new wrapped function returned by the decorator\n",
      "say_hello()\tNow points to wrapper() (due to the decorator)\n",
      "\n",
      "\n"
     ]
    }
   ],
   "source": [
    "print('''\n",
    "\n",
    "What is a Decorator?\n",
    "\n",
    "A decorator is a function that takes another function or class as input, wraps it, and returns a modified version of it — usually adding extra behavior.\n",
    "\n",
    "✅ You “decorate” a function by adding @decorator_name above it.\n",
    "\n",
    "@decorator\n",
    "def original_function():\n",
    "    pass\n",
    "\n",
    "Is equivalent to:\n",
    "\n",
    "def original_function():\n",
    "    pass\n",
    "\n",
    "original_function = decorator(original_function)\n",
    "\n",
    "''')\n",
    "\n",
    "def my_decorator(func):\n",
    "    def wrapper():\n",
    "        print(\"Before the function\")\n",
    "        func()\n",
    "        print(\"After the function\")\n",
    "    return wrapper   # The decorator returns wrapper, so: say_hello = wrapper\n",
    "\n",
    "@my_decorator\n",
    "def say_hello():\n",
    "    print(\"Hello!\")\n",
    "\n",
    "say_hello()\n",
    "\n",
    "# So when you do: say_hello()\n",
    "# You're actually calling wrapper() — not func() directly.\n",
    "# But inside wrapper(), it calls func(), which is the original say_hello().\n",
    "\n",
    "print('''\n",
    "\n",
    "Relationship Summary:\n",
    "\n",
    "Name\tWhat it does\n",
    "func()\tThe original function (e.g. say_hello)\n",
    "wrapper()\tThe new wrapped function returned by the decorator\n",
    "say_hello()\tNow points to wrapper() (due to the decorator)\n",
    "\n",
    "''')"
   ]
  },
  {
   "cell_type": "code",
   "execution_count": 2,
   "id": "b0f01af3-fda7-4d9b-a469-e017a9f359a6",
   "metadata": {},
   "outputs": [
    {
     "name": "stdout",
     "output_type": "stream",
     "text": [
      "\n",
      "\n",
      "Updated version with *args, **kwargs:\n",
      "\n",
      "def my_decorator(func):\n",
      "    def wrapper(*args, **kwargs):\n",
      "        print(\"Before the function\")\n",
      "        result = func(*args, **kwargs)  # pass the arguments through\n",
      "        print(\"After the function\")\n",
      "        return result\n",
      "    return wrapper\n",
      "\n",
      "🧠 Why use *args and **kwargs?\n",
      "\n",
      "Symbol\tMeaning\n",
      "\n",
      "*args\tPositional arguments as a tuple\n",
      "\n",
      "**kwargs\tKeyword arguments as a dictionary\n",
      "\n",
      "This makes your decorator flexible and reusable — \n",
      "you don’t have to know how many arguments the wrapped function expects.\n",
      "\n",
      "\n",
      "Before the function\n",
      "Hello!\n",
      "After the function\n",
      "Before the function\n",
      "Hello, Alice!\n",
      "After the function\n"
     ]
    }
   ],
   "source": [
    "print('''\n",
    "\n",
    "Updated version with *args, **kwargs:\n",
    "\n",
    "def my_decorator(func):\n",
    "    def wrapper(*args, **kwargs):\n",
    "        print(\"Before the function\")\n",
    "        result = func(*args, **kwargs)  # pass the arguments through\n",
    "        print(\"After the function\")\n",
    "        return result\n",
    "    return wrapper\n",
    "\n",
    "🧠 Why use *args and **kwargs?\n",
    "\n",
    "Symbol\tMeaning\n",
    "\n",
    "*args\tPositional arguments as a tuple\n",
    "\n",
    "**kwargs\tKeyword arguments as a dictionary\n",
    "\n",
    "This makes your decorator flexible and reusable — \n",
    "you don’t have to know how many arguments the wrapped function expects.\n",
    "\n",
    "''')\n",
    "\n",
    "def my_decorator(func):\n",
    "    def wrapper(*args, **kwargs):\n",
    "        print(\"Before the function\")\n",
    "        result = func(*args, **kwargs)\n",
    "        print(\"After the function\")\n",
    "        return result\n",
    "    return wrapper\n",
    "\n",
    "# Example 1: No-argument function (still works)\n",
    "\n",
    "@my_decorator\n",
    "def say_hello():\n",
    "    print(\"Hello!\")\n",
    "\n",
    "say_hello()\n",
    "\n",
    "#🔹 Example 2: Function with arguments\n",
    "\n",
    "@my_decorator\n",
    "def greet(name):\n",
    "    print(f\"Hello, {name}!\")\n",
    "\n",
    "greet(\"Alice\")"
   ]
  },
  {
   "cell_type": "code",
   "execution_count": null,
   "id": "dcd7962a-ee82-41ef-8a53-014c6baa92fa",
   "metadata": {},
   "outputs": [],
   "source": []
  },
  {
   "cell_type": "code",
   "execution_count": 3,
   "id": "2a7d74fc-9b11-4bf5-9954-3abca89b2984",
   "metadata": {},
   "outputs": [
    {
     "name": "stdout",
     "output_type": "stream",
     "text": [
      "bar\n",
      "foo\n",
      "bar\n",
      "foo\n",
      "\n",
      "\n",
      "Key Concept\n",
      "\n",
      "The decorator runs at definition time, not when you call foo().\n",
      "\n",
      "That’s why 'bar' prints first — even before you invoke foo().\n",
      "\n",
      "\n",
      "\n",
      "\n",
      "What is definition time in Python?\n",
      "\n",
      "Definition time is the moment when Python executes the lines that define your functions, classes, or decorators — \n",
      "that is, when your code is first loaded or run, not when the function is actually called.\n",
      "\n",
      "\n",
      "\n",
      "\n",
      "Python reads @bar and does this:\n",
      "\n",
      "foo = bar(foo)\n",
      "→ So bar() is called immediately — that's definition time.\n",
      "\n",
      "But foo() is only run later, when you actually call it — that's call time.\n",
      "\n",
      "\n",
      "\n",
      "\n",
      "📌 Decorators always run at definition time\n",
      "\n",
      "This is why decorators are often used to:\n",
      "\n",
      "Log when a function is defined\n",
      "\n",
      "Register functions in a framework (like Flask or Django)\n",
      "\n",
      "Modify behavior before a function is ever called\n",
      "\n",
      "\n"
     ]
    }
   ],
   "source": [
    "def bar(func):\n",
    "    print('bar')\n",
    "    return func\n",
    "\n",
    "# same as foo = bar(foo)\n",
    "@bar\n",
    "def foo():\n",
    "    print('foo')\n",
    "\n",
    "# foo = bar(foo)\n",
    "foo() \n",
    "# same as bar(foo)()\n",
    "bar(foo)()\n",
    "\n",
    "# Python defines foo() → then sees @bar → replaces foo = bar(foo)\n",
    "# bar() runs:\n",
    "# Prints 'bar'\n",
    "# Returns the unmodified foo\n",
    "# You later call foo() → 'foo' is printed\n",
    "\n",
    "\n",
    "print('''\n",
    "\n",
    "Key Concept\n",
    "\n",
    "The decorator runs at definition time, not when you call foo().\n",
    "\n",
    "That’s why 'bar' prints first — even before you invoke foo().\n",
    "\n",
    "''')\n",
    "\n",
    "print('''\n",
    "\n",
    "What is definition time in Python?\n",
    "\n",
    "Definition time is the moment when Python executes the lines that define your functions, classes, or decorators — \n",
    "that is, when your code is first loaded or run, not when the function is actually called.\n",
    "\n",
    "''')\n",
    "\n",
    "print('''\n",
    "\n",
    "Python reads @bar and does this:\n",
    "\n",
    "foo = bar(foo)\n",
    "→ So bar() is called immediately — that's definition time.\n",
    "\n",
    "But foo() is only run later, when you actually call it — that's call time.\n",
    "\n",
    "''')\n",
    "\n",
    "print('''\n",
    "\n",
    "📌 Decorators always run at definition time\n",
    "\n",
    "This is why decorators are often used to:\n",
    "\n",
    "Log when a function is defined\n",
    "\n",
    "Register functions in a framework (like Flask or Django)\n",
    "\n",
    "Modify behavior before a function is ever called\n",
    "\n",
    "''')\n"
   ]
  },
  {
   "cell_type": "code",
   "execution_count": 4,
   "id": "5e543306-338e-4e35-959f-d36c5b3ac4c2",
   "metadata": {},
   "outputs": [
    {
     "name": "stdout",
     "output_type": "stream",
     "text": [
      "bar\n",
      "foo\n"
     ]
    }
   ],
   "source": [
    "bar(foo)()"
   ]
  },
  {
   "cell_type": "code",
   "execution_count": 5,
   "id": "12d927b9-7360-4078-8e1b-05585fb888c0",
   "metadata": {},
   "outputs": [
    {
     "name": "stdout",
     "output_type": "stream",
     "text": [
      "Trace Decorators :\n"
     ]
    }
   ],
   "source": [
    "print(\"Trace Decorators :\")"
   ]
  },
  {
   "cell_type": "code",
   "execution_count": 6,
   "id": "866f28ab-ea6f-4060-96f0-491b93382ec2",
   "metadata": {},
   "outputs": [
    {
     "name": "stdout",
     "output_type": "stream",
     "text": [
      "log --- call square at 09:57:30\n",
      "log --- call square with (5,)\n",
      "log --- square returns 25\n",
      "25\n",
      "log --- call square at 09:57:30\n",
      "log --- call square with (10,)\n",
      "log --- square returns 100\n",
      "100\n",
      "log --- call quadratic at 09:57:30\n",
      "log --- call quadratic with (5, 1, 2, 3)\n",
      "log --- quadratic returns 38\n",
      "38\n"
     ]
    }
   ],
   "source": [
    "import time\n",
    "\n",
    "def trace(func):\n",
    "    def call_func(*args):\n",
    "        print('log --- call {} at {}'.format(func.__name__, time.strftime('%H:%M:%S')))\n",
    "        print('log --- call {} with {}'.format(func.__name__, args))\n",
    "        result = func(*args)\n",
    "        print('log --- {} returns {}'.format(func.__name__, result))\n",
    "        return result\n",
    "\n",
    "    return call_func\n",
    "\n",
    "@trace\n",
    "def square(x):\n",
    "    return x ** 2\n",
    "\n",
    "@trace\n",
    "def quadratic(x, a, b, c):\n",
    "    return a * x**2 + b * x + c\n",
    "\n",
    "\n",
    "# print(\"call 1\")\n",
    "# print(square(5))\n",
    "\n",
    "# print(\"call 2\")\n",
    "# trace(square)(5)\n",
    "\n",
    "# print(\"call 3\")\n",
    "# foo = trace(square)\n",
    "# print(foo(5))\n",
    "\n",
    "print(square(5))\n",
    "print(square(10))\n",
    "print(quadratic(5, 1, 2, 3))\n"
   ]
  },
  {
   "cell_type": "code",
   "execution_count": 7,
   "id": "4df35343-3c46-4110-996c-e64fd75b5aa7",
   "metadata": {},
   "outputs": [
    {
     "name": "stdout",
     "output_type": "stream",
     "text": [
      " A parameterized decorator used for logging function calls to a file. \n"
     ]
    }
   ],
   "source": [
    "print(' A parameterized decorator used for logging function calls to a file. ')"
   ]
  },
  {
   "cell_type": "code",
   "execution_count": 8,
   "id": "42cf5eac-93e8-4fb1-88d3-80e2e9564319",
   "metadata": {},
   "outputs": [
    {
     "name": "stdout",
     "output_type": "stream",
     "text": [
      "100\n",
      "25\n",
      "38\n"
     ]
    }
   ],
   "source": [
    "# Defines a decorator factory trace(filename)\n",
    "# That produces a decorator file_trace(func)\n",
    "# That wraps any function to:\n",
    "# Log its name\n",
    "# Log its arguments\n",
    "# Log the result\n",
    "# Save all of that into a file\n",
    "\n",
    "# trace(filename) returns a decorator.\n",
    "# filename is passed in when using @trace('trace.log')\n",
    "# file_trace(func) will be the actual decorator applied to square or quadratic\n",
    "\n",
    "# call_func() wraps the original function.\n",
    "# *args allows any number of positional arguments.\n",
    "\n",
    "# Logs the function name and call time\n",
    "# Logs the arguments passed to the function\n",
    "\n",
    "import time\n",
    "\n",
    "def trace(filename):\n",
    "    def file_trace(func):\n",
    "        def call_funct(*args):\n",
    "            with open(filename, 'a+') as fout:\n",
    "                fout.write('log --- call {} at {}\\n'.format(func.__name__, time.strftime('%H:%M:%S')))\n",
    "                fout.write('log --- call {} with {}\\n'.format(func.__name__, args))\n",
    "                result = func(*args)\n",
    "                fout.write('log --- {} returns {}\\n'.format(func.__name__, result))\n",
    "                return result\n",
    "\n",
    "        return call_funct\n",
    "    return file_trace\n",
    "\n",
    "@trace('trace.log')\n",
    "def square(x):\n",
    "    return x ** 2\n",
    "\n",
    "@trace('trace.log')\n",
    "def quadratic(x, a, b, c):\n",
    "    return a * x**2 + b * x + c\n",
    "\n",
    "# trace('trace.log')(square)(10)\n",
    "print(square(10))\n",
    "print(square(5))\n",
    "# equivalent with :\n",
    "square = trace('trace.log')(square)\n",
    "\n",
    "print(quadratic(5, 1, 2, 3))"
   ]
  },
  {
   "cell_type": "code",
   "execution_count": null,
   "id": "f1b12545-fb05-4bdb-8381-badaa2148904",
   "metadata": {},
   "outputs": [],
   "source": []
  },
  {
   "cell_type": "code",
   "execution_count": 9,
   "id": "adb2baa9-f11c-4d21-907c-413bcec04a3d",
   "metadata": {},
   "outputs": [
    {
     "name": "stdout",
     "output_type": "stream",
     "text": [
      "\n",
      "\n",
      "a Class that uses a special method called __call__ to make an instance behave like a Function.\n",
      "\n",
      "\n"
     ]
    }
   ],
   "source": [
    "print('''\n",
    "\n",
    "a Class that uses a special method called __call__ to make an instance behave like a Function.\n",
    "\n",
    "''')\n"
   ]
  },
  {
   "cell_type": "code",
   "execution_count": null,
   "id": "c52a5a1c-c9b6-400d-a77a-ced8cfc51e69",
   "metadata": {},
   "outputs": [],
   "source": []
  },
  {
   "cell_type": "code",
   "execution_count": 10,
   "id": "c17fa558-999b-44f4-ad23-d1dc08d62087",
   "metadata": {},
   "outputs": [
    {
     "name": "stdout",
     "output_type": "stream",
     "text": [
      "15\n",
      "18\n"
     ]
    }
   ],
   "source": [
    "class Adder:\n",
    "    def __init__(self, base):\n",
    "        self._base = base        # adder5 = Adder(5) sets self._base = 5\n",
    "\n",
    "    def __call__(self, value):   # the magic: __call__ lets you use the instance like a function\n",
    "        self._base += value\n",
    "        return self._base\n",
    "\n",
    "adder5 = Adder(5)\n",
    "print(adder5(10))   # So adder5(10) is the same as adder5.__call__(10)\n",
    "print(adder5(3))    # So adder5(10) is the same as adder5.__call__(3)\n",
    "\n",
    "# Adds value to the stored _base\n",
    "# Returns the updated total\n",
    "\n",
    "# First call: 5 + 10 = 15\n",
    "# Second call: 15 + 3 = 18\n",
    "\n",
    "# Why use __call__?\n",
    "# It makes objects:\n",
    "# Behave like functions\n",
    "# Carry internal state (like memory)\n",
    "# Useful in functional-style OOP, decorators, machine learning layers (e.g., PyTorch)\n",
    "\n",
    "# ✅ Summary\n",
    "# Feature\tDescription\n",
    "# __call__\tLets an object be used like a function\n",
    "# self._base\tKeeps internal state\n",
    "# adder5(10)\tUpdates and returns _base += 10\n",
    "# Result\t15, then 18"
   ]
  },
  {
   "cell_type": "code",
   "execution_count": null,
   "id": "529eb0b5-6667-4db1-9114-d0a244954d9a",
   "metadata": {},
   "outputs": [],
   "source": []
  },
  {
   "cell_type": "code",
   "execution_count": null,
   "id": "7d8d6115-c9d9-4d83-84f9-6936e10f1ccb",
   "metadata": {},
   "outputs": [],
   "source": []
  },
  {
   "cell_type": "code",
   "execution_count": 11,
   "id": "ae9f14b8-846f-4548-b21a-ef11ff144dcb",
   "metadata": {},
   "outputs": [
    {
     "name": "stdout",
     "output_type": "stream",
     "text": [
      "100\n",
      "38\n",
      "25\n"
     ]
    }
   ],
   "source": [
    "import time\n",
    "\n",
    "class Trace:\n",
    "    def __init__(self, filename):\n",
    "        self._filename = filename\n",
    "\n",
    "    def __call__(self, func):   # __call__ as a Decorator ; Makes Trace instances act like decorators.\n",
    "        def call_funct(*args):\n",
    "            with open(self._filename, 'a+') as fout:\n",
    "                fout.write('log --- call {} at {}\\n'.format(func.__name__, time.strftime('%H:%M:%S')))\n",
    "                fout.write('log --- call {} with {}\\n'.format(func.__name__, args))\n",
    "                result = func(*args)\n",
    "                fout.write('log --- {} returns {}\\n'.format(func.__name__, result))\n",
    "                return result\n",
    "\n",
    "        return call_funct\n",
    "\n",
    "@Trace('trace.log')    # equivalent to square = Trace('trace.log')(square)\n",
    "def square(x):\n",
    "    return x ** 2\n",
    "\n",
    "@Trace('trace.log')    # equivalent to square = Trace('trace.log')(quadratic)\n",
    "def quadratic(x, a, b, c):\n",
    "    return a * x**2 + b * x + c\n",
    "\n",
    "# trace('trace.log')(square)(10)\n",
    "print(square(10))\n",
    "print(quadratic(5, 1, 2, 3))\n",
    "print(square(5))\n",
    "\n",
    "\n",
    "# It wraps a function func and returns call_func, which:\n",
    "# Logs the function name and call time.\n",
    "# Logs the function arguments.\n",
    "# Calls the original function.\n",
    "# Logs the return value.\n",
    "# Returns the results.\n",
    "# This pattern is great for debugging, auditing, or profiling code behavior."
   ]
  },
  {
   "cell_type": "code",
   "execution_count": null,
   "id": "51af4fd2-2d67-46be-b221-f46e1edc04ab",
   "metadata": {},
   "outputs": [],
   "source": []
  },
  {
   "cell_type": "code",
   "execution_count": 12,
   "id": "7318ac64-8272-42af-81be-c08cf495b0aa",
   "metadata": {},
   "outputs": [
    {
     "name": "stdout",
     "output_type": "stream",
     "text": [
      "Memorization decorator : applied to Fibonacci\n"
     ]
    }
   ],
   "source": [
    "print(\"Memorization decorator : applied to Fibonacci\")\n",
    "# This code defines a memoized version of the recursive Fibonacci function using a decorator. \n",
    "# Purpose:\n",
    "# To optimize recursive function calls by caching results of previous function calls so that redundant calculations are avoided."
   ]
  },
  {
   "cell_type": "code",
   "execution_count": 13,
   "id": "d54eb990-ba0c-431c-9c60-5b41112c75ef",
   "metadata": {},
   "outputs": [
    {
     "name": "stdout",
     "output_type": "stream",
     "text": [
      "280571172992510140037611932413038677189525\n"
     ]
    }
   ],
   "source": [
    "def memorized(func):\n",
    "    cache = {}               # cache is a dictionary used to store previously computed results.\n",
    "\n",
    "    def call_func(*args):    # call_func is the inner wrapper function.\n",
    "        v = cache.get(args)  # it checks if the arguments args have been seen before by looking them up in the cache.\n",
    "        if v is not None:    # cache[args] if args in cache else None\n",
    "           return v          #  we return the cached result (i.e. v) to avoid recomputation.\n",
    "\n",
    "        r = func(*args)      # If the result isn't cached, it computes the result r by calling the original function.\n",
    "        cache[args] = r      # Save r in the cache for future use, and returns this freshly computed result\n",
    "        return r\n",
    "\n",
    "    return call_func\n",
    "\n",
    "# v: comes from the cache.\n",
    "# r: comes from the actual function call.\n",
    "\n",
    "@memorized\n",
    "def fibonacci(n):\n",
    "    if n in (1, 2):\n",
    "        return 1\n",
    "\n",
    "    return fibonacci(n-1) + fibonacci(n-2)\n",
    "\n",
    "print(fibonacci(200))"
   ]
  },
  {
   "cell_type": "code",
   "execution_count": null,
   "id": "1738bcbd-4f58-45ce-a112-acde6374bf41",
   "metadata": {},
   "outputs": [],
   "source": []
  },
  {
   "cell_type": "code",
   "execution_count": 14,
   "id": "4e5bffac-804c-4d93-972f-a53742b172e3",
   "metadata": {},
   "outputs": [],
   "source": [
    "# The code above is equivalent to :\n",
    "# Replaced v and r with a single variable result to capture either cached or newly computed output.\n",
    "# This version is more concise and behaves identically."
   ]
  },
  {
   "cell_type": "code",
   "execution_count": 15,
   "id": "f91f2788-bf0f-444f-8c71-c5587144f79c",
   "metadata": {},
   "outputs": [
    {
     "name": "stdout",
     "output_type": "stream",
     "text": [
      "280571172992510140037611932413038677189525\n"
     ]
    }
   ],
   "source": [
    "def memorized(func):\n",
    "    cache = {}\n",
    "\n",
    "    def call_func(*args):\n",
    "        result = cache.get(args)\n",
    "        if result is None:\n",
    "            result = func(*args)\n",
    "            cache[args] = result\n",
    "        return result\n",
    "\n",
    "    return call_func\n",
    "\n",
    "\n",
    "@memorized\n",
    "def fibonacci(n):\n",
    "    if n in (1, 2):\n",
    "        return 1\n",
    "    return fibonacci(n - 1) + fibonacci(n - 2)\n",
    "\n",
    "\n",
    "print(fibonacci(200))\n"
   ]
  },
  {
   "cell_type": "code",
   "execution_count": null,
   "id": "db2aba05-3148-445a-862e-8fefc58017f1",
   "metadata": {},
   "outputs": [],
   "source": []
  },
  {
   "cell_type": "code",
   "execution_count": null,
   "id": "fa34c628-f9e7-4186-b9ec-36194142db02",
   "metadata": {},
   "outputs": [],
   "source": []
  },
  {
   "cell_type": "code",
   "execution_count": null,
   "id": "0412550a-8110-4b1f-89a5-3d8b3efe1769",
   "metadata": {},
   "outputs": [],
   "source": []
  }
 ],
 "metadata": {
  "kernelspec": {
   "display_name": "Python 3 (ipykernel)",
   "language": "python",
   "name": "python3"
  },
  "language_info": {
   "codemirror_mode": {
    "name": "ipython",
    "version": 3
   },
   "file_extension": ".py",
   "mimetype": "text/x-python",
   "name": "python",
   "nbconvert_exporter": "python",
   "pygments_lexer": "ipython3",
   "version": "3.12.7"
  }
 },
 "nbformat": 4,
 "nbformat_minor": 5
}
