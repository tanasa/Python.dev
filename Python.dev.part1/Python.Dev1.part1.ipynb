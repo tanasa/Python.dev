{
 "cells": [
  {
   "cell_type": "code",
   "execution_count": 1,
   "id": "d0e9bec5-10f1-44f6-808f-6a748f43dd8c",
   "metadata": {},
   "outputs": [],
   "source": [
    "# https://refactoring.guru/design-patterns\n",
    "\n",
    "# Refactoring design patterns are pre-made blueprints that can be customized to solve recurring design problems in code. \n",
    "# Some common refactoring patterns include: \n",
    "# Extract Method: Moving a block of code into a separate method.\n",
    "# Replace Magic Number with Symbolic Constant: Replacing hard-coded numeric values with named constants.\n",
    "# Extract Class: Refactoring to create a new class.\n",
    "# Rename Method: Changing the name of a method. "
   ]
  },
  {
   "cell_type": "code",
   "execution_count": null,
   "id": "d9c03b11-3b43-4419-bf40-8f4ff94394c1",
   "metadata": {},
   "outputs": [],
   "source": []
  },
  {
   "cell_type": "code",
   "execution_count": 2,
   "id": "befd20bf-0883-41eb-b379-207748f57045",
   "metadata": {},
   "outputs": [],
   "source": [
    "# notes taken during the class 1"
   ]
  },
  {
   "cell_type": "code",
   "execution_count": 3,
   "id": "55828b21-d4e5-4d24-ae5f-b48093aefcc3",
   "metadata": {},
   "outputs": [
    {
     "name": "stdout",
     "output_type": "stream",
     "text": [
      "Current directory path: C:\\Users\\user\\Desktop\\Python_for_developers_classes_code_organization\\class1_org\n"
     ]
    }
   ],
   "source": [
    "import os\n",
    "\n",
    "current_path = os.getcwd()\n",
    "print(\"Current directory path:\", current_path)"
   ]
  },
  {
   "cell_type": "code",
   "execution_count": 4,
   "id": "bf9812de-d1a4-4370-93db-75a693852f18",
   "metadata": {},
   "outputs": [
    {
     "name": "stdout",
     "output_type": "stream",
     "text": [
      "Files:\n"
     ]
    }
   ],
   "source": [
    "print(\"Files:\")"
   ]
  },
  {
   "cell_type": "code",
   "execution_count": 5,
   "id": "cfe03d21-ce5e-4d38-a737-fe256e694973",
   "metadata": {},
   "outputs": [
    {
     "name": "stdout",
     "output_type": "stream",
     "text": [
      "Alice\n",
      "Bob\n",
      "Charles\n",
      "Xenia\n",
      "Kayak\n",
      "kayak\n",
      "Accept\n",
      "David\n"
     ]
    }
   ],
   "source": [
    "fout = open('znames.txt', 'w')\n",
    "\n",
    "fout.write('\\tAlice\\n')\n",
    "fout.write('Bob\\n')\n",
    "fout.write('\\tCharles\\n')\n",
    "fout.write('\\tXenia\\n')\n",
    "fout.write('\\tKayak\\n')\n",
    "fout.write('\\tkayak\\n')\n",
    "fout.write('\\tAccept\\n')\n",
    "fout.write('David\\n')\n",
    "\n",
    "fout.close()\n",
    "\n",
    "fin = open('znames.txt')\n",
    "\n",
    "while True:\n",
    "    line = fin.readline()\n",
    "    if not line:\n",
    "        break\n",
    "\n",
    "    name = line.strip()\n",
    "    print(name)\n",
    "\n",
    "fin.close()"
   ]
  },
  {
   "cell_type": "code",
   "execution_count": 6,
   "id": "d7b56017-e48f-4820-8089-34c9bd943962",
   "metadata": {},
   "outputs": [
    {
     "name": "stdout",
     "output_type": "stream",
     "text": [
      "Alice\n",
      "Bob\n",
      "Charles\n",
      "Xenia\n",
      "Kayak\n",
      "kayak\n",
      "Accept\n",
      "David\n"
     ]
    }
   ],
   "source": [
    "# with open() is a Context Manager in Python. It returns a file object (here, assigned to fin).\n",
    "\n",
    "with open('znames.txt') as fin:\n",
    "    for line in fin:\n",
    "        name = line.strip()\n",
    "        print(name)"
   ]
  },
  {
   "cell_type": "code",
   "execution_count": 7,
   "id": "2a96af5c-cd2c-4d4b-bc53-3c6d9a783b20",
   "metadata": {},
   "outputs": [],
   "source": [
    "with open('znames.txt') as fin, open('znames-upper.txt', 'w') as fout:\n",
    "    for line in fin:\n",
    "        name = line.strip()\n",
    "        fout.write('{} -> {}\\n'.format(name, name.upper()))\n",
    "\n",
    "# The {} are placeholders for values to be inserted.\n",
    "# .format(name, name.upper()):\n",
    "# This method fills in the {} placeholders with the provided arguments.\n",
    "# The first {} gets replaced by name.\n",
    "# The second {} gets replaced by name.upper(), which returns the uppercase version of the string name."
   ]
  },
  {
   "cell_type": "code",
   "execution_count": null,
   "id": "c8bf65dc-cc92-4f31-b491-b3de58c47ae6",
   "metadata": {},
   "outputs": [],
   "source": []
  },
  {
   "cell_type": "code",
   "execution_count": 8,
   "id": "0c6ea9ea-29c1-428c-a69e-a82355b5c79d",
   "metadata": {},
   "outputs": [
    {
     "name": "stdout",
     "output_type": "stream",
     "text": [
      "Functions: \n"
     ]
    }
   ],
   "source": [
    "print(\"Functions: \")"
   ]
  },
  {
   "cell_type": "code",
   "execution_count": 9,
   "id": "9f8a4942-6e42-4530-ad15-bbe4fcfc1fd6",
   "metadata": {},
   "outputs": [
    {
     "name": "stdout",
     "output_type": "stream",
     "text": [
      "7\n",
      "-1\n",
      "12\n"
     ]
    }
   ],
   "source": [
    "def add(a, b):\n",
    "    return a + b\n",
    "\n",
    "def subtract(a, b):\n",
    "    return a - b\n",
    "\n",
    "def multiply(a, b):\n",
    "    return a * b\n",
    "\n",
    "def calculate(a, b, calc_func):\n",
    "    return calc_func(a, b)\n",
    "\n",
    "print(calculate(3, 4, add))\n",
    "print(calculate(3, 4, subtract))\n",
    "print(calculate(3, 4, multiply))"
   ]
  },
  {
   "cell_type": "code",
   "execution_count": 10,
   "id": "b0a1c9ba-2d60-4bad-b439-23a3fa599cce",
   "metadata": {},
   "outputs": [
    {
     "name": "stdout",
     "output_type": "stream",
     "text": [
      "Hello John!\n",
      "<class 'function'>\n",
      "Hello World!\n"
     ]
    }
   ],
   "source": [
    "def greet(name):\n",
    "     print('Hello {}!'.format(name))\n",
    "\n",
    "greet('John')\n",
    "g = greet\n",
    "print(type(g))\n",
    "g('World')"
   ]
  },
  {
   "cell_type": "code",
   "execution_count": 11,
   "id": "28f5dd7f-7620-4be9-9854-d2d5048fd4a9",
   "metadata": {},
   "outputs": [
    {
     "name": "stdout",
     "output_type": "stream",
     "text": [
      "Xenia\n"
     ]
    }
   ],
   "source": [
    "# write Python code to read all the words from names.txt\n",
    "# print all the words that start with x\n",
    "\n",
    "with open('znames.txt') as fin:\n",
    "    for line in fin:\n",
    "        word = line.strip()\n",
    "        if word.lower().startswith('x'):\n",
    "            print(word)"
   ]
  },
  {
   "cell_type": "code",
   "execution_count": null,
   "id": "ff0eef02-d1e1-4cf2-9913-6f28ee8b6d90",
   "metadata": {},
   "outputs": [],
   "source": []
  },
  {
   "cell_type": "code",
   "execution_count": 12,
   "id": "bdea557e-59d1-4d97-aa4b-f158942192d1",
   "metadata": {},
   "outputs": [
    {
     "name": "stdout",
     "output_type": "stream",
     "text": [
      "Self divisors :\n"
     ]
    }
   ],
   "source": [
    "print(\"Self divisors :\")\n",
    "\n",
    "# A number is a self-divisor if it is evenly divisible by all its digits\n",
    "# Example: 128 is a self-divisor (128 % 1 == 0, 128 % 2 == 0, 128 % 8 == 0)\n",
    "# Example: 152 is not a self-divisor (152 % 5 != 0)\n",
    "# Any number that contains a 0 is not a self-divisor, since division by 0 is undefined\n",
    "\n",
    "# Precondition: number is a positive integer\n",
    "def is_self_divisor(number):\n",
    "    # Convert the number to a string to iterate over its digits\n",
    "    number_str = str(number)\n",
    "\n",
    "    # Check each digit\n",
    "    for digit_str in number_str:\n",
    "        digit = int(digit_str)  # Convert character back to integer\n",
    "\n",
    "        # If digit is 0 or number is not divisible by digit, it's not a self-divisor\n",
    "        if digit == 0 or number % digit != 0:\n",
    "            return False  # Exit early if any digit disqualifies the number\n",
    "\n",
    "    # All digits passed the test, it's a self-divisor\n",
    "    return True"
   ]
  },
  {
   "cell_type": "code",
   "execution_count": 13,
   "id": "ec8848c4-fd10-4530-a820-caf121293bfb",
   "metadata": {},
   "outputs": [
    {
     "name": "stdout",
     "output_type": "stream",
     "text": [
      "Integer (floor) division of a by b :\n"
     ]
    },
    {
     "data": {
      "text/plain": [
       "-3.5"
      ]
     },
     "execution_count": 13,
     "metadata": {},
     "output_type": "execute_result"
    }
   ],
   "source": [
    "print(\"Integer (floor) division of a by b :\")\n",
    "\n",
    "# number % 10 gives the last digit of the number (units place).\n",
    "# number // 10 removes the last digit, shifting the rest of the number to the right.\n",
    "# it mimics how we would manually peel digits from a number, right to left.\n",
    "\n",
    "# a // b\n",
    "# Performs integer (floor) division of a by b, meaning:\n",
    "# It divides the number and rounds down to the nearest whole number (toward negative infinity).\n",
    "\n",
    "7 // 2    # → 3   (because 7 ÷ 2 = 3.5 → rounds down to 3)\n",
    "-7 // 2   # → -4  (because -3.5 rounds down to -4)\n",
    "\n",
    "# Contrast this with regular division:\n",
    "- 7 / 2     # → 3.5   (returns a float)"
   ]
  },
  {
   "cell_type": "code",
   "execution_count": 14,
   "id": "4e7a3c53-7e78-4a70-a7fb-52151c008cfe",
   "metadata": {},
   "outputs": [
    {
     "name": "stdout",
     "output_type": "stream",
     "text": [
      "Self divisors :\n",
      "True\n",
      "False\n",
      "False\n",
      "False\n",
      "1\n",
      "2\n",
      "3\n",
      "4\n"
     ]
    }
   ],
   "source": [
    "print(\"Self divisors :\")\n",
    "\n",
    "# Check if a number is a self-divisor\n",
    "# A self-divisor is a number that is divisible by each of its digits\n",
    "# For example: 128 is a self-divisor (128 % 1 == 0, 128 % 2 == 0, 128 % 8 == 0)\n",
    "\n",
    "def is_self_divisor(number):\n",
    "    target = number  # Save the original number to use later\n",
    "\n",
    "    while number > 0:\n",
    "        digit = number % 10  # Get the last digit of the number\n",
    "\n",
    "        # If the digit is 0 or the original number is not divisible by the digit\n",
    "        if digit == 0 or target % digit != 0:\n",
    "            return False  # It's not a self-divisor\n",
    "\n",
    "        number //= 10  # Remove the last digit and keep checking\n",
    "\n",
    "    return True  # All digits were valid, so it's a self-divisor\n",
    "\n",
    "print(is_self_divisor(128)) # True\n",
    "print(is_self_divisor(26))  # False\n",
    "print(is_self_divisor(152)) # False\n",
    "print(is_self_divisor(101)) # False\n",
    "\n",
    "for number in range(1, 5):\n",
    "    if is_self_divisor(number):\n",
    "        print(number)"
   ]
  },
  {
   "cell_type": "code",
   "execution_count": 15,
   "id": "19fee451-d67b-4031-870c-1ea63e5198b8",
   "metadata": {},
   "outputs": [
    {
     "name": "stdout",
     "output_type": "stream",
     "text": [
      "Palindromes:\n",
      "Abecedarians:\n",
      "True\n",
      "False\n",
      "True\n",
      "False\n"
     ]
    }
   ],
   "source": [
    "print(\"Palindromes:\")\n",
    "\n",
    "# Check if a word is a palindrome\n",
    "# A palindrome reads the same forwards and backwards (like \"kayak\" or \"madam\")\n",
    "\n",
    "def is_palindrome(word):\n",
    "    return word == word[::-1]  # Reverse the word using slicing and compare with the original\n",
    "\n",
    "print(\"Abecedarians:\")\n",
    "\n",
    "# Check if the letters in a word are in alphabetical order\n",
    "# For example, \"accept\" is abecedarian (a < c < c < e < p < t)\n",
    "\n",
    "def is_abecedarian(word):\n",
    "    for index in range(len(word) - 1):   # Loop through each letter (except the last)\n",
    "        curr_letter = word[index]        # Current letter\n",
    "        next_letter = word[index + 1]    # Next letter in the word\n",
    "\n",
    "        if curr_letter > next_letter:    # If letters are out of order\n",
    "            return False                 # Not abecedarian, stop early\n",
    "\n",
    "    return True  # All letters were in order\n",
    "\n",
    "# if __name__ == '__main__':\n",
    "# It is a Python idiom that allows you to write code that can be used both as:\n",
    "# A standalone script, and\n",
    "# An importable module.\n",
    "# When a Python file is run directly, Python sets the special built-in variable __name__ to \"__main__\".\n",
    "# But if the same file is imported as a module into another script, then __name__ is set to the module's name\n",
    "\n",
    "\n",
    "if __name__ == '__main__':\n",
    "    print(is_palindrome('kayak'))    # True, \"kayak\" is the same forward and backward\n",
    "    print(is_palindrome('hello'))    # False, \"hello\" is not a palindrome\n",
    "\n",
    "    print(is_abecedarian('accept'))  # True, all letters are in alphabetical order\n",
    "    print(is_abecedarian('brother')) # False, \"r\" comes after \"e\""
   ]
  },
  {
   "cell_type": "code",
   "execution_count": 16,
   "id": "0d2a345c-b21a-410c-93d3-e97c1aa6ec08",
   "metadata": {},
   "outputs": [
    {
     "name": "stdout",
     "output_type": "stream",
     "text": [
      "Accept\n"
     ]
    }
   ],
   "source": [
    "from word_checker import is_palindrome, is_abecedarian\n",
    "\n",
    "# write Python code to read all the words from words.txt\n",
    "# print all the words that are palindrome\n",
    "# print(is_palindrome('kayak'))\n",
    "\n",
    "with open('znames.txt') as fin:\n",
    "    for line in fin:\n",
    "        word = line.strip()\n",
    "        if is_abecedarian(word):\n",
    "            print(word)"
   ]
  },
  {
   "cell_type": "code",
   "execution_count": 17,
   "id": "e9859e54-3ead-42c7-8603-ba7da997f580",
   "metadata": {},
   "outputs": [
    {
     "name": "stdout",
     "output_type": "stream",
     "text": [
      "kayak\n"
     ]
    }
   ],
   "source": [
    "# write the Python code to find the longest palindrome word in znames.txt\n",
    "\n",
    "from word_checker import is_palindrome\n",
    "\n",
    "with open('znames.txt') as fin:\n",
    "    longest_so_far = ''\n",
    "    for line in fin:\n",
    "        word = line.strip()\n",
    "        if is_palindrome(word):\n",
    "            if len(word) >= len(longest_so_far):\n",
    "                longest_so_far = word\n",
    "    print(longest_so_far)"
   ]
  },
  {
   "cell_type": "code",
   "execution_count": null,
   "id": "6b9c17fc-de73-4e12-b20a-01dd51673a15",
   "metadata": {},
   "outputs": [],
   "source": []
  },
  {
   "cell_type": "code",
   "execution_count": 18,
   "id": "a1145455-9fdf-48a8-9014-281b90728972",
   "metadata": {},
   "outputs": [
    {
     "name": "stdout",
     "output_type": "stream",
     "text": [
      "kayak\n",
      "Accept\n"
     ]
    }
   ],
   "source": [
    "# Import two functions from word_checker module:\n",
    "# - is_palindrome: checks if a word is a palindrome\n",
    "# - is_abecedarian: checks if letters in a word are in alphabetical order\n",
    "\n",
    "from word_checker import is_palindrome, is_abecedarian\n",
    "\n",
    "def find_longest(check_func):\n",
    "    # Open the file containing words (one word per line)\n",
    "    with open('znames.txt') as fin:\n",
    "        longest_so_far = ''  # Keeps track of the longest matching word found so far\n",
    "\n",
    "        for line in fin:\n",
    "            word = line.strip()  # Remove any leading/trailing whitespace or newline\n",
    "\n",
    "            if check_func(word):  # Check if the word satisfies the condition\n",
    "                if len(word) >= len(longest_so_far):  # If it's as long or longer than current longest\n",
    "                    longest_so_far = word  # Update the longest match\n",
    "\n",
    "    return longest_so_far  # Return the longest matching word\n",
    "\n",
    "\n",
    "# Find and print the longest palindrome in the word list\n",
    "print(find_longest(is_palindrome))\n",
    "\n",
    "# Find and print the longest abecedarian word in the word list\n",
    "print(find_longest(is_abecedarian))"
   ]
  },
  {
   "cell_type": "code",
   "execution_count": null,
   "id": "f8a4ecc0-7066-4588-9eb9-1aa98b83284b",
   "metadata": {},
   "outputs": [],
   "source": []
  },
  {
   "cell_type": "code",
   "execution_count": null,
   "id": "c0893cea-ff8a-431d-b125-e5dc2ffbe6b3",
   "metadata": {},
   "outputs": [],
   "source": []
  }
 ],
 "metadata": {
  "kernelspec": {
   "display_name": "Python 3 (ipykernel)",
   "language": "python",
   "name": "python3"
  },
  "language_info": {
   "codemirror_mode": {
    "name": "ipython",
    "version": 3
   },
   "file_extension": ".py",
   "mimetype": "text/x-python",
   "name": "python",
   "nbconvert_exporter": "python",
   "pygments_lexer": "ipython3",
   "version": "3.12.7"
  }
 },
 "nbformat": 4,
 "nbformat_minor": 5
}
