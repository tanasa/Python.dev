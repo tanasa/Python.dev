{
 "cells": [
  {
   "cell_type": "code",
   "execution_count": null,
   "id": "536fc7ed-a78c-4e94-84e8-afdfc5da2b1c",
   "metadata": {},
   "outputs": [],
   "source": []
  },
  {
   "cell_type": "code",
   "execution_count": 40,
   "id": "3de3aed1-35c5-4266-b26e-d066a15aea00",
   "metadata": {},
   "outputs": [
    {
     "name": "stdout",
     "output_type": "stream",
     "text": [
      "Arrays:\n"
     ]
    }
   ],
   "source": [
    "print(\"Arrays:\") "
   ]
  },
  {
   "cell_type": "code",
   "execution_count": 2,
   "id": "2769c430-58df-4fed-8bb0-aa6209381ffd",
   "metadata": {},
   "outputs": [
    {
     "name": "stdout",
     "output_type": "stream",
     "text": [
      "\n",
      "\n",
      "🔹 Python Arrays – Key Features\n",
      "\n",
      "📦 1. Types of Arrays in Python\n",
      "\n",
      "Built-in array module → Basic, type-restricted arrays (less common)\n",
      "NumPy arrays (numpy.ndarray) → Powerful, fast, and flexible (widely used in data science)\n",
      "\n",
      "🔹 2. array.array (from standard library)\n",
      "\n",
      "from array import array\n",
      "a = array('i', [1, 2, 3])  # 'i' = typecode for integers\n",
      "\n",
      "Fixed-type arrays (all elements must be the same type)\n",
      "\n",
      "Typecodes define data type: 'i' (int), 'f' (float), 'd' (double), etc.\n",
      "\n",
      "Key methods:\n",
      "\n",
      "append(x) → Add to end\n",
      "insert(i, x) → Insert at index\n",
      "pop(i) → Remove at index\n",
      "remove(x) → Remove by value\n",
      "a[i] → Indexing\n",
      "a[i:j] → Slicing\n",
      "\n",
      "🔹 3. numpy.ndarray (from NumPy library)\n",
      "\n",
      "import numpy as np\n",
      "a = np.array([1, 2, 3])\n",
      "\n",
      "Supports multi-dimensional arrays, broadcasting, and vectorized operations.\n",
      "\n",
      "Much faster and more powerful than lists or array.array for numerical work.\n",
      "\n",
      "Key features:\n",
      "\n",
      "Fixed data type (e.g., int32, float64)\n",
      "Fast math: a + 10, a * 2, a ** 2\n",
      "Slicing & indexing: a[1:3], a[:, 0]\n",
      "Broadcasting: automatic alignment of shapes in operations\n",
      "Matrix operations: dot products, transposes, inverses\n",
      "Shape manipulation: reshape(), flatten(), transpose()\n",
      "\n",
      "Common methods:\n",
      "\n",
      "np.append()\n",
      "np.concatenate()\n",
      "np.insert()\n",
      "np.delete()\n",
      "np.mean()\n",
      "np.sum()\n",
      "np.std()\n",
      "np.argmax(), etc.\n",
      "\n",
      "🔁 4. Iteration\n",
      "for x in a: ...\n",
      "Works for both array.array and NumPy arrays\n",
      "\n",
      "With NumPy: also supports vectorized operations → no loop needed!\n",
      "\n"
     ]
    }
   ],
   "source": [
    "print('''\n",
    "\n",
    "🔹 Python Arrays – Key Features\n",
    "\n",
    "📦 1. Types of Arrays in Python\n",
    "\n",
    "Built-in array module → Basic, type-restricted arrays (less common)\n",
    "NumPy arrays (numpy.ndarray) → Powerful, fast, and flexible (widely used in data science)\n",
    "\n",
    "🔹 2. array.array (from standard library)\n",
    "\n",
    "from array import array\n",
    "a = array('i', [1, 2, 3])  # 'i' = typecode for integers\n",
    "\n",
    "Fixed-type arrays (all elements must be the same type)\n",
    "\n",
    "Typecodes define data type: 'i' (int), 'f' (float), 'd' (double), etc.\n",
    "\n",
    "Key methods:\n",
    "\n",
    "append(x) → Add to end\n",
    "insert(i, x) → Insert at index\n",
    "pop(i) → Remove at index\n",
    "remove(x) → Remove by value\n",
    "a[i] → Indexing\n",
    "a[i:j] → Slicing\n",
    "\n",
    "🔹 3. numpy.ndarray (from NumPy library)\n",
    "\n",
    "import numpy as np\n",
    "a = np.array([1, 2, 3])\n",
    "\n",
    "Supports multi-dimensional arrays, broadcasting, and vectorized operations.\n",
    "\n",
    "Much faster and more powerful than lists or array.array for numerical work.\n",
    "\n",
    "Key features:\n",
    "\n",
    "Fixed data type (e.g., int32, float64)\n",
    "Fast math: a + 10, a * 2, a ** 2\n",
    "Slicing & indexing: a[1:3], a[:, 0]\n",
    "Broadcasting: automatic alignment of shapes in operations\n",
    "Matrix operations: dot products, transposes, inverses\n",
    "Shape manipulation: reshape(), flatten(), transpose()\n",
    "\n",
    "Common methods:\n",
    "\n",
    "np.append()\n",
    "np.concatenate()\n",
    "np.insert()\n",
    "np.delete()\n",
    "np.mean()\n",
    "np.sum()\n",
    "np.std()\n",
    "np.argmax(), etc.\n",
    "\n",
    "🔁 4. Iteration\n",
    "for x in a: ...\n",
    "Works for both array.array and NumPy arrays\n",
    "\n",
    "With NumPy: also supports vectorized operations → no loop needed!\n",
    "''')"
   ]
  },
  {
   "cell_type": "code",
   "execution_count": 3,
   "id": "23edf77d-a438-4dcc-a487-4b4caff7c5ee",
   "metadata": {},
   "outputs": [
    {
     "name": "stdout",
     "output_type": "stream",
     "text": [
      "\n",
      "\n",
      "What is Vectorization (or \"Vectorized Operations\")?\n",
      "\n",
      "Vectorized operations refer to performing operations on entire arrays or collections of data at once, \n",
      "rather than looping through elements one by one.\n",
      "\n",
      "This is a core concept in NumPy, and it makes your code faster and more concise.\n",
      "\n",
      "🆚 Traditional vs Vectorized\n",
      "\n",
      "🚫 Without vectorization (loop-based):\n",
      "\n",
      "result = []\n",
      "for x in [1, 2, 3]:\n",
      "    result.append(x * 2)  # Multiply each number by 2\n",
      "\n",
      "✅ With vectorization (NumPy):\n",
      "\n",
      "import numpy as np\n",
      "a = np.array([1, 2, 3])\n",
      "result = a * 2  # Applies *2 to the whole array at once\n",
      "\n",
      "Same result: [2, 4, 6], but much faster and cleaner with NumPy.\n",
      "\n",
      "⚙️ Why Vectorization is Powerful\n",
      "\n",
      "Internally, NumPy uses optimized C code for operations, avoiding slow Python loops.\n",
      "\n",
      "It takes advantage of CPU-level parallelism (e.g., SIMD – single instruction, multiple data).\n",
      "\n",
      "It lets you write code that’s shorter, cleaner, and often closer to math notation.\n",
      "\n",
      "📌 Examples of Vectorized Operations\n",
      "\n",
      "a = np.array([1, 2, 3])\n",
      "b = np.array([4, 5, 6])\n",
      "\n",
      "a + b          # [5, 7, 9]\n",
      "a * b          # [4, 10, 18]\n",
      "a ** 2         # [1, 4, 9]\n",
      "np.sqrt(a)     # [1.0, 1.41, 1.73]\n",
      "\n",
      "Vectorization over Matrices\n",
      "\n",
      "matrix = np.array([[1, 2], [3, 4]])\n",
      "matrix * 10\n",
      "# [[10, 20],\n",
      "#  [30, 40]]\n",
      "\n",
      "\n"
     ]
    }
   ],
   "source": [
    "print('''\n",
    "\n",
    "What is Vectorization (or \"Vectorized Operations\")?\n",
    "\n",
    "Vectorized operations refer to performing operations on entire arrays or collections of data at once, \n",
    "rather than looping through elements one by one.\n",
    "\n",
    "This is a core concept in NumPy, and it makes your code faster and more concise.\n",
    "\n",
    "🆚 Traditional vs Vectorized\n",
    "\n",
    "🚫 Without vectorization (loop-based):\n",
    "\n",
    "result = []\n",
    "for x in [1, 2, 3]:\n",
    "    result.append(x * 2)  # Multiply each number by 2\n",
    "\n",
    "✅ With vectorization (NumPy):\n",
    "\n",
    "import numpy as np\n",
    "a = np.array([1, 2, 3])\n",
    "result = a * 2  # Applies *2 to the whole array at once\n",
    "\n",
    "Same result: [2, 4, 6], but much faster and cleaner with NumPy.\n",
    "\n",
    "⚙️ Why Vectorization is Powerful\n",
    "\n",
    "Internally, NumPy uses optimized C code for operations, avoiding slow Python loops.\n",
    "\n",
    "It takes advantage of CPU-level parallelism (e.g., SIMD – single instruction, multiple data).\n",
    "\n",
    "It lets you write code that’s shorter, cleaner, and often closer to math notation.\n",
    "\n",
    "📌 Examples of Vectorized Operations\n",
    "\n",
    "a = np.array([1, 2, 3])\n",
    "b = np.array([4, 5, 6])\n",
    "\n",
    "a + b          # [5, 7, 9]\n",
    "a * b          # [4, 10, 18]\n",
    "a ** 2         # [1, 4, 9]\n",
    "np.sqrt(a)     # [1.0, 1.41, 1.73]\n",
    "\n",
    "Vectorization over Matrices\n",
    "\n",
    "matrix = np.array([[1, 2], [3, 4]])\n",
    "matrix * 10\n",
    "# [[10, 20],\n",
    "#  [30, 40]]\n",
    "\n",
    "''')"
   ]
  },
  {
   "cell_type": "code",
   "execution_count": 4,
   "id": "082fc291-eade-4461-b256-5565cfb60788",
   "metadata": {},
   "outputs": [
    {
     "name": "stdout",
     "output_type": "stream",
     "text": [
      "Lists\n"
     ]
    }
   ],
   "source": [
    "print(\"Lists\")"
   ]
  },
  {
   "cell_type": "code",
   "execution_count": 5,
   "id": "84f96b42-7861-4a5b-a73e-c1527d361876",
   "metadata": {},
   "outputs": [
    {
     "name": "stdout",
     "output_type": "stream",
     "text": [
      "\n",
      "\n",
      "Python Lists – Key Features\n",
      "\n",
      "Mutable\n",
      "\n",
      "You can change, add, or remove elements after creation.\n",
      "\n",
      "Operators\n",
      "\n",
      "+ → Concatenate two lists: [1, 2] + [3, 4] → [1, 2, 3, 4]\n",
      "* → Repeat a list: [1, 2] * 3 → [1, 2, 1, 2, 1, 2]\n",
      "\n",
      "Slicing\n",
      "\n",
      "Get sublist: a[1:4]\n",
      "Insert: a[n:n] = [...]\n",
      "Delete: a[m:n] = []\n",
      "Replace: a[m:n] = [...]\n",
      "\n",
      "List Methods\n",
      "\n",
      "append(x) → Add to end\n",
      "insert(i, x) → Insert at index\n",
      "pop(i) → Remove by index (default last)\n",
      "remove(x) → Remove first matching value\n",
      "extend(iterable) → Add elements from another list\n",
      "del a[m:n] → Delete a slice\n",
      "\n",
      "Looping\n",
      "\n",
      "for item in list: → Loop through elements\n",
      "for i, val in enumerate(list): → Loop with index\n",
      "\n",
      "Other Tips\n",
      "\n",
      "Lists can hold mixed types (e.g., [1, \"two\", 3.0])\n",
      "Can be nested (e.g., [[1, 2], [3, 4]])\n",
      "\n",
      "Use list comprehensions for compact code:\n",
      "[x**2 for x in range(5)] → [0, 1, 4, 9, 16]\n",
      "\n",
      "\n"
     ]
    }
   ],
   "source": [
    "print('''\n",
    "\n",
    "Python Lists – Key Features\n",
    "\n",
    "Mutable\n",
    "\n",
    "You can change, add, or remove elements after creation.\n",
    "\n",
    "Operators\n",
    "\n",
    "+ → Concatenate two lists: [1, 2] + [3, 4] → [1, 2, 3, 4]\n",
    "* → Repeat a list: [1, 2] * 3 → [1, 2, 1, 2, 1, 2]\n",
    "\n",
    "Slicing\n",
    "\n",
    "Get sublist: a[1:4]\n",
    "Insert: a[n:n] = [...]\n",
    "Delete: a[m:n] = []\n",
    "Replace: a[m:n] = [...]\n",
    "\n",
    "List Methods\n",
    "\n",
    "append(x) → Add to end\n",
    "insert(i, x) → Insert at index\n",
    "pop(i) → Remove by index (default last)\n",
    "remove(x) → Remove first matching value\n",
    "extend(iterable) → Add elements from another list\n",
    "del a[m:n] → Delete a slice\n",
    "\n",
    "Looping\n",
    "\n",
    "for item in list: → Loop through elements\n",
    "for i, val in enumerate(list): → Loop with index\n",
    "\n",
    "Other Tips\n",
    "\n",
    "Lists can hold mixed types (e.g., [1, \"two\", 3.0])\n",
    "Can be nested (e.g., [[1, 2], [3, 4]])\n",
    "\n",
    "Use list comprehensions for compact code:\n",
    "[x**2 for x in range(5)] → [0, 1, 4, 9, 16]\n",
    "\n",
    "''')"
   ]
  },
  {
   "cell_type": "code",
   "execution_count": null,
   "id": "ae062b3c-d26a-459b-9b9d-47bb75635a3d",
   "metadata": {},
   "outputs": [],
   "source": []
  },
  {
   "cell_type": "code",
   "execution_count": 6,
   "id": "b7d09ed3-5bc1-4782-843c-07572e1d5157",
   "metadata": {},
   "outputs": [
    {
     "name": "stdout",
     "output_type": "stream",
     "text": [
      "\n",
      "\n",
      "What is a List Comprehension in Python?\n",
      "\n",
      "A list comprehension is a short, elegant way to create a list using a single line of code. \n",
      "It’s like a compact for-loop that builds a list.\n",
      "\n",
      "Feature\t     List Comprehension\t                Traditional Loop\n",
      "Syntax\t     Compact, one-liner\t                Verbose, multiple lines\n",
      "Readability\t Good for simple transformations\tBetter for complex logic\n",
      "Performance\t Slightly faster (in general)\t    Slightly slower\n",
      "\n",
      "Basic Syntax: [expression for item in iterable]\n",
      "✅ Example 1: Square numbers: \n",
      "[0, 1, 4, 9, 16]\n",
      "[0, 1, 4, 9, 16]\n",
      "✅ Example 2: Filtering with if :\n",
      "[0, 2, 4, 6, 8]\n",
      "✅ Example 3: Nested loops (cartesian product)\n",
      "[(1, 3), (1, 4), (2, 3), (2, 4)]\n",
      "✅ Example 4: Apply a function to items :\n",
      "['HELLO', 'WORLD']\n"
     ]
    }
   ],
   "source": [
    "print('''\n",
    "\n",
    "What is a List Comprehension in Python?\n",
    "\n",
    "A list comprehension is a short, elegant way to create a list using a single line of code. \n",
    "It’s like a compact for-loop that builds a list.\n",
    "\n",
    "Feature\t     List Comprehension\t                Traditional Loop\n",
    "Syntax\t     Compact, one-liner\t                Verbose, multiple lines\n",
    "Readability\t Good for simple transformations\tBetter for complex logic\n",
    "Performance\t Slightly faster (in general)\t    Slightly slower\n",
    "''')\n",
    "\n",
    "print(\"Basic Syntax: [expression for item in iterable]\") \n",
    "\n",
    "print(\"✅ Example 1: Square numbers: \")\n",
    "\n",
    "squares = [x**2 for x in range(5)]\n",
    "print(squares)\n",
    "# Output: [0, 1, 4, 9, 16]\n",
    "\n",
    "squares = []\n",
    "for x in range(5):\n",
    "    squares.append(x**2)\n",
    "print(squares)\n",
    "\n",
    "print(\"✅ Example 2: Filtering with if :\")\n",
    "evens = [x for x in range(10) if x % 2 == 0]\n",
    "print(evens)\n",
    "# Output: [0, 2, 4, 6, 8]\n",
    "# Only keeps even numbers.\n",
    "\n",
    "print(\"✅ Example 3: Nested loops (cartesian product)\")\n",
    "pairs = [(x, y) for x in [1, 2] for y in [3, 4]]\n",
    "print(pairs)\n",
    "# Output: [(1, 3), (1, 4), (2, 3), (2, 4)]\n",
    "\n",
    "print(\"✅ Example 4: Apply a function to items :\")\n",
    "\n",
    "words = ['hello', 'world']\n",
    "upper_words = [w.upper() for w in words]\n",
    "print(upper_words)\n",
    "\n",
    "# Output: ['HELLO', 'WORLD']"
   ]
  },
  {
   "cell_type": "code",
   "execution_count": null,
   "id": "499dd0b8-f35d-4675-8cb0-060e06961378",
   "metadata": {},
   "outputs": [],
   "source": []
  },
  {
   "cell_type": "code",
   "execution_count": 7,
   "id": "70dc81c4-355e-450f-8a9d-09adeb01c8e5",
   "metadata": {},
   "outputs": [
    {
     "name": "stdout",
     "output_type": "stream",
     "text": [
      "List Comprehensions: \n"
     ]
    }
   ],
   "source": [
    "print(\"List Comprehensions: \")"
   ]
  },
  {
   "cell_type": "code",
   "execution_count": 8,
   "id": "39066d02-8ca3-4ca4-9ed5-507584ac615b",
   "metadata": {},
   "outputs": [
    {
     "name": "stdout",
     "output_type": "stream",
     "text": [
      "[81, 9, 36, 1]\n",
      "[81, 9, 36, 1]\n",
      "[0, 64, 16]\n",
      "['bob@abc.com', 'alice@gmail.com']\n",
      "['long', 'long', 'short', 'short', 'long', 'short', 'short', 'long', 'short', 'short', 'short']\n"
     ]
    }
   ],
   "source": [
    "numbers = [9, 3, 6, 1]\n",
    "\n",
    "squared = list(map(lambda num: num ** 2, numbers))\n",
    "print(squared)\n",
    "\n",
    "squared2 = [num ** 2 for num in numbers]\n",
    "print(squared2)\n",
    "\n",
    "numbers = [0, 8, 9, 4, 1, 3]\n",
    "squared_even_numbers = [num ** 2 for num in numbers if num % 2 == 0]\n",
    "print(squared_even_numbers)\n",
    "\n",
    "\n",
    "emails = ['alice 12@gmail.com', 'alice123', 'bob@abc.com', 'alice@gmail.com']\n",
    "# use list comprehension to return a list of valid email addresses\n",
    "# a valid email address does not have space and has @\n",
    "\n",
    "valid_emails = [addr for addr in emails if ' ' not in addr and '@' in addr]\n",
    "print(valid_emails)\n",
    "\n",
    "text = 'filter() applies the given function to each element in a list'\n",
    "result = ['long' if len(word) >= 6 else 'short' for word in text.split()]\n",
    "print(result)"
   ]
  },
  {
   "cell_type": "code",
   "execution_count": null,
   "id": "00db4590-649d-4608-b588-19b5619dd5cc",
   "metadata": {},
   "outputs": [],
   "source": []
  },
  {
   "cell_type": "code",
   "execution_count": 9,
   "id": "68379955-9fa1-4d08-9529-ac4fce1b5e28",
   "metadata": {},
   "outputs": [
    {
     "name": "stdout",
     "output_type": "stream",
     "text": [
      "List Comprehensions versus Traditional Loops: \n"
     ]
    }
   ],
   "source": [
    "print(\"List Comprehensions versus Traditional Loops: \")"
   ]
  },
  {
   "cell_type": "code",
   "execution_count": null,
   "id": "48f64b10-2a7d-4c19-b196-9b9204b835af",
   "metadata": {},
   "outputs": [],
   "source": []
  },
  {
   "cell_type": "code",
   "execution_count": 10,
   "id": "99ae04cb-2d18-410a-93aa-6f2916aedc25",
   "metadata": {},
   "outputs": [
    {
     "name": "stdout",
     "output_type": "stream",
     "text": [
      "Operations on Lists:\n",
      "[0, 0, 0, 0, 0, 0, 0, 0, 0, 0]\n",
      "[[], [], [], [], [], [], [], [], [], []]\n",
      "True\n",
      "[[10], [10], [10], [10], [10], [10], [10], [10], [10], [10]]\n",
      "[[10], [], [], [], [], [], [], [], [], []]\n"
     ]
    }
   ],
   "source": [
    "print(\"Operations on Lists:\")\n",
    "      \n",
    "arr = [0] * 10\n",
    "print(arr)\n",
    "\n",
    "# repeat the reference\n",
    "arr2 = [[]] * 10\n",
    "print(arr2)\n",
    "\n",
    "print(arr2[2] is arr2[3])\n",
    "arr2[0].append(10)\n",
    "print(arr2)\n",
    "\n",
    "arr3 = [[] for i in range(10)]\n",
    "arr3[0].append(10)\n",
    "print(arr3)"
   ]
  },
  {
   "cell_type": "code",
   "execution_count": null,
   "id": "181d75da-5d93-4344-bd56-ab62718320bc",
   "metadata": {},
   "outputs": [],
   "source": []
  },
  {
   "cell_type": "code",
   "execution_count": 11,
   "id": "aaa71b21-883a-4b3a-83ce-3940b4f78554",
   "metadata": {},
   "outputs": [
    {
     "name": "stdout",
     "output_type": "stream",
     "text": [
      "Lambda functions:\n",
      "100\n",
      "[9, 16, 25, 100]\n"
     ]
    }
   ],
   "source": [
    "print(\"Lambda functions:\")\n",
    "\n",
    "# Lambda function that squares a number\n",
    "s = lambda num: num ** 2\n",
    "\n",
    "# Call with a single number\n",
    "print(s(10))  # Output: 100\n",
    "\n",
    "# To apply the lambda to a list, use map()\n",
    "\n",
    "numbers = [3, 4, 5, 10]\n",
    "squared = list(map(s, numbers))\n",
    "print(squared)  \n",
    "\n",
    "# Output: [9, 16, 25, 100]"
   ]
  },
  {
   "cell_type": "code",
   "execution_count": null,
   "id": "95af973d-b107-410e-932b-f4330dc38f6e",
   "metadata": {},
   "outputs": [],
   "source": []
  },
  {
   "cell_type": "code",
   "execution_count": 12,
   "id": "15507a08-357d-4b28-b353-df00b555a28c",
   "metadata": {},
   "outputs": [
    {
     "name": "stdout",
     "output_type": "stream",
     "text": [
      "\n",
      "\n",
      "What is a Lambda Function?\n",
      "\n",
      "A lambda function in Python is a small anonymous function (i.e., it has no name) used for short, simple operations.\n",
      "\n",
      "It’s a quick way to define a function inline without using def.\n",
      "\n",
      "🔧 Syntax: lambda arguments: expression\n",
      "\n",
      "You can have any number of arguments but only one expression.\n",
      "The result of the expression is automatically returned.\n",
      "\n",
      "⚠️ When to Use Lambda Functions : the function is short and simple\n",
      "\n",
      "You don't need to reuse the function elsewhere\n",
      "You're passing a function as an argument (like in map(), filter(), sorted())\n",
      "\n",
      "\n",
      "8\n",
      "16\n"
     ]
    }
   ],
   "source": [
    "print('''\n",
    "\n",
    "What is a Lambda Function?\n",
    "\n",
    "A lambda function in Python is a small anonymous function (i.e., it has no name) used for short, simple operations.\n",
    "\n",
    "It’s a quick way to define a function inline without using def.\n",
    "\n",
    "🔧 Syntax: lambda arguments: expression\n",
    "\n",
    "You can have any number of arguments but only one expression.\n",
    "The result of the expression is automatically returned.\n",
    "\n",
    "⚠️ When to Use Lambda Functions : the function is short and simple\n",
    "\n",
    "You don't need to reuse the function elsewhere\n",
    "You're passing a function as an argument (like in map(), filter(), sorted())\n",
    "\n",
    "''')\n",
    "\n",
    "# 1. Add two numbers:\n",
    "\n",
    "add = lambda x, y: x + y\n",
    "print(add(3, 5))  # Output: 8\n",
    "\n",
    "# 2. Square a number:\n",
    "\n",
    "square = lambda x: x ** 2\n",
    "print(square(4))  # Output: 16\n",
    "\n",
    "# 3. Use with map():\n",
    "\n",
    "nums = [1, 2, 3, 4]\n",
    "squared = list(map(lambda x: x ** 2, nums))\n",
    "# Output: [1, 4, 9, 16]\n",
    "\n",
    "# 4. Use with filter():\n",
    "\n",
    "even = list(filter(lambda x: x % 2 == 0, nums))\n",
    "# Output: [2, 4]\n",
    "\n",
    "# 5. Use with sorted() (custom sorting):\n",
    "\n",
    "words = ['apple', 'banana', 'kiwi']\n",
    "sorted_by_length = sorted(words, key = lambda w: len(w))\n",
    "# Output: ['kiwi', 'apple', 'banana']"
   ]
  },
  {
   "cell_type": "code",
   "execution_count": 13,
   "id": "aaa1e0ac-34d0-43ad-99a2-eb0fb25749db",
   "metadata": {},
   "outputs": [
    {
     "name": "stdout",
     "output_type": "stream",
     "text": [
      "\n",
      "\n",
      "Why is it called \"lambda\"?\n",
      "\n",
      "The name \"lambda\" comes from lambda calculus, a formal system in mathematical logic developed in the 1930s by Alonzo Church.\n",
      "\n",
      "🧮 Lambda calculus:\n",
      "\n",
      "It’s a foundational concept in computer science.\n",
      "It models computation using anonymous functions.\n",
      "\n",
      "The Greek letter λ (lambda) was used to define functions.\n",
      "For example, λx.x + 1 is like saying \"a function that takes x and returns x + 1\".\n",
      "\n",
      "Python borrowed this terminology when it introduced anonymous functions, and used the keyword lambda to mimic that idea.\n",
      "\n",
      "\n"
     ]
    }
   ],
   "source": [
    "print('''\n",
    "\n",
    "Why is it called \"lambda\"?\n",
    "\n",
    "The name \"lambda\" comes from lambda calculus, a formal system in mathematical logic developed in the 1930s by Alonzo Church.\n",
    "\n",
    "🧮 Lambda calculus:\n",
    "\n",
    "It’s a foundational concept in computer science.\n",
    "It models computation using anonymous functions.\n",
    "\n",
    "The Greek letter λ (lambda) was used to define functions.\n",
    "For example, λx.x + 1 is like saying \"a function that takes x and returns x + 1\".\n",
    "\n",
    "Python borrowed this terminology when it introduced anonymous functions, and used the keyword lambda to mimic that idea.\n",
    "\n",
    "''')"
   ]
  },
  {
   "cell_type": "code",
   "execution_count": null,
   "id": "89f41a94-2651-4033-9686-19ff372a2cb0",
   "metadata": {},
   "outputs": [],
   "source": []
  },
  {
   "cell_type": "code",
   "execution_count": 14,
   "id": "d43fedd9-6728-499d-94e8-02010d662a7c",
   "metadata": {},
   "outputs": [
    {
     "name": "stdout",
     "output_type": "stream",
     "text": [
      "Map functions:\n"
     ]
    }
   ],
   "source": [
    "print(\"Map functions:\")"
   ]
  },
  {
   "cell_type": "code",
   "execution_count": 15,
   "id": "a751de8e-c11e-4bcd-a65e-72d1e9eb662c",
   "metadata": {},
   "outputs": [
    {
     "name": "stdout",
     "output_type": "stream",
     "text": [
      "\n",
      "\n",
      "The map() function in Python is a built-in function that allows you to apply another function to each item in an iterable (like a list, tuple, or set), \n",
      "and returns a map object (which is an iterator).\n",
      "\n",
      "Note: map() returns a map object (an iterator), so we usually wrap it with list() to see the result.\n",
      "\n",
      "🧠 Basic Syntax\n",
      "\n",
      "map(function, iterable)\n",
      "function: A function to apply to each item in the iterable.\n",
      "\n",
      "iterable: A sequence (like a list, set or tuple).\n",
      "\n",
      "\n",
      "[1, 4, 9, 16]\n",
      "[1, 4, 9, 16]\n",
      "[5, 7, 9]\n"
     ]
    },
    {
     "data": {
      "text/plain": [
       "['HELLO', 'WORLD']"
      ]
     },
     "execution_count": 15,
     "metadata": {},
     "output_type": "execute_result"
    }
   ],
   "source": [
    "\n",
    "print('''\n",
    "\n",
    "The map() function in Python is a built-in function that allows you to apply another function to each item in an iterable (like a list, tuple, or set), \n",
    "and returns a map object (which is an iterator).\n",
    "\n",
    "Note: map() returns a map object (an iterator), so we usually wrap it with list() to see the result.\n",
    "\n",
    "🧠 Basic Syntax\n",
    "\n",
    "map(function, iterable)\n",
    "function: A function to apply to each item in the iterable.\n",
    "\n",
    "iterable: A sequence (like a list, set or tuple).\n",
    "\n",
    "''')\n",
    "\n",
    "# ✅ Example 1: Squaring a list of numbers\n",
    "\n",
    "def square(x):\n",
    "    return x * x\n",
    "\n",
    "numbers = [1, 2, 3, 4]\n",
    "squared = map(square, numbers)\n",
    "\n",
    "print(list(squared))  # Output: [1, 4, 9, 16]\n",
    "\n",
    "\n",
    "# ✅ Example 2: Using a lambda (anonymous function)\n",
    "\n",
    "numbers = [1, 2, 3, 4]\n",
    "squared = list(map(lambda x: x ** 2, numbers))\n",
    "print(squared)  # Output: [1, 4, 9, 16]\n",
    "\n",
    "# ✅ Example 3: With multiple iterables\n",
    "\n",
    "a = [1, 2, 3]\n",
    "b = [4, 5, 6]\n",
    "summed = list(map(lambda x, y: x + y, a, b))\n",
    "\n",
    "print(summed)  # Output: [5, 7, 9]\n",
    "\n",
    "# 🆚 map() vs List Comprehension\n",
    "\n",
    "# Using map\n",
    "list(map(str.upper, ['hello', 'world']))\n",
    "\n",
    "# Equivalent using list comprehension\n",
    "[word.upper() for word in ['hello', 'world']]\n",
    "\n",
    "# ✅ Use map() when you already have a function to apply\n",
    "# ✅ Use list comprehensions when you want flexibility and readability\n",
    "\n",
    "# 🚨 Things to remember:\n",
    "# map() is lazy – it only evaluates when iterated over (e.g., in a for loop or when converted to a list).\n",
    "# It doesn’t modify the original list.\n",
    "# It’s often used with built-ins like str(), int(), len(), etc."
   ]
  },
  {
   "cell_type": "code",
   "execution_count": null,
   "id": "5c418292-4485-4852-bd7d-41e909718740",
   "metadata": {},
   "outputs": [],
   "source": []
  },
  {
   "cell_type": "code",
   "execution_count": 16,
   "id": "540f54de-a1ff-48f6-83f6-25b21987662c",
   "metadata": {},
   "outputs": [
    {
     "name": "stdout",
     "output_type": "stream",
     "text": [
      "Filter functions:\n"
     ]
    }
   ],
   "source": [
    "print(\"Filter functions:\")"
   ]
  },
  {
   "cell_type": "code",
   "execution_count": 17,
   "id": "13ae879f-f607-4a1f-92af-c1c683d53d12",
   "metadata": {},
   "outputs": [
    {
     "name": "stdout",
     "output_type": "stream",
     "text": [
      "\n",
      "\n",
      "What is filter()?\n",
      "\n",
      "The filter() function filters elements from an iterable based on a function that returns True or False.\n",
      "\n",
      "🔧 Syntax:\n",
      "\n",
      "filter(function, iterable)\n",
      "\n",
      "function: A function that takes one argument and returns True or False.\n",
      "iterable: Any iterable (like a list, tuple, string, etc.)\n",
      "\n",
      "Returns a filter object (convert to list or tuple to see results).\n",
      "\n",
      "\n",
      "[2, 4, 6]\n",
      "[2, 4, 6]\n",
      "\n",
      "\n",
      "🧠 How it works:\n",
      "\n",
      "filter() goes through each item in the list:\n",
      "\n",
      "Applies the function to it.\n",
      "\n",
      "Keeps the item if the result is True.\n",
      "\n",
      "\n"
     ]
    }
   ],
   "source": [
    "print('''\n",
    "\n",
    "What is filter()?\n",
    "\n",
    "The filter() function filters elements from an iterable based on a function that returns True or False.\n",
    "\n",
    "🔧 Syntax:\n",
    "\n",
    "filter(function, iterable)\n",
    "\n",
    "function: A function that takes one argument and returns True or False.\n",
    "iterable: Any iterable (like a list, tuple, string, etc.)\n",
    "\n",
    "Returns a filter object (convert to list or tuple to see results).\n",
    "\n",
    "''')\n",
    "\n",
    "# ✅ Example: Filter even numbers\n",
    "\n",
    "nums = [1, 2, 3, 4, 5, 6]\n",
    "\n",
    "# Define a function that returns True for even numbers\n",
    "def is_even(x):\n",
    "    return x % 2 == 0\n",
    "\n",
    "evens = list(filter(is_even, nums))\n",
    "print(evens)  # Output: [2, 4, 6]\n",
    "\n",
    "# 🧪 Using lambda with filter()\n",
    "\n",
    "evens = list(filter(lambda x: x % 2 == 0, nums))\n",
    "print(evens)  # Output: [2, 4, 6]\n",
    "\n",
    "print('''\n",
    "\n",
    "🧠 How it works:\n",
    "\n",
    "filter() goes through each item in the list:\n",
    "\n",
    "Applies the function to it.\n",
    "\n",
    "Keeps the item if the result is True.\n",
    "\n",
    "''')"
   ]
  },
  {
   "cell_type": "code",
   "execution_count": null,
   "id": "e24567ba-23c1-4506-b844-26bb4827c61d",
   "metadata": {},
   "outputs": [],
   "source": []
  },
  {
   "cell_type": "code",
   "execution_count": 18,
   "id": "fc425208-fef3-4769-a975-d9856ebf63b9",
   "metadata": {},
   "outputs": [
    {
     "name": "stdout",
     "output_type": "stream",
     "text": [
      "[0, 8, 4]\n",
      "['filter()', 'applies', 'function', 'element']\n",
      "[0, 64, 16]\n"
     ]
    }
   ],
   "source": [
    "numbers = [0, 8, 9, 4, 1, 3]\n",
    "\n",
    "even_numbers = list(filter(lambda num: num % 2 == 0, numbers))\n",
    "print(even_numbers)\n",
    "\n",
    "text = 'filter() applies the given function to each element in a list'\n",
    "\n",
    "# print all the \"long words\" from text, whose length is >= 6\n",
    "\n",
    "long_words = list(\n",
    "    filter(\n",
    "        lambda word: len(word) >= 6,\n",
    "        text.split()\n",
    "    )\n",
    ")\n",
    "print(long_words)\n",
    "\n",
    "# create a list with the squared values of only the even values from numbers\n",
    "\n",
    "squared_even_numbers = list(\n",
    "    map(\n",
    "        lambda num: num ** 2,\n",
    "        filter(\n",
    "            lambda num: num % 2 == 0,\n",
    "            numbers\n",
    "        )\n",
    "    )\n",
    ")\n",
    "print(squared_even_numbers) # [0, 64, 16]"
   ]
  },
  {
   "cell_type": "code",
   "execution_count": null,
   "id": "8c167a97-0dbc-4591-9d8d-bd2bb1f3d5a8",
   "metadata": {},
   "outputs": [],
   "source": []
  },
  {
   "cell_type": "code",
   "execution_count": 19,
   "id": "357eb866-ab4c-4bee-bd6a-d1fa0bbdd893",
   "metadata": {},
   "outputs": [
    {
     "name": "stdout",
     "output_type": "stream",
     "text": [
      "Comparisons :\n"
     ]
    }
   ],
   "source": [
    "print(\"Comparisons :\")"
   ]
  },
  {
   "cell_type": "code",
   "execution_count": 20,
   "id": "40b2a812-f64e-4592-b088-df80966b0810",
   "metadata": {},
   "outputs": [
    {
     "name": "stdout",
     "output_type": "stream",
     "text": [
      "Version 1 of the code :\n"
     ]
    }
   ],
   "source": [
    "print(\"Version 1 of the code :\")"
   ]
  },
  {
   "cell_type": "code",
   "execution_count": 21,
   "id": "0b334333-cc50-41c5-90f7-d8f6e3a181a1",
   "metadata": {},
   "outputs": [
    {
     "name": "stdout",
     "output_type": "stream",
     "text": [
      "[81, 9, 36, 1]\n",
      "[90, 30, 60, 10]\n"
     ]
    }
   ],
   "source": [
    "# Return a new list, each value is the square of the corresponding value in arr\n",
    "\n",
    "def square(arr):\n",
    "    result = []\n",
    "\n",
    "    for num in arr:\n",
    "        result.append(num * num)\n",
    "\n",
    "    return result\n",
    "\n",
    "# Return a new list, each value is 10 times of the corresponding value in arr\n",
    "\n",
    "def time10(arr):\n",
    "    result = []\n",
    "\n",
    "    for num in arr:\n",
    "        result.append(num * 10)\n",
    "\n",
    "    return result\n",
    "\n",
    "arr = [9, 3, 6, 1]\n",
    "\n",
    "squared = square(arr)\n",
    "print(squared)\n",
    "\n",
    "timed10 = time10(arr)\n",
    "print(timed10)"
   ]
  },
  {
   "cell_type": "code",
   "execution_count": 22,
   "id": "a9c70a42-bfc3-4f09-a963-ed86eea31df4",
   "metadata": {},
   "outputs": [
    {
     "name": "stdout",
     "output_type": "stream",
     "text": [
      "Version 2 of the code :\n"
     ]
    }
   ],
   "source": [
    "print(\"Version 2 of the code :\")"
   ]
  },
  {
   "cell_type": "code",
   "execution_count": 23,
   "id": "508de564-9430-4c93-9821-db13e0e46f02",
   "metadata": {},
   "outputs": [
    {
     "name": "stdout",
     "output_type": "stream",
     "text": [
      "[81, 9, 36, 1]\n",
      "[90, 30, 60, 10]\n"
     ]
    }
   ],
   "source": [
    "# def square(num):\n",
    "#     return num * num\n",
    "#\n",
    "# def time10(num):\n",
    "#     return num * 10\n",
    "\n",
    "def process(arr, process_func):\n",
    "    result = []\n",
    "\n",
    "    for num in arr:\n",
    "        result.append(process_func(num))\n",
    "\n",
    "    return result\n",
    "\n",
    "arr = [9, 3, 6, 1]\n",
    "squared = process(arr, lambda num: num ** 2)\n",
    "print(squared)\n",
    "\n",
    "timed10 = process(arr, lambda num: num * 10)\n",
    "print(timed10)"
   ]
  },
  {
   "cell_type": "code",
   "execution_count": 24,
   "id": "eacea6b6-00d6-4d93-b62a-b693f4c5e77b",
   "metadata": {},
   "outputs": [
    {
     "name": "stdout",
     "output_type": "stream",
     "text": [
      "Version 3 of the code :\n"
     ]
    }
   ],
   "source": [
    "print(\"Version 3 of the code :\")"
   ]
  },
  {
   "cell_type": "code",
   "execution_count": 25,
   "id": "7a23171c-694f-4c1b-8b27-5ebed47cae25",
   "metadata": {},
   "outputs": [
    {
     "name": "stdout",
     "output_type": "stream",
     "text": [
      "[81, 9, 36, 1]\n",
      "[90, 30, 60, 10]\n"
     ]
    }
   ],
   "source": [
    "arr = [9, 3, 6, 1]\n",
    "squared = list(map(lambda num: num ** 2, arr))\n",
    "print(squared)\n",
    "\n",
    "timed10 = list(map(lambda num: num * 10, arr))\n",
    "print(timed10)"
   ]
  },
  {
   "cell_type": "code",
   "execution_count": null,
   "id": "dfc77ed8-a4cf-4ea4-81e1-c07e1ab6c169",
   "metadata": {},
   "outputs": [],
   "source": []
  },
  {
   "cell_type": "code",
   "execution_count": null,
   "id": "29e1cc69-4832-40c7-b533-38ed145b9512",
   "metadata": {},
   "outputs": [],
   "source": []
  },
  {
   "cell_type": "code",
   "execution_count": 26,
   "id": "75546590-6b60-412c-a296-3f8ce5aedc5e",
   "metadata": {},
   "outputs": [
    {
     "name": "stdout",
     "output_type": "stream",
     "text": [
      "Another example : 1 :\n",
      "[255, 1740, 103, 237]\n"
     ]
    }
   ],
   "source": [
    "print(\"Another example : 1 :\")\n",
    "\n",
    "# How map() works with multiple iterables:\n",
    "# map(lambda a, b, c: a**3 + b**2 + c, cubes, squares, units)\n",
    "# It takes one element at a time from each list, in parallel.\n",
    "\n",
    "cubes = [5, 12, 4, 6]\n",
    "squares = [11, 2, 6, 4]\n",
    "units = [9, 8, 3, 5]\n",
    "\n",
    "# result = [\n",
    "#     5**3 + 11**2 + 9,\n",
    "#     12**3 + 2**2 + 8,\n",
    "#     ...\n",
    "# ]\n",
    "\n",
    "result = list(map(lambda a, b, c: a**3 + b**2 + c, cubes, squares, units))\n",
    "print(result)"
   ]
  },
  {
   "cell_type": "code",
   "execution_count": null,
   "id": "d8e88595-ca54-4fbf-bd6a-b5786dc121b9",
   "metadata": {},
   "outputs": [],
   "source": []
  },
  {
   "cell_type": "code",
   "execution_count": 27,
   "id": "a8087120-a20a-4aa1-9aed-581f22647017",
   "metadata": {},
   "outputs": [
    {
     "name": "stdout",
     "output_type": "stream",
     "text": [
      "Another example : 2 :\n"
     ]
    }
   ],
   "source": [
    "print(\"Another example : 2 :\")"
   ]
  },
  {
   "cell_type": "code",
   "execution_count": 28,
   "id": "03d2e45c-c0c5-4a8f-b463-e091387181c5",
   "metadata": {},
   "outputs": [
    {
     "name": "stdout",
     "output_type": "stream",
     "text": [
      "[10, 3, 7, 6, 5, 2]\n",
      "[10, 13, 20, 26, 31, 33]\n"
     ]
    }
   ],
   "source": [
    "# It returns a new list, the i-th value in the new list\n",
    "# is the sum of 0-th value to the i-th value in arr\n",
    "\n",
    "# example:\n",
    "# arr: [10, 3, 7, 6, 5, 2]\n",
    "# prefix sum of arr: [10, 13, 20, 26, 31, 33]\n",
    "\n",
    "def prefix_sum(arr):\n",
    "\n",
    "    result = []\n",
    "\n",
    "    prefix_sum_so_far = 0\n",
    "    for num in arr:\n",
    "        prefix_sum_so_far += num\n",
    "        result.append(prefix_sum_so_far)\n",
    "\n",
    "    return result\n",
    "\n",
    "if __name__ == '__main__':\n",
    "    arr = [10, 3, 7, 6, 5, 2]\n",
    "    ps = prefix_sum(arr)\n",
    "    print(arr) # [10, 3, 7, 6, 5, 2]\n",
    "    print(ps) # [10, 13, 20, 26, 31, 33]"
   ]
  },
  {
   "cell_type": "code",
   "execution_count": 29,
   "id": "228fc36f-51e9-4246-800a-c8014886441c",
   "metadata": {},
   "outputs": [
    {
     "name": "stdout",
     "output_type": "stream",
     "text": [
      "[26, 59, 78, 108]\n",
      "[53, 61, 89, 129]\n",
      "[27, 2, 11, 21]\n"
     ]
    }
   ],
   "source": [
    "# a contest has 4 levels: bronze, silver, gold and platinum\n",
    "# before the contest, we have\n",
    "# - 30 students in bronze\n",
    "# - 19 in silver\n",
    "# - 33 in gold\n",
    "# - 26 in platinum\n",
    "# in the contest,\n",
    "# - new students can enter it at the bronze (basic) level\n",
    "# - existing students can be promoted to the next level\n",
    "# - except that the platinum students will keep their level\n",
    "# after the contest, we have\n",
    "# - 40 in bronze\n",
    "# - 28 in silver\n",
    "# - 8 in gold\n",
    "# - 53 in platinum\n",
    "# tell me that in the contest\n",
    "# - number of students who enter the contest at the bronze level\n",
    "# - number of students who are promoted from bronze to silver\n",
    "# - number of students who are promoted from silver to gold\n",
    "# - number of students who are promoted from gold to platinum\n",
    "\n",
    "from prefix_sum import prefix_sum\n",
    "\n",
    "before = [26, 33, 19, 30] # from platinum to bronze\n",
    "after = [53, 8, 28, 40]\n",
    "\n",
    "prefix_sum_before = prefix_sum(before)\n",
    "prefix_sum_after = prefix_sum(after)\n",
    "\n",
    "print(prefix_sum_before)\n",
    "print(prefix_sum_after)\n",
    "\n",
    "# promotion = []\n",
    "# for index in range(len(prefix_sum_before)):\n",
    "#     diff = prefix_sum_after[index] - prefix_sum_before[index]\n",
    "#     promotion.append(diff)\n",
    "\n",
    "promotion = list(map(lambda af, bf: af - bf, prefix_sum_after, prefix_sum_before))\n",
    "\n",
    "print(promotion) # [27, 2, 11, 21]"
   ]
  },
  {
   "cell_type": "code",
   "execution_count": null,
   "id": "b6598786-0192-4421-9b4b-025deb8380e7",
   "metadata": {},
   "outputs": [],
   "source": []
  },
  {
   "cell_type": "code",
   "execution_count": 30,
   "id": "3f0db153-3e43-458a-80f6-b571ffc4e653",
   "metadata": {},
   "outputs": [
    {
     "name": "stdout",
     "output_type": "stream",
     "text": [
      "Another example : 3 :\n"
     ]
    }
   ],
   "source": [
    "print(\"Another example : 3 :\")"
   ]
  },
  {
   "cell_type": "code",
   "execution_count": 31,
   "id": "a3f71883-917d-4d4c-9c89-4994e1a8115f",
   "metadata": {},
   "outputs": [],
   "source": [
    "# zgrades.txt\n",
    "\n",
    "# Alice,100011,98,93,82,66\n",
    "# Bob,123456,78,75,92,64\n",
    "# Charles,129012,97,93,90,90\n",
    "# David,123123,90,79,97,92"
   ]
  },
  {
   "cell_type": "code",
   "execution_count": 32,
   "id": "a8443274-ded4-4839-a3f0-5f354b3da645",
   "metadata": {},
   "outputs": [
    {
     "name": "stdout",
     "output_type": "stream",
     "text": [
      "Alice: 84.75\n",
      "Bob: 77.25\n",
      "Charles: 92.5\n",
      "David: 89.5\n"
     ]
    }
   ],
   "source": [
    "# read the student info including the scores from grades.txt\n",
    "# each line in z more zggrades.txt follows the same pattern as\n",
    "# name,id,score1,score2,score3,score4\n",
    "# for each student, calculate his/her average score\n",
    "# print out each student's average score\n",
    "\n",
    "# arr = '92,78,91,96'.split(',')\n",
    "# list(map(int, arr))\n",
    "# [92, 78, 91, 96]\n",
    "\n",
    "import numpy as np\n",
    "\n",
    "with open('zgrades.txt') as fin:\n",
    "    for line in fin:\n",
    "        line = line.strip()\n",
    "        info = line.split(',')\n",
    "        \n",
    "        scores=[]\n",
    "        for x in info[2:]:\n",
    "            scores.append(int(x))\n",
    "            \n",
    "        # scores = list(map(int, info[2:])) # version 1 : Alice 84\n",
    "        # scores = [int(x) for x in info[2:]] # version 2 : Alice : 84\n",
    "        \n",
    "        average = sum(scores) / len(scores)\n",
    "        print('{}: {}'.format(info[0], average))"
   ]
  },
  {
   "cell_type": "code",
   "execution_count": null,
   "id": "6d8f0502-d062-4f3f-93c3-a2e6d4f07240",
   "metadata": {},
   "outputs": [],
   "source": []
  },
  {
   "cell_type": "code",
   "execution_count": 33,
   "id": "8d06c6e7-1c22-42f1-8076-8b5a800e6ad7",
   "metadata": {},
   "outputs": [
    {
     "name": "stdout",
     "output_type": "stream",
     "text": [
      "\n",
      "\n",
      "Notes about range()\n",
      "\n",
      "range(start, stop, step)\n",
      "start → beginning (default is 0)\n",
      "stop → end (not included!)\n",
      "step → how much to increase each time (default is 1)\n",
      "\n",
      "\n",
      "5\n",
      "4\n",
      "3\n",
      "2\n",
      "1\n"
     ]
    }
   ],
   "source": [
    "print('''\n",
    "\n",
    "Notes about range()\n",
    "\n",
    "range(start, stop, step)\n",
    "start → beginning (default is 0)\n",
    "stop → end (not included!)\n",
    "step → how much to increase each time (default is 1)\n",
    "\n",
    "''')\n",
    "\n",
    "# for i in range(1, 6):\n",
    "#    print(i)\n",
    "\n",
    "for i in range(5, 0, -1):\n",
    "    print(i)\n",
    "\n",
    "# for i in range(0, 10, 2):\n",
    "#    print(i)\n"
   ]
  },
  {
   "cell_type": "code",
   "execution_count": 34,
   "id": "47f5cdb2-2c72-431a-8341-c2c801d5d5ea",
   "metadata": {},
   "outputs": [
    {
     "name": "stdout",
     "output_type": "stream",
     "text": [
      "\n",
      "\n",
      "Notes about enumerate() \n",
      "\n",
      "enumerate() is a built-in function that lets you loop over an iterable (like a list or tuple) and \n",
      "get both the index and the value at the same time.\n",
      "\n",
      "enumerate(iterable, start=0)\n",
      "iterable: any iterable (like a list, string, tuple, etc.)\n",
      "\n",
      "start: the starting index (default is 0)\n",
      "\n",
      "\n",
      "With Default Start Index:\n",
      "0 apple\n",
      "1 banana\n",
      "2 cherry\n",
      "With Custom Start Index:\n",
      "1. apple\n",
      "2. banana\n",
      "3. cherry\n"
     ]
    }
   ],
   "source": [
    "print('''\n",
    "\n",
    "Notes about enumerate() \n",
    "\n",
    "enumerate() is a built-in function that lets you loop over an iterable (like a list or tuple) and \n",
    "get both the index and the value at the same time.\n",
    "\n",
    "enumerate(iterable, start=0)\n",
    "iterable: any iterable (like a list, string, tuple, etc.)\n",
    "\n",
    "start: the starting index (default is 0)\n",
    "\n",
    "''')\n",
    "\n",
    "fruits = ['apple', 'banana', 'cherry']\n",
    "\n",
    "print(\"With Default Start Index:\")\n",
    "\n",
    "for index, fruit in enumerate(fruits):\n",
    "    print(index, fruit)\n",
    "\n",
    "print(\"With Custom Start Index:\")\n",
    "\n",
    "for i, fruit in enumerate(fruits, start=1):\n",
    "    print(f\"{i}. {fruit}\")"
   ]
  },
  {
   "cell_type": "code",
   "execution_count": null,
   "id": "1e4f7154-63fd-4a90-b0f0-c7e5c8584ca9",
   "metadata": {},
   "outputs": [],
   "source": []
  },
  {
   "cell_type": "code",
   "execution_count": 35,
   "id": "24dfcb0e-aac9-469c-a303-af22eed307ee",
   "metadata": {},
   "outputs": [
    {
     "name": "stdout",
     "output_type": "stream",
     "text": [
      "\n",
      "\n",
      "Notes about zip() : \n",
      "\n",
      "zip() combines two or more iterables (like lists or tuples) element-wise into pairs or tuples.\n",
      "Think of it as zipping up a jacket — it connects items side by side.\n",
      "\n",
      "zip(iterable1, iterable2, ...)\n",
      "\n",
      "It returns an iterator of tuples, where each tuple contains one element from each input iterable.\n",
      "\n",
      "Alice got 85\n",
      "Bob got 90\n",
      "Charlie got 78\n",
      "[(1, 'a'), (2, 'b')]\n"
     ]
    }
   ],
   "source": [
    "print('''\n",
    "\n",
    "Notes about zip() : \n",
    "\n",
    "zip() combines two or more iterables (like lists or tuples) element-wise into pairs or tuples.\n",
    "Think of it as zipping up a jacket — it connects items side by side.\n",
    "\n",
    "zip(iterable1, iterable2, ...)\n",
    "\n",
    "It returns an iterator of tuples, where each tuple contains one element from each input iterable.\n",
    "''')\n",
    "\n",
    "names = ['Alice', 'Bob', 'Charlie']\n",
    "grades = [85, 90, 78]\n",
    "\n",
    "for name, grade in zip(names, grades):\n",
    "    print(f\"{name} got {grade}\")\n",
    "\n",
    "\n",
    "# Zip Stops at the Shortest Input\n",
    "\n",
    "a = [1, 2, 3]\n",
    "b = ['a', 'b']\n",
    "\n",
    "print(list(zip(a, b)))\n",
    "# Output: [(1, 'a'), (2, 'b')] → the third element of `a` is ignored"
   ]
  },
  {
   "cell_type": "code",
   "execution_count": 36,
   "id": "11535e69-e912-45c2-a73e-67441457820e",
   "metadata": {},
   "outputs": [
    {
     "name": "stdout",
     "output_type": "stream",
     "text": [
      "How do we unzip ? Unzipping : You can 'unzip' with the * operator:\n",
      "('Alice', 'Bob')\n",
      "(85, 90)\n",
      "{'name': 'Alice', 'age': 30, 'city': 'New York'}\n"
     ]
    }
   ],
   "source": [
    "print(\"How do we unzip ? Unzipping : You can 'unzip' with the * operator:\")\n",
    "\n",
    "pairs = [('Alice', 85), ('Bob', 90)]\n",
    "names, grades = zip(*pairs)\n",
    "print(names)   # ('Alice', 'Bob')\n",
    "print(grades)  # (85, 90)\n",
    "\n",
    "# When to Use zip() : Creating key-value pairs\tdict(zip(keys, values))\n",
    "# Combine two lists — one of keys, one of values — into a dictionary.\n",
    "\n",
    "# List of keys (e.g., names)\n",
    "keys = ['name', 'age', 'city']\n",
    "\n",
    "# List of values\n",
    "values = ['Alice', 30, 'New York']\n",
    "\n",
    "# Create dictionary using zip()\n",
    "person = dict(zip(keys, values))\n",
    "\n",
    "print(person)"
   ]
  },
  {
   "cell_type": "code",
   "execution_count": null,
   "id": "4aa03de7-e34a-472f-898c-982d2090bfcc",
   "metadata": {},
   "outputs": [],
   "source": []
  },
  {
   "cell_type": "code",
   "execution_count": 37,
   "id": "87335cb4-5dda-4719-a78e-360c1999ee9f",
   "metadata": {},
   "outputs": [
    {
     "name": "stdout",
     "output_type": "stream",
     "text": [
      "Various : about computer science\n"
     ]
    }
   ],
   "source": [
    "print(\"Various : about computer science\")"
   ]
  },
  {
   "cell_type": "code",
   "execution_count": 38,
   "id": "cca6c735-cdf2-48a7-9e1e-2f3862dc2201",
   "metadata": {},
   "outputs": [
    {
     "name": "stdout",
     "output_type": "stream",
     "text": [
      "\n",
      "\n",
      "Implement the Actor Model — very close in spirit to pi-calculus.\n",
      "\n",
      "\n",
      "# Example with pykka\n",
      "import pykka\n",
      "\n",
      "class Greeter(pykka.ThreadingActor):\n",
      "    def on_receive(self, message):\n",
      "        return f\"Hi {message['name']}\"\n",
      "\n",
      "actor_ref = Greeter.start()\n",
      "response = actor_ref.ask({'name': 'Bogdan'})\n",
      "print(response)  # Output: \"Hi Bogdan\"\n",
      "actor_ref.stop()\n",
      "\n",
      "\n"
     ]
    }
   ],
   "source": [
    "print('''\n",
    "\n",
    "Implement the Actor Model — very close in spirit to pi-calculus.\n",
    "\n",
    "\n",
    "# Example with pykka\n",
    "import pykka\n",
    "\n",
    "class Greeter(pykka.ThreadingActor):\n",
    "    def on_receive(self, message):\n",
    "        return f\"Hi {message['name']}\"\n",
    "\n",
    "actor_ref = Greeter.start()\n",
    "response = actor_ref.ask({'name': 'Bogdan'})\n",
    "print(response)  # Output: \"Hi Bogdan\"\n",
    "actor_ref.stop()\n",
    "\n",
    "''')"
   ]
  },
  {
   "cell_type": "code",
   "execution_count": 39,
   "id": "8eb052ef-28fc-4e06-806d-480080882916",
   "metadata": {},
   "outputs": [
    {
     "name": "stdout",
     "output_type": "stream",
     "text": [
      "\n",
      "\n",
      "The Actor Model is a powerful conceptual model for concurrent computation, especially useful in distributed systems and parallel programming.\n",
      "\n",
      "🎭 Definition:\n",
      "In the Actor Model, the basic unit of computation is an actor.\n",
      "\n",
      "Each actor:\n",
      "\n",
      "Is an independent \"thing\" (like a lightweight thread or agent)\n",
      "\n",
      "Has a private state\n",
      "\n",
      "Can only communicate with other actors via asynchronous message passing\n",
      "\n",
      "Can:\n",
      "\n",
      "Send messages to other actors\n",
      "\n",
      "Create new actors\n",
      "\n",
      "Change its own internal state\n",
      "\n",
      "And that’s it.\n",
      "\n",
      "🔄 Key Properties:\n",
      "\n",
      "Property\tDescription\n",
      "Isolation\tEach actor manages its own state — no shared memory.\n",
      "Asynchronous\tMessages are sent and received non-blocking.\n",
      "Decentralized\tNo global \"manager\" — actors can spawn and organize themselves.\n",
      "Scalable & Parallel\tActors can run truly concurrently, making this model great for distributed systems.\n",
      "\n",
      "\n"
     ]
    }
   ],
   "source": [
    "print('''\n",
    "\n",
    "The Actor Model is a powerful conceptual model for concurrent computation, especially useful in distributed systems and parallel programming.\n",
    "\n",
    "🎭 Definition:\n",
    "In the Actor Model, the basic unit of computation is an actor.\n",
    "\n",
    "Each actor:\n",
    "\n",
    "Is an independent \"thing\" (like a lightweight thread or agent)\n",
    "\n",
    "Has a private state\n",
    "\n",
    "Can only communicate with other actors via asynchronous message passing\n",
    "\n",
    "Can:\n",
    "\n",
    "Send messages to other actors\n",
    "\n",
    "Create new actors\n",
    "\n",
    "Change its own internal state\n",
    "\n",
    "And that’s it.\n",
    "\n",
    "🔄 Key Properties:\n",
    "\n",
    "Property\tDescription\n",
    "Isolation\tEach actor manages its own state — no shared memory.\n",
    "Asynchronous\tMessages are sent and received non-blocking.\n",
    "Decentralized\tNo global \"manager\" — actors can spawn and organize themselves.\n",
    "Scalable & Parallel\tActors can run truly concurrently, making this model great for distributed systems.\n",
    "\n",
    "''')"
   ]
  },
  {
   "cell_type": "code",
   "execution_count": null,
   "id": "4210b9ff-bbd7-4196-8cd6-cf4d54fab54a",
   "metadata": {},
   "outputs": [],
   "source": []
  }
 ],
 "metadata": {
  "kernelspec": {
   "display_name": "Python 3 (ipykernel)",
   "language": "python",
   "name": "python3"
  },
  "language_info": {
   "codemirror_mode": {
    "name": "ipython",
    "version": 3
   },
   "file_extension": ".py",
   "mimetype": "text/x-python",
   "name": "python",
   "nbconvert_exporter": "python",
   "pygments_lexer": "ipython3",
   "version": "3.12.2"
  }
 },
 "nbformat": 4,
 "nbformat_minor": 5
}
