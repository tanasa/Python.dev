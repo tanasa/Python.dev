{
 "cells": [
  {
   "cell_type": "code",
   "execution_count": null,
   "id": "11bf751e-322e-4f0e-94cb-a8de60bca0bb",
   "metadata": {},
   "outputs": [],
   "source": []
  },
  {
   "cell_type": "code",
   "execution_count": 1,
   "id": "86bdcfe0-8765-4040-80f4-1a4c6caf4b48",
   "metadata": {},
   "outputs": [
    {
     "name": "stdout",
     "output_type": "stream",
     "text": [
      "Input :\n"
     ]
    },
    {
     "name": "stdin",
     "output_type": "stream",
     "text": [
      "What is your name?  yuppie\n"
     ]
    },
    {
     "name": "stdout",
     "output_type": "stream",
     "text": [
      "Hello yuppie!\n"
     ]
    },
    {
     "name": "stdin",
     "output_type": "stream",
     "text": [
      "How old are you?  890\n"
     ]
    },
    {
     "name": "stdout",
     "output_type": "stream",
     "text": [
      "You will be 891 next year.\n"
     ]
    }
   ],
   "source": [
    "print(\"Input :\")\n",
    "\n",
    "name = input('What is your name? ')\n",
    "print('Hello {}!'.format(name))\n",
    "\n",
    "age = int(input('How old are you? '))\n",
    "age += 1\n",
    "print('You will be {} next year.'.format(age))"
   ]
  },
  {
   "cell_type": "code",
   "execution_count": 2,
   "id": "44cc4e1e-42bb-4c7a-a154-2a70496809a0",
   "metadata": {},
   "outputs": [
    {
     "name": "stdout",
     "output_type": "stream",
     "text": [
      "500 random words have been written to 'zwords.txt'.\n"
     ]
    }
   ],
   "source": [
    "# Generate 500 random words and write them into a text file:\n",
    "\n",
    "import random\n",
    "\n",
    "# Sample list of words to pick from\n",
    "words = ['apple', 'banana', 'cherry', 'date', 'elephant', 'flower', 'grape', 'house', 'ice', 'jungle', \n",
    "         'kite', 'lemon', 'mountain', 'night', 'orange', 'penguin', 'queen', 'river', 'sun', 'tree', \n",
    "         'umbrella', 'violet', 'whale', 'xylophone', 'yacht', 'zebra']\n",
    "\n",
    "# Open a file for writing\n",
    "with open('zwords.txt', 'w') as file:\n",
    "    for _ in range(500):\n",
    "        word = random.choice(words)\n",
    "        file.write(word + '\\n')  # Write each word on a new line\n",
    "\n",
    "print(\"500 random words have been written to 'zwords.txt'.\")"
   ]
  },
  {
   "cell_type": "code",
   "execution_count": null,
   "id": "fe412b91-461d-4fe2-ba47-ceb5a984f50f",
   "metadata": {},
   "outputs": [],
   "source": []
  },
  {
   "cell_type": "code",
   "execution_count": null,
   "id": "d2c79767-7426-4e7b-b9cb-e47834c7c3e0",
   "metadata": {},
   "outputs": [],
   "source": []
  },
  {
   "cell_type": "code",
   "execution_count": 3,
   "id": "5c317ea6-3eee-4815-9582-eb5c47be5511",
   "metadata": {},
   "outputs": [
    {
     "name": "stdout",
     "output_type": "stream",
     "text": [
      "Random Art\n"
     ]
    }
   ],
   "source": [
    "print(\"Random Art\")"
   ]
  },
  {
   "cell_type": "code",
   "execution_count": 4,
   "id": "e7dde9eb-c475-4f6b-8d13-a13faef354c8",
   "metadata": {},
   "outputs": [],
   "source": [
    "\n",
    "# random.randint(a, b)\n",
    "# random.choice(seq)\n",
    "# random.shuffle(seq)\n",
    "\n",
    "# Function\tWhat it does\tExample\n",
    "# random.random()\tReturns random float between 0 and 1\trandom.random() → 0.472\n",
    "# random.uniform(a, b)\tReturns random float between a and b\trandom.uniform(1.5, 5.5)\n",
    "# random.sample(seq, k)\tReturns k unique elements randomly from the sequence\trandom.sample([1,2,3,4], 2) → [2,4]\n",
    "# random.seed(n)\tInitializes the random number generator to make results repeatable"
   ]
  },
  {
   "cell_type": "code",
   "execution_count": 5,
   "id": "55c05c29-053a-48a7-91cd-ba219a8af4d7",
   "metadata": {},
   "outputs": [
    {
     "name": "stdout",
     "output_type": "stream",
     "text": [
      "7155\n",
      "5\n",
      "6\n",
      "3\n",
      "6\n",
      "4\n",
      "1\n",
      "5\n",
      "5\n",
      "4\n",
      "4\n",
      "yellow\n",
      "blue\n",
      "pink\n",
      "[1, 2, 3, 4, 5, 6, 7, 8, 9, 10]\n",
      "[9, 3, 6, 8, 7, 2, 10, 1, 5, 4]\n"
     ]
    }
   ],
   "source": [
    "import random\n",
    "\n",
    "# randomly generate a 4-digit number\n",
    "print(random.randint(1000, 9999))\n",
    "\n",
    "for _ in range(10):\n",
    "    print(random.randint(1, 6))\n",
    "\n",
    "colors = ['red', 'black', 'yellow', 'green', 'pink', 'white', 'blue']\n",
    "for _ in range(3):\n",
    "    print(random.choice(colors))\n",
    "\n",
    "numbers = [i + 1 for i in range(10)]\n",
    "print(numbers)\n",
    "\n",
    "random.shuffle(numbers)\n",
    "print(numbers)"
   ]
  },
  {
   "cell_type": "code",
   "execution_count": null,
   "id": "6f4812c8-4e98-4f0b-8490-c23df4298f98",
   "metadata": {},
   "outputs": [],
   "source": []
  },
  {
   "cell_type": "code",
   "execution_count": 6,
   "id": "ac86da54-eab7-4a33-8463-70faa19008ba",
   "metadata": {},
   "outputs": [
    {
     "name": "stdout",
     "output_type": "stream",
     "text": [
      "house\n",
      "violet\n",
      "river\n",
      "yacht\n",
      "orange\n",
      "cherry\n",
      "penguin\n",
      "grape\n",
      "cherry\n",
      "whale\n"
     ]
    }
   ],
   "source": [
    "import random\n",
    "\n",
    "class RandomWordGenerator:\n",
    "    def __init__(self, filename, min_len, max_len):\n",
    "        self._word_list = []\n",
    "\n",
    "        with open(filename) as fin:\n",
    "            for word in fin:\n",
    "                word = word.strip().lower()\n",
    "                if min_len <= len(word) <= max_len:\n",
    "                    self._word_list.append(word)\n",
    "\n",
    "    def _get_random_word(self):\n",
    "        return random.choice(self._word_list)\n",
    "\n",
    "    random_word = property(fget=_get_random_word)\n",
    "\n",
    "if __name__ == '__main__':\n",
    "    word_gen = RandomWordGenerator('zwords.txt', 5, 8)\n",
    "    for _ in range(10):\n",
    "        print(word_gen.random_word)   "
   ]
  },
  {
   "cell_type": "code",
   "execution_count": null,
   "id": "37c9d36f-26e7-46c5-917e-1129c37e362e",
   "metadata": {},
   "outputs": [],
   "source": []
  },
  {
   "cell_type": "code",
   "execution_count": 7,
   "id": "fb7c8c36-e637-4614-adf2-6c7de9d97ed7",
   "metadata": {},
   "outputs": [],
   "source": [
    "# Tkinter is a standard GUI (Graphical User Interface) library for Python. It provides tools and widgets necessary for creating desktop applications \n",
    "# with graphical elements."
   ]
  },
  {
   "cell_type": "code",
   "execution_count": null,
   "id": "6956b3ea-57bd-48ed-9995-a945129bfb9a",
   "metadata": {},
   "outputs": [],
   "source": []
  },
  {
   "cell_type": "code",
   "execution_count": 8,
   "id": "f381b662-2f80-4ecb-b4a2-5bc52952d71f",
   "metadata": {},
   "outputs": [],
   "source": [
    "import tkinter\n",
    "import random\n",
    "\n",
    "width = 500\n",
    "height = 500\n",
    "window = tkinter.Tk()\n",
    "window.title('Random Art')\n",
    "canvas = tkinter.Canvas(window, width=width, height=height)\n",
    "canvas.pack()\n",
    "\n",
    "def draw_rectangle(canvas):\n",
    "    top = random.randint(10, height - 50)\n",
    "    left = random.randint(10, width - 50)\n",
    "    bottom = random.randint(top + 30, height - 10)\n",
    "    right = random.randint(left + 30, width - 10)\n",
    "    colors = ['red', 'yellow', 'green', 'pink', 'purple', 'blue']\n",
    "    color = random.choice(colors)\n",
    "    canvas.create_rectangle(left, top, right, bottom, outline=color) # Draws a rectangle on the canvas using create_rectangle().\n",
    "    # ✅ Each time you call draw_rectangle(canvas), you get one colorful random rectangle.\n",
    "\n",
    "for _ in range(1000):\n",
    "    draw_rectangle(canvas)\n",
    "\n",
    "window.mainloop()\n",
    "\n",
    "# Draw Many Rectangles\n",
    "# Loops 1000 times.\n",
    "# Each loop, draws one random rectangle on the canvas.\n",
    "# Result: the canvas becomes full of colorful, overlapping random rectangles!\n",
    "# ✅ 🎨 It will look like a chaotic abstract \"modern art\" painting"
   ]
  },
  {
   "cell_type": "code",
   "execution_count": null,
   "id": "d42bfbe7-a9bc-4bfe-92f1-57f825d3c333",
   "metadata": {},
   "outputs": [],
   "source": []
  },
  {
   "cell_type": "code",
   "execution_count": 9,
   "id": "e41505a7-f293-455c-869a-3680e3836cfa",
   "metadata": {},
   "outputs": [
    {
     "name": "stdout",
     "output_type": "stream",
     "text": [
      "Interactive Game:\n"
     ]
    }
   ],
   "source": [
    "print(\"Interactive Game:\")"
   ]
  },
  {
   "cell_type": "code",
   "execution_count": 10,
   "id": "f680ec9a-f436-48cd-8973-33516e60b81f",
   "metadata": {},
   "outputs": [],
   "source": [
    "from abc import ABC, abstractmethod\n",
    "\n",
    "class InteractiveGame(ABC):\n",
    "    @abstractmethod\n",
    "    def get_instruction(self):\n",
    "        pass\n",
    "\n",
    "    @abstractmethod\n",
    "    def get_status(self):\n",
    "        pass\n",
    "\n",
    "    def _get_prompt(self):\n",
    "        return 'What is your guess? '\n",
    "\n",
    "    @abstractmethod\n",
    "    def can_continue(self):\n",
    "        pass\n",
    "\n",
    "    @abstractmethod\n",
    "    def validate(self, guess):\n",
    "        pass\n",
    "\n",
    "    @abstractmethod\n",
    "    def evaluate(self, valid_guess):\n",
    "        pass\n",
    "\n",
    "    @abstractmethod\n",
    "    def respond(self, result):\n",
    "        pass\n",
    "\n",
    "    prompt = property(fget=_get_prompt)"
   ]
  },
  {
   "cell_type": "code",
   "execution_count": null,
   "id": "488b4278-dd60-499a-9cac-51208a863f85",
   "metadata": {},
   "outputs": [],
   "source": []
  },
  {
   "cell_type": "code",
   "execution_count": 11,
   "id": "b480a42c-c28c-4140-a9d6-8dae9b65be9d",
   "metadata": {},
   "outputs": [],
   "source": [
    "class Hangman(InteractiveGame):\n",
    "    def __init__(self):\n",
    "        self._tries = 8\n",
    "        self._secret_word = RandomWordGenerator('zwords.txt', 5, 8).random_word\n",
    "        self._guessed_letters = []\n",
    "        self._guessed_word_so_far = ['_'] * len(self._secret_word)\n",
    "\n",
    "    def get_instruction(self):\n",
    "        return 'Guess my secret word.'\n",
    "\n",
    "    def validate(self, guess):\n",
    "        if len(guess) != 1:\n",
    "            raise ValueError('Invalid guess: one letter at a time')\n",
    "        elif guess > 'z' or guess < 'a':\n",
    "            raise ValueError('Invalid guess: type a lower-case letter')\n",
    "\n",
    "        return guess\n",
    "\n",
    "    def evaluate(self, valid_guess):\n",
    "        self._guessed_letters.append(valid_guess)\n",
    "\n",
    "        # self._secret_word: hello\n",
    "        # self._guessed_word_so_far: ['_', '_', '_', '_', '_']\n",
    "        # valid_guess: 'e'\n",
    "        # self._guessed_word_so_far: ['_', 'e', '_', '_', '_']\n",
    "\n",
    "        for index, letter in enumerate(self._secret_word):\n",
    "            if letter == valid_guess:\n",
    "                self._guessed_word_so_far[index] = valid_guess\n",
    "\n",
    "        if '_' not in self._guessed_word_so_far:\n",
    "            return True, None\n",
    "        else:\n",
    "            if valid_guess not in self._secret_word:\n",
    "                self._tries -= 1\n",
    "            return False, ' '.join(self._guessed_word_so_far)\n",
    "\n",
    "    def get_status(self):\n",
    "        \n",
    "        result = 'You have {} {} to guess my secret word.'.format(\n",
    "            self._tries,\n",
    "            'chances' if self._tries > 1 else 'chance'\n",
    "        )\n",
    "        \n",
    "        result += '\\n'\n",
    "        result += 'Used letters: {}'.format(' '.join(self._guessed_letters))\n",
    "        return result\n",
    "\n",
    "    def can_continue(self):\n",
    "        return self._tries > 0\n",
    "\n",
    "    def respond(self, result):\n",
    "        if result:\n",
    "            return 'Congratulations! You have guessed my secret word: {}.'.format(self._secret_word)\n",
    "        else:\n",
    "            return 'Sorry! My secret word is {}.'.format(self._secret_word)"
   ]
  },
  {
   "cell_type": "code",
   "execution_count": null,
   "id": "05e78d12-e5bc-4c84-b8b8-1eb746370795",
   "metadata": {},
   "outputs": [],
   "source": []
  },
  {
   "cell_type": "code",
   "execution_count": 12,
   "id": "4cc4fabe-bcf4-478c-9ded-2a6c9dab049e",
   "metadata": {},
   "outputs": [],
   "source": [
    "class InteractiveGameDriver:\n",
    "    def __init__(self, game):\n",
    "        if not isinstance(game, InteractiveGame):\n",
    "            raise ValueError('Invalid game')\n",
    "        self._game = game\n",
    "\n",
    "    def play(self):\n",
    "        print(self._game.get_instruction())\n",
    "\n",
    "        while self._game.can_continue():\n",
    "            print(self._game.get_status())\n",
    "\n",
    "            guess = input(self._game.prompt)\n",
    "            try:\n",
    "                valid_guess = self._game.validate(guess)\n",
    "                result, hint = self._game.evaluate(valid_guess)\n",
    "\n",
    "                if result:\n",
    "                    break\n",
    "                elif hint is not None:\n",
    "                    print(hint)\n",
    "\n",
    "            except ValueError as err:\n",
    "                print(err)\n",
    "\n",
    "        print(self._game.respond(result))"
   ]
  },
  {
   "cell_type": "code",
   "execution_count": 13,
   "id": "b6cf57b6-8bed-4d8b-a290-bcc79ce65ebb",
   "metadata": {},
   "outputs": [
    {
     "name": "stdout",
     "output_type": "stream",
     "text": [
      "Guess my secret word.\n",
      "You have 8 chances to guess my secret word.\n",
      "Used letters: \n"
     ]
    },
    {
     "name": "stdin",
     "output_type": "stream",
     "text": [
      "What is your guess?  u\n"
     ]
    },
    {
     "name": "stdout",
     "output_type": "stream",
     "text": [
      "_ _ _ _ _ _\n",
      "You have 7 chances to guess my secret word.\n",
      "Used letters: u\n"
     ]
    },
    {
     "name": "stdin",
     "output_type": "stream",
     "text": [
      "What is your guess?  t\n"
     ]
    },
    {
     "name": "stdout",
     "output_type": "stream",
     "text": [
      "_ _ _ _ _ _\n",
      "You have 6 chances to guess my secret word.\n",
      "Used letters: u t\n"
     ]
    },
    {
     "name": "stdin",
     "output_type": "stream",
     "text": [
      "What is your guess?  e\n"
     ]
    },
    {
     "name": "stdout",
     "output_type": "stream",
     "text": [
      "_ _ e _ _ _\n",
      "You have 6 chances to guess my secret word.\n",
      "Used letters: u t e\n"
     ]
    },
    {
     "name": "stdin",
     "output_type": "stream",
     "text": [
      "What is your guess?  j\n"
     ]
    },
    {
     "name": "stdout",
     "output_type": "stream",
     "text": [
      "_ _ e _ _ _\n",
      "You have 5 chances to guess my secret word.\n",
      "Used letters: u t e j\n"
     ]
    },
    {
     "name": "stdin",
     "output_type": "stream",
     "text": [
      "What is your guess?  u\n"
     ]
    },
    {
     "name": "stdout",
     "output_type": "stream",
     "text": [
      "_ _ e _ _ _\n",
      "You have 4 chances to guess my secret word.\n",
      "Used letters: u t e j u\n"
     ]
    },
    {
     "name": "stdin",
     "output_type": "stream",
     "text": [
      "What is your guess?  g\n"
     ]
    },
    {
     "name": "stdout",
     "output_type": "stream",
     "text": [
      "_ _ e _ _ _\n",
      "You have 3 chances to guess my secret word.\n",
      "Used letters: u t e j u g\n"
     ]
    },
    {
     "name": "stdin",
     "output_type": "stream",
     "text": [
      "What is your guess?  d\n"
     ]
    },
    {
     "name": "stdout",
     "output_type": "stream",
     "text": [
      "_ _ e _ _ _\n",
      "You have 2 chances to guess my secret word.\n",
      "Used letters: u t e j u g d\n"
     ]
    },
    {
     "name": "stdin",
     "output_type": "stream",
     "text": [
      "What is your guess?  d\n"
     ]
    },
    {
     "name": "stdout",
     "output_type": "stream",
     "text": [
      "_ _ e _ _ _\n",
      "You have 1 chance to guess my secret word.\n",
      "Used letters: u t e j u g d d\n"
     ]
    },
    {
     "name": "stdin",
     "output_type": "stream",
     "text": [
      "What is your guess?  q\n"
     ]
    },
    {
     "name": "stdout",
     "output_type": "stream",
     "text": [
      "_ _ e _ _ _\n",
      "Sorry! My secret word is cherry.\n"
     ]
    }
   ],
   "source": [
    "if __name__ == '__main__':\n",
    "    dr = InteractiveGameDriver(Hangman())\n",
    "    dr.play()"
   ]
  },
  {
   "cell_type": "code",
   "execution_count": null,
   "id": "be5b2ad7-8311-46fa-91f5-8b03317ac2fc",
   "metadata": {},
   "outputs": [],
   "source": []
  }
 ],
 "metadata": {
  "kernelspec": {
   "display_name": "Python 3 (ipykernel)",
   "language": "python",
   "name": "python3"
  },
  "language_info": {
   "codemirror_mode": {
    "name": "ipython",
    "version": 3
   },
   "file_extension": ".py",
   "mimetype": "text/x-python",
   "name": "python",
   "nbconvert_exporter": "python",
   "pygments_lexer": "ipython3",
   "version": "3.12.7"
  }
 },
 "nbformat": 4,
 "nbformat_minor": 5
}
