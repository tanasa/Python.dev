{
 "cells": [
  {
   "cell_type": "code",
   "execution_count": null,
   "id": "bdbc17a6-a9e3-459f-845b-ea17477e7c12",
   "metadata": {},
   "outputs": [],
   "source": []
  },
  {
   "cell_type": "code",
   "execution_count": 1,
   "id": "b142ae82-7833-4325-a4c8-c20f6cec6653",
   "metadata": {},
   "outputs": [
    {
     "name": "stdout",
     "output_type": "stream",
     "text": [
      "Classes: Getters abd Setters\n"
     ]
    }
   ],
   "source": [
    "print(\"Classes: Getters and Setters\")"
   ]
  },
  {
   "cell_type": "code",
   "execution_count": 2,
   "id": "8e359371-8320-475c-a49b-5b849b42f711",
   "metadata": {},
   "outputs": [
    {
     "name": "stdout",
     "output_type": "stream",
     "text": [
      "John\n",
      "18\n",
      "20\n",
      "20\n",
      "ssn will be deleted\n",
      "John\n",
      "20\n",
      "20\n",
      "20\n"
     ]
    }
   ],
   "source": [
    "class Person:\n",
    "    def __init__(self, name, age, ssn):\n",
    "        self._name = name\n",
    "        self._age = age\n",
    "        self.__ssn = ssn\n",
    "\n",
    "    def _get_name(self):\n",
    "        return self._name\n",
    "\n",
    "    def _get_age(self):\n",
    "        return self._age\n",
    "\n",
    "    def _set_age(self, age):\n",
    "        # data validation\n",
    "        if age > 0 and age > self._age:\n",
    "            self._age = age\n",
    "\n",
    "    def _get_ssn(self):\n",
    "        # data mask\n",
    "        return '***-**-{}'.format(self.__ssn[-4:])\n",
    "\n",
    "    def _del_ssn(self):\n",
    "        print('ssn will be deleted')\n",
    "        del self.__ssn\n",
    "\n",
    "    name = property(fget=_get_name)\n",
    "    age = property(fget=_get_age, fset=_set_age)\n",
    "    ssn = property(fget=_get_ssn, fdel=_del_ssn)\n",
    "\n",
    "if __name__ == '__main__':\n",
    "    \n",
    "    john = Person('John', 18, '123-45-6789')\n",
    "    print(john.name)\n",
    "    print(john.age)\n",
    "    john.age = 20\n",
    "    print(john.age)\n",
    "    \n",
    "    john.age = -5   # No effect\n",
    "    print(john.age)\n",
    "    # print(john.ssn)\n",
    "\n",
    "    del john.ssn\n",
    "    # print(john.ssn)\n",
    "\n",
    "\n",
    "    print(john._get_name())\n",
    "    print(john._get_age())\n",
    "    john._set_age(20)\n",
    "    print(john._get_age())\n",
    "    \n",
    "    john._set_age(-5)\n",
    "    print(john._get_age())\n",
    "    # print(john.get_ssn())"
   ]
  },
  {
   "cell_type": "code",
   "execution_count": 3,
   "id": "c40b27d1-9488-4082-b7d6-b7f610326932",
   "metadata": {},
   "outputs": [
    {
     "name": "stdout",
     "output_type": "stream",
     "text": [
      "John\n",
      "18\n",
      "20\n",
      "20\n",
      "***-**-6789\n",
      "SSN will be deleted\n"
     ]
    }
   ],
   "source": [
    "class Person:\n",
    "    def __init__(self, name, age, ssn):\n",
    "        self._name = name\n",
    "        self._age = age\n",
    "        self.__ssn = ssn\n",
    "\n",
    "    # 1. Create 'name' property with getter only\n",
    "    @property\n",
    "    def name(self):\n",
    "        return self._name\n",
    "\n",
    "    # (No setter for name — it’s read-only)\n",
    "\n",
    "    # 2. Create 'age' property with getter\n",
    "    @property\n",
    "    def age(self):\n",
    "        return self._age\n",
    "\n",
    "    # Attach a setter to 'age'\n",
    "    @age.setter\n",
    "    def age(self, value):\n",
    "        if value > 0 and value > self._age:\n",
    "            self._age = value\n",
    "\n",
    "    # 3. Create 'ssn' property with getter\n",
    "    @property\n",
    "    def ssn(self):\n",
    "        return '***-**-{}'.format(self.__ssn[-4:])\n",
    "\n",
    "    # Attach a deleter to 'ssn'\n",
    "    @ssn.deleter\n",
    "    def ssn(self):\n",
    "        print('SSN will be deleted')\n",
    "        del self.__ssn\n",
    "\n",
    "\n",
    "if __name__ == '__main__':\n",
    "    john = Person('John', 18, '123-45-6789')\n",
    "\n",
    "    # Accessing name (getter)\n",
    "    print(john.name)\n",
    "\n",
    "    # Accessing and setting age (getter + setter)\n",
    "    print(john.age)\n",
    "    john.age = 20\n",
    "    print(john.age)\n",
    "\n",
    "    john.age = -5  # Invalid update (ignored)\n",
    "    print(john.age)\n",
    "\n",
    "    # Accessing masked SSN (getter)\n",
    "    print(john.ssn)\n",
    "\n",
    "    # Deleting SSN (deleter)\n",
    "    del john.ssn\n",
    "\n",
    "    # After deletion, next access would raise AttributeError if uncommented\n",
    "    # print(john.ssn)\n"
   ]
  },
  {
   "cell_type": "code",
   "execution_count": 4,
   "id": "9aa5f926-4698-40e5-86f8-92d98a80e9f1",
   "metadata": {},
   "outputs": [
    {
     "name": "stdout",
     "output_type": "stream",
     "text": [
      "\n",
      "\n",
      "BONUS: If you split into separate functions : Suppose you want to split getter into a separate method —\n",
      "then you would write @<property_name>.getter explicitly.\n",
      "\n",
      "\n",
      "Accessing name through @name.getter...\n",
      "John\n",
      "Accessing age through @age.getter...\n",
      "18\n",
      "Trying to set age to 20...\n",
      "Age updated successfully.\n",
      "Accessing age through @age.getter...\n",
      "20\n",
      "Trying to set age to -5...\n",
      "Invalid age. No update.\n",
      "Accessing age through @age.getter...\n",
      "20\n",
      "Accessing SSN through @ssn.getter...\n",
      "***-**-6789\n",
      "Deleting SSN...\n"
     ]
    }
   ],
   "source": [
    "print('''\n",
    "\n",
    "BONUS: If you split into separate functions : Suppose you want to split getter into a separate method —\n",
    "then you would write @<property_name>.getter explicitly.\n",
    "\n",
    "''')\n",
    "\n",
    "class Person:\n",
    "    def __init__(self, name, age, ssn):\n",
    "        self._name = name\n",
    "        self._age = age\n",
    "        self.__ssn = ssn\n",
    "\n",
    "    # -------- NAME --------\n",
    "    def _get_name(self):\n",
    "        print(\"Getting name...\")\n",
    "        return self._name\n",
    "\n",
    "    @property\n",
    "    def name(self):\n",
    "        return self._get_name()\n",
    "\n",
    "    @name.getter\n",
    "    def name(self):\n",
    "        print(\"Accessing name through @name.getter...\")\n",
    "        return self._name\n",
    "\n",
    "    # No setter for name (it's read-only)\n",
    "\n",
    "    # -------- AGE --------\n",
    "    def _get_age(self):\n",
    "        print(\"Getting age...\")\n",
    "        return self._age\n",
    "\n",
    "    def _set_age(self, new_age):\n",
    "        print(f\"Trying to set age to {new_age}...\")\n",
    "        if new_age > 0 and new_age > self._age:\n",
    "            self._age = new_age\n",
    "            print(\"Age updated successfully.\")\n",
    "        else:\n",
    "            print(\"Invalid age. No update.\")\n",
    "\n",
    "    @property\n",
    "    def age(self):\n",
    "        return self._get_age()\n",
    "\n",
    "    @age.getter\n",
    "    def age(self):\n",
    "        print(\"Accessing age through @age.getter...\")\n",
    "        return self._age\n",
    "\n",
    "    @age.setter\n",
    "    def age(self, value):\n",
    "        self._set_age(value)\n",
    "\n",
    "    # -------- SSN --------\n",
    "    def _get_ssn(self):\n",
    "        return '***-**-{}'.format(self.__ssn[-4:])\n",
    "\n",
    "    def _del_ssn(self):\n",
    "        print('Deleting SSN...')\n",
    "        del self.__ssn\n",
    "\n",
    "    @property\n",
    "    def ssn(self):\n",
    "        return self._get_ssn()\n",
    "\n",
    "    @ssn.getter\n",
    "    def ssn(self):\n",
    "        print(\"Accessing SSN through @ssn.getter...\")\n",
    "        return '***-**-{}'.format(self.__ssn[-4:])\n",
    "\n",
    "    @ssn.deleter\n",
    "    def ssn(self):\n",
    "        self._del_ssn()\n",
    "\n",
    "\n",
    "# --- RUN ---\n",
    "if __name__ == '__main__':\n",
    "    john = Person('John', 18, '123-45-6789')\n",
    "\n",
    "    # Name\n",
    "    print(john.name)  # Access name\n",
    "\n",
    "    # Age\n",
    "    print(john.age)   # Access age\n",
    "    john.age = 20     # Update age\n",
    "    print(john.age)\n",
    "\n",
    "    john.age = -5     # Invalid age\n",
    "    print(john.age)\n",
    "\n",
    "    # SSN\n",
    "    print(john.ssn)   # Access masked SSN\n",
    "    del john.ssn      # Delete SSN\n",
    "\n",
    "    # Try accessing deleted SSN (will raise AttributeError)\n",
    "    # print(john.ssn)\n",
    "\n",
    "\n",
    "# We can re-write the code by using :\n",
    "# @property for creating the property ✅\n",
    "# @<property_name>.setter for setting ✅\n",
    "# @<property_name>.deleter for deleting ✅\n",
    "# No need for separate .getter decorators!\n",
    "# clean, compact version focusing only on property + setter + deleter.\n",
    "\n",
    "# Getter is automatically provided when you write @property.\n",
    "# Setter is added with @property_name.setter.\n",
    "# Deleter is added with @property_name.deleter.\n",
    "# No need to manually define .getter unless you want special behavior."
   ]
  },
  {
   "cell_type": "code",
   "execution_count": null,
   "id": "c90a12d2-6d08-4f35-9ef4-ddd9bd8fb7f2",
   "metadata": {},
   "outputs": [],
   "source": []
  },
  {
   "cell_type": "code",
   "execution_count": 5,
   "id": "fa18e9f5-f157-45e3-87c5-750aa253351f",
   "metadata": {},
   "outputs": [
    {
     "name": "stdout",
     "output_type": "stream",
     "text": [
      "Class Variables:\n"
     ]
    }
   ],
   "source": [
    "print(\"Class Variables:\")"
   ]
  },
  {
   "cell_type": "code",
   "execution_count": null,
   "id": "3949b66c-d5f1-41ea-a5b4-30298e2b82c0",
   "metadata": {},
   "outputs": [],
   "source": []
  },
  {
   "cell_type": "code",
   "execution_count": 6,
   "id": "3d7ea8a1-5595-4adb-a62e-8e39a53e8d5f",
   "metadata": {},
   "outputs": [
    {
     "name": "stdout",
     "output_type": "stream",
     "text": [
      "Shadowing :\n"
     ]
    }
   ],
   "source": [
    "print(\"Shadowing :\")"
   ]
  },
  {
   "cell_type": "code",
   "execution_count": 7,
   "id": "9e822c03-a9db-4dc8-b59b-d9db356ae20d",
   "metadata": {},
   "outputs": [
    {
     "name": "stdout",
     "output_type": "stream",
     "text": [
      "\n",
      "\n",
      "Shadowing happens when:\n",
      "\n",
      "An object or function hides another object or function with the same name in a more local (closer) scope.\n",
      "\n",
      "In our example:\n",
      "\n",
      "Foo.c is a class variable.\n",
      "\n",
      "When you write f.c = 5, you create an instance variable named c for the object f.\n",
      "\n",
      "Now, whenever you access f.c, Python finds the instance variable first : it shadows the class variable Foo.c.\n",
      "\n",
      "f.c (instance) SHADOWS Foo.c (class).\n",
      "\n",
      "\n",
      "\n",
      "\n",
      "Python looks for attributes in this order:\n",
      "\n",
      "First, in the instance (like f.__dict__)\n",
      "Then, in the class (like Foo.__dict__)\n",
      "Then, in the parent classes (if any)\n",
      "\n",
      "If it finds a matching name earlier (at the instance level), it stops searching - that is shadowing.\n",
      "\n",
      "\n"
     ]
    }
   ],
   "source": [
    "print('''\n",
    "\n",
    "Shadowing happens when:\n",
    "\n",
    "An object or function hides another object or function with the same name in a more local (closer) scope.\n",
    "\n",
    "In our example:\n",
    "\n",
    "Foo.c is a class variable.\n",
    "\n",
    "When you write f.c = 5, you create an instance variable named c for the object f.\n",
    "\n",
    "Now, whenever you access f.c, Python finds the instance variable first : it shadows the class variable Foo.c.\n",
    "\n",
    "f.c (instance) SHADOWS Foo.c (class).\n",
    "\n",
    "''')\n",
    "\n",
    "print('''\n",
    "\n",
    "Python looks for attributes in this order:\n",
    "\n",
    "First, in the instance (like f.__dict__)\n",
    "Then, in the class (like Foo.__dict__)\n",
    "Then, in the parent classes (if any)\n",
    "\n",
    "If it finds a matching name earlier (at the instance level), it stops searching - that is shadowing.\n",
    "\n",
    "''')"
   ]
  },
  {
   "cell_type": "code",
   "execution_count": 8,
   "id": "5f06b01a-f557-4f77-9e80-bc06e2c1a4a1",
   "metadata": {},
   "outputs": [
    {
     "name": "stdout",
     "output_type": "stream",
     "text": [
      "1\n",
      "2\n",
      "10\n",
      "10\n",
      "13\n",
      "========================================\n",
      "5\n",
      "10\n",
      "13\n"
     ]
    }
   ],
   "source": [
    "class Foo:\n",
    "\n",
    "    c = 10  # class variable\n",
    "\n",
    "    def __init__(self, a, b):\n",
    "        self.a = a\n",
    "        self.b = b\n",
    "\n",
    "    def calc(self):\n",
    "        return self.a + self.b + Foo.c\n",
    "\n",
    "\n",
    "if __name__ == '__main__':\n",
    "    f = Foo(1, 2)\n",
    "    print(f.a)\n",
    "    print(f.b)\n",
    "    print(f.c)\n",
    "    print(Foo.c)\n",
    "    print(f.calc())\n",
    "\n",
    "    print('=' * 40)\n",
    "\n",
    "    f.c = 5  # add an instance variable c to f,\n",
    "             # which shadows the class variable Foo.c, for that object only.\n",
    "    print(f.c)\n",
    "    print(Foo.c)\n",
    "    print(f.calc()) # Thus, no matter what f.c is,\n",
    "                    # calc() will always use Foo.c (10), not the instance variable!\n",
    "\n",
    "\n",
    "# ✅ The final value of f.calc() is 13.\n",
    "# ✅ Shadowing f.c does not affect calc(), because calc() uses Foo.c directly."
   ]
  },
  {
   "cell_type": "code",
   "execution_count": 9,
   "id": "58352919-fba2-45e7-8f2e-b4978a80260d",
   "metadata": {},
   "outputs": [
    {
     "name": "stdout",
     "output_type": "stream",
     "text": [
      "1\n",
      "2\n",
      "10\n",
      "10\n",
      "13\n",
      "5\n",
      "10\n",
      "8\n"
     ]
    }
   ],
   "source": [
    "# Let’s now see what happens if you change calc() to use self.c instead of Foo.c.\n",
    "# ✅ Notice: calc() now uses self.c instead of Foo.c.\n",
    "\n",
    "class Foo:\n",
    "    c = 10  # class variable\n",
    "\n",
    "    def __init__(self, a, b):\n",
    "        self.a = a\n",
    "        self.b = b\n",
    "\n",
    "    def calc(self):\n",
    "        return self.a + self.b + self.c   # <--- Now using self.c\n",
    "\n",
    "\n",
    "f = Foo(1, 2)\n",
    "\n",
    "print(f.a)   # ➔ 1\n",
    "print(f.b)   # ➔ 2\n",
    "print(f.c)   # ➔ 10 (from Foo.c)\n",
    "print(Foo.c) # ➔ 10\n",
    "print(f.calc())\n",
    "\n",
    "# Now shadowing: SHADOWING : \n",
    "\n",
    "f.c = 5  # Create instance variable f.c\n",
    "# Foo.c = 10 (class — still unchanged)\n",
    "\n",
    "print(f.c)    # ➔ 5 (instance c)\n",
    "print(Foo.c)  # ➔ 10 (class c)\n",
    "print(f.calc())\n",
    "\n",
    "# Inside calc() now:\n",
    "# return self.a + self.b + self.c\n",
    "# = 1 + 2 + 5\n",
    "# = 8\n",
    "\n",
    "# Key Point\n",
    "# Version of calc()\tResult\n",
    "# return self.a + self.b + Foo.c\tAlways 13 (uses class variable, no shadowing effect)\n",
    "# return self.a + self.b + self.c\t13 before shadowing, 8 after shadowing (instance variable c overrides class variable)"
   ]
  },
  {
   "cell_type": "code",
   "execution_count": 10,
   "id": "ff0265d9-3769-40cf-b761-b4fa4c75b127",
   "metadata": {},
   "outputs": [
    {
     "name": "stdout",
     "output_type": "stream",
     "text": [
      "\n",
      "\n",
      "Final Conclusion:\n",
      "\n",
      "If you use Foo.c inside calc(), it always uses the class variable (shadowing doesn't matter).\n",
      "\n",
      "If you use self.c inside calc(), shadowing directly changes what calc() computes!\n",
      "\n",
      "✅ Changing from Foo.c → self.c makes the object behave more dynamically based on its local attributes.\n",
      "\n",
      "\n"
     ]
    }
   ],
   "source": [
    "print('''\n",
    "\n",
    "Final Conclusion:\n",
    "\n",
    "If you use Foo.c inside calc(), it always uses the class variable (shadowing doesn't matter).\n",
    "\n",
    "If you use self.c inside calc(), shadowing directly changes what calc() computes!\n",
    "\n",
    "✅ Changing from Foo.c → self.c makes the object behave more dynamically based on its local attributes.\n",
    "\n",
    "''')"
   ]
  },
  {
   "cell_type": "code",
   "execution_count": 11,
   "id": "125205e4-c63c-4d04-ae12-a77922cf8ccc",
   "metadata": {},
   "outputs": [
    {
     "name": "stdout",
     "output_type": "stream",
     "text": [
      "13\n",
      "17\n",
      "----------------------------------------\n",
      "23\n",
      "27\n",
      "----------------------------------------\n",
      "8\n",
      "27\n",
      "Shows only instance variables :\n",
      "{'a': 1, 'b': 2, 'c': 5}\n",
      "Shows class variables :\n",
      "{'__module__': '__main__', 'c': 20, '__init__': <function Foo.__init__ at 0x0000019ECF4C1BC0>, 'calc': <function Foo.calc at 0x0000019ECF4C1C60>, '__dict__': <attribute '__dict__' of 'Foo' objects>, '__weakref__': <attribute '__weakref__' of 'Foo' objects>, '__doc__': None}\n"
     ]
    }
   ],
   "source": [
    "# If you modify the class variable itself (through the class, not through an instance),\n",
    "# all instances that have NOT shadowed it will see the new value.\n",
    "# ✅ Because class variables are shared across instances unless shadowed.\n",
    "\n",
    "class Foo:\n",
    "    c = 10  # Class variable\n",
    "\n",
    "    def __init__(self, a, b):\n",
    "        self.a = a\n",
    "        self.b = b\n",
    "\n",
    "    def calc(self):\n",
    "        return self.a + self.b + self.c  # Using self.c\n",
    "\n",
    "if __name__ == '__main__':\n",
    "    f1 = Foo(1, 2)\n",
    "    f2 = Foo(3, 4)\n",
    "\n",
    "    print(f1.calc())  # 1 + 2 + 10 = 13\n",
    "    print(f2.calc())  # 3 + 4 + 10 = 17\n",
    "\n",
    "    print('-' * 40)\n",
    "\n",
    "    # Modify the class variable Foo.c directly!\n",
    "    Foo.c = 20\n",
    "\n",
    "    print(f1.calc())  # 1 + 2 + 20 = 23\n",
    "    print(f2.calc())  # 3 + 4 + 20 = 27\n",
    "\n",
    "    print('-' * 40)\n",
    "\n",
    "    # Now shadow the class variable in f1\n",
    "    f1.c = 5                        # You shadow the class variable only in f1\n",
    "\n",
    "    print(f1.calc())  # 1 + 2 + 5 = 8\n",
    "    print(f2.calc())  # 3 + 4 + 20 = 27\n",
    "\n",
    "\n",
    "print(\"Shows only instance variables :\")\n",
    "print(f1.__dict__)   # Shows only instance variables\n",
    "print(\"Shows class variables :\")\n",
    "print(Foo.__dict__)  # Shows class variables"
   ]
  },
  {
   "cell_type": "code",
   "execution_count": 12,
   "id": "d796f8c9-44a6-4ffe-b8a3-5819594727dc",
   "metadata": {},
   "outputs": [
    {
     "name": "stdout",
     "output_type": "stream",
     "text": [
      "How a method itself can be shadowed (overwritten) just for one instance?!\n"
     ]
    }
   ],
   "source": [
    "print(\"How a method itself can be shadowed (overwritten) just for one instance?!\")"
   ]
  },
  {
   "cell_type": "code",
   "execution_count": 13,
   "id": "81bdf32d-186b-4bcf-a612-97151c5cd438",
   "metadata": {},
   "outputs": [
    {
     "name": "stdout",
     "output_type": "stream",
     "text": [
      "\n",
      "\n",
      "🔥 Shadowing a method for just one instance!\n",
      "In Python, methods are just attributes too.\n",
      "That means you can override (shadow) a method for only one specific object, without affecting other instances!\n",
      "\n",
      "🧠 Basic Idea:\n",
      "Normally, methods are stored in the class.\n",
      "\n",
      "If you assign a new method directly to an instance,\n",
      "it shadows (overrides) the class method only for that instance.\n",
      "\n",
      "\n"
     ]
    }
   ],
   "source": [
    "print('''\n",
    "\n",
    "🔥 Shadowing a method for just one instance!\n",
    "In Python, methods are just attributes too.\n",
    "That means you can override (shadow) a method for only one specific object, without affecting other instances!\n",
    "\n",
    "🧠 Basic Idea:\n",
    "Normally, methods are stored in the class.\n",
    "\n",
    "If you assign a new method directly to an instance,\n",
    "it shadows (overrides) the class method only for that instance.\n",
    "\n",
    "''')"
   ]
  },
  {
   "cell_type": "code",
   "execution_count": 14,
   "id": "a4465fce-2e2f-40f2-89c7-fa99a7e9e38c",
   "metadata": {},
   "outputs": [
    {
     "name": "stdout",
     "output_type": "stream",
     "text": [
      "METHOD BINDING\n"
     ]
    }
   ],
   "source": [
    "print(\"METHOD BINDING\")"
   ]
  },
  {
   "cell_type": "code",
   "execution_count": 15,
   "id": "a8dc170d-c9fc-402a-a6f3-e5adb0462b4b",
   "metadata": {},
   "outputs": [
    {
     "name": "stdout",
     "output_type": "stream",
     "text": [
      "Hello from Foo class!\n",
      "Hello from Foo class!\n",
      "----------------------------------------\n",
      "Hello from f1 instance only!\n",
      "Hello from Foo class!\n",
      "{'greet': <bound method new_greet of <__main__.Foo object at 0x0000019ECF43FB90>>}\n",
      "{'__module__': '__main__', 'greet': <function Foo.greet at 0x0000019ECF4C2980>, '__dict__': <attribute '__dict__' of 'Foo' objects>, '__weakref__': <attribute '__weakref__' of 'Foo' objects>, '__doc__': None}\n"
     ]
    }
   ],
   "source": [
    "class Foo:\n",
    "    def greet(self):\n",
    "        print(\"Hello from Foo class!\")\n",
    "\n",
    "if __name__ == '__main__':\n",
    "    f1 = Foo()\n",
    "    f2 = Foo()\n",
    "\n",
    "    f1.greet()  # Hello from Foo class!\n",
    "    f2.greet()  # Hello from Foo class!\n",
    "\n",
    "    print('-' * 40)\n",
    "\n",
    "    # Now shadow the greet method for f1 only\n",
    "    def new_greet(self):\n",
    "        print(\"Hello from f1 instance only!\")\n",
    "\n",
    "    f1.greet = new_greet.__get__(f1)  # Bind the new function to f1 : OK\n",
    "\n",
    "    f1.greet()  # Hello from f1 instance only!\n",
    "    f2.greet()  # Hello from Foo class!\n",
    "\n",
    "print(f1.__dict__)\n",
    "print(Foo.__dict__)\n",
    "\n",
    "# Let’s be very careful: this is METHOD BINDING\n",
    "# f1.greet = new_greet.__get__(f1) : No, this is not name mangling.\n",
    "# Name mangling and binding methods are two very different concepts in Python.\n"
   ]
  },
  {
   "cell_type": "code",
   "execution_count": 16,
   "id": "195926d7-8490-46aa-8e88-2654dae8ae16",
   "metadata": {},
   "outputs": [
    {
     "name": "stdout",
     "output_type": "stream",
     "text": [
      "NAME MANGLING\n",
      "42\n"
     ]
    }
   ],
   "source": [
    "print(\"NAME MANGLING\")\n",
    "\n",
    "class Foo:\n",
    "    def __init__(self):\n",
    "        self.__hidden = 42\n",
    "\n",
    "f = Foo()\n",
    "\n",
    "# Wrong way: AttributeError\n",
    "# print(f.__hidden)\n",
    "\n",
    "# Correct way (access mangled name)\n",
    "print(f._Foo__hidden)  # ➔ 42\n",
    "\n",
    "# Name mangling is designed to:\n",
    "# Prevent accidental access,\n",
    "# Not to provide strong security!\n",
    "# ✅ It is \"weak\" protection — just a way to avoid name clashes in subclasses."
   ]
  },
  {
   "cell_type": "code",
   "execution_count": null,
   "id": "35ca1aab-d4b2-4c22-8057-0bfb026d9b09",
   "metadata": {},
   "outputs": [],
   "source": []
  },
  {
   "cell_type": "code",
   "execution_count": 17,
   "id": "1f69a1f9-7c91-4b21-8a0a-1df8dece9320",
   "metadata": {},
   "outputs": [
    {
     "name": "stdout",
     "output_type": "stream",
     "text": [
      "\n",
      "\n",
      "In Python, if you want to bind a new method properly to an instance (so that it behaves like a normal method and automatically receives self), \n",
      "you can use types.MethodType from the built-in types module.\n",
      "\n",
      "types.MethodType() is the professional, safe way to bind a new method to an instance!\n",
      "\n",
      "It's better and safer than manually doing f1.greet = new_greet.__get__(f1). \n",
      "\n",
      "Hello from Foo class!\n",
      "Hello from Foo class!\n",
      "----------------------------------------\n",
      "Hello from f1 instance only!\n",
      "Hello from Foo class!\n",
      "<bound method new_greet of <__main__.Foo object at 0x0000019ECF4A7F50>>\n",
      "<bound method Foo.greet of <__main__.Foo object at 0x0000019ECF4A7EF0>>\n"
     ]
    }
   ],
   "source": [
    "print('''\n",
    "\n",
    "In Python, if you want to bind a new method properly to an instance (so that it behaves like a normal method and automatically receives self), \n",
    "you can use types.MethodType from the built-in types module.\n",
    "\n",
    "types.MethodType() is the professional, safe way to bind a new method to an instance!\n",
    "\n",
    "It's better and safer than manually doing f1.greet = new_greet.__get__(f1). \n",
    "''')\n",
    "\n",
    "import types  # <-- import the types module!\n",
    "\n",
    "class Foo:\n",
    "    def greet(self):\n",
    "        print(\"Hello from Foo class!\")\n",
    "\n",
    "if __name__ == '__main__':\n",
    "    f1 = Foo()\n",
    "    f2 = Foo()\n",
    "\n",
    "    f1.greet()  # Hello from Foo class!\n",
    "    f2.greet()  # Hello from Foo class!\n",
    "\n",
    "    print('-' * 40)\n",
    "\n",
    "    # Define a new function\n",
    "    def new_greet(self):\n",
    "        print(\"Hello from f1 instance only!\")\n",
    "\n",
    "    # Bind it to f1 using types.MethodType\n",
    "    f1.greet = types.MethodType(new_greet, f1)\n",
    "\n",
    "    f1.greet()  # Hello from f1 instance only!\n",
    "    f2.greet()  # Hello from Foo class!\n",
    "\n",
    "print(f1.greet)  # <bound method new_greet of <__main__.Foo object at ...>>\n",
    "print(f2.greet)  # <bound method Foo.greet of <__main__.Foo object at ...>>\n"
   ]
  },
  {
   "cell_type": "code",
   "execution_count": null,
   "id": "5a3794a8-de8f-45e1-99cd-3846e784cf3f",
   "metadata": {},
   "outputs": [],
   "source": []
  },
  {
   "cell_type": "code",
   "execution_count": 18,
   "id": "13ef7a96-dfc9-4e1d-8f4d-845dfa955e3f",
   "metadata": {},
   "outputs": [
    {
     "name": "stdout",
     "output_type": "stream",
     "text": [
      "Methods in Python :\n",
      "\n",
      "+ Public → Anyone can call\n",
      "- Private → Only the same class can call\n",
      "# Protected → Same class and subclasses can call\n",
      "\n",
      "\n"
     ]
    }
   ],
   "source": [
    "print('''Methods in Python :\n",
    "\n",
    "+ Public → Anyone can call\n",
    "- Private → Only the same class can call\n",
    "# Protected → Same class and subclasses can call\n",
    "\n",
    "''')"
   ]
  },
  {
   "cell_type": "code",
   "execution_count": 19,
   "id": "cd5a10b6-6b7e-4ebf-806e-a968cd899213",
   "metadata": {},
   "outputs": [
    {
     "name": "stdout",
     "output_type": "stream",
     "text": [
      "john\n",
      "secret\n",
      "4\n"
     ]
    },
    {
     "data": {
      "text/plain": [
       "['_LoginRecord__password',\n",
       " '__class__',\n",
       " '__delattr__',\n",
       " '__dict__',\n",
       " '__dir__',\n",
       " '__doc__',\n",
       " '__eq__',\n",
       " '__format__',\n",
       " '__ge__',\n",
       " '__getattribute__',\n",
       " '__getstate__',\n",
       " '__gt__',\n",
       " '__hash__',\n",
       " '__init__',\n",
       " '__init_subclass__',\n",
       " '__le__',\n",
       " '__lt__',\n",
       " '__module__',\n",
       " '__ne__',\n",
       " '__new__',\n",
       " '__reduce__',\n",
       " '__reduce_ex__',\n",
       " '__repr__',\n",
       " '__setattr__',\n",
       " '__sizeof__',\n",
       " '__str__',\n",
       " '__subclasshook__',\n",
       " '__weakref__',\n",
       " '_expiry_days',\n",
       " 'username']"
      ]
     },
     "execution_count": 19,
     "metadata": {},
     "output_type": "execute_result"
    }
   ],
   "source": [
    "class LoginRecord:\n",
    "    def __init__(self, username, password, expiry_days):\n",
    "        self.username = username\n",
    "        self._expiry_days = expiry_days \n",
    "        # \"This is a protected attribute — please treat it as internal/private, but technically it's still accessible.\"\n",
    "        # It is NOT name mangled.\n",
    "        self.__password = password  #  This starts with two underscores __, so Python applies name mangling.\n",
    "                                    # Python renames it internally to: _LoginRecord__password\n",
    "                                    #  This is meant to discourage direct access from outside the class — weak \"privacy\".\n",
    "                                    # To access it manually from outside (which you usually avoid), you must do:\n",
    "                                    # print(john_login._LoginRecord__password)  # ➔ 'secret' \n",
    "                                       \n",
    "if __name__ == '__main__':\n",
    "    john_login = LoginRecord('john', 'secret', 4)\n",
    "\n",
    "    print(john_login.username)\n",
    "    print(john_login._LoginRecord__password)\n",
    "    print(john_login._expiry_days)\n",
    "\n",
    "\n",
    "# 🎯 Big Lessons:\n",
    "# Double underscores __var = Name mangling (not true security, but \"discourages\" access).\n",
    "# Single underscore _var = Protected (by convention only).\n",
    "# No underscore = Public (completely open).\n",
    "# Python trusts you to be responsible — it gives guidelines, not strict enforcement.\n",
    "\n",
    "dir(john_login) # You can see the mangled name explicitly!"
   ]
  },
  {
   "cell_type": "code",
   "execution_count": 20,
   "id": "f1997dc8-ee47-4b43-ad99-6342e5627242",
   "metadata": {},
   "outputs": [
    {
     "name": "stdout",
     "output_type": "stream",
     "text": [
      "\n",
      "\n",
      "accessify — Detailed Overview\n",
      "\n",
      "\n"
     ]
    }
   ],
   "source": [
    "print('''\n",
    "\n",
    "accessify — Detailed Overview\n",
    "\n",
    "''')"
   ]
  },
  {
   "cell_type": "code",
   "execution_count": 21,
   "id": "302edfba-d7ff-4812-9245-b59896082fb6",
   "metadata": {},
   "outputs": [
    {
     "name": "stdout",
     "output_type": "stream",
     "text": [
      "\n",
      "\n",
      "accessify — Detailed Overview\n",
      "\n",
      "accessify is a Python library that lets you explicitly declare methods as:\n",
      "\n",
      "@private — Only accessible inside the class itself.\n",
      "\n",
      "@protected — Accessible inside the class and subclasses.\n",
      "\n",
      "(default) — No decoration = public method.\n",
      "\n",
      "It enforces this at runtime:\n",
      "👉 If someone tries to call a @private method from outside the class, an exception is raised, stopping them.\n",
      "\n",
      "\n",
      "This is PUBLIC and anyone can call it.\n",
      "This is PRIVATE and should not be called from outside!\n",
      "This is PROTECTED and accessible in subclasses.\n"
     ]
    }
   ],
   "source": [
    "print('''\n",
    "\n",
    "accessify — Detailed Overview\n",
    "\n",
    "accessify is a Python library that lets you explicitly declare methods as:\n",
    "\n",
    "@private — Only accessible inside the class itself.\n",
    "\n",
    "@protected — Accessible inside the class and subclasses.\n",
    "\n",
    "(default) — No decoration = public method.\n",
    "\n",
    "It enforces this at runtime:\n",
    "👉 If someone tries to call a @private method from outside the class, an exception is raised, stopping them.\n",
    "\n",
    "''')\n",
    "\n",
    "from accessify import private, protected\n",
    "\n",
    "class MyClass:\n",
    "    def __init__(self):\n",
    "        self.name = \"Accessify Example\"\n",
    "\n",
    "    @private\n",
    "    def my_private_method(self):\n",
    "        print(\"This is PRIVATE and should not be called from outside!\")\n",
    "\n",
    "    @protected\n",
    "    def my_protected_method(self):\n",
    "        print(\"This is PROTECTED and accessible in subclasses.\")\n",
    "\n",
    "    def public_method(self):\n",
    "        print(\"This is PUBLIC and anyone can call it.\")\n",
    "\n",
    "    def internal_call(self):\n",
    "        # OK: private method can be called *inside* the class\n",
    "        self.my_private_method()\n",
    "        self.my_protected_method()\n",
    "\n",
    "obj = MyClass()\n",
    "obj.public_method()        # Works!\n",
    "obj.internal_call()        # Works (calls private & protected internally)"
   ]
  },
  {
   "cell_type": "code",
   "execution_count": 22,
   "id": "1a606fb4-af28-45c3-9ccd-7b4234216699",
   "metadata": {},
   "outputs": [
    {
     "name": "stdout",
     "output_type": "stream",
     "text": [
      "\n",
      "\n",
      "Subclass Behavior (for @protected)\n",
      "\n",
      "If you subclass and call a @protected method, it works:\n",
      "\n",
      "\n",
      "This is PROTECTED and accessible in subclasses.\n"
     ]
    }
   ],
   "source": [
    "print('''\n",
    "\n",
    "Subclass Behavior (for @protected)\n",
    "\n",
    "If you subclass and call a @protected method, it works:\n",
    "\n",
    "''')\n",
    "\n",
    "class SubClass(MyClass):\n",
    "    def call_protected(self):\n",
    "        self.my_protected_method()   # ✅ Allowed\n",
    "\n",
    "    def call_private(self):\n",
    "        self.my_private_method()     # ❌ Still forbidden\n",
    "\n",
    "\n",
    "sub = SubClass()\n",
    "sub.call_protected()  # OK\n",
    "# sub.call_private()    # Error"
   ]
  },
  {
   "cell_type": "code",
   "execution_count": null,
   "id": "d0b8ed28-cee5-4709-b0d7-4bbb9a868c0b",
   "metadata": {},
   "outputs": [],
   "source": []
  },
  {
   "cell_type": "code",
   "execution_count": null,
   "id": "5e1e8512-df96-4525-89cf-8569cf6a0638",
   "metadata": {},
   "outputs": [],
   "source": []
  }
 ],
 "metadata": {
  "kernelspec": {
   "display_name": "Python 3 (ipykernel)",
   "language": "python",
   "name": "python3"
  },
  "language_info": {
   "codemirror_mode": {
    "name": "ipython",
    "version": 3
   },
   "file_extension": ".py",
   "mimetype": "text/x-python",
   "name": "python",
   "nbconvert_exporter": "python",
   "pygments_lexer": "ipython3",
   "version": "3.12.7"
  }
 },
 "nbformat": 4,
 "nbformat_minor": 5
}
