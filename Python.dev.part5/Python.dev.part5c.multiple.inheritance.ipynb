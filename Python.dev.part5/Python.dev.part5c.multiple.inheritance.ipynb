{
 "cells": [
  {
   "cell_type": "code",
   "execution_count": 1,
   "id": "704f5073-5151-4a43-b9db-2b4b6d117c83",
   "metadata": {},
   "outputs": [
    {
     "name": "stdout",
     "output_type": "stream",
     "text": [
      "Abstract methods:\n"
     ]
    }
   ],
   "source": [
    "print(\"Abstract methods:\")"
   ]
  },
  {
   "cell_type": "code",
   "execution_count": 2,
   "id": "7556532b-ea8f-473a-83f9-24dbfa04ff0e",
   "metadata": {},
   "outputs": [],
   "source": [
    "# You import ABC and abstractmethod from the abc module (abc = Abstract Base Classes).\n",
    "# ABC is a special base class that enables you to create abstract classes in Python"
   ]
  },
  {
   "cell_type": "code",
   "execution_count": 3,
   "id": "c90b5d65-46d9-47a7-b568-c4418e8086a3",
   "metadata": {},
   "outputs": [
    {
     "name": "stdout",
     "output_type": "stream",
     "text": [
      "\n",
      "\n",
      "What is an Abstract Method?\n",
      "\n",
      "An abstract method is a method declared in a base class (with @abstractmethod) but not implemented there.\n",
      "\n",
      "It forces subclasses to provide their own version of the method.\n",
      "\n",
      "If a subclass does not implement all abstract methods, it cannot be instantiated.\n",
      "\n",
      "In short:\n",
      "\n",
      "An abstract method defines \"this method must exist\" but doesn't define how it works.\n",
      "\n",
      "\n"
     ]
    }
   ],
   "source": [
    "print('''\n",
    "\n",
    "What is an Abstract Method?\n",
    "\n",
    "An abstract method is a method declared in a base class (with @abstractmethod) but not implemented there.\n",
    "\n",
    "It forces subclasses to provide their own version of the method.\n",
    "\n",
    "If a subclass does not implement all abstract methods, it cannot be instantiated.\n",
    "\n",
    "In short:\n",
    "\n",
    "An abstract method defines \"this method must exist\" but doesn't define how it works.\n",
    "\n",
    "''')"
   ]
  },
  {
   "cell_type": "code",
   "execution_count": null,
   "id": "3c47de7d-5a57-43f8-aef5-3de53b0c5670",
   "metadata": {},
   "outputs": [],
   "source": []
  },
  {
   "cell_type": "code",
   "execution_count": 4,
   "id": "60506af5-472f-4ce7-a80c-1b44c2fcd79d",
   "metadata": {},
   "outputs": [
    {
     "name": "stdout",
     "output_type": "stream",
     "text": [
      "method1\n",
      "method2 from Bar\n",
      "method2 from Bar\n"
     ]
    }
   ],
   "source": [
    "from abc import ABC, abstractmethod\n",
    "\n",
    "class Foo(ABC):\n",
    "    def method1(self):\n",
    "        return 'method1'\n",
    "\n",
    "    def call_method2(self):\n",
    "        # dynamic binding\n",
    "        print(self.method2())\n",
    "\n",
    "    @abstractmethod\n",
    "    def method2(self):\n",
    "        return NotImplemented\n",
    "\n",
    "\n",
    "# Foo inherits from ABC, making it an abstract base class.\n",
    "# It means you cannot instantiate Foo directly unless you implement all its abstract methods in a subclass.\n",
    "\n",
    "# call_method2 calls self.method2().\n",
    "# Dynamic binding here means that the actual version of method2 called will depend on the subclass's implementation, \n",
    "# even though you are calling it from the base class (Foo).\n",
    "\n",
    "class Bar(Foo):\n",
    "    def method2(self):\n",
    "        return 'method2 from Bar'\n",
    "\n",
    "# method2 is marked as an abstract method using the @abstractmethod decorator.\n",
    "# Abstract methods must be implemented in any subclass before instantiation.\n",
    "# Returning NotImplemented is just a convention to signal that it's not actually implemented yet\n",
    "\n",
    "if __name__ == '__main__':\n",
    "    b = Bar()\n",
    "    print(b.method1())\n",
    "    print(b.method2())\n",
    "    b.call_method2()"
   ]
  },
  {
   "cell_type": "code",
   "execution_count": null,
   "id": "a78f6b4b-943d-4e3d-8c53-43fd42d0c341",
   "metadata": {},
   "outputs": [],
   "source": []
  },
  {
   "cell_type": "code",
   "execution_count": 5,
   "id": "7731f21a-d299-48c5-95f1-cfeffab56ab7",
   "metadata": {},
   "outputs": [
    {
     "name": "stdout",
     "output_type": "stream",
     "text": [
      "Multiple inheritance\n"
     ]
    }
   ],
   "source": [
    "print(\"Multiple inheritance\")"
   ]
  },
  {
   "cell_type": "code",
   "execution_count": 6,
   "id": "1ede21af-301e-4b1b-895e-5e985322e6ec",
   "metadata": {},
   "outputs": [
    {
     "name": "stdout",
     "output_type": "stream",
     "text": [
      "brown\n",
      "San Jose\n",
      "2\n",
      "(<class '__main__.HomePuppy'>, <class '__main__.Dog'>, <class '__main__.Domestic'>, <class '__main__.Animal'>, <class 'object'>)\n",
      "\n",
      "\n",
      "Multiple Inheritance Issue:\n",
      "\n",
      "You manually call Dog.__init__ and Domestic.__init__.\n",
      "Both of those call Animal.__init__.\n",
      "Result: Animal.number_of_animals increments twice for the same puppy object (actually even thrice overall when HomePuppy is created).\n",
      "This causes duplicate initialization.\n",
      "\n",
      "Why was super() commented? Example using super() correctly:\n",
      "\n",
      "\n"
     ]
    }
   ],
   "source": [
    "class Animal:\n",
    "    number_of_animals = 0\n",
    "\n",
    "    def __init__(self, name):\n",
    "        self._name = name\n",
    "        Animal.number_of_animals += 1\n",
    "\n",
    "\n",
    "class Dog(Animal):\n",
    "    def __init__(self, name, breed, color):\n",
    "        Animal.__init__(self, name)\n",
    "        self._breed = breed\n",
    "        self._color = color\n",
    "\n",
    "    def _get_color(self):\n",
    "        return self._color\n",
    "\n",
    "    color = property(fget=_get_color)\n",
    "\n",
    "\n",
    "class Domestic(Animal):\n",
    "    def __init__(self, name, address):\n",
    "        Animal.__init__(self, name)\n",
    "        self._address = address\n",
    "\n",
    "    def _get_address(self):\n",
    "        return self._address\n",
    "\n",
    "    address = property(fget=_get_address)\n",
    "\n",
    "# HomePuppy: A subclass that inherits from both Dog and Domestic.\n",
    "# Multiple inheritance: HomePuppy inherits from both Dog and Domestic.\n",
    "# You manually call Dog.__init__ and Domestic.__init__.\n",
    "\n",
    "class HomePuppy(Dog, Domestic):\n",
    "    def __init__(self, name, breed, color, address):\n",
    "        # super().__init__(name, breed, color, address)\n",
    "        Dog.__init__(self, name, breed, color)\n",
    "        Domestic.__init__(self, name, address)\n",
    "\n",
    "\n",
    "if __name__ == '__main__':\n",
    "    p = HomePuppy('John', 'Chihuahua', 'brown', 'San Jose')\n",
    "    print(p.color)\n",
    "    print(p.address)\n",
    "    print(Animal.number_of_animals)\n",
    "    print(HomePuppy.__mro__)\n",
    "\n",
    "# The method resolution order (__mro__).\n",
    "# Python will look first in HomePuppy, then Dog, then Domestic, then Animal, then object.\n",
    "\n",
    "print('''\n",
    "\n",
    "Multiple Inheritance Issue:\n",
    "\n",
    "You manually call Dog.__init__ and Domestic.__init__.\n",
    "Both of those call Animal.__init__.\n",
    "Result: Animal.number_of_animals increments twice for the same puppy object (actually even thrice overall when HomePuppy is created).\n",
    "This causes duplicate initialization.\n",
    "\n",
    "Why was super() commented? Example using super() correctly:\n",
    "\n",
    "''')"
   ]
  },
  {
   "cell_type": "code",
   "execution_count": 7,
   "id": "ac7658f3-8808-4ce1-a702-75094673c51b",
   "metadata": {},
   "outputs": [
    {
     "name": "stdout",
     "output_type": "stream",
     "text": [
      "Version of the code generated by GPT4:\n",
      "brown\n",
      "San Jose\n",
      "1\n",
      "(<class '__main__.HomePuppy'>, <class '__main__.Dog'>, <class '__main__.Domestic'>, <class '__main__.Animal'>, <class 'object'>)\n"
     ]
    }
   ],
   "source": [
    "print(\"Version of the code generated by GPT4:\")\n",
    "\n",
    "# Why does this work now?\n",
    "\n",
    "# super() passes all arguments (name, breed, color, address) as a dictionary.\n",
    "# Every class picks only what it needs and forwards the rest up the chain.\n",
    "# Animal's __init__ is called only once, so number_of_animals == 1.\n",
    "# No missing arguments for any parent class.\n",
    "\n",
    "class Animal:\n",
    "    number_of_animals = 0\n",
    "\n",
    "    def __init__(self, name, **kwargs):\n",
    "        self._name = name\n",
    "        Animal.number_of_animals += 1\n",
    "        super().__init__(**kwargs)\n",
    "\n",
    "class Dog(Animal):\n",
    "    def __init__(self, breed, color, **kwargs):\n",
    "        self._breed = breed\n",
    "        self._color = color\n",
    "        super().__init__(**kwargs)\n",
    "\n",
    "    @property\n",
    "    def color(self):\n",
    "        return self._color\n",
    "\n",
    "class Domestic(Animal):\n",
    "    def __init__(self, address, **kwargs):\n",
    "        self._address = address\n",
    "        super().__init__(**kwargs)\n",
    "\n",
    "    @property\n",
    "    def address(self):\n",
    "        return self._address\n",
    "\n",
    "class HomePuppy(Dog, Domestic):\n",
    "    def __init__(self, name, breed, color, address):\n",
    "        super().__init__(name=name, breed=breed, color=color, address=address)\n",
    "\n",
    "if __name__ == '__main__':\n",
    "    p = HomePuppy('John', 'Chihuahua', 'brown', 'San Jose')\n",
    "    print(p.color)           # 'brown'\n",
    "    print(p.address)         # 'San Jose'\n",
    "    print(Animal.number_of_animals)  # 1\n",
    "    print(HomePuppy.__mro__)\n"
   ]
  },
  {
   "cell_type": "code",
   "execution_count": 8,
   "id": "c45d3993-3322-4be9-b0d0-8d4489d3de9c",
   "metadata": {},
   "outputs": [],
   "source": [
    "# If you want it even simpler, even no multiple inheritance, you can do:\n",
    "\n",
    "class Animal:\n",
    "    def __init__(self, name):\n",
    "        self.name = name\n",
    "\n",
    "class Dog(Animal):\n",
    "    def __init__(self, name, breed, color):\n",
    "        super().__init__(name)\n",
    "        self.breed = breed\n",
    "        self.color = color\n",
    "\n",
    "class HomePuppy(Dog):\n",
    "    def __init__(self, name, breed, color, address):\n",
    "        super().__init__(name, breed, color)\n",
    "        self.address = address"
   ]
  },
  {
   "cell_type": "code",
   "execution_count": null,
   "id": "db492847-f392-4f04-bcff-707ebc88dbae",
   "metadata": {},
   "outputs": [],
   "source": []
  },
  {
   "cell_type": "code",
   "execution_count": null,
   "id": "aa5d08f1-649c-4bad-978f-a32967e63cc5",
   "metadata": {},
   "outputs": [],
   "source": []
  },
  {
   "cell_type": "code",
   "execution_count": 9,
   "id": "2859e821-1f4d-43e4-8728-5bbd4d66dcf1",
   "metadata": {},
   "outputs": [
    {
     "name": "stdout",
     "output_type": "stream",
     "text": [
      "Version of the code presented in the class:\n",
      "brown\n",
      "San Jose\n",
      "1\n",
      "(<class '__main__.HomePuppy'>, <class '__main__.Dog'>, <class '__main__.Domestic'>, <class '__main__.Animal'>, <class 'object'>)\n"
     ]
    }
   ],
   "source": [
    "print(\"Version of the code presented in the class:\")\n",
    "\n",
    "class Animal:\n",
    "    number_of_animals = 0\n",
    "\n",
    "    def __init__(self, name, **info):\n",
    "        super().__init__(**info)\n",
    "        self.name = name\n",
    "        Animal.number_of_animals += 1\n",
    "\n",
    "\n",
    "class Dog(Animal):\n",
    "    def __init__(self, breed, color, **info):\n",
    "        super().__init__(**info)\n",
    "        self._breed = breed\n",
    "        self._color = color\n",
    "\n",
    "    def _get_color(self):\n",
    "        return self._color\n",
    "\n",
    "    color = property(fget=_get_color)\n",
    "\n",
    "\n",
    "class Domestic(Animal):\n",
    "    def __init__(self, address, **info):\n",
    "        super().__init__(**info)\n",
    "        self._address = address\n",
    "\n",
    "    def _get_address(self):\n",
    "        return self._address\n",
    "\n",
    "    address = property(fget=_get_address)\n",
    "\n",
    "\n",
    "class HomePuppy(Dog, Domestic):\n",
    "    def __init__(self, **info):\n",
    "        super().__init__(**info)\n",
    "\n",
    "\n",
    "if __name__ == '__main__':\n",
    "    \n",
    "    p = HomePuppy(name='John', breed='Chihuahua', color='brown', address='San Jose')\n",
    "    print(p.color)\n",
    "    print(p.address)\n",
    "    print(Animal.number_of_animals)\n",
    "    print(HomePuppy.__mro__)\n"
   ]
  },
  {
   "cell_type": "code",
   "execution_count": null,
   "id": "0c066b5e-fef6-4362-8f05-2376b65a48c9",
   "metadata": {},
   "outputs": [],
   "source": []
  },
  {
   "cell_type": "code",
   "execution_count": 10,
   "id": "31b4a6f4-4fb4-42ff-b499-7348853a5fc6",
   "metadata": {},
   "outputs": [
    {
     "name": "stdout",
     "output_type": "stream",
     "text": [
      "Keyword Parameters demo:\n"
     ]
    }
   ],
   "source": [
    "print(\"Keyword Parameters demo:\")"
   ]
  },
  {
   "cell_type": "code",
   "execution_count": 11,
   "id": "fa8b7a71-be8a-400b-a20e-f3ff19e31d8e",
   "metadata": {},
   "outputs": [
    {
     "name": "stdout",
     "output_type": "stream",
     "text": [
      "\n",
      "\n",
      "Meaning of * and ** in Functions:\n",
      "\n",
      "Symbol\tName\tWhat it does\n",
      "*\t\"args\"\tCollects any extra positional arguments into a tuple\n",
      "**\t\"kwargs\"\tCollects any extra keyword arguments into a dictionary\n",
      "\n",
      "✅ You can also use * and ** to unpack values when calling a function!\n",
      "\n",
      "\n",
      "1\n",
      "(2, 3)\n",
      "1\n",
      "{'red': 2, 'blue': 3, 'pink': 4}\n",
      "John:20:Stanford\n",
      "\n",
      "\n",
      "list\tUnpack a list when calling a function\tf(*[1,2,3])\n",
      "**dict\tUnpack a dictionary into keyword arguments when calling a function\tf(**{'a':1, 'b':2}\n",
      "\n",
      "\n"
     ]
    }
   ],
   "source": [
    "print('''\n",
    "\n",
    "Meaning of * and ** in Functions:\n",
    "\n",
    "Symbol\tName\tWhat it does\n",
    "*\t\"args\"\tCollects any extra positional arguments into a tuple\n",
    "**\t\"kwargs\"\tCollects any extra keyword arguments into a dictionary\n",
    "\n",
    "✅ You can also use * and ** to unpack values when calling a function!\n",
    "\n",
    "''')\n",
    "\n",
    "def mystery(a, *items):\n",
    "    print(a)\n",
    "    print(items)\n",
    "\n",
    "\n",
    "mystery(1, 2, 3)\n",
    "\n",
    "def magic(yellow, **colors):\n",
    "    print(yellow)\n",
    "    print(colors)\n",
    "\n",
    "magic(yellow=1, red=2, blue=3, pink=4)\n",
    "\n",
    "def magic2(name, age, school):\n",
    "    print(name, age, school, sep=':')\n",
    "\n",
    "info = {'name': 'John', 'age': 20, 'school': 'Stanford'}\n",
    "magic2(**info)\n",
    "\n",
    "print('''\n",
    "\n",
    "list\tUnpack a list when calling a function\tf(*[1,2,3])\n",
    "**dict\tUnpack a dictionary into keyword arguments when calling a function\tf(**{'a':1, 'b':2}\n",
    "\n",
    "''')"
   ]
  },
  {
   "cell_type": "code",
   "execution_count": 12,
   "id": "8726de59-86a1-45bb-9911-025859a2a344",
   "metadata": {},
   "outputs": [
    {
     "name": "stdout",
     "output_type": "stream",
     "text": [
      "\n",
      "\n",
      "✨ You can think like this:\n",
      "\n",
      "* → \"bundle extra arguments into a tuple\" (inside function)\n",
      "\n",
      "* → \"spread a tuple into arguments\" (when calling function)\n",
      "\n",
      "** → \"bundle extra keyword arguments into a dictionary\" (inside function)\n",
      "\n",
      "** → \"spread a dictionary into keyword arguments\" (when calling function)\n",
      "\n",
      "\n"
     ]
    }
   ],
   "source": [
    "print('''\n",
    "\n",
    "✨ You can think like this:\n",
    "\n",
    "* → \"bundle extra arguments into a tuple\" (inside function)\n",
    "\n",
    "* → \"spread a tuple into arguments\" (when calling function)\n",
    "\n",
    "** → \"bundle extra keyword arguments into a dictionary\" (inside function)\n",
    "\n",
    "** → \"spread a dictionary into keyword arguments\" (when calling function)\n",
    "\n",
    "''')"
   ]
  },
  {
   "cell_type": "code",
   "execution_count": 13,
   "id": "a6e7e2a8-7579-4fee-842e-48b5da484bf9",
   "metadata": {},
   "outputs": [
    {
     "name": "stdout",
     "output_type": "stream",
     "text": [
      "a = 1\n",
      "b = 2\n",
      "args = (3, 4, 5)\n",
      "kwargs = {'x': 10, 'y': 20}\n"
     ]
    }
   ],
   "source": [
    "def example(a, b, *args, **kwargs):\n",
    "    print('a =', a)\n",
    "    print('b =', b)\n",
    "    print('args =', args)\n",
    "    print('kwargs =', kwargs)\n",
    "\n",
    "example(1, 2, 3, 4, 5, x=10, y=20)\n"
   ]
  },
  {
   "cell_type": "code",
   "execution_count": 14,
   "id": "1285463d-3f40-465f-af07-1b24890d051a",
   "metadata": {},
   "outputs": [
    {
     "name": "stdout",
     "output_type": "stream",
     "text": [
      "\n",
      "\n",
      "🧠 One-Line Definition:\n",
      "\n",
      "*args is for extra unnamed things.\n",
      "**kwargs is for extra named things.\n",
      "\n",
      "\n"
     ]
    }
   ],
   "source": [
    "print('''\n",
    "\n",
    "🧠 One-Line Definition:\n",
    "\n",
    "*args is for extra unnamed things.\n",
    "**kwargs is for extra named things.\n",
    "\n",
    "''')"
   ]
  },
  {
   "cell_type": "code",
   "execution_count": 15,
   "id": "ea4f714e-b990-41be-b717-02960dcc6455",
   "metadata": {},
   "outputs": [
    {
     "name": "stdout",
     "output_type": "stream",
     "text": [
      "Making a 12-inch pizza with:\n",
      "- pepperoni\n",
      "- cheese\n",
      "- olives\n"
     ]
    }
   ],
   "source": [
    "def make_pizza(size, *toppings):\n",
    "    print(f\"Making a {size}-inch pizza with:\")\n",
    "    for topping in toppings:\n",
    "        print(f\"- {topping}\")\n",
    "\n",
    "make_pizza(12, \"pepperoni\", \"cheese\", \"olives\")"
   ]
  },
  {
   "cell_type": "code",
   "execution_count": null,
   "id": "8139e8c4-a19c-41ea-8050-b5344737c3e5",
   "metadata": {},
   "outputs": [],
   "source": []
  }
 ],
 "metadata": {
  "kernelspec": {
   "display_name": "Python 3 (ipykernel)",
   "language": "python",
   "name": "python3"
  },
  "language_info": {
   "codemirror_mode": {
    "name": "ipython",
    "version": 3
   },
   "file_extension": ".py",
   "mimetype": "text/x-python",
   "name": "python",
   "nbconvert_exporter": "python",
   "pygments_lexer": "ipython3",
   "version": "3.12.7"
  }
 },
 "nbformat": 4,
 "nbformat_minor": 5
}
