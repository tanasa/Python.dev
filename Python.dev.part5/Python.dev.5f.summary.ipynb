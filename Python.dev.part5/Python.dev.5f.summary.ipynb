{
 "cells": [
  {
   "cell_type": "code",
   "execution_count": null,
   "id": "0aef4d05-b57d-40fb-89d5-0a6572167fd9",
   "metadata": {},
   "outputs": [],
   "source": []
  },
  {
   "cell_type": "code",
   "execution_count": 1,
   "id": "b7158dde-0a58-47b3-857c-113ff70949af",
   "metadata": {},
   "outputs": [
    {
     "name": "stdout",
     "output_type": "stream",
     "text": [
      "\n",
      "\n",
      "Abstract Methods and Dynamic Binding\n",
      "\n",
      "An abstract method is a method without implementation.\n",
      "\n",
      "It is declared in an abstract base class (ABC) and marked with @abstractmethod.\n",
      "\n",
      "A subclass must inherit and implement that method.\n",
      "\n",
      "from abc import ABC, abstractmethod\n",
      "\n",
      "Why do we need it? \n",
      "→ To force subclasses to provide specific behavior, ensuring a consistent API across different types.\n",
      "\n",
      "Can an abstract method be called inside the class?\n",
      "→ No, unless it is implemented. Trying to instantiate an abstract class directly raises an error.\n",
      "\n",
      "\n"
     ]
    }
   ],
   "source": [
    "print('''\n",
    "\n",
    "Abstract Methods and Dynamic Binding\n",
    "\n",
    "An abstract method is a method without implementation.\n",
    "\n",
    "It is declared in an abstract base class (ABC) and marked with @abstractmethod.\n",
    "\n",
    "A subclass must inherit and implement that method.\n",
    "\n",
    "from abc import ABC, abstractmethod\n",
    "\n",
    "Why do we need it? \n",
    "→ To force subclasses to provide specific behavior, ensuring a consistent API across different types.\n",
    "\n",
    "Can an abstract method be called inside the class?\n",
    "→ No, unless it is implemented. Trying to instantiate an abstract class directly raises an error.\n",
    "\n",
    "''')"
   ]
  },
  {
   "cell_type": "code",
   "execution_count": 2,
   "id": "1af7097b-bb0e-44f5-bc91-9fa2d4bd3f32",
   "metadata": {},
   "outputs": [
    {
     "name": "stdout",
     "output_type": "stream",
     "text": [
      "\n",
      "\n",
      "Dynamic Binding:\n",
      "\n",
      "When you call a method on an object, Python figures out at runtime which method to call based on the object's actual type.\n",
      "\n",
      "Example: In ticket_02.py, classes override __str__() and get_price(), and Python uses the right version automatically.\n",
      "\n",
      "\n"
     ]
    }
   ],
   "source": [
    "print('''\n",
    "\n",
    "Dynamic Binding:\n",
    "\n",
    "When you call a method on an object, Python figures out at runtime which method to call based on the object's actual type.\n",
    "\n",
    "Example: In ticket_02.py, classes override __str__() and get_price(), and Python uses the right version automatically.\n",
    "\n",
    "''')"
   ]
  },
  {
   "cell_type": "code",
   "execution_count": 3,
   "id": "fefa9dff-5922-411f-91b9-ce05d6a3dc14",
   "metadata": {},
   "outputs": [
    {
     "name": "stdout",
     "output_type": "stream",
     "text": [
      "\n",
      "\n",
      "Class Variables and Static Methods\n",
      "\n",
      "Class Variables are shared among all instances.\n",
      "\n",
      "Static Methods:\n",
      "\n",
      "Marked with @staticmethod, they:\n",
      "\n",
      "Do not receive self or cls.\n",
      "Can still access and modify class variables (by using the class name explicitly).\n",
      "\n",
      "Difference from @classmethod:\n",
      "\n",
      "@classmethod gets cls as the first parameter and is used to modify the class itself.\n",
      "\n",
      "@staticmethod is just a function grouped inside a class.\n",
      "\n",
      "\n"
     ]
    }
   ],
   "source": [
    "print('''\n",
    "\n",
    "Class Variables and Static Methods\n",
    "\n",
    "Class Variables are shared among all instances.\n",
    "\n",
    "Static Methods:\n",
    "\n",
    "Marked with @staticmethod, they:\n",
    "\n",
    "Do not receive self or cls.\n",
    "Can still access and modify class variables (by using the class name explicitly).\n",
    "\n",
    "Difference from @classmethod:\n",
    "\n",
    "@classmethod gets cls as the first parameter and is used to modify the class itself.\n",
    "\n",
    "@staticmethod is just a function grouped inside a class.\n",
    "\n",
    "''')"
   ]
  },
  {
   "cell_type": "code",
   "execution_count": 4,
   "id": "4f26b9e7-2744-4c21-a29f-03f73e3441a0",
   "metadata": {},
   "outputs": [
    {
     "name": "stdout",
     "output_type": "stream",
     "text": [
      "\n",
      "\n",
      "Access Control (Encapsulation)\n",
      "\n",
      "Python has no built-in true access control like Java or C++.\n",
      "\n",
      "But there are conventions:\n",
      "\n",
      "_protected_variable → Hint: treat it as protected.\n",
      "\n",
      "__private_variable → Name mangling: becomes _ClassName__private_variable.\n",
      "\n",
      "print(obj._ClassName__private_variable)  # Still accessible!\n",
      "\n",
      "Important:\n",
      "\n",
      "It is only naming convention, not true protection.\n",
      "\n",
      "In Java:\n",
      "\n",
      "Use getter and setter methods to control access.\n",
      "\n",
      "Allows validation inside the setter (important for safe encapsulation).\n",
      "\n",
      "\n"
     ]
    }
   ],
   "source": [
    "print('''\n",
    "\n",
    "Access Control (Encapsulation)\n",
    "\n",
    "Python has no built-in true access control like Java or C++.\n",
    "\n",
    "But there are conventions:\n",
    "\n",
    "_protected_variable → Hint: treat it as protected.\n",
    "\n",
    "__private_variable → Name mangling: becomes _ClassName__private_variable.\n",
    "\n",
    "print(obj._ClassName__private_variable)  # Still accessible!\n",
    "\n",
    "Important:\n",
    "\n",
    "It is only naming convention, not true protection.\n",
    "\n",
    "In Java:\n",
    "\n",
    "Use getter and setter methods to control access.\n",
    "\n",
    "Allows validation inside the setter (important for safe encapsulation).\n",
    "\n",
    "''')"
   ]
  },
  {
   "cell_type": "code",
   "execution_count": 5,
   "id": "300c86f0-327a-423e-875c-36b4169ed0ba",
   "metadata": {},
   "outputs": [
    {
     "name": "stdout",
     "output_type": "stream",
     "text": [
      "\n",
      "\n",
      "Managing Instance Variables\n",
      "\n",
      "In Python, use the property() function:\n",
      "\n",
      "fget → getter\n",
      "\n",
      "fset → setter\n",
      "\n",
      "fdel → deleter\n",
      "\n",
      "✅ Provides indirect controlled access to attributes.\n",
      "\n",
      "✅ But attributes are still technically public — it’s just a convention.\n",
      "\n",
      "\n"
     ]
    }
   ],
   "source": [
    "print('''\n",
    "\n",
    "Managing Instance Variables\n",
    "\n",
    "In Python, use the property() function:\n",
    "\n",
    "fget → getter\n",
    "\n",
    "fset → setter\n",
    "\n",
    "fdel → deleter\n",
    "\n",
    "✅ Provides indirect controlled access to attributes.\n",
    "\n",
    "✅ But attributes are still technically public — it’s just a convention.\n",
    "\n",
    "''')"
   ]
  },
  {
   "cell_type": "code",
   "execution_count": 6,
   "id": "9eec0cc3-910c-4b7f-9e1c-0cab74364345",
   "metadata": {},
   "outputs": [
    {
     "name": "stdout",
     "output_type": "stream",
     "text": [
      "\n",
      "\n",
      "5. Multiple Inheritance\n",
      "\n",
      "Python allows multiple inheritance (inherit from multiple classes).\n",
      "\n",
      "Problem: methods from different classes might have the same name.\n",
      "\n",
      "Solution: Python uses the Method Resolution Order (__mro__) to decide the correct method to call.\n",
      "\n",
      "\n"
     ]
    }
   ],
   "source": [
    "print('''\n",
    "\n",
    "5. Multiple Inheritance\n",
    "\n",
    "Python allows multiple inheritance (inherit from multiple classes).\n",
    "\n",
    "Problem: methods from different classes might have the same name.\n",
    "\n",
    "Solution: Python uses the Method Resolution Order (__mro__) to decide the correct method to call.\n",
    "\n",
    "''')"
   ]
  },
  {
   "cell_type": "code",
   "execution_count": 7,
   "id": "b9f943a8-b62a-478a-86e6-910e1306c61b",
   "metadata": {},
   "outputs": [
    {
     "name": "stdout",
     "output_type": "stream",
     "text": [
      "\n",
      "\n",
      "Keyword Arguments (*args and **kwargs)\n",
      "\n",
      "*args: captures positional arguments into a tuple.\n",
      "\n",
      "**kwargs: captures keyword arguments into a dictionary.\n",
      "\n",
      "Example:\n",
      "\n",
      "def func(*args, **kwargs):\n",
      "    print(args)    # tuple\n",
      "    print(kwargs)  # dictionary\n",
      "\n",
      "\n"
     ]
    }
   ],
   "source": [
    "print('''\n",
    "\n",
    "Keyword Arguments (*args and **kwargs)\n",
    "\n",
    "*args: captures positional arguments into a tuple.\n",
    "\n",
    "**kwargs: captures keyword arguments into a dictionary.\n",
    "\n",
    "Example:\n",
    "\n",
    "def func(*args, **kwargs):\n",
    "    print(args)    # tuple\n",
    "    print(kwargs)  # dictionary\n",
    "\n",
    "''')    "
   ]
  },
  {
   "cell_type": "code",
   "execution_count": 8,
   "id": "8d4b4ce0-5860-40c7-8f29-8f763ebd2046",
   "metadata": {},
   "outputs": [
    {
     "name": "stdout",
     "output_type": "stream",
     "text": [
      "\n",
      "\n",
      "Exception Handling\n",
      "\n",
      "Use raise ValueError to throw exceptions.\n",
      "Use try ... except to catch and handle exceptions.\n",
      "\n",
      "You can create your own exceptions by subclassing Exception.\n",
      "\n",
      "class MyError(Exception):\n",
      "    pass\n",
      "\n",
      "\n"
     ]
    }
   ],
   "source": [
    "print('''\n",
    "\n",
    "Exception Handling\n",
    "\n",
    "Use raise ValueError to throw exceptions.\n",
    "Use try ... except to catch and handle exceptions.\n",
    "\n",
    "You can create your own exceptions by subclassing Exception.\n",
    "\n",
    "class MyError(Exception):\n",
    "    pass\n",
    "\n",
    "''')"
   ]
  },
  {
   "cell_type": "code",
   "execution_count": 9,
   "id": "312ccab4-f89b-4d5c-a471-c180229fdd14",
   "metadata": {},
   "outputs": [
    {
     "name": "stdout",
     "output_type": "stream",
     "text": [
      "\n",
      "\n",
      "Iterators and Generators\n",
      "\n",
      "A for loop uses iter().\n",
      "\n",
      "You can build custom iterators with __iter__() and __next__() methods.\n",
      "\n",
      "for i in NumberStep(start, end, step):\n",
      "    print(i)\n",
      "\n",
      "Different from looping over a static list — dynamic sequence generation!\n",
      "\n",
      "✅ You can even create infinite iterators (e.g., generating mathematical sequences to approximate π).\n",
      "\n",
      "\n"
     ]
    }
   ],
   "source": [
    "print('''\n",
    "\n",
    "Iterators and Generators\n",
    "\n",
    "A for loop uses iter().\n",
    "\n",
    "You can build custom iterators with __iter__() and __next__() methods.\n",
    "\n",
    "for i in NumberStep(start, end, step):\n",
    "    print(i)\n",
    "\n",
    "Different from looping over a static list — dynamic sequence generation!\n",
    "\n",
    "✅ You can even create infinite iterators (e.g., generating mathematical sequences to approximate π).\n",
    "\n",
    "''')"
   ]
  },
  {
   "cell_type": "code",
   "execution_count": null,
   "id": "baacf50a-e7cc-44a1-9137-7fb4f58f7104",
   "metadata": {},
   "outputs": [],
   "source": []
  },
  {
   "cell_type": "code",
   "execution_count": 10,
   "id": "d0369832-395d-412f-b657-bfd11f737209",
   "metadata": {},
   "outputs": [
    {
     "name": "stdout",
     "output_type": "stream",
     "text": [
      "\n",
      "\n",
      "Generators and Yield\n",
      "\n",
      "Generators simplify iterator writing by using the yield statement.\n",
      "\n",
      "Instead of calculating all results at once, they generate values one-by-one.\n",
      "\n",
      "def count_up_to(n):\n",
      "    i = 0\n",
      "    while i < n:\n",
      "        yield i\n",
      "        i += 1\n",
      "\n",
      "You can chain generators: one generator feeds another.\n",
      "\n",
      "Comparison: | | Recursion | Generator | |:---|:---| | Narrowing down to base case | Can generate infinitely | | Solves finite problems | Creates continuous streams |\n",
      "\n",
      "✅ Example of chain: Sieve of Eratosthenes for finding prime numbers.\n",
      "\n"
     ]
    }
   ],
   "source": [
    "print('''\n",
    "\n",
    "Generators and Yield\n",
    "\n",
    "Generators simplify iterator writing by using the yield statement.\n",
    "\n",
    "Instead of calculating all results at once, they generate values one-by-one.\n",
    "\n",
    "def count_up_to(n):\n",
    "    i = 0\n",
    "    while i < n:\n",
    "        yield i\n",
    "        i += 1\n",
    "\n",
    "You can chain generators: one generator feeds another.\n",
    "\n",
    "Comparison: | | Recursion | Generator | |:---|:---| | Narrowing down to base case | Can generate infinitely | | Solves finite problems | Creates continuous streams |\n",
    "\n",
    "✅ Example of chain: Sieve of Eratosthenes for finding prime numbers.\n",
    "''')\n"
   ]
  },
  {
   "cell_type": "code",
   "execution_count": 11,
   "id": "94b82e46-ee0d-4540-b8ac-cf58f2a9b46a",
   "metadata": {},
   "outputs": [
    {
     "name": "stdout",
     "output_type": "stream",
     "text": [
      "\n",
      "\n",
      "Coroutines\n",
      "\n",
      "Coroutines receive values with g.send() instead of just next(g).\n",
      "\n",
      "Coroutines are like smart generators — they can be \"pushed\" values.\n",
      "\n",
      "Methods:\n",
      "\n",
      "g.send(value) — sends a value to the generator.\n",
      "\n",
      "g.close() — terminates the generator.\n",
      "\n",
      "If no generators:\n",
      "✅ You would use classes with instance variables instead.\n",
      "\n",
      "\n"
     ]
    }
   ],
   "source": [
    "print('''\n",
    "\n",
    "Coroutines\n",
    "\n",
    "Coroutines receive values with g.send() instead of just next(g).\n",
    "\n",
    "Coroutines are like smart generators — they can be \"pushed\" values.\n",
    "\n",
    "Methods:\n",
    "\n",
    "g.send(value) — sends a value to the generator.\n",
    "\n",
    "g.close() — terminates the generator.\n",
    "\n",
    "If no generators:\n",
    "✅ You would use classes with instance variables instead.\n",
    "\n",
    "''')"
   ]
  },
  {
   "cell_type": "code",
   "execution_count": null,
   "id": "32290953-ce62-4dd7-b755-04365af8afea",
   "metadata": {},
   "outputs": [],
   "source": []
  },
  {
   "cell_type": "code",
   "execution_count": 12,
   "id": "889f8c83-12f1-4b2a-8de9-5e8987abab89",
   "metadata": {},
   "outputs": [
    {
     "name": "stdout",
     "output_type": "stream",
     "text": [
      "\n",
      "\n",
      "Context Managers\n",
      "\n",
      "Context managers handle resource management (setup and teardown).\n",
      "\n",
      "Example: with open('file.txt') as f:\n",
      "\n",
      "Opens a file.\n",
      "\n",
      "Automatically closes the file when exiting the with block.\n",
      "\n",
      "✅ Great for clean and safe resource management.\n",
      "\n",
      "\n"
     ]
    }
   ],
   "source": [
    "print('''\n",
    "\n",
    "Context Managers\n",
    "\n",
    "Context managers handle resource management (setup and teardown).\n",
    "\n",
    "Example: with open('file.txt') as f:\n",
    "\n",
    "Opens a file.\n",
    "\n",
    "Automatically closes the file when exiting the with block.\n",
    "\n",
    "✅ Great for clean and safe resource management.\n",
    "\n",
    "''')"
   ]
  },
  {
   "cell_type": "code",
   "execution_count": 13,
   "id": "cc11498e-ec82-415b-b8db-0f564e48ec20",
   "metadata": {},
   "outputs": [
    {
     "name": "stdout",
     "output_type": "stream",
     "text": [
      "\n",
      "\n",
      "Descriptors\n",
      "\n",
      "Descriptors are classes that manage access to another attribute.\n",
      "\n",
      "They implement methods like __get__(), __set__(), __delete__().\n",
      "\n",
      "✅ Descriptors allow you to build your own property-like behavior manually. \n",
      "✅ Very useful for data validation and separation of responsibilities.\n",
      "\n",
      "\n"
     ]
    }
   ],
   "source": [
    "print('''\n",
    "\n",
    "Descriptors\n",
    "\n",
    "Descriptors are classes that manage access to another attribute.\n",
    "\n",
    "They implement methods like __get__(), __set__(), __delete__().\n",
    "\n",
    "✅ Descriptors allow you to build your own property-like behavior manually. \n",
    "✅ Very useful for data validation and separation of responsibilities.\n",
    "\n",
    "''')"
   ]
  },
  {
   "cell_type": "code",
   "execution_count": 14,
   "id": "d1bf80c0-8561-4777-92dd-03c6472fe95e",
   "metadata": {},
   "outputs": [
    {
     "name": "stdout",
     "output_type": "stream",
     "text": [
      "\n",
      "\n",
      "Decorators\n",
      "\n",
      "Decorators allow you to modify a function without changing its code.\n",
      "\n",
      "They are different from classic OOP inheritance.\n",
      "\n",
      "✅ Decorators are very powerful because:\n",
      "\n",
      "You can wrap functions easily.\n",
      "\n",
      "You can add functionality (like logging, timing, tracing) without touching the original logic.\n",
      "\n",
      "\n"
     ]
    }
   ],
   "source": [
    "print('''\n",
    "\n",
    "Decorators\n",
    "\n",
    "Decorators allow you to modify a function without changing its code.\n",
    "\n",
    "They are different from classic OOP inheritance.\n",
    "\n",
    "✅ Decorators are very powerful because:\n",
    "\n",
    "You can wrap functions easily.\n",
    "\n",
    "You can add functionality (like logging, timing, tracing) without touching the original logic.\n",
    "\n",
    "''')"
   ]
  },
  {
   "cell_type": "code",
   "execution_count": 15,
   "id": "4f1c9bd2-7730-4d04-bc5f-978796ce4fb5",
   "metadata": {},
   "outputs": [
    {
     "name": "stdout",
     "output_type": "stream",
     "text": [
      "Before function call\n",
      "Hello!\n",
      "After function call\n"
     ]
    }
   ],
   "source": [
    "def my_decorator(func):\n",
    "    def wrapper():\n",
    "        print('Before function call')\n",
    "        func()\n",
    "        print('After function call')\n",
    "    return wrapper\n",
    "\n",
    "@my_decorator\n",
    "def say_hello():\n",
    "    print('Hello!')\n",
    "\n",
    "# Call the decorated function\n",
    "say_hello()"
   ]
  },
  {
   "cell_type": "code",
   "execution_count": null,
   "id": "ed3a23ad-13f9-42b1-9cef-49eba46c6e5e",
   "metadata": {},
   "outputs": [],
   "source": []
  },
  {
   "cell_type": "code",
   "execution_count": 16,
   "id": "b44d0933-cbd7-4f4c-98b4-9b4f2728ae1f",
   "metadata": {},
   "outputs": [
    {
     "name": "stdout",
     "output_type": "stream",
     "text": [
      "\n",
      "\n",
      "What happens when you run this?\n",
      "\n",
      "say_hello() is no longer the original function.\n",
      "\n",
      "It is now the wrapper() function returned by my_decorator.\n",
      "\n",
      "So when you call say_hello(), it actually calls wrapper(), which:\n",
      "\n",
      "Prints \"Before function call\"\n",
      "\n",
      "Calls the original say_hello() (prints \"Hello!\")\n",
      "\n",
      "Prints \"After function call\"\n",
      "\n",
      "\n"
     ]
    }
   ],
   "source": [
    "print('''\n",
    "\n",
    "What happens when you run this?\n",
    "\n",
    "say_hello() is no longer the original function.\n",
    "\n",
    "It is now the wrapper() function returned by my_decorator.\n",
    "\n",
    "So when you call say_hello(), it actually calls wrapper(), which:\n",
    "\n",
    "Prints \"Before function call\"\n",
    "\n",
    "Calls the original say_hello() (prints \"Hello!\")\n",
    "\n",
    "Prints \"After function call\"\n",
    "\n",
    "''')"
   ]
  },
  {
   "cell_type": "code",
   "execution_count": 17,
   "id": "d6d3eeae-6ce8-4a40-b3a0-2cae15efdfb6",
   "metadata": {},
   "outputs": [
    {
     "name": "stdout",
     "output_type": "stream",
     "text": [
      " Bonus Tip:\n",
      "\n",
      "If you want the decorator to also work for functions that accept arguments, you should modify the wrapper() to accept *args and **kwargs:\n",
      "\n",
      "def my_decorator(func):\n",
      "    def wrapper(*args, **kwargs):\n",
      "        print('Before function call')\n",
      "        func(*args, **kwargs)\n",
      "        print('After function call')\n",
      "    return wrapper\n",
      "✅ Now your decorator will work with any function: whether it takes arguments or not!\n",
      "\n",
      "✅ Now, wrapper accepts:\n",
      "\n",
      "*args → any number of positional arguments\n",
      "\n",
      "**kwargs → any number of keyword arguments\n",
      "\n",
      "✅ It passes them safely to func(*args, **kwargs).\n",
      "\n",
      "\n",
      "Before function call\n",
      "Hello, Alice!\n",
      "After function call\n",
      "Before function call\n",
      "Hello, Bob!\n",
      "After function call\n"
     ]
    }
   ],
   "source": [
    "print(''' Bonus Tip:\n",
    "\n",
    "If you want the decorator to also work for functions that accept arguments, you should modify the wrapper() to accept *args and **kwargs:\n",
    "\n",
    "def my_decorator(func):\n",
    "    def wrapper(*args, **kwargs):\n",
    "        print('Before function call')\n",
    "        func(*args, **kwargs)\n",
    "        print('After function call')\n",
    "    return wrapper\n",
    "✅ Now your decorator will work with any function: whether it takes arguments or not!\n",
    "\n",
    "✅ Now, wrapper accepts:\n",
    "\n",
    "*args → any number of positional arguments\n",
    "\n",
    "**kwargs → any number of keyword arguments\n",
    "\n",
    "✅ It passes them safely to func(*args, **kwargs).\n",
    "\n",
    "''')\n",
    "\n",
    "def my_decorator(func):\n",
    "    def wrapper(*args, **kwargs):\n",
    "        print('Before function call')\n",
    "        func(*args, **kwargs)\n",
    "        print('After function call')\n",
    "    return wrapper\n",
    "\n",
    "@my_decorator\n",
    "def say_hello(name):\n",
    "    print(f'Hello, {name}!')\n",
    "\n",
    "say_hello('Alice')\n",
    "say_hello('Bob')\n"
   ]
  },
  {
   "cell_type": "code",
   "execution_count": 18,
   "id": "8dc7b98d-0c4f-41da-bf27-3f50239b32e5",
   "metadata": {},
   "outputs": [
    {
     "name": "stdout",
     "output_type": "stream",
     "text": [
      "\n",
      "    \n",
      "Bonus Professional Tip:\n",
      "\n",
      "If you want to preserve the original function's name and docstring (important in real projects), \n",
      "you should also use functools.wraps(func) inside the decorator:\n",
      "\n",
      "\n",
      "Before function call\n",
      "Hello, Alice!\n",
      "After function call\n",
      "Before function call\n",
      "Hello, Bob!\n",
      "After function call\n"
     ]
    }
   ],
   "source": [
    "print('''\n",
    "    \n",
    "Bonus Professional Tip:\n",
    "\n",
    "If you want to preserve the original function's name and docstring (important in real projects), \n",
    "you should also use functools.wraps(func) inside the decorator:\n",
    "\n",
    "''')\n",
    "\n",
    "import functools\n",
    "\n",
    "def my_decorator(func):\n",
    "    @functools.wraps(func)\n",
    "    def wrapper(*args, **kwargs):\n",
    "        print('Before function call')\n",
    "        func(*args, **kwargs)\n",
    "        print('After function call')\n",
    "    return wrapper\n",
    "\n",
    "@my_decorator\n",
    "def say_hello(name):\n",
    "    print(f'Hello, {name}!')\n",
    "\n",
    "say_hello('Alice')\n",
    "say_hello('Bob')"
   ]
  },
  {
   "cell_type": "code",
   "execution_count": null,
   "id": "72c281f7-beea-4909-9edc-3604a160bb47",
   "metadata": {},
   "outputs": [],
   "source": []
  },
  {
   "cell_type": "code",
   "execution_count": 19,
   "id": "a2b5f6a9-a9d0-4878-b40b-3798f21841af",
   "metadata": {},
   "outputs": [
    {
     "name": "stdout",
     "output_type": "stream",
     "text": [
      "Decorator Factory:\n"
     ]
    }
   ],
   "source": [
    "print(\"Decorator Factory:\")"
   ]
  },
  {
   "cell_type": "code",
   "execution_count": 20,
   "id": "6bd42168-330a-4443-88eb-4a61eb360d1c",
   "metadata": {},
   "outputs": [
    {
     "name": "stdout",
     "output_type": "stream",
     "text": [
      "\n",
      "\n",
      "What is a Decorator Factory?\n",
      "\n",
      "A decorator factory is: a function that RETURNS a decorator.\n",
      "\n",
      "It accepts arguments that customize how the decorator behaves.\n",
      "\n",
      "✅ Normal decorator:\n",
      "\n",
      "@decorator\n",
      "def my_function():\n",
      "    pass\n",
      "✅ Decorator factory:\n",
      "\n",
      "@decorator(argument)\n",
      "def my_function():\n",
      "    pass\n",
      "\n",
      "Here, decorator(argument) returns the real decorator, which wraps my_function.\n",
      "\n",
      "\n",
      "\n",
      "\n",
      "🚀 Summary of Decorator Factory:\n",
      "\n",
      "Concept\tMeaning\n",
      "Normal Decorator\tTakes a function and returns a wrapper\n",
      "Decorator Factory\tTakes arguments, then returns a decorator\n",
      "Useful for\tParameterizing decorators (example: repeat times, add delays, authorization levels, etc.)\n",
      "\n",
      "\n"
     ]
    }
   ],
   "source": [
    "print('''\n",
    "\n",
    "What is a Decorator Factory?\n",
    "\n",
    "A decorator factory is: a function that RETURNS a decorator.\n",
    "\n",
    "It accepts arguments that customize how the decorator behaves.\n",
    "\n",
    "✅ Normal decorator:\n",
    "\n",
    "@decorator\n",
    "def my_function():\n",
    "    pass\n",
    "✅ Decorator factory:\n",
    "\n",
    "@decorator(argument)\n",
    "def my_function():\n",
    "    pass\n",
    "\n",
    "Here, decorator(argument) returns the real decorator, which wraps my_function.\n",
    "\n",
    "''')\n",
    "\n",
    "print('''\n",
    "\n",
    "🚀 Summary of Decorator Factory:\n",
    "\n",
    "Concept\tMeaning\n",
    "Normal Decorator\tTakes a function and returns a wrapper\n",
    "Decorator Factory\tTakes arguments, then returns a decorator\n",
    "Useful for\tParameterizing decorators (example: repeat times, add delays, authorization levels, etc.)\n",
    "\n",
    "''')"
   ]
  },
  {
   "cell_type": "code",
   "execution_count": 21,
   "id": "50490e0e-d9ef-4247-9f6e-5228f0d870aa",
   "metadata": {},
   "outputs": [
    {
     "name": "stdout",
     "output_type": "stream",
     "text": [
      "\n",
      "\n",
      "Full Example: Decorator Factory that prints a message before and after calling the function\n",
      "\n",
      "def decorator_factory(before_message, after_message):\n",
      "    def real_decorator(func):\n",
      "        def wrapper(*args, **kwargs):\n",
      "            print(before_message)\n",
      "            result = func(*args, **kwargs)  # Call the original function\n",
      "            print(after_message)\n",
      "            return result\n",
      "        return wrapper\n",
      "    return real_decorator\n",
      "✅ decorator_factory(before_message, after_message):\n",
      "\n",
      "Takes two arguments: what to print before and after the function call.\n",
      "\n",
      "Returns the real decorator.\n",
      "\n",
      "✅ The real decorator:\n",
      "\n",
      "Takes the function func.\n",
      "\n",
      "Returns a wrapper that:\n",
      "\n",
      "Prints the before_message.\n",
      "\n",
      "Calls the function.\n",
      "\n",
      "Prints the after_message\n",
      "\n",
      "\n"
     ]
    }
   ],
   "source": [
    "print('''\n",
    "\n",
    "Full Example: Decorator Factory that prints a message before and after calling the function\n",
    "\n",
    "def decorator_factory(before_message, after_message):\n",
    "    def real_decorator(func):\n",
    "        def wrapper(*args, **kwargs):\n",
    "            print(before_message)\n",
    "            result = func(*args, **kwargs)  # Call the original function\n",
    "            print(after_message)\n",
    "            return result\n",
    "        return wrapper\n",
    "    return real_decorator\n",
    "✅ decorator_factory(before_message, after_message):\n",
    "\n",
    "Takes two arguments: what to print before and after the function call.\n",
    "\n",
    "Returns the real decorator.\n",
    "\n",
    "✅ The real decorator:\n",
    "\n",
    "Takes the function func.\n",
    "\n",
    "Returns a wrapper that:\n",
    "\n",
    "Prints the before_message.\n",
    "\n",
    "Calls the function.\n",
    "\n",
    "Prints the after_message\n",
    "\n",
    "''')"
   ]
  },
  {
   "cell_type": "code",
   "execution_count": 22,
   "id": "f46f388b-2e31-4cf5-a3ff-30c6667e0713",
   "metadata": {},
   "outputs": [
    {
     "name": "stdout",
     "output_type": "stream",
     "text": [
      "Starting the function...\n",
      "Hello, Alice!\n",
      "Function finished!\n"
     ]
    }
   ],
   "source": [
    "\n",
    "def decorator_factory(before_message, after_message):\n",
    "    def real_decorator(func):\n",
    "        def wrapper(*args, **kwargs):\n",
    "            print(before_message)\n",
    "            result = func(*args, **kwargs)  # Call the original function\n",
    "            print(after_message)\n",
    "            return result\n",
    "        return wrapper\n",
    "    return real_decorator\n",
    "    \n",
    "@decorator_factory('Starting the function...', 'Function finished!')\n",
    "def say_hello(name):\n",
    "    print(f\"Hello, {name}!\")\n",
    "\n",
    "say_hello('Alice')\n"
   ]
  },
  {
   "cell_type": "code",
   "execution_count": null,
   "id": "be5379d6-ffd3-4fcf-a240-00c7178f2b14",
   "metadata": {},
   "outputs": [],
   "source": []
  }
 ],
 "metadata": {
  "kernelspec": {
   "display_name": "Python 3 (ipykernel)",
   "language": "python",
   "name": "python3"
  },
  "language_info": {
   "codemirror_mode": {
    "name": "ipython",
    "version": 3
   },
   "file_extension": ".py",
   "mimetype": "text/x-python",
   "name": "python",
   "nbconvert_exporter": "python",
   "pygments_lexer": "ipython3",
   "version": "3.12.7"
  }
 },
 "nbformat": 4,
 "nbformat_minor": 5
}
