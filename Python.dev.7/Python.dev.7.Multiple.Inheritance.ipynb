{
 "cells": [
  {
   "cell_type": "code",
   "execution_count": null,
   "id": "67071705-35a8-4719-83cc-234ab1db9c3d",
   "metadata": {},
   "outputs": [],
   "source": []
  },
  {
   "cell_type": "code",
   "execution_count": 1,
   "id": "5f54989d-506e-408e-9de7-d20e7a8af69c",
   "metadata": {},
   "outputs": [
    {
     "name": "stdout",
     "output_type": "stream",
     "text": [
      "Interface Demo\n"
     ]
    }
   ],
   "source": [
    "print(\"Interface Demo\")"
   ]
  },
  {
   "cell_type": "code",
   "execution_count": 2,
   "id": "2a8dcf61-ad5a-4694-8239-e40d37b0dc8b",
   "metadata": {},
   "outputs": [
    {
     "name": "stdout",
     "output_type": "stream",
     "text": [
      "method1\n",
      "method2 from Bar\n",
      "method2 from Bar\n"
     ]
    }
   ],
   "source": [
    "from abc import ABC, abstractmethod\n",
    "\n",
    "class Foo(ABC):\n",
    "    def method1(self):\n",
    "        return 'method1'\n",
    "\n",
    "    def call_method2(self):\n",
    "        # dynamic binding\n",
    "        print(self.method2())\n",
    "\n",
    "    @abstractmethod\n",
    "    def method2(self):        # This method must be implemented in a subclass.\n",
    "        return NotImplemented\n",
    "\n",
    "\n",
    "class Bar(Foo):\n",
    "    #  This is dynamic binding: self.method2() will resolve to the correct version of method2() depending on the actual class of the object \n",
    "    # at runtime.\n",
    "    \n",
    "    def method2(self):   # If it's a Bar, it will call Bar.method2() even though call_method2() is defined in Foo.\n",
    "        return 'method2 from Bar'\n",
    "                         # This implements the required method2() from Foo.\n",
    "                         # Now Bar can be instantiated — it's no longer abstract.\n",
    "\n",
    "if __name__ == '__main__':\n",
    "    b = Bar()\n",
    "    print(b.method1())\n",
    "    print(b.method2())\n",
    "    b.call_method2()"
   ]
  },
  {
   "cell_type": "code",
   "execution_count": null,
   "id": "c7534324-71b9-4f7e-87c6-f17b6742c6be",
   "metadata": {},
   "outputs": [],
   "source": []
  },
  {
   "cell_type": "code",
   "execution_count": 3,
   "id": "3d1a0776-0c7a-4f6e-9030-1a509a39e73d",
   "metadata": {},
   "outputs": [
    {
     "name": "stdout",
     "output_type": "stream",
     "text": [
      "Random Numbers\n"
     ]
    }
   ],
   "source": [
    "print(\"Random Numbers\")"
   ]
  },
  {
   "cell_type": "code",
   "execution_count": 4,
   "id": "db2be5ca-8248-4a91-a981-38cb6e8db7ee",
   "metadata": {},
   "outputs": [
    {
     "name": "stdout",
     "output_type": "stream",
     "text": [
      "5496\n",
      "5\n",
      "4\n",
      "2\n",
      "4\n",
      "5\n",
      "2\n",
      "3\n",
      "3\n",
      "3\n",
      "1\n",
      "white\n",
      "yellow\n",
      "black\n",
      "[1, 2, 3, 4, 5, 6, 7, 8, 9, 10]\n",
      "[9, 6, 3, 7, 10, 1, 2, 8, 4, 5]\n"
     ]
    }
   ],
   "source": [
    "import random\n",
    "\n",
    "# randomly generate a 4-digit number\n",
    "print(random.randint(1000, 9999))\n",
    "\n",
    "for _ in range(10):\n",
    "    print(random.randint(1, 6))\n",
    "\n",
    "\n",
    "colors = ['red', 'black', 'yellow', 'green', 'pink', 'white', 'blue']\n",
    "for _ in range(3):\n",
    "    print(random.choice(colors))\n",
    "\n",
    "numbers = [i + 1 for i in range(10)]\n",
    "print(numbers)\n",
    "random.shuffle(numbers)\n",
    "print(numbers)"
   ]
  },
  {
   "cell_type": "code",
   "execution_count": 5,
   "id": "1ff91dca-9d11-496b-97ee-e7ba18d62eb2",
   "metadata": {},
   "outputs": [
    {
     "name": "stdout",
     "output_type": "stream",
     "text": [
      "Classes : Tickets\n"
     ]
    }
   ],
   "source": [
    "print(\"Classes : Tickets\")"
   ]
  },
  {
   "cell_type": "code",
   "execution_count": 6,
   "id": "d3848068-e533-498c-8f9a-85e320c7bf1a",
   "metadata": {},
   "outputs": [
    {
     "name": "stdout",
     "output_type": "stream",
     "text": [
      "\n",
      "\n",
      "OOP Concepts Demonstrated\n",
      "\n",
      "Abstraction\t@abstractmethod get_price() in Ticket\n",
      "\n",
      "Polymorphism\tget_price() behaves differently in each subclass\n",
      "\n",
      "Inheritance\tShowTicket, MovieTicket, StudentMovieTicket all inherit from Ticket\n",
      "\n",
      "Encapsulation\tEach object stores its own number and price rules\n",
      "\n",
      "Dynamic binding\t__str__() calls self.get_price() — resolved at runtime\n",
      "\n",
      "Constructor chaining\tsuper().__init__() in subclasses\n",
      "\n",
      "\n"
     ]
    }
   ],
   "source": [
    "print('''\n",
    "\n",
    "OOP Concepts Demonstrated\n",
    "\n",
    "Abstraction\t@abstractmethod get_price() in Ticket\n",
    "\n",
    "Polymorphism\tget_price() behaves differently in each subclass\n",
    "\n",
    "Inheritance\tShowTicket, MovieTicket, StudentMovieTicket all inherit from Ticket\n",
    "\n",
    "Encapsulation\tEach object stores its own number and price rules\n",
    "\n",
    "Dynamic binding\t__str__() calls self.get_price() — resolved at runtime\n",
    "\n",
    "Constructor chaining\tsuper().__init__() in subclasses\n",
    "\n",
    "''')"
   ]
  },
  {
   "cell_type": "code",
   "execution_count": 7,
   "id": "8849f476-fa26-47aa-a5da-5479bb978a60",
   "metadata": {},
   "outputs": [
    {
     "name": "stdout",
     "output_type": "stream",
     "text": [
      "3639: $50\n",
      "9810: $50\n",
      "4282: $30\n",
      "8146: $40\n",
      "5147: $15 (Student ID required)\n",
      "9258: $20 (Student ID required)\n"
     ]
    }
   ],
   "source": [
    "from abc import ABC, abstractmethod\n",
    "import random\n",
    "\n",
    "class Ticket(ABC):\n",
    "    def __init__(self):\n",
    "        # randomly generated as a 4-digit number\n",
    "        self.number = random.randint(1000, 9999)\n",
    "\n",
    "    @abstractmethod\n",
    "    def get_price(self):      # Forces subclasses to define their own price logic. This is dynamic binding or runtime polymorphism.\n",
    "        return NotImplemented\n",
    "\n",
    "    def __str__(self):\n",
    "        # dynamic binding\n",
    "        return f'{self.number}: ${self.get_price()}'\n",
    "\n",
    "\n",
    "class ShowTicket(Ticket):\n",
    "    def get_price(self):\n",
    "        return 50\n",
    "\n",
    "# If a movie ticket is purchased 10 days or more before the movie date\n",
    "# the ticket price is $30. Otherwise, the ticket price is $40.\n",
    "\n",
    "class MovieTicket(Ticket):\n",
    "    def __init__(self, days):\n",
    "        super().__init__()\n",
    "        self.days_in_advance = days\n",
    "\n",
    "    def get_price(self):\n",
    "        return 30 if self.days_in_advance >= 10 else 40\n",
    "\n",
    "\n",
    "# student's movie ticket is always half-price of the movie ticket.\n",
    "# The string representation of the student's movie ticket\n",
    "# should include (Student ID required) at the end\n",
    "\n",
    "class StudentMovieTicket(MovieTicket):\n",
    "    # In Python class methods, the first parameter must be self — \n",
    "    # it's how the method gets access to the specific object instance it’s called on.\n",
    "    def get_price(self):\n",
    "        return super().get_price() // 2   # It comes from the parent class, which in this case is MovieTicket.\n",
    "\n",
    "    def __str__(self):\n",
    "        return '{} (Student ID required)'.format(super().__str__())\n",
    "\n",
    "\n",
    "if __name__ == '__main__':\n",
    "    \n",
    "    t = ShowTicket()\n",
    "    print(t)\n",
    "    t2 = ShowTicket()\n",
    "    print(t2)\n",
    "\n",
    "    mt = MovieTicket(12)\n",
    "    print(mt) # 1234: $30\n",
    "    mt2 = MovieTicket(3)\n",
    "    print(mt2)  # 1235: $40\n",
    "\n",
    "    st = StudentMovieTicket(15)\n",
    "    print(st)  # 2222: $15 (Student ID required)\n",
    "    st2 = StudentMovieTicket(1)\n",
    "    print(st2)  # 3333: $20 (Student ID required)"
   ]
  },
  {
   "cell_type": "code",
   "execution_count": null,
   "id": "2b1851af-4d57-4f45-b4fa-77e3b0f681e2",
   "metadata": {},
   "outputs": [],
   "source": []
  },
  {
   "cell_type": "code",
   "execution_count": 8,
   "id": "2fe2f0be-8e12-4a8f-a56b-bd61b61b08b2",
   "metadata": {},
   "outputs": [
    {
     "name": "stdout",
     "output_type": "stream",
     "text": [
      "Class Variables :\n"
     ]
    }
   ],
   "source": [
    "print(\"Class Variables :\")"
   ]
  },
  {
   "cell_type": "code",
   "execution_count": 9,
   "id": "3d5967ef-6ce3-4880-b18e-d435a20c5362",
   "metadata": {},
   "outputs": [
    {
     "name": "stdout",
     "output_type": "stream",
     "text": [
      "1\n",
      "2\n",
      "10\n",
      "10\n",
      "13\n",
      "========================================\n",
      "5\n",
      "10\n",
      "13\n"
     ]
    }
   ],
   "source": [
    "class Foo:\n",
    "\n",
    "    c = 10  # # class variable (shared by all instances)\n",
    "\n",
    "    def __init__(self, a, b):\n",
    "        self.a = a\n",
    "        self.b = b\n",
    "\n",
    "    def calc(self):\n",
    "        return self.a + self.b + Foo.c\n",
    "\n",
    "\n",
    "if __name__ == '__main__':\n",
    "    \n",
    "    f = Foo(1, 2)\n",
    "    print(f.a)\n",
    "    print(f.b)\n",
    "    print(f.c)\n",
    "    print(Foo.c)\n",
    "    print(f.calc())\n",
    "\n",
    "    print('=' * 40)\n",
    "\n",
    "    f.c = 5  # add an instance variable c to f,\n",
    "             # which shadows the class variable Foo.c\n",
    "    print(f.c)\n",
    "    print(Foo.c)\n",
    "    print(f.calc()) # calc still uses Foo.c, not f.c\n",
    "                    # def calc(self):\n",
    "                    # return self.a + self.b + Foo.c  # explicitly uses class variable\n",
    "                    # still refers to Foo.c, not self.c, so the result is still 13\n",
    "    # “Use the variable c defined in the class Foo — not on the instance self.”\n",
    "    # f.c = 5  # Creates instance variable\n",
    "    # It doesn't affect the value used in calc(), because calc() hardcodes access to Foo.c, the class variable."
   ]
  },
  {
   "cell_type": "code",
   "execution_count": 10,
   "id": "9ed18ccd-957b-47f2-9fdc-86f2e9c3d2e4",
   "metadata": {},
   "outputs": [
    {
     "name": "stdout",
     "output_type": "stream",
     "text": [
      "Class Variables : expanding the previous code\n"
     ]
    }
   ],
   "source": [
    "print(\"Class Variables : expanding the previous code\")"
   ]
  },
  {
   "cell_type": "code",
   "execution_count": 11,
   "id": "1fc06790-ee6a-4ad7-8e0f-f57ce7ebf5fd",
   "metadata": {},
   "outputs": [],
   "source": [
    "# ✅ What is a static method?\n",
    "\n",
    "# A static method is a method that:\n",
    "# Belongs to the class, not to any specific object.\n",
    "# Does not take self or cls as the first argument.\n",
    "# Is called on the class itself, not on an instance.\n",
    "# Cannot access instance variables (self.something) directly.\n",
    "# Often used to update or operate on class-level data."
   ]
  },
  {
   "cell_type": "code",
   "execution_count": 12,
   "id": "f31bbff6-587c-4f61-ae97-87ee89e9e90e",
   "metadata": {},
   "outputs": [
    {
     "name": "stdout",
     "output_type": "stream",
     "text": [
      "1: $50\n",
      "2: $50\n",
      "3: $30\n",
      "4: $40\n",
      "5: $15 (Student ID required)\n",
      "6: $20 (Student ID required)\n",
      "7: $30\n"
     ]
    }
   ],
   "source": [
    "from abc import ABC, abstractmethod\n",
    "import random\n",
    "\n",
    "class Ticket(ABC):\n",
    "    next_ticket_number = 1   # This is a class variable shared across all tickets — it allows ticket numbers to be assigned sequentially.\n",
    "\n",
    "    def __init__(self):      # Constructor\n",
    "        # To make the ticket number to be generated in a sequential order\n",
    "        self.number = Ticket.next_ticket_number\n",
    "        Ticket.next_ticket_number += 1  # instead of self.next_ticket_number += 1, because \n",
    "                                        # because: next_ticket_number is a class variable, not an instance variable\n",
    "                                        # so you should access and modify it via the class: Ticket.next_ticket_number\n",
    "    @abstractmethod\n",
    "    def get_price(self):\n",
    "        return NotImplemented\n",
    "\n",
    "    def __str__(self):\n",
    "        # dynamic binding\n",
    "        return '{}: ${}'.format(self.number, self.get_price())\n",
    "\n",
    "\n",
    "class ShowTicket(Ticket):\n",
    "    def get_price(self):\n",
    "        return 50\n",
    "\n",
    "# If a movie ticket is purchased 10 days or more before the movie date\n",
    "# the ticket price is $30. Otherwise, the ticket price is $40.\n",
    "\n",
    "class MovieTicket(Ticket):\n",
    "    minimum_day_in_advance = 10       # Class Constants / class variables\n",
    "    EARLY_BIRD_PRICE = 30             # Class Constants / class variables\n",
    "    FULL_PRICE = 40                   # Class Constants / class variables\n",
    "\n",
    "    def __init__(self, days):\n",
    "        super().__init__()\n",
    "        self.days_in_advance = days\n",
    "\n",
    "    def get_price(self):\n",
    "        return MovieTicket.EARLY_BIRD_PRICE \\\n",
    "            if self.days_in_advance >= MovieTicket.minimum_day_in_advance \\\n",
    "            else MovieTicket.FULL_PRICE\n",
    "\n",
    "    @staticmethod\n",
    "    def update_policy(new_days):\n",
    "        MovieTicket.minimum_day_in_advance = new_days # This method updates the class variable minimum_day_in_advance.\n",
    "                                                      # It changes the value of the class variable:\n",
    "                                                      # MovieTicket.minimum_day_in_advance = 5\n",
    "                                                      # Often used to update or operate on class-level data.\n",
    "# student's movie ticket is always half-price of the movie ticket.\n",
    "# The string representation of the student's movie ticket\n",
    "# should include (Student ID required) at the end\n",
    "\n",
    "class StudentMovieTicket(MovieTicket):\n",
    "    def get_price(self):\n",
    "        return super().get_price() // 2\n",
    "\n",
    "    def __str__(self):\n",
    "        return '{} (Student ID required)'.format(super().__str__())\n",
    "\n",
    "\n",
    "if __name__ == '__main__':\n",
    "    \n",
    "    t = ShowTicket()\n",
    "    print(t)\n",
    "    t2 = ShowTicket()\n",
    "    print(t2)\n",
    "\n",
    "    mt = MovieTicket(12)\n",
    "    print(mt) # 1234: $30\n",
    "    mt2 = MovieTicket(3)\n",
    "    print(mt2)  # 1235: $40\n",
    "\n",
    "    st = StudentMovieTicket(15)\n",
    "    print(st)  # 2222: $15 (Student ID required)\n",
    "    st2 = StudentMovieTicket(1)\n",
    "    print(st2)  # 3333: $20 (Student ID required)\n",
    "\n",
    "    MovieTicket.update_policy(5)\n",
    "    mt3 = MovieTicket(8)\n",
    "    print(mt3)"
   ]
  },
  {
   "cell_type": "code",
   "execution_count": null,
   "id": "a8696e19-ed1d-4683-887b-1895e2232b0e",
   "metadata": {},
   "outputs": [],
   "source": []
  },
  {
   "cell_type": "code",
   "execution_count": 13,
   "id": "8389c9da-d5f0-4048-870f-45701c847fd3",
   "metadata": {},
   "outputs": [
    {
     "name": "stdout",
     "output_type": "stream",
     "text": [
      "Class Variables : private, public, protected\n"
     ]
    }
   ],
   "source": [
    "print(\"Class Variables : private, public, protected\")"
   ]
  },
  {
   "cell_type": "code",
   "execution_count": 14,
   "id": "1c8261fb-783d-4521-845a-53caf70786b0",
   "metadata": {},
   "outputs": [
    {
     "name": "stdout",
     "output_type": "stream",
     "text": [
      "john\n",
      "secret\n",
      "4\n"
     ]
    }
   ],
   "source": [
    "\n",
    "class LoginRecord:\n",
    "    def __init__(self, username, password, expiry_days):\n",
    "        self.username = username            # public\n",
    "        self.__password = password          # private (by convention + name mangling) (can be accessed via name mangling)\n",
    "        self._expiry_days = expiry_days     # protected (by convention) : “intended for internal use.”\n",
    "\n",
    "if __name__ == '__main__':\n",
    "    john_login = LoginRecord('john', 'secret', 4)\n",
    "\n",
    "    print(john_login.username)\n",
    "    print(john_login._LoginRecord__password) # _ClassName__varname → _LoginRecord__password (name mangling)\n",
    "    print(john_login._expiry_days)"
   ]
  },
  {
   "cell_type": "code",
   "execution_count": 15,
   "id": "b33b1cec-1ad6-4bcb-a6e2-a8b8fe11ee25",
   "metadata": {},
   "outputs": [
    {
     "name": "stdout",
     "output_type": "stream",
     "text": [
      "Username: admin\n",
      "Expiry days: 30\n",
      "Masked password: **********\n",
      "Level: superuser\n"
     ]
    }
   ],
   "source": [
    "class LoginRecord:\n",
    "    def __init__(self, username, password, expiry_days):\n",
    "        self.username = username            # public\n",
    "        self.__password = password          # private\n",
    "        self._expiry_days = expiry_days     # protected (convention)\n",
    "\n",
    "    def get_masked_password(self):\n",
    "        return '*' * len(self.__password)\n",
    "\n",
    "\n",
    "class AdminLoginRecord(LoginRecord):\n",
    "    def __init__(self, username, password, expiry_days, level):\n",
    "        super().__init__(username, password, expiry_days)\n",
    "        self.level = level\n",
    "\n",
    "    def show_info(self):\n",
    "        print(f\"Username: {self.username}\")         # ✅ public → accessible\n",
    "        print(f\"Expiry days: {self._expiry_days}\")  # ⚠️ protected → accessible but discouraged\n",
    "        # print(f\"Password: {self.__password}\")     # ❌ ERROR: private → not accessible directly\n",
    "        print(f\"Masked password: {self.get_masked_password()}\")\n",
    "        print(f\"Level: {self.level}\")\n",
    "\n",
    "if __name__ == '__main__':\n",
    "    admin = AdminLoginRecord(\"admin\", \"secretpass\", 30, \"superuser\")\n",
    "    admin.show_info()\n"
   ]
  },
  {
   "cell_type": "code",
   "execution_count": 16,
   "id": "586fe82a-b6cd-4f79-a313-f8b094add71b",
   "metadata": {},
   "outputs": [
    {
     "name": "stdout",
     "output_type": "stream",
     "text": [
      "Class Variables : Getters and Setters\n"
     ]
    }
   ],
   "source": [
    "print(\"Class Variables : Getters and Setters\")"
   ]
  },
  {
   "cell_type": "code",
   "execution_count": 17,
   "id": "4f0a8cac-a63e-4622-8afe-023efa465c40",
   "metadata": {},
   "outputs": [
    {
     "name": "stdout",
     "output_type": "stream",
     "text": [
      "John\n",
      "18\n",
      "20\n",
      "20\n",
      "***-**-6789\n",
      "ssn will be deleted\n",
      "(no SSN on file)\n",
      "\n",
      "Getters and Setters:\n",
      "Name: John\n",
      "Age: 20\n",
      "Updated Age: 25\n"
     ]
    }
   ],
   "source": [
    "class Person:\n",
    "\n",
    "    def __init__(self, name, age, ssn):\n",
    "        self._name = name\n",
    "        self._age = age\n",
    "        self.__ssn = ssn\n",
    "\n",
    "    def _get_name(self):\n",
    "        return self._name\n",
    "\n",
    "    def _get_age(self):\n",
    "        return self._age\n",
    "\n",
    "    def _set_age(self, age):\n",
    "        if age > 0 and age > self._age:\n",
    "            self._age = age\n",
    "\n",
    "    def __get_ssn(self):\n",
    "        if hasattr(self, '_Person__ssn'):\n",
    "            return '***-**-{}'.format(self.__ssn[-4:])\n",
    "        else:\n",
    "            return '(no SSN on file)'\n",
    "\n",
    "    def __del_ssn(self):\n",
    "        if hasattr(self, '_Person__ssn'):\n",
    "            print('ssn will be deleted')\n",
    "            del self.__ssn\n",
    "        else:\n",
    "            print('ssn already deleted')\n",
    "\n",
    "    name = property(fget=_get_name)\n",
    "    age = property(fget=_get_age, fset=_set_age)\n",
    "    ssn = property(fget=__get_ssn, fdel=__del_ssn)\n",
    "\n",
    "\n",
    "if __name__ == '__main__':\n",
    "    john = Person('John', 18, '123-45-6789')\n",
    "    print(john.name)        # John\n",
    "    print(john.age)         # 18\n",
    "\n",
    "    john.age = 20\n",
    "    print(john.age)         # 20\n",
    "\n",
    "    john.age = -5           # invalid\n",
    "    print(john.age)         # still 20\n",
    "\n",
    "    print(john.ssn)         # ***-**-6789\n",
    "\n",
    "    del john.ssn\n",
    "    print(john.ssn)         # (no SSN on file)\n",
    "\n",
    "    print(\"\\nGetters and Setters:\")\n",
    "    print(f\"Name: {john.name}\")\n",
    "    print(f\"Age: {john.age}\")\n",
    "    john.age = 25\n",
    "    print(f\"Updated Age: {john.age}\")\n",
    "\n",
    "\n",
    "# why we not use name mangling __Person__ssn, when doing : print(john.ssn) ?\n",
    "# When you write: print(john.ssn), Python Python for a property named ssn in the class. You defined:\n",
    "# ssn = property(fget=_get_ssn, fdel=_del_ssn)\n",
    "\n",
    "# This means that:\n",
    "# john.ssn calls the method john._get_ssn() under the hood\n",
    "# john.ssn is now a property interface, not direct variable access\n",
    "# This is how you enforce encapsulation while hiding the actual implementation (i.e., __ssn)"
   ]
  },
  {
   "cell_type": "code",
   "execution_count": 18,
   "id": "51ac0aaa-e34e-4f17-9d3e-48278d848f5b",
   "metadata": {},
   "outputs": [
    {
     "name": "stdout",
     "output_type": "stream",
     "text": [
      "Public property access:\n",
      "John\n",
      "18\n",
      "***-**-6789\n",
      "\n",
      "Direct access via name mangling:\n",
      "123-45-6789\n",
      "123-45-6789\n"
     ]
    }
   ],
   "source": [
    "# Using name mangling : john._Person__ssn\n",
    "\n",
    "class Person:\n",
    "\n",
    "    def __init__(self, name, age, ssn):\n",
    "        self._name = name\n",
    "        self._age = age\n",
    "        self.__ssn = ssn\n",
    "\n",
    "    def _get_name(self):\n",
    "        return self._name\n",
    "\n",
    "    def _get_age(self):\n",
    "        return self._age\n",
    "\n",
    "    def _set_age(self, age):\n",
    "        if age > 0 and age > self._age:\n",
    "            self._age = age\n",
    "\n",
    "    def _get_ssn(self):\n",
    "        return '***-**-{}'.format(self.__ssn[-4:])\n",
    "\n",
    "    # def _del_ssn(self):\n",
    "    #    print('ssn will be deleted')\n",
    "    #    del self.__ssn\n",
    "\n",
    "    name = property(fget =_get_name)\n",
    "    age = property(fget =_get_age, fset =_set_age)\n",
    "    # ssn = property(fget =_get_ssn, fdel =_del_ssn)\n",
    "    ssn = property(fget =_get_ssn)\n",
    "\n",
    "if __name__ == '__main__':\n",
    "    john = Person('John', 18, '123-45-6789')\n",
    "\n",
    "    # Using public API\n",
    "    print(\"Public property access:\")\n",
    "    print(john.name)        # John\n",
    "    print(john.age)         # 18\n",
    "    print(john.ssn)         # ***-**-6789\n",
    "\n",
    "    # Using direct name-mangled access (discouraged)\n",
    "    print(\"\\nDirect access via name mangling:\")\n",
    "    print(john._Person__ssn)  # 123-45-6789\n",
    "\n",
    "    # Deleting ssn using property\n",
    "    # del john.ssn\n",
    "    # print(\"\\nAfter deleting ssn:\")\n",
    "\n",
    "    # This will now fail because __ssn is deleted\n",
    "    try:\n",
    "        print(john._Person__ssn)  # Will raise AttributeError\n",
    "    except AttributeError:\n",
    "        print(\"❌ __ssn no longer exists (AttributeError)\")\n"
   ]
  },
  {
   "cell_type": "code",
   "execution_count": null,
   "id": "98e944f4-b0b0-4bba-81a7-e9254f784b26",
   "metadata": {},
   "outputs": [],
   "source": []
  },
  {
   "cell_type": "code",
   "execution_count": 19,
   "id": "d773ca08-6482-49bf-a20e-4ba3ba899c20",
   "metadata": {},
   "outputs": [
    {
     "name": "stdout",
     "output_type": "stream",
     "text": [
      "Code that attempts to implement Multiple Inheritance\n"
     ]
    }
   ],
   "source": [
    "print(\"Code that attempts to implement Multiple Inheritance\")"
   ]
  },
  {
   "cell_type": "code",
   "execution_count": 20,
   "id": "15203dfc-9e61-439f-a60b-6510e306ef21",
   "metadata": {},
   "outputs": [
    {
     "name": "stdout",
     "output_type": "stream",
     "text": [
      "brown\n",
      "San Jose\n",
      "2\n",
      "(<class '__main__.HomePuppy'>, <class '__main__.Dog'>, <class '__main__.Domestic'>, <class '__main__.Animal'>, <class 'object'>)\n"
     ]
    }
   ],
   "source": [
    "class Animal:\n",
    "    number_of_animals = 0\n",
    "\n",
    "    def __init__(self, name):\n",
    "        self._name = name\n",
    "        Animal.number_of_animals += 1\n",
    "\n",
    "\n",
    "class Dog(Animal):\n",
    "    def __init__(self, name, breed, color):\n",
    "        Animal.__init__(self, name)\n",
    "        self._breed = breed\n",
    "        self._color = color\n",
    "\n",
    "    def _get_color(self):\n",
    "        return self._color\n",
    "\n",
    "    color = property(fget = _get_color)\n",
    "\n",
    "\n",
    "class Domestic(Animal):\n",
    "    def __init__(self, name, address):\n",
    "        Animal.__init__(self, name)\n",
    "        self._address = address\n",
    "\n",
    "    def _get_address(self):\n",
    "        return self._address\n",
    "\n",
    "    address = property(fget = _get_address)\n",
    "\n",
    "\n",
    "class HomePuppy(Dog, Domestic):\n",
    "    def __init__(self, name, breed, color, address):\n",
    "        # super().__init__(name, breed, color, address)\n",
    "        Dog.__init__(self, name, breed, color)\n",
    "        Domestic.__init__(self, name, address)\n",
    "\n",
    "# The order of arguments is determined entirely by your __init__() definition in HomePuppy\n",
    "# Python will expect the arguments in the same order as they're listed in the method signature.\n",
    "# You (as the programmer) specified the order: first name, then breed, then color, then address.\n",
    "\n",
    "if __name__ == '__main__':\n",
    "    \n",
    "    p = HomePuppy('John', 'Chihuahua', 'brown', 'San Jose') \n",
    "    # The expected order is : name → breed → color → address\n",
    "    # p = HomePuppy(name='John', breed='Chihuahua', color='brown', address='San Jose')\n",
    "   \n",
    "    print(p.color)\n",
    "    print(p.address)\n",
    "    print(Animal.number_of_animals)\n",
    "    print(HomePuppy.__mro__)  # shows method resolution order (MRO)\n",
    "\n",
    "# !!!  \n",
    "# !!!  Why does Animal.number_of_animals equal 2, not 1 or 3 ???\n",
    "# !!!  \n",
    "\n",
    "# ⚠️ Problem: Double counting\n",
    "# The key: Animal.__init__() is called twice\n",
    "# You're using multiple inheritance, and explicitly calling both base initializers:\n",
    "# Dog.__init__(self, name, breed, color)\n",
    "# Domestic.__init__(self, name, address)\n",
    "# Both Dog and Domestic independently call:\n",
    "# Animal.__init__(self, name)\n",
    "# So in total:\n",
    "# Dog.__init__() → calls Animal.__init__() → 🐾 +1\n",
    "# Domestic.__init__() → also calls Animal.__init__() → 🐾 +1\n",
    "# ✅ Total = 2 animals created, according to Animal.number_of_animals"
   ]
  },
  {
   "cell_type": "code",
   "execution_count": null,
   "id": "08348905-f5eb-4bdc-ad9b-8dd520c4733d",
   "metadata": {},
   "outputs": [],
   "source": []
  },
  {
   "cell_type": "code",
   "execution_count": 21,
   "id": "6817c84d-80e2-4bbb-90c5-1a2574b71dfb",
   "metadata": {},
   "outputs": [
    {
     "name": "stdout",
     "output_type": "stream",
     "text": [
      "Code that implements Multiple Inheritance in a proper way\n",
      "\n",
      "      \n",
      "It uses cooperative multiple inheritance via super() : super().__init__(**info)\n",
      "\n",
      "You're absolutely right to notice that Animal is a superclass, so it might seem odd at first to see: super().__init__(**info)\n",
      "\n",
      "✅ Why we use super().__init__(...) even in a superclass ???\n",
      "\n",
      "🔑 The short answer:\n",
      "\n",
      "In Python multiple inheritance, every class in the hierarchy — including the top one — should call super().__init__() to enable cooperative inheritance.\n",
      "\n",
      "What if you skip it?\tYou break the constructor chain — some classes won’t be initialized !\n",
      "\n",
      "Excellent — you're now working with a fully cooperative multiple inheritance design using super() and **info to propagate arguments through \n",
      "the method resolution order (MRO). This is exactly how multiple inheritance should be structured in Python.\n",
      "\n",
      "\n",
      "\n",
      "\n",
      "MRO-Friendly __init__ Structure\n",
      "\n",
      "All __init__() methods use:\n",
      "\n",
      "def __init__(..., **info):\n",
      "    super().__init__(**info)\n",
      "\n",
      "This:\n",
      "\n",
      "Enables the MRO to work cleanly\n",
      "\n",
      "Ensures each class is initialized once\n",
      "\n",
      "Avoids duplicate Animal.number_of_animals += 1 calls\n",
      "\n",
      "Allows flexible argument passing\n",
      "\n",
      "\n"
     ]
    }
   ],
   "source": [
    "print(\"Code that implements Multiple Inheritance in a proper way\")\n",
    "\n",
    "print('''\n",
    "      \n",
    "It uses cooperative multiple inheritance via super() : super().__init__(**info)\n",
    "\n",
    "You're absolutely right to notice that Animal is a superclass, so it might seem odd at first to see: super().__init__(**info)\n",
    "\n",
    "✅ Why we use super().__init__(...) even in a superclass ???\n",
    "\n",
    "🔑 The short answer:\n",
    "\n",
    "In Python multiple inheritance, every class in the hierarchy — including the top one — should call super().__init__() to enable cooperative inheritance.\n",
    "\n",
    "What if you skip it?\tYou break the constructor chain — some classes won’t be initialized !\n",
    "\n",
    "Excellent — you're now working with a fully cooperative multiple inheritance design using super() and **info to propagate arguments through \n",
    "the method resolution order (MRO). This is exactly how multiple inheritance should be structured in Python.\n",
    "\n",
    "''')\n",
    "\n",
    "print('''\n",
    "\n",
    "MRO-Friendly __init__ Structure\n",
    "\n",
    "All __init__() methods use:\n",
    "\n",
    "def __init__(..., **info):\n",
    "    super().__init__(**info)\n",
    "\n",
    "This:\n",
    "\n",
    "Enables the MRO to work cleanly\n",
    "\n",
    "Ensures each class is initialized once\n",
    "\n",
    "Avoids duplicate Animal.number_of_animals += 1 calls\n",
    "\n",
    "Allows flexible argument passing\n",
    "\n",
    "''')"
   ]
  },
  {
   "cell_type": "code",
   "execution_count": 22,
   "id": "8b1d8a95-c641-4f8f-a3ce-ffeecb46c622",
   "metadata": {},
   "outputs": [
    {
     "name": "stdout",
     "output_type": "stream",
     "text": [
      "brown\n",
      "San Jose\n",
      "1\n",
      "(<class '__main__.HomePuppy'>, <class '__main__.Dog'>, <class '__main__.Domestic'>, <class '__main__.Animal'>, <class 'object'>)\n"
     ]
    }
   ],
   "source": [
    "class Animal:\n",
    "    number_of_animals = 0\n",
    "\n",
    "    def __init__(self, name, **info):\n",
    "        super().__init__(**info)\n",
    "        self.name = name\n",
    "        Animal.number_of_animals += 1\n",
    "\n",
    "\n",
    "class Dog(Animal):\n",
    "    def __init__(self, breed, color, **info):\n",
    "        super().__init__(**info)\n",
    "        self._breed = breed\n",
    "        self._color = color\n",
    "\n",
    "    def _get_color(self):\n",
    "        return self._color\n",
    "\n",
    "    color = property(fget=_get_color)\n",
    "\n",
    "\n",
    "class Domestic(Animal):\n",
    "    def __init__(self, address, **info):\n",
    "        super().__init__(**info)\n",
    "        self._address = address\n",
    "\n",
    "    def _get_address(self):\n",
    "        return self._address\n",
    "\n",
    "    address = property(fget=_get_address)\n",
    "\n",
    "\n",
    "class HomePuppy(Dog, Domestic):\n",
    "    def __init__(self, **info):\n",
    "        super().__init__(**info)\n",
    "\n",
    "\n",
    "if __name__ == '__main__':\n",
    "    \n",
    "    p = HomePuppy(name='John', breed='Chihuahua', color='brown', address='San Jose')\n",
    "    print(p.color)\n",
    "    print(p.address)\n",
    "    print(Animal.number_of_animals)\n",
    "    print(HomePuppy.__mro__)"
   ]
  },
  {
   "cell_type": "code",
   "execution_count": 23,
   "id": "9e49d329-4690-45df-8a56-34fbe626dc27",
   "metadata": {},
   "outputs": [],
   "source": [
    "# HomePuppy.__init__ receives all the keyword arguments\n",
    "# super() sends them up the MRO\n",
    "# Each class extracts the keyword arguments it needs, e.g.:\n",
    "# Dog takes breed and color\n",
    "# Domestic takes address\n",
    "# Animal takes name\n",
    "# So when super() is used in HomePuppy, the constructor chain follows that order and each __init__() gets called exactly once — \n",
    "# thanks to the cooperative use of super()"
   ]
  },
  {
   "cell_type": "code",
   "execution_count": 24,
   "id": "3517d72d-2bee-49c9-a0b2-527da2971025",
   "metadata": {},
   "outputs": [
    {
     "name": "stdout",
     "output_type": "stream",
     "text": [
      "Code that implements Multiple Inheritance in a proper way. It is fully rewritten following the pattern :\n",
      "\n",
      "\n",
      "def __init__(self, **info):\n",
      "    self._something = info.pop(\"something\")\n",
      "    ...\n",
      "    super().__init__(**info)\n",
      "\n",
      "\n",
      "This approach:\n",
      "\n",
      "Extracts only the arguments each class needs\n",
      "\n",
      "Raises KeyError if required arguments are missing (which is good for validation)\n",
      "\n",
      "Ensures super().__init__() only receives what's needed further up the MRO\n",
      "\n",
      "\n"
     ]
    }
   ],
   "source": [
    "print(\"Code that implements Multiple Inheritance in a proper way. It is fully rewritten following the pattern :\")\n",
    "\n",
    "print('''\n",
    "\n",
    "def __init__(self, **info):\n",
    "    self._something = info.pop(\"something\")\n",
    "    ...\n",
    "    super().__init__(**info)\n",
    "\n",
    "\n",
    "This approach:\n",
    "\n",
    "Extracts only the arguments each class needs\n",
    "\n",
    "Raises KeyError if required arguments are missing (which is good for validation)\n",
    "\n",
    "Ensures super().__init__() only receives what's needed further up the MRO\n",
    "\n",
    "''')"
   ]
  },
  {
   "cell_type": "code",
   "execution_count": 25,
   "id": "dbc08ff6-3f36-4403-b277-58cf1da90b47",
   "metadata": {},
   "outputs": [
    {
     "name": "stdout",
     "output_type": "stream",
     "text": [
      "brown\n",
      "San Jose\n",
      "1\n",
      "(<class '__main__.HomePuppy'>, <class '__main__.Dog'>, <class '__main__.Domestic'>, <class '__main__.Animal'>, <class 'object'>)\n"
     ]
    }
   ],
   "source": [
    "# Final re-written code :\n",
    "\n",
    "class Animal:\n",
    "    number_of_animals = 0\n",
    "\n",
    "    def __init__(self, **info):\n",
    "        self.name = info.pop(\"name\")\n",
    "        Animal.number_of_animals += 1\n",
    "        super().__init__(**info)\n",
    "\n",
    "\n",
    "class Dog(Animal):\n",
    "    def __init__(self, **info):\n",
    "        self._breed = info.pop(\"breed\")\n",
    "        self._color = info.pop(\"color\")\n",
    "        super().__init__(**info)\n",
    "\n",
    "    def _get_color(self):\n",
    "        return self._color\n",
    "    \n",
    "    def _get_breed(self):\n",
    "        return self._breed\n",
    "\n",
    "    color = property(fget=_get_color)\n",
    "\n",
    "\n",
    "class Domestic(Animal):\n",
    "    def __init__(self, **info):\n",
    "        self._address = info.pop(\"address\")\n",
    "        super().__init__(**info)\n",
    "\n",
    "    def _get_address(self):\n",
    "        return self._address\n",
    "\n",
    "    address = property(fget=_get_address)\n",
    "\n",
    "\n",
    "class HomePuppy(Dog, Domestic):\n",
    "    def __init__(self, **info):\n",
    "        super().__init__(**info)\n",
    "\n",
    "\n",
    "if __name__ == '__main__':\n",
    "    \n",
    "    p = HomePuppy(name='John', breed='Chihuahua', color='brown', address='San Jose')\n",
    "    print(p.color)                       # brown\n",
    "    print(p.address)                     # San Jose\n",
    "    print(Animal.number_of_animals)      # 1\n",
    "    print(HomePuppy.__mro__)             # MRO tuple\n"
   ]
  },
  {
   "cell_type": "code",
   "execution_count": null,
   "id": "dda9cd42-02ab-4be8-95d8-f62483571d0a",
   "metadata": {},
   "outputs": [],
   "source": []
  },
  {
   "cell_type": "code",
   "execution_count": null,
   "id": "ba88826d-da26-4861-bc4d-c36013eed97e",
   "metadata": {},
   "outputs": [],
   "source": []
  },
  {
   "cell_type": "code",
   "execution_count": 26,
   "id": "6fd43247-0370-489a-b0e0-ff7addf5ac98",
   "metadata": {},
   "outputs": [
    {
     "name": "stdout",
     "output_type": "stream",
     "text": [
      "Random Art using mainloop()\n"
     ]
    }
   ],
   "source": [
    "print(\"Random Art using mainloop()\")"
   ]
  },
  {
   "cell_type": "code",
   "execution_count": 27,
   "id": "f48342ad-24df-4155-8830-61f04f5faf42",
   "metadata": {},
   "outputs": [],
   "source": [
    "import tkinter\n",
    "import random\n",
    "\n",
    "width = 500\n",
    "height = 500\n",
    "window = tkinter.Tk()\n",
    "window.title('Random Art')\n",
    "canvas = tkinter.Canvas(window, width=width, height=height)\n",
    "canvas.pack()\n",
    "\n",
    "def draw_rectangle(canvas):\n",
    "    top = random.randint(10, height - 50)\n",
    "    left = random.randint(10, width - 50)\n",
    "    bottom = random.randint(top + 30, height - 10)\n",
    "    right = random.randint(left + 30, width - 10)\n",
    "    colors = ['red', 'yellow', 'green', 'pink', 'purple', 'blue']\n",
    "    color = random.choice(colors)\n",
    "    canvas.create_rectangle(left, top, right, bottom, outline=color)\n",
    "\n",
    "for _ in range(1000):\n",
    "    draw_rectangle(canvas)\n",
    "\n",
    "window.mainloop()"
   ]
  },
  {
   "cell_type": "code",
   "execution_count": null,
   "id": "686cd369-8709-40b7-8304-b439d7470100",
   "metadata": {},
   "outputs": [],
   "source": []
  }
 ],
 "metadata": {
  "kernelspec": {
   "display_name": "Python 3 (ipykernel)",
   "language": "python",
   "name": "python3"
  },
  "language_info": {
   "codemirror_mode": {
    "name": "ipython",
    "version": 3
   },
   "file_extension": ".py",
   "mimetype": "text/x-python",
   "name": "python",
   "nbconvert_exporter": "python",
   "pygments_lexer": "ipython3",
   "version": "3.12.2"
  }
 },
 "nbformat": 4,
 "nbformat_minor": 5
}
