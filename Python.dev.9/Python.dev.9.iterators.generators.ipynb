{
 "cells": [
  {
   "cell_type": "code",
   "execution_count": 1,
   "id": "f92ba961-9c6a-4416-8167-87c1e6c53b42",
   "metadata": {},
   "outputs": [
    {
     "name": "stdout",
     "output_type": "stream",
     "text": [
      "Iterators :\n",
      "\n",
      "\n",
      "Concept\tExplanation\n",
      "\n",
      "Iterable\tAn object you can pass to iter(). Has __iter__(). (e.g., lists, strings)\n",
      "Iterator\tAn object returned by iter(). Has __next__() and __iter__()\n",
      "\n",
      "\n"
     ]
    }
   ],
   "source": [
    "print(\"Iterators :\")\n",
    "\n",
    "print('''\n",
    "\n",
    "Concept\tExplanation\n",
    "\n",
    "Iterable\tAn object you can pass to iter(). Has __iter__(). (e.g., lists, strings)\n",
    "Iterator\tAn object returned by iter(). Has __next__() and __iter__()\n",
    "\n",
    "''')"
   ]
  },
  {
   "cell_type": "code",
   "execution_count": 2,
   "id": "f93d5ec6-f7cd-46cf-a8c5-e7acdd6f0853",
   "metadata": {},
   "outputs": [
    {
     "name": "stdout",
     "output_type": "stream",
     "text": [
      "================================================================================\n",
      "True\n",
      "True\n",
      "red\n",
      "yellow\n",
      "green\n",
      "blue\n",
      "black\n"
     ]
    }
   ],
   "source": [
    "from collections.abc import Iterable, Iterator\n",
    "\n",
    "colors = ['red', 'yellow', 'green', 'blue', 'black']\n",
    "\n",
    "# for color in colors:\n",
    "#    print(color)\n",
    "\n",
    "print('=' * 80)\n",
    "print(isinstance(colors, Iterable))   # Checks if colors (a list) is an Iterable → will print True.\n",
    "\n",
    "color_iter = iter(colors)\n",
    "print(isinstance(color_iter, Iterator)) # Converts the list to an iterator object.\n",
    "# This object remembers the current position while iterating.\n",
    "\n",
    "print(next(color_iter))\n",
    "print(next(color_iter))\n",
    "print(next(color_iter))\n",
    "print(next(color_iter))\n",
    "print(next(color_iter))\n",
    "\n",
    "# print(next(color_iter))\n",
    "# color_iter = iter(colors)\n",
    "# ✅ Resetting the iterator — you must do this if the previous iterator has been consumed.\n",
    "\n",
    "# for color in colors:\n",
    "#    print(color)\n",
    "\n",
    "while True:\n",
    "    try:\n",
    "        print(next(color_iter))\n",
    "    except StopIteration:\n",
    "        break\n",
    "# ✅ This is manual iteration, equivalent to a for loop:\n",
    "\n",
    "# Calls next() on the iterator repeatedly.\n",
    "# When the iterator is exhausted, it raises StopIteration.\n",
    "# The loop catches the exception and breaks out.\n",
    "# This is exactly what Python’s for loop does behind the scenes!"
   ]
  },
  {
   "cell_type": "code",
   "execution_count": 3,
   "id": "2c2c3489-4d75-49ae-8111-8a8953952135",
   "metadata": {},
   "outputs": [
    {
     "name": "stdout",
     "output_type": "stream",
     "text": [
      "red\n",
      "yellow\n",
      "green\n",
      "blue\n",
      "black\n",
      "I am done\n"
     ]
    }
   ],
   "source": [
    "color_iter = iter(colors)\n",
    "while True:\n",
    "    try:\n",
    "        print(next(color_iter))\n",
    "    except StopIteration:\n",
    "        break\n",
    "\n",
    "print('I am done')"
   ]
  },
  {
   "cell_type": "code",
   "execution_count": 4,
   "id": "26162095-8b18-485c-9b57-df47eb836dad",
   "metadata": {},
   "outputs": [
    {
     "name": "stdout",
     "output_type": "stream",
     "text": [
      "Iterators : range() provides another example\n",
      "3\n",
      "8\n",
      "13\n",
      "True\n"
     ]
    }
   ],
   "source": [
    "print(\"Iterators : range() provides another example\")\n",
    "\n",
    "for i in range(3, 18, 5):\n",
    "     print(i)\n",
    "\n",
    "print(isinstance(range(3, 18, 5), Iterable))"
   ]
  },
  {
   "cell_type": "code",
   "execution_count": 1,
   "id": "67dd6bb6-73fe-465d-98a2-39b928b160b8",
   "metadata": {},
   "outputs": [
    {
     "name": "stdout",
     "output_type": "stream",
     "text": [
      "Simulation : version 1\n"
     ]
    }
   ],
   "source": [
    "print(\"Simulation : version 1\")"
   ]
  },
  {
   "cell_type": "code",
   "execution_count": 5,
   "id": "b7d43137-8135-4205-baf7-c8929c29988f",
   "metadata": {},
   "outputs": [
    {
     "name": "stdout",
     "output_type": "stream",
     "text": [
      "1\n",
      "2\n",
      "3\n",
      "Manual iteration with while True:\n",
      "1\n",
      "2\n",
      "3\n"
     ]
    }
   ],
   "source": [
    "from collections.abc import Iterable\n",
    "\n",
    "# dummy NumberStep\n",
    "\n",
    "class NumberStepIterator:\n",
    "    def __init__(self):\n",
    "        self._count = 0\n",
    "\n",
    "    def __next__(self):\n",
    "        self._count += 1     # Every time next() is called, it increments _count by 1.\n",
    "\n",
    "        if self._count > 3:  # Important: this version always stops after 3 steps, regardless of start, end, step\n",
    "            raise StopIteration\n",
    "\n",
    "        return self._count\n",
    "\n",
    "class NumberStep:\n",
    "    def __init__(self, start, end, step): #  Constructor: saves start, end, and step values, but they are not used yet (dummy version).\n",
    "        self._start = start\n",
    "        self._end = end\n",
    "        self._step = step\n",
    "\n",
    "    # to make NumberStep Iterable\n",
    "    def __iter__(self):\n",
    "        return NumberStepIterator()     # ✅ __iter__() returns a new iterator object: NumberStepIterator.\n",
    "                                        # ✅ This allows NumberStep to be iterable (i.e., usable inside for loops).\n",
    "\n",
    "for i in NumberStep(3, 18, 5):\n",
    "    print(i)\n",
    "\n",
    "print(\"Manual iteration with while True:\")\n",
    "\n",
    "step = NumberStep(3, 18, 5)\n",
    "number_iter = iter(step)\n",
    "\n",
    "while True:\n",
    "     try:\n",
    "         print(next(number_iter))\n",
    "     except StopIteration:\n",
    "         break\n",
    "\n",
    "# ✅ Same logic as the for loop — manual handling of the StopIteration exception.\n",
    "# ✅ Prints exactly the same result as before: 1, 2, 3.\n",
    "\n",
    "# ⚡ Very Important Observations:\n",
    "# NumberStepIterator does not use start, end, step yet.\n",
    "# (That's why it's called \"dummy\" in the comment.)\n",
    "# Real NumberStepIterator would start at 3, end at 18, step by 5 — but that's not implemented yet.\n",
    "# Right now, it just counts 1 → 2 → 3 → stop, no matter what the start/end/step are."
   ]
  },
  {
   "cell_type": "code",
   "execution_count": null,
   "id": "b2d49ad8-3231-49fe-8716-d72b59fb51e2",
   "metadata": {},
   "outputs": [],
   "source": [
    "print(\"Simulation : version 2\")"
   ]
  },
  {
   "cell_type": "code",
   "execution_count": 6,
   "id": "0b4e48fe-58a1-4d1c-bf92-896d6c099f67",
   "metadata": {},
   "outputs": [
    {
     "name": "stdout",
     "output_type": "stream",
     "text": [
      "3\n",
      "8\n",
      "13\n",
      "Manual Loop:\n",
      "----------\n",
      "3\n",
      "8\n",
      "13\n"
     ]
    }
   ],
   "source": [
    "# Working NumberStep\n",
    "\n",
    "class NumberStepIterator:\n",
    "    def __init__(self, start, end, step):\n",
    "\n",
    "        # Start slightly *behind* the real start (start - step)\n",
    "        # So that the first __next__() call brings us exactly to start\n",
    "\n",
    "        # When you create the iterator, you want the first __next__() call to land exactly on start.\n",
    "        # If you just stored start, then next() would advance it before yielding anything, and you'd get wrong first value.\n",
    "        # So starting at start - step fixes the first step.\n",
    "        # \"The first .next() will do +step, so we have to set current = start - step to start cleanly at start.\"\n",
    "        \n",
    "        self._current = start - step\n",
    "        self._end = end\n",
    "        self._step = step\n",
    "\n",
    "    def __next__(self):\n",
    "        self._current += self._step\n",
    "        \n",
    "        if self._current >= self._end:\n",
    "            raise StopIteration\n",
    "\n",
    "        return self._current\n",
    "\n",
    "class NumberStep:\n",
    "    def __init__(self, start, end, step):\n",
    "        self._start = start\n",
    "        self._end = end\n",
    "        self._step = step\n",
    "\n",
    "    def __iter__(self):  # Return a fresh iterator when iter() is called\n",
    "        return NumberStepIterator(\n",
    "            self._start,\n",
    "            self._end,\n",
    "            self._step\n",
    "        )\n",
    "\n",
    "\n",
    "for i in NumberStep(3, 18, 5):\n",
    "    print(i)\n",
    "\n",
    "print(\"Manual Loop:\")\n",
    "print(\"-\"*10)\n",
    "\n",
    "step = NumberStep(3, 18, 5)\n",
    "number_iter = iter(step)\n",
    "while True:\n",
    "     try:\n",
    "         print(next(number_iter))\n",
    "     except StopIteration:\n",
    "         break"
   ]
  },
  {
   "cell_type": "code",
   "execution_count": 7,
   "id": "faee6e5f-ccde-4558-a34e-59b7075735b6",
   "metadata": {},
   "outputs": [
    {
     "name": "stdout",
     "output_type": "stream",
     "text": [
      "# This class is both an iterable and an iterator at the same time!\n",
      "\n",
      "\n",
      "🧠 Visual Concept Map:\n",
      "\n",
      "NumberStep(start, end, step)\n",
      "↓\n",
      "__iter__() → returns self\n",
      "↓\n",
      "__next__() advances current\n",
      "↓\n",
      "If current >= end → StopIteration\n",
      "\n",
      "Else → return current\n",
      "\n"
     ]
    }
   ],
   "source": [
    "print(\"# This class is both an iterable and an iterator at the same time!\")\n",
    "\n",
    "print('''\n",
    "\n",
    "🧠 Visual Concept Map:\n",
    "\n",
    "NumberStep(start, end, step)\n",
    "↓\n",
    "__iter__() → returns self\n",
    "↓\n",
    "__next__() advances current\n",
    "↓\n",
    "If current >= end → StopIteration\n",
    "\n",
    "Else → return current\n",
    "''')"
   ]
  },
  {
   "cell_type": "code",
   "execution_count": null,
   "id": "33d9e6af-bf58-4775-b2d6-c3c69e8f4a5c",
   "metadata": {},
   "outputs": [],
   "source": [
    "print(\"Simulation : version 3\")"
   ]
  },
  {
   "cell_type": "code",
   "execution_count": 8,
   "id": "7a667df6-1aed-4887-9ca5-a9da87fee9b3",
   "metadata": {},
   "outputs": [
    {
     "name": "stdout",
     "output_type": "stream",
     "text": [
      "3\n",
      "8\n",
      "13\n"
     ]
    }
   ],
   "source": [
    "# Final version NumberStep\n",
    "# This class is both an iterable and an iterator at the same time!\n",
    "# In professional Python, it is very common to make small classes both iterable and iterator \n",
    "# (like your version), especially if the iterator is stateless or simple.\n",
    "\n",
    "class NumberStep:\n",
    "    def __init__(self, start, end, step):\n",
    "        self._current = start - step\n",
    "        self._end = end\n",
    "        self._step = step\n",
    "\n",
    "    def __next__(self):\n",
    "        self._current += self._step\n",
    "\n",
    "        if self._current >= self._end:\n",
    "            raise StopIteration\n",
    "\n",
    "        return self._current\n",
    "\n",
    "    def __iter__(self):  \n",
    "        return self\n",
    "\n",
    "\n",
    "for i in NumberStep(3, 18, 5):\n",
    "    print(i)\n"
   ]
  },
  {
   "cell_type": "code",
   "execution_count": null,
   "id": "f63dcc68-1900-4adf-975f-311e867ba0df",
   "metadata": {},
   "outputs": [],
   "source": []
  },
  {
   "cell_type": "code",
   "execution_count": 9,
   "id": "fd5ed7ec-c0e0-4ab2-b720-eb955d5d213a",
   "metadata": {},
   "outputs": [
    {
     "name": "stdout",
     "output_type": "stream",
     "text": [
      "Another Iterators: generate Pi\n",
      "\n",
      "\n",
      "A class to generate approximations of π using a well-known mathematical series called the Leibniz series:\n",
      "This formula slowly approximates π by adding and subtracting reciprocals of odd numbers.\n",
      "\n",
      "\n"
     ]
    }
   ],
   "source": [
    "print(\"Another Iterators: generate Pi\")\n",
    "\n",
    "print('''\n",
    "\n",
    "A class to generate approximations of π using a well-known mathematical series called the Leibniz series:\n",
    "This formula slowly approximates π by adding and subtracting reciprocals of odd numbers.\n",
    "\n",
    "''')"
   ]
  },
  {
   "cell_type": "code",
   "execution_count": 10,
   "id": "7d228522-cee0-46ff-b1a3-b89426f24752",
   "metadata": {},
   "outputs": [
    {
     "name": "stdout",
     "output_type": "stream",
     "text": [
      "\n",
      "_index → how many terms generated so far.\n",
      "\n",
      "_max_index → how many terms maximum to generate (after that, stop iteration).\n",
      "\n",
      "_denominator → starts at 1, then increases by 2 each time (1, 3, 5, 7, 9, ...).\n",
      "\n",
      "_sign → alternates between +1 and -1 (for adding and subtracting terms).\n",
      "\n",
      "_curr → accumulates the series sum.\n",
      "\n",
      "4.0\n",
      "2.666666666666667\n",
      "3.466666666666667\n",
      "2.8952380952380956\n",
      "3.3396825396825403\n",
      "2.9760461760461765\n",
      "3.2837384837384844\n",
      "3.017071817071818\n",
      "3.2523659347188767\n",
      "3.0418396189294032\n"
     ]
    }
   ],
   "source": [
    "print(\n",
    "'''\n",
    "_index → how many terms generated so far.\n",
    "\n",
    "_max_index → how many terms maximum to generate (after that, stop iteration).\n",
    "\n",
    "_denominator → starts at 1, then increases by 2 each time (1, 3, 5, 7, 9, ...).\n",
    "\n",
    "_sign → alternates between +1 and -1 (for adding and subtracting terms).\n",
    "\n",
    "_curr → accumulates the series sum.\n",
    "''')\n",
    "\n",
    "class PiSeq:\n",
    "    \n",
    "    def __init__(self, max_term):\n",
    "        self._index = 0\n",
    "        self._max_index = max_term\n",
    "        self._denominator = 1\n",
    "        self._sign = 1\n",
    "        self._curr = 0\n",
    "\n",
    "    def __iter__(self):\n",
    "        return self\n",
    "\n",
    "    def __next__(self):\n",
    "        self._index += 1\n",
    "\n",
    "        if self._index > self._max_index:\n",
    "            raise StopIteration\n",
    "\n",
    "        self._curr += self._sign / self._denominator\n",
    "        self._sign *= -1         # Flips the sign for the next term:\n",
    "        self._denominator += 2   # Increases the denominator to the next odd number:\n",
    "\n",
    "        return 4 * self._curr\n",
    "\n",
    "# It creates a PiSeq object with max_term=10.\n",
    "# For each term, it calculates a better and better approximation of π.\n",
    "# Prints the approximation at each step.\n",
    "\n",
    "for v in PiSeq(10):\n",
    "    print(v)"
   ]
  },
  {
   "cell_type": "code",
   "execution_count": null,
   "id": "a90e454c-2b44-4f12-94d7-262aaa33501f",
   "metadata": {},
   "outputs": [],
   "source": []
  },
  {
   "cell_type": "code",
   "execution_count": 11,
   "id": "14458fd2-e753-4161-bce2-0efa44ed5ac8",
   "metadata": {},
   "outputs": [
    {
     "name": "stdout",
     "output_type": "stream",
     "text": [
      "Another Iterators: generate Pi\n"
     ]
    }
   ],
   "source": [
    "print(\"Another Iterators: Reverse Iterable\")"
   ]
  },
  {
   "cell_type": "code",
   "execution_count": 12,
   "id": "37f087d5-266f-4805-ab72-3aecd66e2b66",
   "metadata": {},
   "outputs": [
    {
     "name": "stdout",
     "output_type": "stream",
     "text": [
      "9\n",
      "hello\n",
      "100\n",
      "47\n",
      "dak\n",
      "abc\n",
      "3\n",
      "10\n",
      "d\n",
      "l\n",
      "r\n",
      "o\n",
      "w\n",
      " \n",
      "o\n",
      "l\n",
      "l\n",
      "e\n",
      "h\n",
      "13\n",
      "8\n",
      "3\n"
     ]
    }
   ],
   "source": [
    "class ReverseIterable:\n",
    "    def __init__(self, itrbl):\n",
    "        \n",
    "        self._list = list(itrbl)       # Save the given iterable as a list (forces materialization)\n",
    "                                       # list(itrbl) forces evaluation of the iterable.\n",
    "        self._curr_index = len(itrbl)  # Start from the length of the list (one position beyond the last item)\n",
    "\n",
    "    def __iter__(self):                # Returns self, meaning the object is both the Iterable and the Iterator.\n",
    "        return self\n",
    "\n",
    "    def __next__(self):\n",
    "        # 1. what is the next value\n",
    "        # 2. what is the stop criteria\n",
    "        self._curr_index -= 1\n",
    "        if self._curr_index < 0:\n",
    "            raise StopIteration\n",
    "\n",
    "        return self._list[self._curr_index]\n",
    "        \n",
    "        # self._list is the list of items we are iterating over in reverse.\n",
    "        # self._curr_index is the current position in that list (counting backward).\n",
    "\n",
    "if __name__ == '__main__':            # It ensures that the testing code only runs if the file is executed directly, not imported as a module.\n",
    "    \n",
    "    reverse_list = ReverseIterable(\n",
    "        [10, 3, 'abc', 'dak', 47, 100, 'hello', 9]\n",
    "    )\n",
    "    for item in reverse_list:\n",
    "        print(item)\n",
    "\n",
    "    reverse_text = ReverseIterable('hello world')\n",
    "    for letter in reverse_text:\n",
    "        print(letter)\n",
    "\n",
    "    reverse_range = ReverseIterable(range(3, 18, 5))\n",
    "    for number in reverse_range:\n",
    "        print(number)"
   ]
  },
  {
   "cell_type": "code",
   "execution_count": null,
   "id": "25cc5ddd-a255-4ebb-a9a4-30aa8269701d",
   "metadata": {},
   "outputs": [],
   "source": []
  },
  {
   "cell_type": "code",
   "execution_count": 13,
   "id": "1c481dae-2742-499d-bba7-22a55af45838",
   "metadata": {},
   "outputs": [
    {
     "name": "stdout",
     "output_type": "stream",
     "text": [
      "Generators :\n"
     ]
    }
   ],
   "source": [
    "print(\"Generators :\")"
   ]
  },
  {
   "cell_type": "code",
   "execution_count": 14,
   "id": "7dafeff7-3bfe-4ebb-99cc-11bac539bfdd",
   "metadata": {},
   "outputs": [
    {
     "name": "stdout",
     "output_type": "stream",
     "text": [
      "\n",
      "\n",
      "Important Details:\n",
      "\n",
      "yield pauses the function, saving its local variables.\n",
      "\n",
      "After yielding a value, execution resumes right after the yield when next() is called again.\n",
      "\n",
      "A generator does not recompute from scratch; it remembers where it left off.\n",
      "\n",
      "✅ Very memory efficient for large sequences!\n",
      "\n",
      "\n"
     ]
    }
   ],
   "source": [
    "print('''\n",
    "\n",
    "Important Details:\n",
    "\n",
    "yield pauses the function, saving its local variables.\n",
    "\n",
    "After yielding a value, execution resumes right after the yield when next() is called again.\n",
    "\n",
    "A generator does not recompute from scratch; it remembers where it left off.\n",
    "\n",
    "✅ Very memory efficient for large sequences!\n",
    "\n",
    "''')"
   ]
  },
  {
   "cell_type": "code",
   "execution_count": 15,
   "id": "bb9a1459-5c5e-4f7f-920a-cc27e2c87b5c",
   "metadata": {},
   "outputs": [
    {
     "name": "stdout",
     "output_type": "stream",
     "text": [
      "<class 'generator'>\n",
      "Manually advancing the generator :\n",
      "Count down from 3\n",
      "Get next\n",
      "3\n",
      "Get next\n",
      "2\n",
      "Get next\n",
      "1\n",
      "Advancing the generator in a for loop:\n",
      "Done\n",
      "================================================================================\n",
      "4\n",
      "10\n",
      "5\n",
      "7\n",
      "1\n",
      "0\n"
     ]
    }
   ],
   "source": [
    "# It uses yield → making it a generator function.\n",
    "\n",
    "def count_down(n):\n",
    "    print('Count down from {}'.format(n))\n",
    "\n",
    "    while n > 0:\n",
    "        print('Get next')\n",
    "        # print(n)\n",
    "        yield n\n",
    "        n -= 1\n",
    "\n",
    "    print('Done')\n",
    "\n",
    "def count():\n",
    "    yield 4\n",
    "    yield 10\n",
    "    yield 5\n",
    "    yield 7\n",
    "    yield 1\n",
    "    yield 0\n",
    "\n",
    "\n",
    "if __name__ == '__main__':\n",
    "    \n",
    "    g = count_down(3)  # <class 'generator'>\n",
    "    print(type(g))\n",
    "\n",
    "# Each next(g) call will:\n",
    "# Print \"Get next\",\n",
    "# Yield the next n (3, 2, 1),\n",
    "# Until n = 0, then the generator will print \"Done\" and raise StopIteration.\n",
    "       \n",
    "    print(\"Manually advancing the generator :\") \n",
    "    v = next(g)\n",
    "    print(v)\n",
    "    v = next(g)\n",
    "    print(v)\n",
    "    v = next(g)\n",
    "    print(v)\n",
    "    # v = next(g)\n",
    "    # print(v)\n",
    "\n",
    "    print(\"Advancing the generator in a for loop:\") \n",
    "    for v in g:\n",
    "        print(v)\n",
    "\n",
    "    print('='*80)\n",
    "\n",
    "    for v in count():\n",
    "        print(v)"
   ]
  },
  {
   "cell_type": "code",
   "execution_count": null,
   "id": "e73adb42-30af-4fcc-ac42-f980fae36f02",
   "metadata": {},
   "outputs": [],
   "source": []
  },
  {
   "cell_type": "code",
   "execution_count": 16,
   "id": "cf17907d-32fb-4787-af34-e18feb48ff1c",
   "metadata": {},
   "outputs": [
    {
     "name": "stdout",
     "output_type": "stream",
     "text": [
      "⏳ Starting countdown from 5...\n",
      "🔥 5\n",
      "🔥 4\n",
      "🔥 3\n",
      "🔥 2\n",
      "🔥 1\n",
      "🚀 Liftoff! 💥\n"
     ]
    }
   ],
   "source": [
    "# GPT4 : 🛠 Countdown Generator with Delays (Animation-like)\n",
    "\n",
    "import time\n",
    "\n",
    "def animated_count_down(n, delay=1):\n",
    "    print(f\"⏳ Starting countdown from {n}...\")\n",
    "\n",
    "    while n > 0:\n",
    "        print(f\"🔥 {n}\")\n",
    "        yield n\n",
    "        n -= 1\n",
    "        time.sleep(delay)  # Wait for 'delay' seconds before continuing\n",
    "\n",
    "    print(\"🚀 Liftoff! 💥\")\n",
    "\n",
    "if __name__ == '__main__':\n",
    "    for _ in animated_count_down(5, delay=0.5):  # 0.5 second pause between steps\n",
    "        pass       # We don’t need the yielded values here; just using for timing"
   ]
  },
  {
   "cell_type": "code",
   "execution_count": null,
   "id": "167d1597-7161-4e36-b0b0-09cab1711687",
   "metadata": {},
   "outputs": [],
   "source": []
  },
  {
   "cell_type": "code",
   "execution_count": 17,
   "id": "b7338d68-1ceb-4a03-922f-33ed5f1a4b86",
   "metadata": {},
   "outputs": [
    {
     "name": "stdout",
     "output_type": "stream",
     "text": [
      "Pi generator:\n",
      "4.0\n",
      "2.666666666666667\n",
      "3.466666666666667\n",
      "2.8952380952380956\n",
      "3.3396825396825403\n",
      "2.9760461760461765\n",
      "3.2837384837384844\n",
      "3.017071817071818\n",
      "3.2523659347188767\n",
      "3.0418396189294032\n"
     ]
    }
   ],
   "source": [
    "print(\"Pi Generator:\")\n",
    "\n",
    "def pigen():\n",
    "    curr = 0\n",
    "    denominator = 1\n",
    "    sign = 1\n",
    "\n",
    "    # Infinite generator for approximating π using the Leibniz series\n",
    "    while True:\n",
    "        curr += sign / denominator        # Add or subtract the next term\n",
    "        yield 4 * curr                    # Yield current approximation of π\n",
    "        sign *= -1                        # Alternate sign\n",
    "        denominator += 2                 # Move to next odd denominator\n",
    "\n",
    "def firstn(g, n):\n",
    "    for _ in range(n):\n",
    "        print(next(g))\n",
    "\n",
    "# This function takes two arguments:\n",
    "# g: any generator (in this case, the output of pigen())\n",
    "# n: the number of values to generate (here, 10)\n",
    "# The for _ in range(n): loop calls next(g) 10 times, \n",
    "# asking the generator for the next approximation of π, and prints each one.\n",
    "                                                                          \n",
    "firstn(pigen(), 10)"
   ]
  },
  {
   "cell_type": "code",
   "execution_count": null,
   "id": "5f37e7d1-b176-4cc8-a148-84c54dce6ab3",
   "metadata": {},
   "outputs": [],
   "source": []
  },
  {
   "cell_type": "code",
   "execution_count": 18,
   "id": "69c083b7-ebe8-4b9a-965f-9600f88bdf8a",
   "metadata": {},
   "outputs": [
    {
     "name": "stdout",
     "output_type": "stream",
     "text": [
      "Pi Accelerator :\n",
      "3.166666666666667\n",
      "3.1333333333333337\n",
      "3.1452380952380956\n",
      "3.13968253968254\n",
      "3.1427128427128435\n",
      "3.1408813408813416\n",
      "3.142071817071818\n",
      "3.1412548236077655\n",
      "3.1418396189294033\n",
      "3.141406718496503\n"
     ]
    }
   ],
   "source": [
    "print(\"Pi Accelerator :\")\n",
    "\n",
    "def pigen():\n",
    "    curr = 0\n",
    "    denominator = 1\n",
    "    sign = 1\n",
    "\n",
    "    while True:\n",
    "        curr += sign / denominator\n",
    "        yield 4 * curr\n",
    "        sign *= -1\n",
    "        denominator += 2\n",
    "\n",
    "# Now this is the clever part — a method to speed up the convergence using a nonlinear extrapolation method, \n",
    "# often called Aitken’s Δ² Process (a sequence acceleration technique).\n",
    "\n",
    "# Thus, it keeps using new approximations from the slow generator pigen() but produces a much faster-converging sequence.\n",
    "\n",
    "def accelerator(g):\n",
    "    s1 = next(g)    # First π approximation\n",
    "    s2 = next(g)    # Second π approximation\n",
    "    s3 = next(g)    # Third π approximation\n",
    "\n",
    "    while True:\n",
    "        result = s3 - (s3 - s2)**2 / (s3 - 2*s2 + s1)\n",
    "        yield result\n",
    "        s1, s2, s3 = s2, s3, next(g)\n",
    "\n",
    "\n",
    "def firstn(g, n):\n",
    "    for _ in range(n):\n",
    "        print(next(g))\n",
    "\n",
    "# Start with pigen() generator (slow π approximations).\n",
    "# Wrap it with accelerator() (faster convergence).\n",
    "# Print the first 1000 accelerated results.\n",
    "\n",
    "firstn(accelerator(pigen()), 10)"
   ]
  },
  {
   "cell_type": "code",
   "execution_count": null,
   "id": "622ed437-6ec1-4330-8ec9-6e35aef665c2",
   "metadata": {},
   "outputs": [],
   "source": []
  },
  {
   "cell_type": "code",
   "execution_count": 19,
   "id": "b5d0d176-841f-4b04-a37b-5ca9a0650499",
   "metadata": {},
   "outputs": [
    {
     "name": "stdout",
     "output_type": "stream",
     "text": [
      "Generate the even numbers :\n",
      "12\n",
      "14\n",
      "16\n",
      "18\n",
      "20\n",
      "22\n",
      "24\n",
      "26\n",
      "28\n",
      "30\n"
     ]
    }
   ],
   "source": [
    "print(\"Generate the even numbers :\")\n",
    "\n",
    "# This is a generator function.\n",
    "# It starts at start and keeps yielding consecutive integers forever.\n",
    "# Every time next() is called, it returns the current number and increments it by 1.\n",
    "\n",
    "def numbers(start):\n",
    "    current = start\n",
    "    while True:\n",
    "        yield current\n",
    "        current += 1\n",
    "\n",
    "# This is another generator function that wraps another generator g (in this case, numbers).\n",
    "# Calls next(g) to get the next number.\n",
    "# If the number is even (current % 2 == 0), it yields it.\n",
    "# If not, it simply skips it (does not yield odd numbers).\n",
    "# So this generator filters out odd numbers, and only yields even numbers.\n",
    "\n",
    "def even_numbers(g):\n",
    "    while True:\n",
    "        current = next(g)\n",
    "        if current % 2 == 0:\n",
    "            yield current\n",
    "\n",
    "# firstn(g, n):\n",
    "# Receives a generator g and prints the first n values produced by it.\n",
    "# even_numbers(numbers(11)):\n",
    "# First, numbers(11) generates numbers starting at 11.\n",
    "# then, even_numbers() filters this stream, only passing even numbers.\n",
    "# firstn(..., 10):\n",
    "# Prints the first 10 even numbers starting from 11.\n",
    "\n",
    "if __name__ == '__main__':\n",
    "    def firstn(g, n):\n",
    "        for _ in range(n):\n",
    "            print(next(g))\n",
    "\n",
    "    firstn(even_numbers(numbers(11)), 10)"
   ]
  },
  {
   "cell_type": "code",
   "execution_count": null,
   "id": "b185e07e-781b-4ce1-9b8e-93ad10114fc0",
   "metadata": {},
   "outputs": [],
   "source": []
  },
  {
   "cell_type": "code",
   "execution_count": 20,
   "id": "b2818aca-ecea-42e6-8007-f465600c46cb",
   "metadata": {},
   "outputs": [
    {
     "name": "stdout",
     "output_type": "stream",
     "text": [
      "Building generators and creating filters dynamically :\n"
     ]
    }
   ],
   "source": [
    "print(\"Building generators and creating filters dynamically :\")"
   ]
  },
  {
   "cell_type": "code",
   "execution_count": 21,
   "id": "f166658f-8a9a-4e26-aad2-a3c5bf81ab10",
   "metadata": {},
   "outputs": [
    {
     "name": "stdout",
     "output_type": "stream",
     "text": [
      "11\n",
      "13\n",
      "17\n",
      "19\n",
      "23\n",
      "29\n",
      "31\n",
      "37\n",
      "41\n",
      "43\n",
      "11\n",
      "13\n",
      "17\n",
      "19\n",
      "23\n",
      "29\n",
      "31\n",
      "37\n",
      "41\n",
      "43\n"
     ]
    }
   ],
   "source": [
    "# to generate the next number\n",
    "\n",
    "def numbers(start):\n",
    "    current = start\n",
    "    while True:\n",
    "        yield current\n",
    "        current += 1\n",
    "\n",
    "# to filter out even numbers\n",
    "# def not_div_by_2(g):\n",
    "#     for i in g:\n",
    "#         if i % 2 != 0:\n",
    "#             yield i\n",
    "#     # while True:\n",
    "#     #     current = next(g)\n",
    "#     #     if current % 2 != 0:\n",
    "#     #         yield current\n",
    "\n",
    "# to filter out numbers divisible by 3\n",
    "# def not_div_by_3(g):\n",
    "#     for i in g:\n",
    "#         if i % 3 != 0:\n",
    "#             yield i\n",
    "\n",
    "# def not_div_by_5(g):\n",
    "#     for i in g:\n",
    "#         if i % 5 != 0:\n",
    "#             yield i\n",
    "\n",
    "# def not_div_by_7(g):\n",
    "#     for i in g:\n",
    "#         if i % 7 != 0:\n",
    "#             yield i\n",
    "\n",
    "def not_div_by(g, factor): # filters a stream (g) and yields only numbers not divisible by factor.\n",
    "    for i in g:\n",
    "        if i % factor != 0:\n",
    "            yield i\n",
    "\n",
    "\n",
    "if __name__ == '__main__':\n",
    "    \n",
    "    def firstn(g, n):\n",
    "        for _ in range(n):\n",
    "            print(next(g))\n",
    "\n",
    "    # firstn(\n",
    "    #     not_div_by_7(\n",
    "    #         not_div_by_5(\n",
    "    #             not_div_by_3(\n",
    "    #                 not_div_by_2(\n",
    "    #                     numbers(2)\n",
    "    #                 )\n",
    "    #             )\n",
    "    #         )\n",
    "    #     )\n",
    "    #     , 10)\n",
    "\n",
    "    firstn(\n",
    "        not_div_by(\n",
    "            not_div_by(\n",
    "                not_div_by(\n",
    "                    not_div_by(\n",
    "                        numbers(2),\n",
    "                        2\n",
    "                    ), 3\n",
    "                ), 5\n",
    "            ), 7\n",
    "        ), 10\n",
    "    )\n",
    "\n",
    "# If you wanted to clean up this even more, you could build the pipeline automatically like:\n",
    "# To avoid nested function calls :\n",
    "\n",
    "factors = [2, 3, 5, 7]\n",
    "g = numbers(2)\n",
    "\n",
    "for f in factors:\n",
    "    g = not_div_by(g, f)\n",
    "\n",
    "firstn(g, 10)\n",
    "\n",
    "# You loop over each factor (2, 3, 5, and 7).\n",
    "# Each time, you \"wrap\" the current generator g with a new filter using not_div_by.\n",
    "\n",
    "# What happens exactly?\n",
    "# First: filter out numbers divisible by 2.\n",
    "# Then: filter the remaining numbers to remove those divisible by 3.\n",
    "# Then: further filter to remove numbers divisible by 5.\n",
    "# Then: further filter to remove numbers divisible by 7.\n",
    "# This builds a chain of filters — each one applying on top of the previous\n",
    "\n",
    "# for f in factors:\n",
    "#    g = not_div_by(g, f)\n",
    "# what happens is not that all numbers are generated at once — instead:\n",
    "\n",
    "# g is still a lazy generator.\n",
    "# Each not_div_by(g, f) wraps the previous generator g.\n",
    "\n",
    "# Each number is pulled one at a time (sequentially) through the whole chain of filters.\n",
    "# Imagine you call next(g) at the very end, after all wrapping.\n",
    "\n",
    "# When you call next(g), here’s what happens:\n",
    "# g asks the wrapped not_div_by(7) filter: \"Give me the next good number.\"\n",
    "# not_div_by(7) asks the wrapped not_div_by(5) filter: \"Give me the next good number.\"\n",
    "# not_div_by(5) asks not_div_by(3): \"Give me the next good number.\"\n",
    "# not_div_by(3) asks not_div_by(2): \"Give me the next good number.\"\n",
    "# not_div_by(2) asks the original numbers(2) generator: \"Give me the next raw number.\"\n",
    "\n",
    "# Then at every layer:\n",
    "# Each filter checks if the number satisfies its rule.\n",
    "# If yes → passes it to the next filter.\n",
    "# If no → discards it and asks for the next number again.\n",
    "# Only after passing all filters, the number is actually yielded to you!"
   ]
  },
  {
   "cell_type": "code",
   "execution_count": 22,
   "id": "ead73a7b-ae88-43a4-ad56-68a1370607c6",
   "metadata": {},
   "outputs": [
    {
     "name": "stdout",
     "output_type": "stream",
     "text": [
      "Building a prime number generator using the Sieve of Eratosthenes idea! \n"
     ]
    }
   ],
   "source": [
    "print(\"Building a prime number generator using the Sieve of Eratosthenes idea! \")"
   ]
  },
  {
   "cell_type": "code",
   "execution_count": 23,
   "id": "84245bd6-62c7-4919-86ce-b038676b1c01",
   "metadata": {},
   "outputs": [
    {
     "name": "stdout",
     "output_type": "stream",
     "text": [
      "2\n",
      "3\n",
      "5\n",
      "7\n",
      "11\n",
      "13\n",
      "17\n",
      "19\n",
      "23\n",
      "29\n"
     ]
    }
   ],
   "source": [
    "def numbers_from(start): # This infinite generator produces numbers starting from start and keeps incrementing.\n",
    "                         # It never stops unless you limit it manually.\n",
    "    current = start\n",
    "    while True:\n",
    "        yield current\n",
    "        current += 1\n",
    "\n",
    "# This is a filter generator:\n",
    "# Takes a generator g (sequence of numbers) and a factor.\n",
    "# Yields only numbers that are NOT divisible by factor.\n",
    "\n",
    "def not_div_by(g, factor):\n",
    "    for i in g:\n",
    "        if i % factor != 0:\n",
    "            yield i\n",
    "\n",
    "\n",
    "# ✅ This is the magic part:\n",
    "# It grabs the next number from the sequence (that hasn't been filtered yet).\n",
    "# Yields it as a prime.\n",
    "# Updates the generator g:\n",
    "# Now filter out multiples of this newly found prime.\n",
    "# ✅ It keeps refining the sequence:\n",
    "# First removes multiples of 2,\n",
    "# Then multiples of 3,\n",
    "# Then multiples of 5,\n",
    "\n",
    "# This is a generator-based Sieve of Eratosthenes!\n",
    "\n",
    "def prime_gen(g):\n",
    "    while True:\n",
    "        prime = next(g)\n",
    "        yield prime\n",
    "        g = not_div_by(g, prime)\n",
    "\n",
    "# A helper function:\n",
    "# Given a generator g and a number n,\n",
    "# Prints the first n values from the generator.\n",
    "\n",
    "def firstn(g, n):\n",
    "    for _ in range(n):\n",
    "        print(next(g))\n",
    "\n",
    "if __name__ == '__main__':\n",
    "\n",
    "    firstn(prime_gen(numbers_from(2)), 10)\n",
    "\n",
    "# ✅ Here's what happens step-by-step:\n",
    "# numbers_from(2) → 2, 3, 4, 5, 6, 7, 8, 9, 10, 11, ...\n",
    "# prime_gen() grabs 2:\n",
    "# Yields 2.\n",
    "# Filters out all multiples of 2.\n",
    "# From the remaining numbers:\n",
    "# Grabs 3.\n",
    "# Yields 3.\n",
    "# Filters out all multiples of 3.\n",
    "# From the remaining numbers:\n",
    "# Grabs 5 (since 4 was filtered by 2).\n",
    "# Yields 5.\n",
    "# Filters out multiples of 5.\n",
    "# And so on...\n",
    "# ✅ It keeps yielding primes indefinitely.\n",
    "# ✅ But firstn(..., 10) only prints the first 10 primes"
   ]
  },
  {
   "cell_type": "code",
   "execution_count": null,
   "id": "663d9b42-0fc5-43ae-ad4d-c01fddfbee1c",
   "metadata": {},
   "outputs": [],
   "source": []
  }
 ],
 "metadata": {
  "kernelspec": {
   "display_name": "Python 3 (ipykernel)",
   "language": "python",
   "name": "python3"
  },
  "language_info": {
   "codemirror_mode": {
    "name": "ipython",
    "version": 3
   },
   "file_extension": ".py",
   "mimetype": "text/x-python",
   "name": "python",
   "nbconvert_exporter": "python",
   "pygments_lexer": "ipython3",
   "version": "3.12.2"
  }
 },
 "nbformat": 4,
 "nbformat_minor": 5
}
