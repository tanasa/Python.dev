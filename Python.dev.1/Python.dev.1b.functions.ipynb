{
 "cells": [
  {
   "cell_type": "code",
   "execution_count": null,
   "id": "146c19da-a4e5-4fdf-a70f-f0f1b099f816",
   "metadata": {},
   "outputs": [],
   "source": []
  },
  {
   "cell_type": "code",
   "execution_count": 1,
   "id": "c902cef6-623d-4497-908f-730feaba7f78",
   "metadata": {},
   "outputs": [
    {
     "name": "stdout",
     "output_type": "stream",
     "text": [
      "Xenia\n"
     ]
    }
   ],
   "source": [
    "# write Python code to read all the words from words.txt\n",
    "# print all the words that start with x\n",
    "\n",
    "with open('znames.txt') as fin:\n",
    "    for line in fin:\n",
    "        word = line.strip()\n",
    "        if word.lower().startswith('x'):\n",
    "            print(word)\n"
   ]
  },
  {
   "cell_type": "code",
   "execution_count": null,
   "id": "fc837fb9-33d9-4fad-bbd9-09edf0edc50d",
   "metadata": {},
   "outputs": [],
   "source": []
  },
  {
   "cell_type": "code",
   "execution_count": 2,
   "id": "31344128-e768-496d-b4f3-f940c59e83ac",
   "metadata": {},
   "outputs": [
    {
     "name": "stdout",
     "output_type": "stream",
     "text": [
      "Accept\n"
     ]
    }
   ],
   "source": [
    "from word_checker import is_abecedarian\n",
    "\n",
    "# write Python code to read all the words from zwords.txt\n",
    "# print all the words that are palindrome\n",
    "# print(is_palindrome('kayak'))\n",
    "\n",
    "with open('znames.txt') as fin:\n",
    "    for line in fin:\n",
    "        word = line.strip()\n",
    "        if is_abecedarian(word):\n",
    "            print(word)"
   ]
  },
  {
   "cell_type": "code",
   "execution_count": null,
   "id": "c09a434a-e7b0-4742-a02c-87d786803e39",
   "metadata": {},
   "outputs": [],
   "source": []
  },
  {
   "cell_type": "code",
   "execution_count": 3,
   "id": "0cec4dd6-1f2a-4f1a-8959-6118c9197e58",
   "metadata": {},
   "outputs": [
    {
     "name": "stdout",
     "output_type": "stream",
     "text": [
      "kayak\n"
     ]
    }
   ],
   "source": [
    "from word_checker import is_palindrome\n",
    "\n",
    "# write the Python code to find the longest palindrome word in words.txt\n",
    "\n",
    "# longest_palindrome_so_far\n",
    "\n",
    "with open('znames.txt') as fin:\n",
    "    longest_so_far = ''\n",
    "    for line in fin:\n",
    "        word = line.strip()\n",
    "        if is_palindrome(word):\n",
    "            if len(word) >= len(longest_so_far):\n",
    "                longest_so_far = word\n",
    "    print(longest_so_far)"
   ]
  },
  {
   "cell_type": "code",
   "execution_count": null,
   "id": "07f9332b-ef12-428e-ae8a-68f27c47e103",
   "metadata": {},
   "outputs": [],
   "source": []
  },
  {
   "cell_type": "code",
   "execution_count": 4,
   "id": "ef50ef96-eeb2-46a3-83dd-85ff14d02d4f",
   "metadata": {},
   "outputs": [
    {
     "name": "stdout",
     "output_type": "stream",
     "text": [
      "kayak\n",
      "Accept\n"
     ]
    }
   ],
   "source": [
    "from word_checker import is_palindrome, is_abecedarian\n",
    "\n",
    "# write the Python code to find\n",
    "# both the first longest palindrome word\n",
    "# and the first longest abecedarian word\n",
    "# in znames.txt\n",
    "\n",
    "# with open('words.txt') as fin:\n",
    "#     longest_palindrome_so_far = ''\n",
    "#     longest_abecedarian_so_far = ''\n",
    "#     for line in fin:\n",
    "#         word = line.strip()\n",
    "#         if is_palindrome(word):\n",
    "#             if len(word) > len(longest_palindrome_so_far):\n",
    "#                 longest_palindrome_so_far = word\n",
    "#         if is_abecedarian(word):\n",
    "#             if len(word) > len(longest_abecedarian_so_far):\n",
    "#                 longest_abecedarian_so_far = word\n",
    "#     print(longest_palindrome_so_far)\n",
    "#     print(longest_abecedarian_so_far)\n",
    "\n",
    "# def find_longest_palindrome():\n",
    "#     with open('words.txt') as fin:\n",
    "#         longest_palindrome_so_far = ''\n",
    "#         for line in fin:\n",
    "#             word = line.strip()\n",
    "#             if is_palindrome(word):\n",
    "#                 if len(word) > len(longest_palindrome_so_far):\n",
    "#                     longest_palindrome_so_far = word\n",
    "#\n",
    "#     return longest_palindrome_so_far\n",
    "#\n",
    "#\n",
    "# def find_longest_abecedarian():\n",
    "#     with open('words.txt') as fin:\n",
    "#         longest_abecedarian_so_far = ''\n",
    "#         for line in fin:\n",
    "#             word = line.strip()\n",
    "#             if is_abecedarian(word):\n",
    "#                 if len(word) > len(longest_abecedarian_so_far):\n",
    "#                     longest_abecedarian_so_far = word\n",
    "#\n",
    "#     return longest_abecedarian_so_far\n",
    "#\n",
    "#\n",
    "# print(find_longest_palindrome())\n",
    "# print(find_longest_abecedarian())\n",
    "\n",
    "def find_longest(check_func):\n",
    "    with open('znames.txt') as fin:\n",
    "        longest_so_far = ''\n",
    "        for line in fin:\n",
    "            word = line.strip()\n",
    "            if check_func(word):\n",
    "                if len(word) >= len(longest_so_far):\n",
    "                    longest_so_far = word\n",
    "\n",
    "    return longest_so_far\n",
    "\n",
    "print(find_longest(is_palindrome))\n",
    "print(find_longest(is_abecedarian))"
   ]
  },
  {
   "cell_type": "code",
   "execution_count": null,
   "id": "d0cc3942-f0fb-429d-81e5-8922a0100c72",
   "metadata": {},
   "outputs": [],
   "source": []
  }
 ],
 "metadata": {
  "kernelspec": {
   "display_name": "Python 3 (ipykernel)",
   "language": "python",
   "name": "python3"
  },
  "language_info": {
   "codemirror_mode": {
    "name": "ipython",
    "version": 3
   },
   "file_extension": ".py",
   "mimetype": "text/x-python",
   "name": "python",
   "nbconvert_exporter": "python",
   "pygments_lexer": "ipython3",
   "version": "3.12.2"
  }
 },
 "nbformat": 4,
 "nbformat_minor": 5
}
