{
 "cells": [
  {
   "cell_type": "code",
   "execution_count": null,
   "id": "da2fa721-ce0b-4dcb-b727-c237b88d033c",
   "metadata": {},
   "outputs": [],
   "source": []
  },
  {
   "cell_type": "code",
   "execution_count": 1,
   "id": "69939552-f43c-4dbb-8ec1-bddf4cf446f7",
   "metadata": {},
   "outputs": [
    {
     "name": "stdout",
     "output_type": "stream",
     "text": [
      " \n",
      "\n",
      "About Dictionaries :\n",
      "\n",
      "dict get: [key]\n",
      "dict.get('key', default_value): safe access : return default_value if key does not exist\n",
      "\n",
      "dict set: [key] = value\n",
      "dict.setdefault('key', default_value): create a new key-value pair using default value if key does not exist\n",
      "\n",
      "in : to check if key exists\n",
      "\n",
      "\n"
     ]
    }
   ],
   "source": [
    "print(''' \n",
    "\n",
    "About Dictionaries :\n",
    "\n",
    "dict get: [key]\n",
    "dict.get('key', default_value): safe access : return default_value if key does not exist\n",
    "\n",
    "dict set: [key] = value\n",
    "dict.setdefault('key', default_value): create a new key-value pair using default value if key does not exist\n",
    "\n",
    "in : to check if key exists\n",
    "\n",
    "''')"
   ]
  },
  {
   "cell_type": "code",
   "execution_count": 2,
   "id": "c610735c-261a-4f49-9a7e-823f69e03f15",
   "metadata": {},
   "outputs": [],
   "source": [
    "# Note  1"
   ]
  },
  {
   "cell_type": "code",
   "execution_count": 3,
   "id": "00bf9207-0018-4100-91db-1456b3126978",
   "metadata": {},
   "outputs": [
    {
     "name": "stdout",
     "output_type": "stream",
     "text": [
      "(51, 7.285714285714286)\n",
      "51 7.285714285714286\n",
      "51 7.285714285714286\n"
     ]
    }
   ],
   "source": [
    "# The underscore in sum_ is just used to avoid naming conflict with the built-in sum() function\n",
    "\n",
    "def sum_ave(numbers):\n",
    "    sum_ = sum(numbers)\n",
    "    ave = sum_ / len(numbers)\n",
    "    return sum_, ave\n",
    "\n",
    "\n",
    "result = sum_ave([7, 4, 12, 18, 3, 2, 5])\n",
    "print(result)\n",
    "# (s, a) = result\n",
    "\n",
    "# The result is unpacked into variables s and a\n",
    "s, a = sum_ave([7, 4, 12, 18, 3, 2, 5])\n",
    "print(s, a)\n",
    "\n",
    "# An alternative :\n",
    "\n",
    "print(result[0], result[1])"
   ]
  },
  {
   "cell_type": "code",
   "execution_count": 4,
   "id": "c4ce453f-b4d1-4a23-8960-3802105af201",
   "metadata": {},
   "outputs": [
    {
     "name": "stdout",
     "output_type": "stream",
     "text": [
      "Functions and arguments :\n"
     ]
    }
   ],
   "source": [
    "# Note 2\n",
    "print(\"Functions and arguments :\")"
   ]
  },
  {
   "cell_type": "code",
   "execution_count": 5,
   "id": "d1954a6b-9c7b-4ecb-b147-a47e6cb40fae",
   "metadata": {},
   "outputs": [
    {
     "name": "stdout",
     "output_type": "stream",
     "text": [
      "\n",
      "\n",
      "The * before numbers means the function accepts any number of arguments.\n",
      "These arguments are automatically grouped into a tuple named numbers.\n",
      "\n",
      "\n",
      "<class 'tuple'>\n",
      "51 7.285714285714286\n",
      "<class 'tuple'>\n",
      "23 7.666666666666667\n"
     ]
    }
   ],
   "source": [
    "print('''\n",
    "\n",
    "The * before numbers means the function accepts any number of arguments.\n",
    "These arguments are automatically grouped into a tuple named numbers.\n",
    "\n",
    "''')\n",
    "\n",
    "def sum_ave(*numbers):\n",
    "    print(type(numbers))\n",
    "    \n",
    "    sum_ = sum(numbers)\n",
    "    ave = sum_ / len(numbers)\n",
    "    return sum_, ave\n",
    "\n",
    "\n",
    "s, a = sum_ave(7, 4, 12, 18, 3, 2, 5)\n",
    "print(s, a)\n",
    "s, a = sum_ave(7, 4, 12)\n",
    "print(s, a)"
   ]
  },
  {
   "cell_type": "code",
   "execution_count": null,
   "id": "2ab818af-0093-4798-8568-cbe3b9ad0652",
   "metadata": {},
   "outputs": [],
   "source": []
  },
  {
   "cell_type": "code",
   "execution_count": 6,
   "id": "ef026a77-d372-4cc6-8c0b-6b1f82de05a8",
   "metadata": {},
   "outputs": [
    {
     "name": "stdout",
     "output_type": "stream",
     "text": [
      "Functions and arguments :\n",
      "Positional and Keyword arguments\n"
     ]
    }
   ],
   "source": [
    "# Note 3\n",
    "\n",
    "print(\"Functions and arguments :\")\n",
    "print(\"Positional and Keyword arguments\")"
   ]
  },
  {
   "cell_type": "code",
   "execution_count": 2,
   "id": "5c593343-ef0b-4641-9867-e158e6b85001",
   "metadata": {},
   "outputs": [
    {
     "name": "stdout",
     "output_type": "stream",
     "text": [
      "8\n",
      "18\n",
      "8\n"
     ]
    }
   ],
   "source": [
    "# Define a function that takes three required positional or keyword arguments: a, b, c\n",
    "\n",
    "def calculate(a, b, c):\n",
    "    # Returns the result of: a cubed + b squared + c\n",
    "    return a**3 + b**2 + c\n",
    "\n",
    "print(calculate(1, 2, 3))\n",
    "print(calculate(2, 3, 1))\n",
    "\n",
    "print(calculate(b=2, c=3, a=1))"
   ]
  },
  {
   "cell_type": "code",
   "execution_count": 8,
   "id": "c125d58e-bd09-4352-8183-d3448ac00184",
   "metadata": {},
   "outputs": [
    {
     "name": "stdout",
     "output_type": "stream",
     "text": [
      "<class 'tuple'>\n",
      "140\n",
      "<class 'tuple'>\n",
      "115\n"
     ]
    }
   ],
   "source": [
    "# Define a function that takes two required arguments (a, b)\n",
    "# and any number of additional arguments (*c)\n",
    "\n",
    "def my_sum(a, b, *c):\n",
    "    print(type(c))  # This will always print: <class 'tuple'>\n",
    "    \n",
    "    # Calculate a weighted sum:\n",
    "    # 10 times 'a', plus 5 times 'b', plus the sum of any extra arguments in 'c'\n",
    "    return 10 * a + 5 * b + sum(c)\n",
    "\n",
    "# Call with multiple extra arguments\n",
    "# a = 10, b = 3, c = (4, 8, 13)\n",
    "# Result = 10*10 + 5*3 + (4 + 8 + 13) = 100 + 15 + 25 = 140\n",
    "print(my_sum(10, 3, 4, 8, 13))  # Output: 140\n",
    "\n",
    "# Call with only a and b (no extras)\n",
    "# a = 10, b = 3, c = () (empty tuple)\n",
    "# Result = 10*10 + 5*3 = 100 + 15 = 115\n",
    "print(my_sum(10, 3))  # Output: 115"
   ]
  },
  {
   "cell_type": "code",
   "execution_count": 9,
   "id": "3d9d4bbb-8c39-4841-86e6-937b01bc9fab",
   "metadata": {},
   "outputs": [
    {
     "name": "stdout",
     "output_type": "stream",
     "text": [
      "8\n",
      "15\n"
     ]
    }
   ],
   "source": [
    "# Define a function with a default value for 'c'\n",
    "# If 'c' is not provided in the function call, it will default to 10\n",
    "\n",
    "def calculate(a, b, c = 10):\n",
    "    return a**3 + b**2 + c\n",
    "\n",
    "print(calculate(1, 2, 3))\n",
    "print(calculate(1, 2))"
   ]
  },
  {
   "cell_type": "code",
   "execution_count": null,
   "id": "f2ed21cf-5ff5-4d66-b37b-9c22cc7f009d",
   "metadata": {},
   "outputs": [],
   "source": []
  },
  {
   "cell_type": "code",
   "execution_count": 10,
   "id": "00002678-77a3-44f5-83c1-b7f43a5f477f",
   "metadata": {},
   "outputs": [
    {
     "name": "stdout",
     "output_type": "stream",
     "text": [
      "\n",
      "\n",
      "🧩 *args vs **kwargs in Python\n",
      "\n",
      "Feature\t                    *args\t                                         **kwargs\n",
      "Name stands for\t            “arguments”\t                                     “keyword arguments”\n",
      "Type\t                     Tuple (TUPLE)\t                                  Dictionary (DICTIONARY)\n",
      "Accepts\tExtra positional arguments\t                                          Extra keyword arguments\n",
      "Use case\t                When number of positional arguments is unknown\t  When number of named arguments is unknown\n",
      "\n",
      "\n"
     ]
    }
   ],
   "source": [
    "print('''\n",
    "\n",
    "🧩 *args vs **kwargs in Python\n",
    "\n",
    "Feature\t                    *args\t                                         **kwargs\n",
    "Name stands for\t            “arguments”\t                                     “keyword arguments”\n",
    "Type\t                     Tuple (TUPLE)\t                                  Dictionary (DICTIONARY)\n",
    "Accepts\tExtra positional arguments\t                                          Extra keyword arguments\n",
    "Use case\t                When number of positional arguments is unknown\t  When number of named arguments is unknown\n",
    "\n",
    "''')"
   ]
  },
  {
   "cell_type": "code",
   "execution_count": 11,
   "id": "3bea26e1-b70c-4217-a3b0-02a94aec0d35",
   "metadata": {},
   "outputs": [
    {
     "name": "stdout",
     "output_type": "stream",
     "text": [
      "Hello, Alice!\n",
      "Hello, Bob!\n",
      "Hello, Charlie!\n"
     ]
    }
   ],
   "source": [
    "# ✅ Example: *args\n",
    "\n",
    "def greet(*args):\n",
    "    for name in args:\n",
    "        print(f\"Hello, {name}!\")\n",
    "\n",
    "greet('Alice', 'Bob', 'Charlie')  # args is a tuple: ('Alice', 'Bob', 'Charlie')"
   ]
  },
  {
   "cell_type": "code",
   "execution_count": 12,
   "id": "ca37ece5-5c4a-46f9-8b3c-7fd937a71111",
   "metadata": {},
   "outputs": [
    {
     "name": "stdout",
     "output_type": "stream",
     "text": [
      "name: Bogdan\n",
      "age: 34\n",
      "country: USA\n"
     ]
    }
   ],
   "source": [
    "# ✅ Example: **kwargs\n",
    "\n",
    "def show_info(**kwargs):\n",
    "    for key, value in kwargs.items():\n",
    "        print(f\"{key}: {value}\")\n",
    "\n",
    "show_info(name=\"Bogdan\", age=34, country=\"USA\") # kwargs is a dictionary: {'name': 'Bogdan', 'age': 34, 'country': 'USA'}"
   ]
  },
  {
   "cell_type": "code",
   "execution_count": 13,
   "id": "aa224414-9e6a-45d4-a6ee-cdea77a0155d",
   "metadata": {},
   "outputs": [
    {
     "name": "stdout",
     "output_type": "stream",
     "text": [
      "a: 1\n",
      "args: (2, 3)\n",
      "kwargs: {'name': 'Alice', 'age': 25}\n",
      "\n",
      "\n",
      "🧠 How to Think About It:\n",
      "\n",
      "You Write This...\tYou Get This...\n",
      "func(1, 2, 3)\t*args → (2, 3)\n",
      "func(name=\"Alice\", age=30)\t**kwargs → {'name': 'Alice', 'age': 30}\n",
      "\n",
      "\n"
     ]
    }
   ],
   "source": [
    "# ✅ Both Together\n",
    "\n",
    "def example(a, *args, **kwargs):\n",
    "    print(\"a:\", a)\n",
    "    print(\"args:\", args)\n",
    "    print(\"kwargs:\", kwargs)\n",
    "\n",
    "example(1, 2, 3, name=\"Alice\", age=25)\n",
    "\n",
    "print('''\n",
    "\n",
    "🧠 How to Think About It:\n",
    "\n",
    "You Write This...\tYou Get This...\n",
    "func(1, 2, 3)\t*args → (2, 3)\n",
    "func(name=\"Alice\", age=30)\t**kwargs → {'name': 'Alice', 'age': 30}\n",
    "\n",
    "''')\n",
    "\n",
    "# You can't use *args after **kwargs — Python will throw a syntax error."
   ]
  },
  {
   "cell_type": "code",
   "execution_count": 14,
   "id": "de62b0e3-5ee1-4dd1-b91e-7e6edd3051e6",
   "metadata": {},
   "outputs": [
    {
     "name": "stdout",
     "output_type": "stream",
     "text": [
      "Alice is 28 years old and lives in Paris.\n",
      "Bob is 32 years old and lives in London.\n",
      "\n",
      "\n",
      "Summary Cheat Sheet:\n",
      "\n",
      "Syntax\t            Use\n",
      "*args\t            Accepts any number of positional arguments\n",
      "**kwargs\t        Accepts any number of keyword arguments\n",
      "*args in call\t    Unpacks a tuple/list into positional args\n",
      "**kwargs in call\tUnpacks a dict into keyword args\n",
      "\n",
      "\n"
     ]
    }
   ],
   "source": [
    "# Unpacking when calling a function\n",
    "\n",
    "def greet(name, age, city):\n",
    "    print(f\"{name} is {age} years old and lives in {city}.\")\n",
    "\n",
    "args = (\"Alice\", 28, \"Paris\")\n",
    "greet(*args)  # Unpacks tuple\n",
    "\n",
    "kwargs = {\"name\": \"Bob\", \"age\": 32, \"city\": \"London\"}\n",
    "greet(**kwargs)  # Unpacks dictionary\n",
    "\n",
    "print('''\n",
    "\n",
    "Summary Cheat Sheet:\n",
    "\n",
    "Syntax\t            Use\n",
    "*args\t            Accepts any number of positional arguments\n",
    "**kwargs\t        Accepts any number of keyword arguments\n",
    "*args in call\t    Unpacks a tuple/list into positional args\n",
    "**kwargs in call\tUnpacks a dict into keyword args\n",
    "\n",
    "''')"
   ]
  },
  {
   "cell_type": "code",
   "execution_count": null,
   "id": "12b4b1c3-ff81-4cf6-9b16-abf789cc3faa",
   "metadata": {},
   "outputs": [],
   "source": []
  },
  {
   "cell_type": "code",
   "execution_count": 15,
   "id": "ddfaffcf-1455-4c82-817c-212a5555769c",
   "metadata": {},
   "outputs": [
    {
     "name": "stdout",
     "output_type": "stream",
     "text": [
      "One of the most common and sneaky Python pitfalls : using a mutable default argument (like a list or dictionary)\n"
     ]
    }
   ],
   "source": [
    "print(\"One of the most common and sneaky Python pitfalls : using a mutable default argument (like a list or dictionary)\")"
   ]
  },
  {
   "cell_type": "code",
   "execution_count": 16,
   "id": "3ea26d3c-1fd7-4e8e-b91b-0cdbff050597",
   "metadata": {},
   "outputs": [
    {
     "name": "stdout",
     "output_type": "stream",
     "text": [
      "[10]\n",
      "[10, 'a']\n"
     ]
    }
   ],
   "source": [
    "# The default value `arr=[]` is created ONCE, when the function is defined\n",
    "# It is NOT re-created with each call — it is shared across calls!\n",
    "\n",
    "def add_to(val, arr=[]):\n",
    "    arr.append(val)  # This modifies the same list every time if no new list is passed\n",
    "    return arr\n",
    "\n",
    "print(add_to(10))  # [10]\n",
    "print(add_to('a'))  # [10, 'a'] ← builds on the same list!\n",
    "\n",
    "# This behavior is unexpected for many programmers:\n",
    "# We expect add_to(10) to return [10]\n",
    "# Then add_to('a') to return ['a']\n",
    "# Instead, it keeps appending to the same list!"
   ]
  },
  {
   "cell_type": "code",
   "execution_count": 17,
   "id": "486ab05b-5abd-4c17-9492-d70cffd26e8b",
   "metadata": {},
   "outputs": [
    {
     "name": "stdout",
     "output_type": "stream",
     "text": [
      "\n",
      "\n",
      "Key Takeaways :\n",
      "\n",
      "Mistake\t                         Safer Practice\n",
      "def func(x, mylist=[])\t         def func(x, mylist=None)\n",
      "Shared across function calls\t New list created every time when needed\n",
      "Leads to hard-to-track bugs\t     Predictable, isolated behavior\n",
      "\n",
      "\n"
     ]
    }
   ],
   "source": [
    "print('''\n",
    "\n",
    "Key Takeaways :\n",
    "\n",
    "Mistake\t                         Safer Practice\n",
    "def func(x, mylist=[])\t         def func(x, mylist=None)\n",
    "Shared across function calls\t New list created every time when needed\n",
    "Leads to hard-to-track bugs\t     Predictable, isolated behavior\n",
    "\n",
    "''')"
   ]
  },
  {
   "cell_type": "code",
   "execution_count": null,
   "id": "0a47cb72-92be-44ea-aa88-afa29ca84aef",
   "metadata": {},
   "outputs": [],
   "source": []
  },
  {
   "cell_type": "code",
   "execution_count": 18,
   "id": "e0aaa959-7309-4913-ac24-0b3eafdb36fc",
   "metadata": {},
   "outputs": [
    {
     "name": "stdout",
     "output_type": "stream",
     "text": [
      "\n",
      "\n",
      "Why this works:\n",
      "\n",
      "arr=None avoids using a mutable object (like []) as a default argument.\n",
      "\n",
      "if arr is None: ensures a new list is created on each function call, if one wasn’t provided.\n",
      "\n",
      "✅ This is the correct and safe way to use mutable defaults in Python.\n",
      "\n",
      "\n",
      "--------------------------------------------------------------------------------\n",
      "['a', 'b', 3]\n",
      "[10]\n",
      "['a']\n",
      "\n",
      "\n",
      "This illustrates the danger of using arr=[] as a default:\n",
      "\n",
      "The same list is used and modified across multiple calls.\n",
      "\n",
      "This leads to unexpected results like ['a', 10, 2], even though the user didn’t pass any list!\n",
      "\n",
      "\n",
      "================================================================================\n",
      "[10, 'a', 10, 'a', 2]\n",
      "[10, 'a', 10, 'a', 4]\n",
      "\n",
      "\n",
      "Behavior                    | add_to(val, arr=[])                     | add_to_fixed(val, arr=None)\n",
      "Creates new list each time? | ❌ No — reuses the same list |          ✅ Yes — creates a new one only when needed\n",
      "Safe and expected?          | ❌ No — prone to subtle bugs |          ✅ Yes — reliable and clean\n",
      "\n",
      "\n"
     ]
    }
   ],
   "source": [
    "# How to fix add_to() ?\n",
    "# so that every time I call add_to, it creates an empty list\n",
    "# and eventually returns a list with a single value of val\n",
    "\n",
    "print('''\n",
    "\n",
    "Why this works:\n",
    "\n",
    "arr=None avoids using a mutable object (like []) as a default argument.\n",
    "\n",
    "if arr is None: ensures a new list is created on each function call, if one wasn’t provided.\n",
    "\n",
    "✅ This is the correct and safe way to use mutable defaults in Python.\n",
    "\n",
    "''')\n",
    "\n",
    "def add_to_fixed(val, arr=None):\n",
    "    if arr is None:\n",
    "        arr = []\n",
    "    arr.append(val)\n",
    "    return arr\n",
    "\n",
    "\n",
    "print('-' * 80)\n",
    "print(add_to_fixed(3, ['a', 'b'])) # ['a', 'b', 3]\n",
    "print(add_to_fixed(10)) # [10]\n",
    "print(add_to_fixed('a'))\n",
    "\n",
    "print('''\n",
    "\n",
    "This illustrates the danger of using arr=[] as a default:\n",
    "\n",
    "The same list is used and modified across multiple calls.\n",
    "\n",
    "This leads to unexpected results like ['a', 10, 2], even though the user didn’t pass any list!\n",
    "\n",
    "''')\n",
    "\n",
    "print('=' * 80)\n",
    "add_to(10)\n",
    "add_to('a')\n",
    "\n",
    "arr2 = add_to(2)\n",
    "print(arr2) # [10, 'a', 2]\n",
    "\n",
    "arr2.pop()\n",
    "print(add_to(4)) # [10, 'a', 4]\n",
    "\n",
    "# It shows the danger of using mutable default value\n",
    "# because the default value internal to the function object\n",
    "# is exposed and can be changed by the outside world\n",
    "\n",
    "print('''\n",
    "\n",
    "Behavior                    | add_to(val, arr=[])                     | add_to_fixed(val, arr=None)\n",
    "Creates new list each time? | ❌ No — reuses the same list |          ✅ Yes — creates a new one only when needed\n",
    "Safe and expected?          | ❌ No — prone to subtle bugs |          ✅ Yes — reliable and clean\n",
    "\n",
    "''')"
   ]
  },
  {
   "cell_type": "code",
   "execution_count": null,
   "id": "79658781-e8ec-41a9-8877-bf982c757d05",
   "metadata": {},
   "outputs": [],
   "source": []
  },
  {
   "cell_type": "code",
   "execution_count": 19,
   "id": "86543cc6-72bd-48a9-acea-455c120b1d1b",
   "metadata": {},
   "outputs": [
    {
     "name": "stdout",
     "output_type": "stream",
     "text": [
      "[('Alice', 18, 'Stanford'), ('Bob', 25, 'UCSC'), ('Charles', 22, 'Berkeley')]\n",
      "Alice:18:Stanford\n",
      "Bob:25:UCSC\n",
      "Charles:22:Berkeley\n",
      "[27, 2, 11, 21]\n",
      "True\n",
      "False\n"
     ]
    }
   ],
   "source": [
    "# Zip and unpack :\n",
    "\n",
    "names = ['Alice', 'Bob', 'Charles', 'David']\n",
    "ages = [18, 25, 22, 20]\n",
    "schools = ['Stanford', 'UCSC', 'Berkeley']\n",
    "\n",
    "result = list(zip(names, ages, schools))\n",
    "print(result)\n",
    "\n",
    "for name, age, school in zip(names, ages, schools):\n",
    "    print(name, age, school, sep=':')\n",
    "\n",
    "prefix_sum_before = [26, 59, 78, 108]\n",
    "prefix_sum_after = [53, 61, 89, 129]\n",
    "\n",
    "diff = [a - b for a, b in zip(prefix_sum_after, prefix_sum_before)]\n",
    "print(diff)\n",
    "\n",
    "def is_abecedarian(word):\n",
    "    for curr, next_ in zip(word[:-1], word[1:]):\n",
    "        if curr > next_:\n",
    "            return False\n",
    "\n",
    "    return True\n",
    "\n",
    "print(is_abecedarian('accept'))\n",
    "print(is_abecedarian('brother'))"
   ]
  },
  {
   "cell_type": "code",
   "execution_count": null,
   "id": "a1ddb432-31dd-4b0c-88c3-84738568b009",
   "metadata": {},
   "outputs": [],
   "source": []
  },
  {
   "cell_type": "code",
   "execution_count": 20,
   "id": "b3797094-7ebb-418c-be8d-be69965bb0fe",
   "metadata": {},
   "outputs": [
    {
     "name": "stdout",
     "output_type": "stream",
     "text": [
      "Bob 1234\n",
      "David 1235\n",
      "Frank 1237\n"
     ]
    }
   ],
   "source": [
    "# Read student's scores and grade to check if they are consistent\n",
    "\n",
    "# grading policy:\n",
    "\n",
    "def assign_grade(score):\n",
    "    if score >= 90:\n",
    "        return 'A'\n",
    "    elif score >= 80:\n",
    "        return 'B'\n",
    "    elif score >= 70:\n",
    "        return 'C'\n",
    "    elif score >= 60:\n",
    "        return 'D'\n",
    "    else:\n",
    "        return 'F'\n",
    "\n",
    "def validate(record):\n",
    "    name, sid, *scores, grade = record.split(',') # The *scores \"soaks up\" the middle part, no matter how many scores are there.\n",
    "    scores = [int(score) for score in scores]\n",
    "    avg = sum(scores) / len(scores)\n",
    "    actual_grade = assign_grade(avg)\n",
    "    return name, sid, actual_grade == grade\n",
    "\n",
    "# *var\tCollect the rest of the values into a list\n",
    "\n",
    "with open('zstudents.csv') as fin:\n",
    "    for line in fin:\n",
    "        record = line.strip()\n",
    "        name, sid, valid = validate(record)\n",
    "        if not valid:\n",
    "            print(name, sid)"
   ]
  },
  {
   "cell_type": "code",
   "execution_count": null,
   "id": "e068fc45-a5a4-42f0-bd30-79f3ee99cdb3",
   "metadata": {},
   "outputs": [],
   "source": []
  },
  {
   "cell_type": "code",
   "execution_count": 21,
   "id": "4d4f700e-7120-416e-bd83-1da092af8954",
   "metadata": {},
   "outputs": [
    {
     "name": "stdout",
     "output_type": "stream",
     "text": [
      "['apple', 'apricot', 'grape', 'kiwi', 'orange', 'pear', 'strawberry']\n",
      "[5, 5, 6, 4, 10, 4, 7]\n",
      "<zip object at 0x0000021E3B417F00>\n",
      "[]\n",
      "[]\n"
     ]
    }
   ],
   "source": [
    "# Generate A list of fruits sorted by name length (shortest to longest).\n",
    "\n",
    "fruits = ['grape', 'apple', 'orange', 'pear', 'strawberry', 'kiwi', 'apricot']\n",
    "print(sorted(fruits))\n",
    "\n",
    "fruits_length = map(len, fruits)      #  it returns a LAZY map object that computes the length of each fruit name.\n",
    "                                      #  it doesn’t compute anything right away.\n",
    "print(list(fruits_length))            #  After this line, the fruits_length has been consumed — it's now empty !!!\n",
    "\n",
    "fruits_with_length = zip(fruits_length, fruits)  # zip() pairs each fruit’s length with the fruit name.\n",
    "                                                 # zip() also creates a LAZY iterator.\n",
    "                                                 # But more importantly: fruits_length is already used up!\n",
    "                                                 # So you're effectively zipping an empty iterator with fruits, which gives an empty result.\n",
    "                                                 # And printing the zip object itself gives a memory address like: <zip object at 0x0000019257A26740>\n",
    "print(fruits_with_length)\n",
    "\n",
    "sorted_fruits_by_length = sorted(fruits_with_length)\n",
    "print(sorted_fruits_by_length)\n",
    "\n",
    "sorted_fruits = map(lambda entry: entry[-1], sorted_fruits_by_length)\n",
    "print(list(sorted_fruits))"
   ]
  },
  {
   "cell_type": "code",
   "execution_count": 22,
   "id": "a4718e8b-d83e-4ef7-bea1-543daec4d6a4",
   "metadata": {},
   "outputs": [
    {
     "name": "stdout",
     "output_type": "stream",
     "text": [
      "[5, 5, 6, 4, 10, 4, 7]\n",
      "[(5, 'grape'), (5, 'apple'), (6, 'orange'), (4, 'pear'), (10, 'strawberry'), (4, 'kiwi'), (7, 'apricot')]\n",
      "[(4, 'kiwi'), (4, 'pear'), (5, 'apple'), (5, 'grape'), (6, 'orange'), (7, 'apricot'), (10, 'strawberry')]\n",
      "['kiwi', 'pear', 'apple', 'grape', 'orange', 'apricot', 'strawberry']\n"
     ]
    }
   ],
   "source": [
    "# How to Fix It\n",
    "# Either don’t consume the map() before using it, or store it as a list early on:\n",
    "\n",
    "fruits = ['grape', 'apple', 'orange', 'pear', 'strawberry', 'kiwi', 'apricot']\n",
    "\n",
    "# Convert the map to a list immediately so it can be reused\n",
    "fruits_length = list(map(len, fruits))\n",
    "print(fruits_length)  # Now safe to print\n",
    "\n",
    "# Use the list of lengths for zip\n",
    "fruits_with_length = list(zip(fruits_length, fruits))  # Convert to list to see contents\n",
    "print(fruits_with_length)\n",
    "\n",
    "sorted_fruits_by_length = sorted(fruits_with_length)\n",
    "print(sorted_fruits_by_length)\n",
    "\n",
    "sorted_fruits = list(map(lambda entry: entry[-1], sorted_fruits_by_length)) # entry[-1] grabs the fruit name.\n",
    "print(sorted_fruits)                                                        # map(lambda e: e[-1], ...)\tExtracts just the names in sorted order"
   ]
  },
  {
   "cell_type": "code",
   "execution_count": 3,
   "id": "57765356-00aa-4d74-953c-99ac96195d5f",
   "metadata": {},
   "outputs": [
    {
     "name": "stdout",
     "output_type": "stream",
     "text": [
      "['pear', 'kiwi', 'grape', 'apple', 'orange', 'apricot', 'strawberry']\n",
      "['strawberry', 'apricot', 'orange', 'grape', 'apple', 'pear', 'kiwi']\n"
     ]
    }
   ],
   "source": [
    "fruits = ('grape', 'apple', 'orange', 'pear', 'strawberry', 'kiwi', 'apricot')\n",
    "sorted_fruits = sorted(fruits, key=len)\n",
    "print(sorted_fruits)\n",
    "\n",
    "sorted_fruits_2 = sorted(fruits, key=lambda fruit: (len(fruit), fruit), reverse=True)\n",
    "print(sorted_fruits_2)"
   ]
  },
  {
   "cell_type": "code",
   "execution_count": 23,
   "id": "746b3339-b662-42ce-ba1a-87f0dbf9ca24",
   "metadata": {},
   "outputs": [
    {
     "name": "stdout",
     "output_type": "stream",
     "text": [
      "\n",
      "\n",
      "What is Lazy Evaluation?\n",
      "\n",
      "Lazy evaluation means:\n",
      "\n",
      "\"Don’t compute anything until you absolutely need the result.\"\n",
      "\n",
      "In Python, many built-in functions like map(), zip(), filter(), and even range() (in Python 3) return lazy objects — \n",
      "also known as iterators or generators.\n",
      "\n",
      "They don’t perform work immediately, but instead wait until you loop over them, or convert them to a list or tuple.\n",
      "\n",
      "✅ Why Use Lazy Evaluation?\n",
      "\n",
      "Benefit\tExplanation :\n",
      "💾 Memory-efficient\tDoesn’t store all items in memory (great for big data)\n",
      "⚡ Faster to create\tJust sets up the logic, doesn’t compute right away\n",
      "🔄 Reusable logic\tUseful for streams or pipelines where only part of the data is needed\n",
      "\n",
      "\n",
      "<map object at 0x0000021E3B0F58D0>\n",
      "[1, 4, 9]\n",
      "<zip object at 0x0000021E3B3FF140>\n",
      "[(1, 'a'), (2, 'b')]\n",
      "range(0, 1000000)\n",
      "[0, 1, 2, 3, 4]\n",
      "[(1, 3), (2, 4)]\n",
      "[]\n",
      "<map object at 0x0000021E3B3E9330>\n",
      "['APPLE', 'BANANA']\n"
     ]
    }
   ],
   "source": [
    "print('''\n",
    "\n",
    "What is Lazy Evaluation?\n",
    "\n",
    "Lazy evaluation means:\n",
    "\n",
    "\"Don’t compute anything until you absolutely need the result.\"\n",
    "\n",
    "In Python, many built-in functions like map(), zip(), filter(), and even range() (in Python 3) return lazy objects — \n",
    "also known as iterators or generators.\n",
    "\n",
    "They don’t perform work immediately, but instead wait until you loop over them, or convert them to a list or tuple.\n",
    "\n",
    "✅ Why Use Lazy Evaluation?\n",
    "\n",
    "Benefit\tExplanation :\n",
    "💾 Memory-efficient\tDoesn’t store all items in memory (great for big data)\n",
    "⚡ Faster to create\tJust sets up the logic, doesn’t compute right away\n",
    "🔄 Reusable logic\tUseful for streams or pipelines where only part of the data is needed\n",
    "\n",
    "''')\n",
    "\n",
    "# Examples of Lazy Functions\n",
    "\n",
    "# 1. map() : applies a function to each item, but doesn't do it until you ask for it:\n",
    "\n",
    "squares = map(lambda x: x**2, [1, 2, 3])\n",
    "print(squares)         # <map object at ...>\n",
    "print(list(squares))   # [1, 4, 9]\n",
    "\n",
    "# 2. zip()\n",
    "# Pairs up elements lazily:\n",
    "\n",
    "z = zip([1, 2], ['a', 'b'])\n",
    "print(z)              # <zip object at ...>\n",
    "print(list(z))        # [(1, 'a'), (2, 'b')]\n",
    "\n",
    "# 3. range() (Python 3+)\n",
    "# Doesn't generate all numbers at once:\n",
    "\n",
    "r = range(1000000)\n",
    "print(r)              # range(0, 1000000)\n",
    "print(list(r[:5]))    # [0, 1, 2, 3, 4]\n",
    "\n",
    "# 🚨 Gotchas with Lazy Evaluation\n",
    "# They can be used only once:\n",
    "\n",
    "z = zip([1, 2], [3, 4])\n",
    "print(list(z))   # [(1, 3), (2, 4)]\n",
    "print(list(z))   # [] ← already consumed!\n",
    "\n",
    "# You must convert them to see results:\n",
    "\n",
    "f = map(str.upper, ['apple', 'banana'])\n",
    "print(f)          # <map object ...>\n",
    "print(list(f))    # ['APPLE', 'BANANA']"
   ]
  },
  {
   "cell_type": "code",
   "execution_count": 24,
   "id": "983cad47-6f22-4eb1-abe3-5f8c141edefa",
   "metadata": {},
   "outputs": [
    {
     "name": "stdout",
     "output_type": "stream",
     "text": [
      "\n",
      "\n",
      "Are all generators and iterators lazy?\n",
      "✅ Yes — by definition, generators and iterators in Python are lazy.\n",
      "\n",
      "That means:\n",
      "\n",
      "They do not compute or store values all at once — they compute and return values one at a time, on demand.\n",
      "\n",
      "🧠 Let's break it down:\n",
      "\n",
      "🔁 What is an iterator?\n",
      "\n",
      "An iterator is any object in Python that:\n",
      "\n",
      "Implements the __iter__() and __next__() methods\n",
      "\n",
      "Delivers one item at a time\n",
      "\n",
      "Remembers where it left off\n",
      "\n",
      "Raises StopIteration when it’s out of items\n",
      "\n",
      "✅ All built-in lazy tools like map(), zip(), filter(), and range() (in Python 3) are iterators.\n",
      "\n",
      "🔥 What is a generator?\n",
      "\n",
      "A generator is a special type of iterator, created by:\n",
      "\n",
      "A function using yield\n",
      "\n",
      "Or a generator expression, like (x*x for x in range(10))\n",
      "\n",
      "Generators are:\n",
      "\n",
      "Automatically lazy\n",
      "\n",
      "Use less memory\n",
      "\n",
      "Pause after each yield and resume later.\n",
      "\n",
      "\n"
     ]
    }
   ],
   "source": [
    "print('''\n",
    "\n",
    "Are all generators and iterators lazy?\n",
    "✅ Yes — by definition, generators and iterators in Python are lazy.\n",
    "\n",
    "That means:\n",
    "\n",
    "They do not compute or store values all at once — they compute and return values one at a time, on demand.\n",
    "\n",
    "🧠 Let's break it down:\n",
    "\n",
    "🔁 What is an iterator?\n",
    "\n",
    "An iterator is any object in Python that:\n",
    "\n",
    "Implements the __iter__() and __next__() methods\n",
    "\n",
    "Delivers one item at a time\n",
    "\n",
    "Remembers where it left off\n",
    "\n",
    "Raises StopIteration when it’s out of items\n",
    "\n",
    "✅ All built-in lazy tools like map(), zip(), filter(), and range() (in Python 3) are iterators.\n",
    "\n",
    "🔥 What is a generator?\n",
    "\n",
    "A generator is a special type of iterator, created by:\n",
    "\n",
    "A function using yield\n",
    "\n",
    "Or a generator expression, like (x*x for x in range(10))\n",
    "\n",
    "Generators are:\n",
    "\n",
    "Automatically lazy\n",
    "\n",
    "Use less memory\n",
    "\n",
    "Pause after each yield and resume later.\n",
    "\n",
    "''')"
   ]
  },
  {
   "cell_type": "code",
   "execution_count": 25,
   "id": "994d30fb-f634-4e11-9bd8-edd67a470472",
   "metadata": {},
   "outputs": [
    {
     "name": "stdout",
     "output_type": "stream",
     "text": [
      "\n",
      "\n",
      "Key Python Concept Used\n",
      "\n",
      "setdefault(key, default_value)\n",
      "→ If key is already in the dictionary, do nothing.\n",
      "→ If key is missing, insert it with the provided default_value.\n",
      "\n",
      "\n"
     ]
    }
   ],
   "source": [
    "print('''\n",
    "\n",
    "Key Python Concept Used\n",
    "\n",
    "setdefault(key, default_value)\n",
    "→ If key is already in the dictionary, do nothing.\n",
    "→ If key is missing, insert it with the provided default_value.\n",
    "\n",
    "''')"
   ]
  },
  {
   "cell_type": "code",
   "execution_count": 26,
   "id": "65193317-0ee0-4fb4-8983-dcbb38b022ae",
   "metadata": {},
   "outputs": [],
   "source": [
    "# dict.setdefault(key, default)\n",
    "\n",
    "# Problem : \n",
    "\n",
    "# Checks if the key exists in the dictionary.\n",
    "# If it does, it returns the existing value.\n",
    "\n",
    "# If it doesn't, it:\n",
    "# Inserts the key with the given default value\n",
    "\n",
    "# Returns that default value\n",
    "# dict.setdefault(key, default_value)"
   ]
  },
  {
   "cell_type": "code",
   "execution_count": 27,
   "id": "81ee71a0-8391-4d8c-a27d-4aa07aae0e71",
   "metadata": {},
   "outputs": [
    {
     "name": "stdout",
     "output_type": "stream",
     "text": [
      "Frequency :\n",
      "{'p': 2, 'n': 4, 'e': 1, 'u': 2, 'm': 2, 'o': 9, 'l': 3, 't': 1, 'r': 2, 'a': 2, 'i': 6, 'c': 6, 's': 4, 'v': 1}\n",
      "Reverse lookup :\n",
      "{2: ['p', 'u', 'm', 'r', 'a'], 4: ['n', 's'], 1: ['e', 't', 'v'], 9: ['o'], 3: ['l'], 6: ['i', 'c']}\n",
      "[9, 6, 4, 3, 2, 1]\n",
      "Most frequent letters: ['o']\n",
      "Second most frequent letters: ['i', 'c']\n",
      "Third most frequent letters: ['n', 's']\n",
      "Least frequent letters: ['e', 't', 'v']\n"
     ]
    }
   ],
   "source": [
    "# Part 1: Count the frequency of each letter\n",
    "# return a dict with letter -> freq\n",
    "\n",
    "def letter_count(word):\n",
    "    result = {}\n",
    "    for letter in word:\n",
    "        # if letter in result:\n",
    "        #     result[letter] += 1\n",
    "        # else:\n",
    "        #     result[letter] = 1\n",
    "        result.setdefault(letter, 0)\n",
    "        result[letter] += 1\n",
    "    return result\n",
    "\n",
    "\n",
    "word = \"pneumonoultramicroscopicsilicovolcanoconiosis\"\n",
    "freqs = letter_count(word)\n",
    "\n",
    "print(\"Frequency :\")\n",
    "print(freqs)\n",
    "\n",
    "# {\n",
    "#   \"p\": 2,\n",
    "#   \"n\": 4,\n",
    "#   \"e\": 1,\n",
    "#   \"u\": 2,\n",
    "#   \"m\": 2,\n",
    "#   \"o\": 9,\n",
    "#   \"l\": 3,\n",
    "#   \"t\": 1,\n",
    "#   \"r\": 2,\n",
    "#   \"a\": 2,\n",
    "#   \"i\": 6,\n",
    "#   \"c\": 6,\n",
    "#   \"s\": 4,\n",
    "#   \"v\": 1\n",
    "# }\n",
    "\n",
    "# Part 2: Invert the frequency dictionary\n",
    "# reverse table: freq -> [letters]\n",
    "# {\n",
    "#   6: ['i', 'c']\n",
    "# }\n",
    "\n",
    "# d: key -> value\n",
    "# return: value -> [keys]\n",
    "\n",
    "# Build a new dictionary where:\n",
    "# The keys are the values from the original dictionary (e.g., frequency counts like 2, 3, 1).\n",
    "# The values are lists of keys from the original dictionary that shared that frequency.\n",
    "# In short: reverse key and value\n",
    "\n",
    "def get_reverse(d):\n",
    "    result = {}\n",
    "\n",
    "    for key, value in d.items():\n",
    "        result.setdefault(value, [])\n",
    "        result[value].append(key)\n",
    "\n",
    "    return result\n",
    "\n",
    "# print(\"Reverse lookup :\")\n",
    "reversed_lookup = get_reverse(freqs)\n",
    "print(\"Reverse lookup :\")\n",
    "print(reversed_lookup)\n",
    "\n",
    "# {2: ['p', 'u', 'm', 'r', 'a'], 4: ['n', 's'], 1: ['e', 't', 'v'], 9: ['o'], 3: ['l'], 6: ['i', 'c']}\n",
    "\n",
    "# In Python, iterating over a dictionary (like in for key in dict) only looks at the keys — not the values.\n",
    "# sorted(reversed_lookup) automatically sorts the dictionary's keys (NOT its values).\n",
    "\n",
    "sorted_freqs = sorted(reversed_lookup, reverse=True)\n",
    "print(sorted_freqs)\n",
    "\n",
    "print('Most frequent letters: {}'.format(reversed_lookup[sorted_freqs[0]]))\n",
    "print('Second most frequent letters: {}'.format(reversed_lookup[sorted_freqs[1]]))\n",
    "print('Third most frequent letters: {}'.format(reversed_lookup[sorted_freqs[2]]))\n",
    "print('Least frequent letters: {}'.format(reversed_lookup[sorted_freqs[-1]]))"
   ]
  },
  {
   "cell_type": "code",
   "execution_count": null,
   "id": "204378fe-c017-49a3-80a0-3545755cc669",
   "metadata": {},
   "outputs": [],
   "source": []
  }
 ],
 "metadata": {
  "kernelspec": {
   "display_name": "Python 3 (ipykernel)",
   "language": "python",
   "name": "python3"
  },
  "language_info": {
   "codemirror_mode": {
    "name": "ipython",
    "version": 3
   },
   "file_extension": ".py",
   "mimetype": "text/x-python",
   "name": "python",
   "nbconvert_exporter": "python",
   "pygments_lexer": "ipython3",
   "version": "3.12.2"
  }
 },
 "nbformat": 4,
 "nbformat_minor": 5
}
