{
 "cells": [
  {
   "cell_type": "code",
   "execution_count": null,
   "id": "286b5efe-cdcf-4925-8743-c72d4c038845",
   "metadata": {},
   "outputs": [],
   "source": []
  },
  {
   "cell_type": "code",
   "execution_count": 1,
   "id": "db7cca64-3101-4cd2-b3bc-9a122e1fd3e5",
   "metadata": {},
   "outputs": [
    {
     "name": "stdout",
     "output_type": "stream",
     "text": [
      "In this section : Dictionaries\n",
      "In this section : Recursion vs Iteration\n"
     ]
    }
   ],
   "source": [
    "print(\"In this section : Dictionaries\")\n",
    "print(\"In this section : Recursion vs Iteration\")"
   ]
  },
  {
   "cell_type": "code",
   "execution_count": null,
   "id": "56d7efc1-ad28-482e-9c92-1cb99f49f59a",
   "metadata": {},
   "outputs": [],
   "source": []
  },
  {
   "cell_type": "code",
   "execution_count": 2,
   "id": "86cb38bf-6dfa-41d4-a372-1ac177292c9e",
   "metadata": {},
   "outputs": [
    {
     "name": "stdout",
     "output_type": "stream",
     "text": [
      "\n",
      "\n",
      "What dict.setdefault() does:\n",
      "\n",
      "setdefault() is a dictionary method that:\n",
      "\n",
      "Checks if a key exists in the dictionary.\n",
      "If the key exists, it returns its value.\n",
      "If the key does not exist, it:\n",
      "Adds the key to the dictionary with a default value you provide.\n",
      "Then returns that default value.\n",
      "\n",
      "Why is it useful?\n",
      "It saves you from writing an if key not in dict: check manually.\n",
      "It's shorter and cleaner when you want to initialize default values (like empty lists, sets, or counters).\n",
      "\n",
      "\n",
      "{'c': ['cat', 'car'], 'd': ['dog', 'door']}\n"
     ]
    }
   ],
   "source": [
    "print('''\n",
    "\n",
    "What dict.setdefault() does:\n",
    "\n",
    "setdefault() is a dictionary method that:\n",
    "\n",
    "Checks if a key exists in the dictionary.\n",
    "If the key exists, it returns its value.\n",
    "If the key does not exist, it:\n",
    "Adds the key to the dictionary with a default value you provide.\n",
    "Then returns that default value.\n",
    "\n",
    "Why is it useful?\n",
    "It saves you from writing an if key not in dict: check manually.\n",
    "It's shorter and cleaner when you want to initialize default values (like empty lists, sets, or counters).\n",
    "\n",
    "''')\n",
    "\n",
    "# Real-world example (building a dictionary of lists):\n",
    "\n",
    "words = ['cat', 'car', 'dog', 'door']\n",
    "d = {}\n",
    "\n",
    "for word in words:\n",
    "    first_letter = word[0]\n",
    "    d.setdefault(first_letter, []).append(word)\n",
    "\n",
    "print(d)\n",
    "\n",
    "# setdefault() = \"get me the value for this key — and if it doesn’t exist, create it with a default.\"\n",
    "# It's a shortcut for safe, clean dictionary updating."
   ]
  },
  {
   "cell_type": "code",
   "execution_count": null,
   "id": "4a103f0a-3a79-4da6-a796-59165418ca21",
   "metadata": {},
   "outputs": [],
   "source": []
  },
  {
   "cell_type": "code",
   "execution_count": 3,
   "id": "663f70c3-2f81-4680-aab1-c10ab787022b",
   "metadata": {},
   "outputs": [
    {
     "name": "stdout",
     "output_type": "stream",
     "text": [
      "{'Python': 3, 'C++': 1, 'HTML': 2, 'CSS': 2, 'Java': 2, 'WebDev': 1, 'JavaScript': 1, 'SQL': 1}\n"
     ]
    }
   ],
   "source": [
    "# Our code is almost perfect and does a good job answering the question \"How many people endorse each skill?\" \n",
    "# — not just the raw number of endorsements per skill.\n",
    "\n",
    "endorsements = {\n",
    "    'Bob': ['Python', 'Java', 'HTML', 'CSS', 'C++', 'Python', 'Python'],\n",
    "    'David': ['Python', 'WebDev', 'JavaScript', 'Python'],\n",
    "    'Eric': ['Java', 'HTML', 'SQL'],\n",
    "    'Frank': ['CSS', 'Python']\n",
    "}\n",
    "\n",
    "# what are my skills and how many people endorse each skill\n",
    "# {'Python': 3, 'Java': 2, ...}\n",
    "\n",
    "def get_skills(endorsements):\n",
    "    result = {}\n",
    "\n",
    "    for skills in endorsements.values():\n",
    "        for skill in set(skills):\n",
    "            result.setdefault(skill, 0)\n",
    "            result[skill] += 1\n",
    "\n",
    "    return result\n",
    "\n",
    "\n",
    "skills = get_skills(endorsements)\n",
    "print(skills)"
   ]
  },
  {
   "cell_type": "code",
   "execution_count": null,
   "id": "5460abc5-c7dd-4503-9950-a9bc8319eb24",
   "metadata": {},
   "outputs": [],
   "source": []
  },
  {
   "cell_type": "code",
   "execution_count": 4,
   "id": "99c67906-df31-432d-bbe8-bc8e15d5c2a4",
   "metadata": {},
   "outputs": [],
   "source": [
    "# An anagram is when you rearrange the letters of a word or phrase to make another word or phrase, using all the original letters exactly once.\n",
    "\n",
    "# For example:\n",
    "# \"listen\" → \"silent\"\n",
    "# \"evil\" → \"vile\"\n",
    "# \"dusty\" → \"study\"\n",
    "# \"conversation\" → \"voices rant on\"\n",
    "\n",
    "# In short: same letters, different order."
   ]
  },
  {
   "cell_type": "code",
   "execution_count": 5,
   "id": "d572b4d1-22bf-4dcc-a18b-5d08269168a0",
   "metadata": {},
   "outputs": [
    {
     "name": "stdout",
     "output_type": "stream",
     "text": [
      "[['cab', 'abc', 'bca'], ['ba', 'ab'], ['d'], ['ad', 'da']]\n",
      "[['slater', 'artels', 'laster', 'alerts', 'staler', 'ratels', 'stelar', 'estral', 'alters', 'talers', 'salter'], ['presa', 'spear', 'prase', 'rapes', 'asper', 'spare', 'pears', 'pares', 'parse', 'reaps', 'apers'], ['setal', 'least', 'steal', 'taels', 'stela', 'stale', 'tales', 'tesla', 'slate', 'teals'], ['escarp', 'pacers', 'scrape', 'capers', 'secpar', 'parsec', 'crapes', 'recaps', 'spacer'], ['sinter', 'trines', 'inerts', 'insert', 'nitres', 'niters', 'triens', 'estrin', 'inters']]\n"
     ]
    }
   ],
   "source": [
    "# anagram: post, stop, pots, tops\n",
    "# not anagrams: aab, abb\n",
    "\n",
    "# You create an empty dictionary.\n",
    "# This dictionary will group together words that are anagrams of each other.\n",
    "# The key will be the sorted letters of the word (signature).\n",
    "# The value will be a set of words that match that signature.\n",
    "\n",
    "# In Short:\n",
    "# Sort each word → to create a common signature.\n",
    "# Group words with the same signature.\n",
    "# Return a list of all groups.\n",
    "  \n",
    "# Returns a list of all anagrams\n",
    "def form_anagrams(words):\n",
    "    anagram_dict = {}\n",
    "\n",
    "    for word in words:\n",
    "        signature = ''.join(sorted(word))\n",
    "        anagram_dict.setdefault(signature, set())\n",
    "        anagram_dict[signature].add(word)\n",
    "\n",
    "    return [list(ana) for ana in anagram_dict.values()]\n",
    "\n",
    "words = ['abc', 'ab', 'bca', 'cab', 'd', 'da', 'ba', 'ad']\n",
    "print(form_anagrams(words))\n",
    "\n",
    "# [\n",
    "#   ['abc', 'bca', 'cab'],\n",
    "#   [...],\n",
    "#   ...\n",
    "#   ['d']\n",
    "# ]\n",
    "\n",
    "with open('zwords.txt') as fin:\n",
    "    anagrams = form_anagrams([word.strip() for word in fin])\n",
    "    print(sorted(anagrams, key=len, reverse=True)[:5])"
   ]
  },
  {
   "cell_type": "code",
   "execution_count": 6,
   "id": "df46674b-5dba-4eec-a583-9e2258d951e6",
   "metadata": {},
   "outputs": [
    {
     "name": "stdout",
     "output_type": "stream",
     "text": [
      "[['slater', 'artels', 'laster', 'alerts', 'staler', 'ratels', 'stelar', 'estral', 'alters', 'talers', 'salter'], ['presa', 'spear', 'prase', 'rapes', 'asper', 'spare', 'pears', 'pares', 'parse', 'reaps', 'apers'], ['setal', 'least', 'steal', 'taels', 'stela', 'stale', 'tales', 'tesla', 'slate', 'teals'], ['escarp', 'pacers', 'scrape', 'capers', 'secpar', 'parsec', 'crapes', 'recaps', 'spacer'], ['sinter', 'trines', 'inerts', 'insert', 'nitres', 'niters', 'triens', 'estrin', 'inters']]\n"
     ]
    }
   ],
   "source": [
    "# Print out the top 5 biggest anagrams from zwords.txt\n",
    "\n",
    "def form_anagrams(words):\n",
    "    anagram_dict = {}\n",
    "\n",
    "    for word in words:\n",
    "        signature = ''.join(sorted(word))\n",
    "        anagram_dict.setdefault(signature, set())\n",
    "        anagram_dict[signature].add(word)\n",
    "\n",
    "    return [list(ana) for ana in anagram_dict.values()]\n",
    "\n",
    "with open('zwords.txt') as fin:\n",
    "    anagrams = form_anagrams([word.strip() for word in fin])\n",
    "    print(sorted(anagrams, key=len, reverse=True)[:5])\n",
    "\n",
    "# What does key=len do?\n",
    "# Here, len is the function used as the sorting key. So Python will:\n",
    "# Take each element in anagrams,\n",
    "# Apply len() to it,\n",
    "# Sort the list based on that length.\n",
    "# It does not sort the strings alphabetically — it sorts them by length.\n",
    "\n",
    "# sorted(anagrams, key=len, reverse=True)"
   ]
  },
  {
   "cell_type": "code",
   "execution_count": 7,
   "id": "bd391dd6-3204-47ff-b9b5-28248ec80a8f",
   "metadata": {},
   "outputs": [
    {
     "name": "stdout",
     "output_type": "stream",
     "text": [
      "Interlocked words: \n"
     ]
    }
   ],
   "source": [
    "print(\"Interlocked words: \")"
   ]
  },
  {
   "cell_type": "code",
   "execution_count": 8,
   "id": "175e9555-8b66-4ed3-b0da-f20f18132b53",
   "metadata": {},
   "outputs": [],
   "source": [
    "# A word is considered *interlocked* if:\n",
    "#   - The sub-word formed by its even-indexed letters (word[::2]), and\n",
    "#   - The sub-word formed by its odd-indexed letters (word[1::2])\n",
    "# are both valid words.\n",
    "\n",
    "# A valid word is one that appears in the dictionary file `words.txt`.\n",
    "\n",
    "# Example:\n",
    "#   \"schooled\" → even-indexed letters: \"shoe\", odd-indexed letters: \"cold\"\n",
    "#    Both \"shoe\" and \"cold\" are valid words, so \"schooled\" is interlocked."
   ]
  },
  {
   "cell_type": "code",
   "execution_count": 9,
   "id": "789a2ec4-6590-4d9b-b884-126bdd6a4a78",
   "metadata": {},
   "outputs": [
    {
     "name": "stdout",
     "output_type": "stream",
     "text": [
      "0.044394731521606445 seconds\n",
      "['aahs', 'abbey', 'abied', 'abies', 'abri', 'abris', 'abye', 'abyes', 'across', 'added']\n"
     ]
    }
   ],
   "source": [
    "# Print all the interlocked words from zwords.txt\n",
    "\n",
    "# bisect_left: used for fast binary search in a sorted list.\n",
    "# time: used to measure performance.\n",
    "\n",
    "from bisect import bisect_left\n",
    "import time\n",
    "\n",
    "# Binary_search using bisect\n",
    "# Efficient search for target in words, assuming words is sorted.\n",
    "# Returns True if found\n",
    "\n",
    "def binary_search(target, words):\n",
    "    index = bisect_left(words, target)\n",
    "    if index != len(words) and words[index] == target:\n",
    "        return True\n",
    "    else:\n",
    "        return False\n",
    "\n",
    "# my_binary_search is a manual version of binary search.\n",
    "def my_binary_search(target, words):\n",
    "    low = 0\n",
    "    high = len(words) - 1\n",
    "\n",
    "    while low <= high:\n",
    "        mid = (low + high) // 2\n",
    "        if target == words[mid]:\n",
    "            return True\n",
    "        elif target < words[mid]:\n",
    "            high = mid - 1\n",
    "        else:\n",
    "            low = mid + 1\n",
    "\n",
    "    return False\n",
    "\n",
    "with open('zwords.txt') as fin:\n",
    "    words = []\n",
    "    for line in fin:\n",
    "        word = line.strip()\n",
    "        words.append(word)\n",
    "\n",
    "    start = time.time()\n",
    "\n",
    "    interlocked = []\n",
    "\n",
    "    for word in words:\n",
    "        even_part = word[::2]\n",
    "        odd_part = word[1::2]\n",
    "\n",
    "        # if even_part in words and odd_part in words:\n",
    "        if binary_search(even_part, words) and binary_search(odd_part, words):\n",
    "            interlocked.append(word)\n",
    "\n",
    "    end = time.time()\n",
    "\n",
    "    print('{} seconds'.format(end - start))\n",
    "\n",
    "    print(interlocked[:10])"
   ]
  },
  {
   "cell_type": "code",
   "execution_count": 10,
   "id": "56e53e92-1dbe-4f52-ba12-023503fe9031",
   "metadata": {},
   "outputs": [
    {
     "name": "stdout",
     "output_type": "stream",
     "text": [
      "Interlocked words: using set() :\n",
      "\n",
      "\n",
      "You use a set() instead of a list() because set lookup is much faster — almost instant.\n",
      "\n",
      "Here's why:\n",
      "\n",
      "Data Structure\tLookup Time (Checking if item in collection)\n",
      "list\tslow: O(n) — you might have to check every element\n",
      "set\tfast: O(1) — Python uses a hash table internally\n",
      "\n",
      "\n"
     ]
    }
   ],
   "source": [
    "print(\"Interlocked words: using set() :\")\n",
    "\n",
    "print('''\n",
    "\n",
    "You use a set() instead of a list() because set lookup is much faster — almost instant.\n",
    "\n",
    "Here's why:\n",
    "\n",
    "Data Structure\tLookup Time (Checking if item in collection)\n",
    "list\tslow: O(n) — you might have to check every element\n",
    "set\tfast: O(1) — Python uses a hash table internally\n",
    "\n",
    "''')"
   ]
  },
  {
   "cell_type": "code",
   "execution_count": 11,
   "id": "998a9661-10af-48cc-b8f4-24ae41490d6f",
   "metadata": {},
   "outputs": [
    {
     "name": "stdout",
     "output_type": "stream",
     "text": [
      "0.03295469284057617 seconds\n",
      "['peals', 'ignitron', 'scoots', 'spoil', 'fluent', 'apsis']\n"
     ]
    }
   ],
   "source": [
    "# Another version of the code : using SET()\n",
    "\n",
    "# This script reads a list of words from words.txt into a set for fast lookup.\n",
    "# It searches for interlocked words — words where the even-indexed and odd-indexed letters each form valid words.\n",
    "# If both parts exist in the set, the word is added to the interlocked list.\n",
    "# Finally, it prints the total time taken and the list of interlocked words found.\n",
    "\n",
    "# print all the interlocked words from zwords.txt\n",
    "\n",
    "import time\n",
    "\n",
    "with open('zwords.txt') as fin:\n",
    "    words = set()\n",
    "    for line in fin:\n",
    "        word = line.strip()\n",
    "        words.add(word)\n",
    "\n",
    "    start = time.time()\n",
    "\n",
    "    interlocked = []\n",
    "\n",
    "    for word in words:\n",
    "        even_part = word[::2]\n",
    "        odd_part = word[1::2]\n",
    "\n",
    "        if even_part in words and odd_part in words:\n",
    "            interlocked.append(word)\n",
    "\n",
    "    end = time.time()\n",
    "\n",
    "    print('{} seconds'.format(end - start))\n",
    "\n",
    "    print(interlocked[:6])"
   ]
  },
  {
   "cell_type": "code",
   "execution_count": null,
   "id": "4254cac4-6731-4045-99db-6d893a9f3fef",
   "metadata": {},
   "outputs": [],
   "source": []
  },
  {
   "cell_type": "code",
   "execution_count": 12,
   "id": "e571c430-7829-4550-a8f5-8b3b26bb3281",
   "metadata": {},
   "outputs": [
    {
     "name": "stdout",
     "output_type": "stream",
     "text": [
      "RECURSION : example 1\n"
     ]
    }
   ],
   "source": [
    "print(\"RECURSION : example 1\")"
   ]
  },
  {
   "cell_type": "code",
   "execution_count": 13,
   "id": "cee51de7-dab9-4ae1-ac0d-6e8520e5afc1",
   "metadata": {},
   "outputs": [
    {
     "name": "stdout",
     "output_type": "stream",
     "text": [
      "Abecedarian\n",
      "True\n",
      "False\n"
     ]
    }
   ],
   "source": [
    "print(\"Abecedarian\")\n",
    "\n",
    "# is_abecedarian_recur(word) checks if a word's letters are in alphabetical order.\n",
    "# For example:\n",
    "# \"accept\" → a, c, c, e, p, t → in order.\n",
    "# \"brother\" → b, r, o, t, h, e, r → not in order.\n",
    "# It works recursively:\n",
    "# If the word has 0 or 1 letters → True.\n",
    "# Otherwise, it checks:\n",
    "# Is the first letter ≤ second letter? (alphabetically)\n",
    "# And then calls itself on the rest of the word.\n",
    "\n",
    "def is_abecedarian_recur(word):\n",
    "    if len(word) <= 1:\n",
    "        return True\n",
    "\n",
    "    return word[0] <= word[1] and is_abecedarian_recur(word[1:])\n",
    "\n",
    "print(is_abecedarian_recur('accept'))\n",
    "print(is_abecedarian_recur('brother'))"
   ]
  },
  {
   "cell_type": "code",
   "execution_count": null,
   "id": "622c3729-3a94-4c9c-b691-23548a9d4e0b",
   "metadata": {},
   "outputs": [],
   "source": []
  },
  {
   "cell_type": "code",
   "execution_count": 14,
   "id": "e801b387-9dce-480e-aecb-53607b39fd2c",
   "metadata": {},
   "outputs": [
    {
     "name": "stdout",
     "output_type": "stream",
     "text": [
      "RECURSION : example 2\n"
     ]
    }
   ],
   "source": [
    "print(\"RECURSION : example 2\")"
   ]
  },
  {
   "cell_type": "code",
   "execution_count": 15,
   "id": "ff3709eb-d46f-4138-ac7a-1ff4a7e46b6c",
   "metadata": {},
   "outputs": [
    {
     "name": "stdout",
     "output_type": "stream",
     "text": [
      "2 be or not 2 be\n",
      "gonegonegone\n",
      "baa\n",
      "advanced calculus\n",
      "2 be or not 2 be\n",
      "gonegonegone\n",
      "baa\n",
      "advanced calculus\n"
     ]
    }
   ],
   "source": [
    "# This function replaces all occurrences of target in msg with replacement.\n",
    "\n",
    "# It first splits the msg by the target, creating a list of chunks.\n",
    "# Then it joins those chunks with the replacement.\n",
    "\n",
    "import time\n",
    "\n",
    "def replace_all(msg, target, replacement):\n",
    "    return replacement.join(msg.split(target))\n",
    "\n",
    "print(replace_all('to be or not to be', 'to', '2')) # 2 be or not 2 be\n",
    "print(replace_all('gogogo', 'go', 'gone')) # gonegonegone\n",
    "print(replace_all('aaaaa', 'aaa', 'b')) # baa\n",
    "print(replace_all('advanced calculus', 'math', 'physics')) # advanced calculus\n",
    "\n",
    "def replace_all_recur(msg, target, replace):\n",
    "    try:\n",
    "        pos = msg.index(target)\n",
    "        return (msg[:pos] + replace +\n",
    "                replace_all_recur(msg[pos+len(target):], target, replace))\n",
    "    except Exception:\n",
    "        return msg\n",
    "\n",
    "print(replace_all_recur('to be or not to be', 'to', '2')) # 2 be or not 2 be\n",
    "print(replace_all_recur('gogogo', 'go', 'gone')) # gonegonegone\n",
    "print(replace_all_recur('aaaaa', 'aaa', 'b')) # baa\n",
    "print(replace_all_recur('advanced calculus', 'math', 'physics')) # advanced calculus"
   ]
  },
  {
   "cell_type": "code",
   "execution_count": 16,
   "id": "b298be8c-de5e-40d2-8fea-a31a2ce1f204",
   "metadata": {},
   "outputs": [
    {
     "name": "stdout",
     "output_type": "stream",
     "text": [
      "RECURSION : example 3 : \n"
     ]
    }
   ],
   "source": [
    "print(\"RECURSION : example 3 : \")"
   ]
  },
  {
   "cell_type": "code",
   "execution_count": 17,
   "id": "c2dc7d17-22f6-4cad-be4a-5304d338093c",
   "metadata": {},
   "outputs": [
    {
     "name": "stdout",
     "output_type": "stream",
     "text": [
      "Factorial :\n",
      "2432902008176640000\n",
      "-1\n"
     ]
    }
   ],
   "source": [
    "print(\"Factorial :\")\n",
    "# factorial(n) computes the factorial of n, defined as n! = n × (n-1) × (n-2) × ... × 1.\n",
    "\n",
    "def factorial(n):\n",
    "    if n < 0:\n",
    "        # sanity check\n",
    "        return -1\n",
    "    elif n == 0:\n",
    "        # base case\n",
    "        return 1\n",
    "\n",
    "    # recursive step\n",
    "    return n * factorial(n - 1)\n",
    "\n",
    "print(factorial(20))\n",
    "print(factorial(-1))\n"
   ]
  },
  {
   "cell_type": "code",
   "execution_count": 18,
   "id": "89a61238-3d34-4e67-a3c5-ddaac0ffabba",
   "metadata": {},
   "outputs": [
    {
     "name": "stdout",
     "output_type": "stream",
     "text": [
      "RECURSION : example 4 : FIBONACCI \n"
     ]
    }
   ],
   "source": [
    "print(\"RECURSION : example 4 : FIBONACCI \")"
   ]
  },
  {
   "cell_type": "code",
   "execution_count": 19,
   "id": "745f60ec-0a01-4430-8976-588ed248b67c",
   "metadata": {},
   "outputs": [
    {
     "name": "stdout",
     "output_type": "stream",
     "text": [
      "FIBONACCI : iteration\n",
      "FIBONACCI : using iteration\n",
      "6765\n",
      "FIBONACCI : using recursion without memoization (slow)\n",
      "6765\n",
      "FIBONACCI : using recursion with memoization / caching (fast)\n",
      "Recursive with memo: 6765\n"
     ]
    }
   ],
   "source": [
    "# Fibonacci series : F(1)=1,F(2)=1,and for n≥3,F(n)=F(n−1)+F(n−2)\n",
    "\n",
    "# Here are three versions of the Fibonacci function in Python, showing:\n",
    "# Iterative\n",
    "# Recursive (no memoization)\n",
    "# Recursive with memoization (top-down dynamic programming)\n",
    "\n",
    "print(\"FIBONACCI : iteration\")\n",
    "# 1. Iterative version (most efficient)\n",
    "def fib_iter(n):\n",
    "    a, b = 1, 1\n",
    "    for _ in range(2, n):\n",
    "        a, b = b, a + b\n",
    "    return b if n > 1 else 1\n",
    "\n",
    "print(\"FIBONACCI : using iteration\")\n",
    "print(fib_iter(20))\n",
    "\n",
    "# 2. Fibonacci using recursion without memoization (slow)\n",
    "print(\"FIBONACCI : using recursion without memoization (slow)\")\n",
    "\n",
    "def fib_recur(n):\n",
    "    if n <= 2:\n",
    "        return 1\n",
    "    return fib_recur(n - 1) + fib_recur(n - 2)\n",
    "\n",
    "print(fib_recur(20))\n",
    "\n",
    "# 3. Fibonacci using recursion with memoization (fast & elegant)\n",
    "print(\"FIBONACCI : using recursion with memoization / caching (fast)\")\n",
    "\n",
    "memo = {1: 1, 2: 1}\n",
    "\n",
    "def fib_memo(n):\n",
    "    if n in memo:\n",
    "        return memo[n]\n",
    "    memo[n] = fib_memo(n - 1) + fib_memo(n - 2)\n",
    "    return memo[n]\n",
    "\n",
    "print(\"Recursive with memo:\", fib_memo(20))  # Output: 55\n",
    "\n",
    "# Explanations : \n",
    "# memo = {1: 1, 2: 1}\n",
    "# This saves already known values:\n",
    "# fib(1) = 1\n",
    "# fib(2) = 1\n",
    "# Memoization means: store results after computing them once, so you don't recompute them again.\n",
    "\n",
    "# Function fib_memo(n):\n",
    "# Checks: Is n already calculated and stored in memo?\n",
    "# if n in memo:\n",
    "#    return memo[n]\n",
    "# If not, it recursively computes:\n",
    "# memo[n] = fib_memo(n - 1) + fib_memo(n - 2)\n",
    "\n",
    "# First compute fib(n-1), then fib(n-2).\n",
    "# Add the two results.\n",
    "# Save memo[n] for later.\n",
    "# Finally, return memo[n]."
   ]
  },
  {
   "cell_type": "code",
   "execution_count": null,
   "id": "b75a42d5-ba02-4f09-8060-60ab15f73714",
   "metadata": {},
   "outputs": [],
   "source": []
  },
  {
   "cell_type": "code",
   "execution_count": 20,
   "id": "5cff5c41-15ce-4a39-b30e-b98070869c58",
   "metadata": {},
   "outputs": [
    {
     "name": "stdout",
     "output_type": "stream",
     "text": [
      "Set recursion limit : sys.setrecursionlimit \n"
     ]
    }
   ],
   "source": [
    "print(\"Set recursion limit : sys.setrecursionlimit \")"
   ]
  },
  {
   "cell_type": "code",
   "execution_count": 21,
   "id": "708de2e4-692d-4724-95ab-09628f423bd5",
   "metadata": {},
   "outputs": [
    {
     "name": "stdout",
     "output_type": "stream",
     "text": [
      "4224696333392304878706725602341482782579852840250681098010280137314308584370130707224123599639141511088446087538909603607640194711643596029271983312598737326253555802606991585915229492453904998722256795316982874482472992263901833716778060607011615497886719879858311468870876264597369086722884023654422295243347964480139515349562972087652656069529806499841977448720155612802665404554171717881930324025204312082516817125\n"
     ]
    }
   ],
   "source": [
    "import sys\n",
    "\n",
    "# Set recursion limit to a larger number, e.g., 5000\n",
    "sys.setrecursionlimit(5000)\n",
    "\n",
    "memo = {1: 1, 2: 1}\n",
    "\n",
    "def fib(n):\n",
    "    if n in memo:\n",
    "        return memo[n]\n",
    "    else:\n",
    "        result = fib(n - 1) + fib(n - 2)\n",
    "        memo[n] = result\n",
    "        return result\n",
    "\n",
    "print(fib(2000))"
   ]
  },
  {
   "cell_type": "code",
   "execution_count": null,
   "id": "f6e1f31f-8729-40f5-af86-3e3bb0a61d8b",
   "metadata": {},
   "outputs": [],
   "source": []
  },
  {
   "cell_type": "code",
   "execution_count": 22,
   "id": "21b695a5-5d0d-4641-b81b-05f15366bf63",
   "metadata": {},
   "outputs": [
    {
     "name": "stdout",
     "output_type": "stream",
     "text": [
      "Counters:\n"
     ]
    }
   ],
   "source": [
    "print(\"Counters:\")"
   ]
  },
  {
   "cell_type": "code",
   "execution_count": 23,
   "id": "30576afc-3e3a-418c-9318-4dbd4508e89d",
   "metadata": {},
   "outputs": [
    {
     "name": "stdout",
     "output_type": "stream",
     "text": [
      "Counter({'apple': 3, 'banana': 2, 'orange': 1})\n"
     ]
    }
   ],
   "source": [
    "# Quick Definition:\n",
    "\n",
    "# A Counter takes a list (or any iterable) and counts how many times each element appears.\n",
    "# It’s like a super-powered dictionary where the default value is always 0 and it just adds 1 every time it sees an item.\n",
    "\n",
    "from collections import Counter\n",
    "\n",
    "words = ['apple', 'banana', 'apple', 'orange', 'banana', 'apple']\n",
    "counter = Counter(words)\n",
    "print(counter)"
   ]
  },
  {
   "cell_type": "code",
   "execution_count": null,
   "id": "ab3bdd1f-a061-44fe-b3ff-09b250d87782",
   "metadata": {},
   "outputs": [],
   "source": []
  },
  {
   "cell_type": "code",
   "execution_count": 24,
   "id": "8fd77181-328d-484f-8be8-089b34e3e5a3",
   "metadata": {},
   "outputs": [
    {
     "name": "stdout",
     "output_type": "stream",
     "text": [
      "\n",
      "\n",
      "Main Data Structures in collections library :\n",
      "\n",
      "Name\tWhat it is\tQuick Example\tUse Case\n",
      "\n",
      "namedtuple\tTuple with named fields\tPoint(x=1, y=2)\tReplaces simple classes\n",
      "\n",
      "deque\tDouble-ended queue (fast appends/pops from both sides)\tdeque([1,2,3])\tQueues, sliding windows\n",
      "\n",
      "Counter\tCounts occurrences of elements\tCounter('hello') → {'h':1,'e':1,'l':2,'o':1}\tCounting things fast\n",
      "\n",
      "OrderedDict\tDict that remembers insertion order (before Python 3.7)\tOrderedDict()\tOrder-sensitive data\n",
      "\n",
      "defaultdict\tDict with default value if key missing\tdefaultdict(int)\tAvoid KeyError, auto-initialize\n",
      "\n",
      "ChainMap\tCombine multiple dicts together\tChainMap(d1, d2)\tMultiple context lookups\n",
      "\n",
      "\n"
     ]
    }
   ],
   "source": [
    "print('''\n",
    "\n",
    "Main Data Structures in collections library :\n",
    "\n",
    "Name\tWhat it is\tQuick Example\tUse Case\n",
    "\n",
    "namedtuple\tTuple with named fields\tPoint(x=1, y=2)\tReplaces simple classes\n",
    "\n",
    "deque\tDouble-ended queue (fast appends/pops from both sides)\tdeque([1,2,3])\tQueues, sliding windows\n",
    "\n",
    "Counter\tCounts occurrences of elements\tCounter('hello') → {'h':1,'e':1,'l':2,'o':1}\tCounting things fast\n",
    "\n",
    "OrderedDict\tDict that remembers insertion order (before Python 3.7)\tOrderedDict()\tOrder-sensitive data\n",
    "\n",
    "defaultdict\tDict with default value if key missing\tdefaultdict(int)\tAvoid KeyError, auto-initialize\n",
    "\n",
    "ChainMap\tCombine multiple dicts together\tChainMap(d1, d2)\tMultiple context lookups\n",
    "\n",
    "''')"
   ]
  },
  {
   "cell_type": "code",
   "execution_count": 25,
   "id": "4d41ee46-80b5-4a3d-b492-780716a11c97",
   "metadata": {},
   "outputs": [
    {
     "name": "stdout",
     "output_type": "stream",
     "text": [
      "\n",
      "\n",
      "Quick Highlights:\n",
      "\n",
      "1. namedtuple\n",
      "Like a lightweight class : easy to create and access fields by name.\n",
      "\n",
      "\n",
      "2 3\n"
     ]
    }
   ],
   "source": [
    "print('''\n",
    "\n",
    "Quick Highlights:\n",
    "\n",
    "1. namedtuple\n",
    "Like a lightweight class : easy to create and access fields by name.\n",
    "\n",
    "''')\n",
    "\n",
    "from collections import namedtuple\n",
    "\n",
    "Point = namedtuple('Point', ['x', 'y'])\n",
    "p = Point(2, 3)\n",
    "print(p.x, p.y)  # 2 3"
   ]
  },
  {
   "cell_type": "code",
   "execution_count": 26,
   "id": "6437c1c5-6e55-424d-8e79-9cbb4d9746c4",
   "metadata": {},
   "outputs": [
    {
     "name": "stdout",
     "output_type": "stream",
     "text": [
      "\n",
      "2. deque\n",
      "Double-ended queue — fast insert/remove from both ends (unlike normal list).\n",
      "\n",
      "Good for queues, sliding window problems.\n",
      "\n",
      "deque([0, 1, 2, 3, 4])\n"
     ]
    },
    {
     "data": {
      "text/plain": [
       "0"
      ]
     },
     "execution_count": 26,
     "metadata": {},
     "output_type": "execute_result"
    }
   ],
   "source": [
    "\n",
    "print('''\n",
    "2. deque\n",
    "Double-ended queue — fast insert/remove from both ends (unlike normal list).\n",
    "\n",
    "Good for queues, sliding window problems.\n",
    "''')\n",
    "\n",
    "from collections import deque\n",
    "\n",
    "d = deque([1, 2, 3])\n",
    "d.appendleft(0)\n",
    "d.append(4)\n",
    "print(d)  # deque([0, 1, 2, 3, 4])\n",
    "d.pop()   # 4\n",
    "d.popleft()  # 0"
   ]
  },
  {
   "cell_type": "code",
   "execution_count": 27,
   "id": "850d5969-0df2-48b9-b092-5fb3ef65d981",
   "metadata": {},
   "outputs": [
    {
     "name": "stdout",
     "output_type": "stream",
     "text": [
      "\n",
      "\n",
      "3. Counter\n",
      "Automatically counts elements.\n",
      "\n",
      "Counter({'a': 3, 'n': 2, 'b': 1})\n",
      "[('a', 3)]\n"
     ]
    }
   ],
   "source": [
    "print('''\n",
    "\n",
    "3. Counter\n",
    "Automatically counts elements.\n",
    "''')\n",
    "\n",
    "from collections import Counter\n",
    "\n",
    "c = Counter('banana')\n",
    "print(c)  # Counter({'a': 3, 'n': 2, 'b': 1})\n",
    "print(c.most_common(1))  # [('a', 3)]"
   ]
  },
  {
   "cell_type": "code",
   "execution_count": 28,
   "id": "65f97ecf-af48-45a0-b62f-08c1afdd737c",
   "metadata": {},
   "outputs": [
    {
     "name": "stdout",
     "output_type": "stream",
     "text": [
      "\n",
      "\n",
      "4. OrderedDict\n",
      "Before Python 3.7, regular dicts didn’t guarantee order.\n",
      "\n",
      "OrderedDict preserved insertion order.\n",
      "\n",
      "OrderedDict({'a': 1, 'b': 2})\n"
     ]
    }
   ],
   "source": [
    "print('''\n",
    "\n",
    "4. OrderedDict\n",
    "Before Python 3.7, regular dicts didn’t guarantee order.\n",
    "\n",
    "OrderedDict preserved insertion order.\n",
    "''')\n",
    "\n",
    "from collections import OrderedDict\n",
    "\n",
    "od = OrderedDict()\n",
    "od['a'] = 1\n",
    "od['b'] = 2\n",
    "print(od)  # OrderedDict([('a', 1), ('b', 2)])"
   ]
  },
  {
   "cell_type": "code",
   "execution_count": 29,
   "id": "6c31ad84-004f-4d50-981f-51f5e5793610",
   "metadata": {},
   "outputs": [
    {
     "name": "stdout",
     "output_type": "stream",
     "text": [
      "\n",
      "\n",
      "5. defaultdict\n",
      "Dict with a default value type if key not found.\n",
      "\n",
      "No more KeyError!\n",
      "\n",
      "defaultdict(<class 'int'>, {'apple': 1})\n"
     ]
    }
   ],
   "source": [
    "print('''\n",
    "\n",
    "5. defaultdict\n",
    "Dict with a default value type if key not found.\n",
    "\n",
    "No more KeyError!\n",
    "''')\n",
    "\n",
    "from collections import defaultdict\n",
    "\n",
    "dd = defaultdict(int)\n",
    "dd['apple'] += 1\n",
    "print(dd)  # defaultdict(<class 'int'>, {'apple': 1})"
   ]
  },
  {
   "cell_type": "code",
   "execution_count": 30,
   "id": "0404503b-347c-45ab-9a7d-74b53f559c16",
   "metadata": {},
   "outputs": [
    {
     "name": "stdout",
     "output_type": "stream",
     "text": [
      "\n",
      "\n",
      "6. ChainMap\n",
      "Combine multiple dictionaries into one \"view\".\n",
      "\n",
      "python\n",
      "Copy\n",
      "Edit\n",
      "from collections import ChainMap\n",
      "\n",
      "d1 = {'a': 1, 'b': 2}\n",
      "d2 = {'b': 3, 'c': 4}\n",
      "cm = ChainMap(d1, d2)\n",
      "print(cm['b'])  # 2 (takes from d1 first)\n",
      "print(cm['c'])  # 4\n",
      "\n",
      "\n"
     ]
    }
   ],
   "source": [
    "print('''\n",
    "\n",
    "6. ChainMap\n",
    "Combine multiple dictionaries into one \"view\".\n",
    "\n",
    "python\n",
    "Copy\n",
    "Edit\n",
    "from collections import ChainMap\n",
    "\n",
    "d1 = {'a': 1, 'b': 2}\n",
    "d2 = {'b': 3, 'c': 4}\n",
    "cm = ChainMap(d1, d2)\n",
    "print(cm['b'])  # 2 (takes from d1 first)\n",
    "print(cm['c'])  # 4\n",
    "\n",
    "''')"
   ]
  },
  {
   "cell_type": "code",
   "execution_count": null,
   "id": "ee645006-626f-4a06-9fff-403cabb481fd",
   "metadata": {},
   "outputs": [],
   "source": []
  },
  {
   "cell_type": "code",
   "execution_count": 31,
   "id": "4bf01615-5aef-4eb4-b1fc-b2dbacc4fc39",
   "metadata": {},
   "outputs": [
    {
     "name": "stdout",
     "output_type": "stream",
     "text": [
      "Other data structures :\n"
     ]
    }
   ],
   "source": [
    "print(\"Other data structures :\")"
   ]
  },
  {
   "cell_type": "code",
   "execution_count": 32,
   "id": "bc2e07c8-4c4e-4d09-8397-1f9fc56fbd9a",
   "metadata": {},
   "outputs": [
    {
     "name": "stdout",
     "output_type": "stream",
     "text": [
      " \n",
      "\n",
      "🧠 From heapq module\n",
      "\n",
      "Name\tDescription\n",
      "heapq\tPriority queue (min-heap) based on a list\n",
      "\n",
      "\n"
     ]
    },
    {
     "data": {
      "text/plain": [
       "1"
      ]
     },
     "execution_count": 32,
     "metadata": {},
     "output_type": "execute_result"
    }
   ],
   "source": [
    "print(''' \n",
    "\n",
    "🧠 From heapq module\n",
    "\n",
    "Name\tDescription\n",
    "heapq\tPriority queue (min-heap) based on a list\n",
    "\n",
    "''')\n",
    "\n",
    "import heapq\n",
    "\n",
    "heap = []\n",
    "heapq.heappush(heap, 5)\n",
    "heapq.heappush(heap, 1)\n",
    "heapq.heappop(heap)  # pops 1, the smallest"
   ]
  },
  {
   "cell_type": "code",
   "execution_count": 33,
   "id": "b985d3c5-eb48-4f0d-9a97-acbcb52a731a",
   "metadata": {},
   "outputs": [
    {
     "name": "stdout",
     "output_type": "stream",
     "text": [
      "\n",
      "\n",
      "📚 From queue module\n",
      "\n",
      "Name\tDescription\n",
      "Queue\tThread-safe FIFO queue\n",
      "LifoQueue\tStack (Last In First Out)\n",
      "PriorityQueue\tQueue where elements are dequeued by priority\n",
      "\n",
      "\n"
     ]
    }
   ],
   "source": [
    "print(\n",
    "'''\n",
    "\n",
    "📚 From queue module\n",
    "\n",
    "Name\tDescription\n",
    "Queue\tThread-safe FIFO queue\n",
    "LifoQueue\tStack (Last In First Out)\n",
    "PriorityQueue\tQueue where elements are dequeued by priority\n",
    "\n",
    "''')"
   ]
  },
  {
   "cell_type": "code",
   "execution_count": 34,
   "id": "41b3a1a7-b5a4-4000-a4ca-479ff786c1f8",
   "metadata": {},
   "outputs": [
    {
     "name": "stdout",
     "output_type": "stream",
     "text": [
      "\n",
      "\n",
      "Built-ins:\n",
      "    list, tuple, dict, set, str\n",
      "\n",
      "collections:\n",
      "    deque, Counter, defaultdict, OrderedDict, ChainMap, namedtuple\n",
      "\n",
      "advanced:\n",
      "    heapq (priority heap)\n",
      "    queue (FIFO, LIFO, PriorityQueue)\n",
      "    collections.abc (interfaces like Iterable, Sequence)\n",
      "\n",
      "third-party:\n",
      "    numpy arrays, pandas dataframes, bitarrays\n",
      "\n",
      "\n"
     ]
    }
   ],
   "source": [
    "print(\n",
    "'''\n",
    "\n",
    "Built-ins:\n",
    "    list, tuple, dict, set, str\n",
    "\n",
    "collections:\n",
    "    deque, Counter, defaultdict, OrderedDict, ChainMap, namedtuple\n",
    "\n",
    "advanced:\n",
    "    heapq (priority heap)\n",
    "    queue (FIFO, LIFO, PriorityQueue)\n",
    "    collections.abc (interfaces like Iterable, Sequence)\n",
    "\n",
    "third-party:\n",
    "    numpy arrays, pandas dataframes, bitarrays\n",
    "\n",
    "''')"
   ]
  },
  {
   "cell_type": "code",
   "execution_count": null,
   "id": "7b1e9d45-8f7c-4542-9cb8-c3270077f2b1",
   "metadata": {},
   "outputs": [],
   "source": []
  }
 ],
 "metadata": {
  "kernelspec": {
   "display_name": "Python 3 (ipykernel)",
   "language": "python",
   "name": "python3"
  },
  "language_info": {
   "codemirror_mode": {
    "name": "ipython",
    "version": 3
   },
   "file_extension": ".py",
   "mimetype": "text/x-python",
   "name": "python",
   "nbconvert_exporter": "python",
   "pygments_lexer": "ipython3",
   "version": "3.12.7"
  }
 },
 "nbformat": 4,
 "nbformat_minor": 5
}
