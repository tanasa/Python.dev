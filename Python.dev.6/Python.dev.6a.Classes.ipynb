{
 "cells": [
  {
   "cell_type": "code",
   "execution_count": null,
   "id": "b2550dae-1d74-460a-819b-187fead4b5c9",
   "metadata": {},
   "outputs": [],
   "source": [
    "# The double underscores in __str__ (and other similar names like __init__, __add__, etc.) are part of Python's special method \n",
    "# naming convention, sometimes called \"dunder methods\" (short for \"double underscore\").\n",
    "# dunder str\" → în română: \"dublă subliniere str\""
   ]
  },
  {
   "cell_type": "code",
   "execution_count": 11,
   "id": "47f27d03-8785-481a-8e92-2ef7a055b351",
   "metadata": {},
   "outputs": [
    {
     "name": "stdout",
     "output_type": "stream",
     "text": [
      "__str__ : it defines how the object appears when printed:\n"
     ]
    }
   ],
   "source": [
    "print(\"__str__ : it defines how the object appears when printed:\")"
   ]
  },
  {
   "cell_type": "code",
   "execution_count": 17,
   "id": "2e15e6db-54e8-4b2e-925f-08c67fce812e",
   "metadata": {},
   "outputs": [
    {
     "name": "stdout",
     "output_type": "stream",
     "text": [
      "Drink a lot of water (health)\n",
      "Wash hands frequently (health)\n",
      "Always say \"Thank you\" (social)\n"
     ]
    }
   ],
   "source": [
    "class Note:\n",
    "    def __init__(self, content, category):\n",
    "        self.content = content\n",
    "        self.category = category\n",
    "\n",
    "    def __str__(self):\n",
    "        # return '{} ({})'.format(self.content, self.category)\n",
    "        return f'{self.content} ({self.category})'\n",
    "\n",
    "if __name__ == '__main__':\n",
    "    n1 = Note('Drink a lot of water', 'health')\n",
    "    n2 = Note('Wash hands frequently', 'health')\n",
    "    n3 = Note('Always say \"Thank you\"', 'social')\n",
    "    print(n1)\n",
    "    print(n2)\n",
    "    print(n3)"
   ]
  },
  {
   "cell_type": "code",
   "execution_count": null,
   "id": "c14bc0be-edc7-4bf5-92e7-afb6b07e2e4d",
   "metadata": {},
   "outputs": [],
   "source": []
  },
  {
   "cell_type": "code",
   "execution_count": 4,
   "id": "bd1a6d4b-408a-4290-b80f-b5002c5aeff9",
   "metadata": {},
   "outputs": [
    {
     "name": "stdout",
     "output_type": "stream",
     "text": [
      "Class 1\n"
     ]
    }
   ],
   "source": [
    "print(\"Class 1\")"
   ]
  },
  {
   "cell_type": "code",
   "execution_count": 3,
   "id": "350f053a-f973-4bc4-aea5-12f7c5c2b85c",
   "metadata": {},
   "outputs": [
    {
     "name": "stdout",
     "output_type": "stream",
     "text": [
      "(3, 4)\n",
      "(5, 7)\n",
      "(8, 11)\n",
      "(40, 55)\n",
      "(400, 550)\n"
     ]
    }
   ],
   "source": [
    "import math\n",
    "\n",
    "class Point:\n",
    "    # automatically called when an object is created\n",
    "    # initialize the newly created object\n",
    "    def __init__(self, x, y):\n",
    "        self.x = x\n",
    "        self.y = y\n",
    "\n",
    "    # automatically called when calling str(obj)\n",
    "    def __str__(self):\n",
    "        return '({}, {})'.format(self.x, self.y)\n",
    "\n",
    "    # if two Point objects have the same x and y values, they are equal\n",
    "    # it overrides the equality operator ==.\n",
    "    \n",
    "    def __eq__(self, other):\n",
    "        if isinstance(other, Point):\n",
    "            return self.x == other.x and self.y == other.y\n",
    "        else:\n",
    "            return False\n",
    "\n",
    "    # Enables the use of the + operator between two Point objects.\n",
    "    \n",
    "    def __add__(self, other):\n",
    "        if isinstance(other, Point):\n",
    "            return Point(self.x + other.x, self.y + other.y)\n",
    "        else:\n",
    "            return NotImplemented\n",
    "\n",
    "    # Enables multiplying a Point by an integer: Point * int.\n",
    "    def __mul__(self, other):\n",
    "        if isinstance(other, int):\n",
    "            return Point(self.x * other, self.y * other)\n",
    "        else:\n",
    "            return NotImplemented\n",
    "\n",
    "    # Enables reverse multiplication: int * Point.\n",
    "    def __rmul__(self, other):\n",
    "        return self.__mul__(other)\n",
    "\n",
    "    # Computes the Euclidean distance between two points:\n",
    "    def distance(self, other):\n",
    "        if isinstance(other, Point):\n",
    "            return math.sqrt((self.x - other.x) ** 2 + (self.y - other.y) ** 2)\n",
    "        else:\n",
    "            return NotImplemented\n",
    "\n",
    "\n",
    "\n",
    "if __name__ == '__main__':\n",
    "    p1 = Point(3, 4)\n",
    "    p2 = Point(5, 7)\n",
    "\n",
    "    p3 = p1 + p2  # p1.__add__(p2)\n",
    "    print(p1)\n",
    "    print(p2)\n",
    "    print(p3)\n",
    "\n",
    "    p4 = p3 * 5\n",
    "    print(p4)\n",
    "\n",
    "    p5 = 10 * p4\n",
    "    print(p5)\n",
    "\n",
    "\n",
    "# Python uses a special method __rmul__ (\"right multiplication\") when the left-hand side does not know how to handle the operation, \n",
    "# and the right-hand side might.\n",
    "\n",
    "# Without defining __rmul__, this will fail:\n",
    "# 10 * Point(1, 2)\n",
    "# Even though:\n",
    "# Point(1, 2) * 10\n",
    "# would work fine."
   ]
  },
  {
   "cell_type": "code",
   "execution_count": 5,
   "id": "30e4c402-1b0f-4395-aca2-448c4c91d287",
   "metadata": {},
   "outputs": [
    {
     "name": "stdout",
     "output_type": "stream",
     "text": [
      "Class 2\n"
     ]
    }
   ],
   "source": [
    "print(\"Class 2\")"
   ]
  },
  {
   "cell_type": "code",
   "execution_count": 7,
   "id": "55ad58b8-667c-42be-ab64-e3dd94fcd2e9",
   "metadata": {},
   "outputs": [
    {
     "name": "stdout",
     "output_type": "stream",
     "text": [
      "3/4\n",
      "2/5\n",
      "23/20\n",
      "3/10\n",
      "3/2\n",
      "1/2\n"
     ]
    }
   ],
   "source": [
    "import math\n",
    "\n",
    "class Rational:\n",
    "    def __init__(self, n, d):\n",
    "        gcd = math.gcd(n, d)\n",
    "        self.numerator = n // gcd\n",
    "        self.denominator = d // gcd\n",
    "\n",
    "    def __str__(self):\n",
    "        return '{}/{}'.format(self.numerator, self.denominator)\n",
    "\n",
    "    def __add__(self, other):                 # Defines addition of two rational numbers:\n",
    "        if isinstance(other, Rational):\n",
    "            return Rational(\n",
    "                self.numerator * other.denominator + self.denominator * other.numerator,\n",
    "                self.denominator * other.denominator\n",
    "            )\n",
    "        else:\n",
    "            return NotImplemented\n",
    "\n",
    "    def __mul__(self, other):                 # Defines multiplication of two rational numbers:\n",
    "        if isinstance(other, Rational):\n",
    "            return Rational(\n",
    "                self.numerator * other.numerator,\n",
    "                self.denominator * other.denominator\n",
    "            )\n",
    "        else:\n",
    "            return NotImplemented\n",
    "\n",
    "\n",
    "r1 = Rational(3, 4)\n",
    "r2 = Rational(2, 5)\n",
    "print(r1)  # 3/4\n",
    "print(r2)  # 2/5\n",
    "\n",
    "r3 = r1 + r2\n",
    "print(r3)  # 23/20\n",
    "r4 = r1 * r2\n",
    "print(r4)  # 6/20 -> 3/10\n",
    "r5 = r1 + r1\n",
    "print(r5)\n",
    "\n",
    "r6 = Rational(10, 20)\n",
    "print(r6)"
   ]
  },
  {
   "cell_type": "code",
   "execution_count": null,
   "id": "fd02847c-cd85-4291-a6c2-f28b286bc921",
   "metadata": {},
   "outputs": [],
   "source": [
    "print(\"Class 3\")"
   ]
  },
  {
   "cell_type": "code",
   "execution_count": 9,
   "id": "36a81a82-b468-44f7-bfef-a5b389e8b182",
   "metadata": {},
   "outputs": [
    {
     "name": "stdout",
     "output_type": "stream",
     "text": [
      "Circle at (3, 4) with radius 2\n",
      "False\n",
      "True\n"
     ]
    }
   ],
   "source": [
    "import math\n",
    "\n",
    "# a Circle object has a radius and a Point object as its center\n",
    "\n",
    "class Circle:\n",
    "    def __init__(self, x, y, r):\n",
    "        self.center = Point(x, y)   # a Point object at coordinates (x, y)\n",
    "        self.radius = r\n",
    "\n",
    "    def __str__(self):\n",
    "        return 'Circle at {} with radius {}'.format(self.center, self.radius)\n",
    "\n",
    "    # return False if pt is not inside Circle or on its edge\n",
    "    def cover(self, pt):\n",
    "        return self.center.distance(pt) <= self.radius\n",
    "\n",
    "# self.center.distance() : it is an instance of the Point class, \n",
    "# so self.center is a Point object, and Point is expected to define a method called distance().\n",
    "# this method is part of the Point class and computes the Euclidean distance between two points.\n",
    "# returns True if the distance between the circle's center and point pt is less than or equal to the circle's radius — \n",
    "# i.e., the point lies inside or on the edge of the circle.\n",
    "\n",
    "if __name__ == '__main__':\n",
    "    \n",
    "    # Circle(x, y, r)\n",
    "    c = Circle(3, 4, 2)\n",
    "    print(c)  # Circle at (3, 4) with radius 2\n",
    "    \n",
    "    print(c.cover(Point(1, 6)))  # False\n",
    "    print(c.cover(Point(4, 3)))  # True"
   ]
  },
  {
   "cell_type": "code",
   "execution_count": null,
   "id": "0dccea33-78ce-475a-849a-c1347e2fb63b",
   "metadata": {},
   "outputs": [],
   "source": [
    "print(\"Class 4\")"
   ]
  },
  {
   "cell_type": "code",
   "execution_count": null,
   "id": "d4ac6f8f-a2a9-48de-b4ba-177038d1d035",
   "metadata": {},
   "outputs": [],
   "source": []
  },
  {
   "cell_type": "code",
   "execution_count": 16,
   "id": "2442ffb6-fcae-4287-b14e-e667ec4e3dc5",
   "metadata": {},
   "outputs": [
    {
     "name": "stdout",
     "output_type": "stream",
     "text": [
      "Drink a lot of water (health)\n",
      "Wash hands frequently (health)\n",
      "Always say \"Thank you\" (social)\n"
     ]
    }
   ],
   "source": [
    "class Note:\n",
    "    def __init__(self, content, category):\n",
    "        self.content = content\n",
    "        self.category = category\n",
    "\n",
    "    def __str__(self):\n",
    "        return '{} ({})'.format(self.content, self.category)\n",
    "    \n",
    "\n",
    "if __name__ == '__main__':\n",
    "    n1 = Note('Drink a lot of water', 'health')\n",
    "    n2 = Note('Wash hands frequently', 'health')\n",
    "    n3 = Note('Always say \"Thank you\"', 'social')\n",
    "    print(n1)\n",
    "    print(n2)\n",
    "    print(n3)"
   ]
  },
  {
   "cell_type": "code",
   "execution_count": 18,
   "id": "59f83e33-bea5-4781-968a-ecdbba12efe5",
   "metadata": {},
   "outputs": [],
   "source": [
    "import os\n",
    "from os.path import exists\n",
    "\n",
    "class Notebook:\n",
    "    def __init__(self, title, filename):\n",
    "        self.title = title\n",
    "        self.notes = []           # Contains a list of Note objects (self.notes)\n",
    "        self.filename = filename  # Stores/loads data from a text file (self.filename)\n",
    "        self.load()               # self.load() to try loading notes from the file\n",
    "\n",
    "    def load(self):\n",
    "        if exists(self.filename):\n",
    "            with open(self.filename, 'r') as fin:\n",
    "                for index, line in enumerate(fin):\n",
    "                    line = line.strip()\n",
    "                    if index == 0:\n",
    "                        self.title = line\n",
    "                    else:\n",
    "                        left = line.rindex('(')      # Extracts the content and category by finding the positions of the parentheses\n",
    "                        right = line.rindex(')')     # Extracts the content and category by finding the positions of the parentheses\n",
    "                        content = line[:left].strip()\n",
    "                        category = line[left+1:right].strip()\n",
    "                        self.add_note(content, category)   # Adds a new Note object\n",
    "\n",
    "    def add_note(self, content, category):\n",
    "        self.notes.append(Note(content, category))\n",
    "\n",
    "    def save(self):\n",
    "        with open(self.filename, 'w') as fout:\n",
    "            fout.write(f'{self.title}\\n')\n",
    "            for note in self.notes:\n",
    "                fout.write(f'{note}\\n')\n",
    "\n",
    "if __name__ == '__main__':\n",
    "    \n",
    "    nb = Notebook(\"John's notebook\", 'john_notebook.txt')\n",
    "    nb.add_note('Drink a lot of water', 'health')\n",
    "    nb.add_note('Wash hands frequently', 'health')\n",
    "    nb.add_note('Always say \"Thank you\"', 'social')\n",
    "\n",
    "    nb.save()\n",
    "\n",
    "# john_notebook.txt content\n",
    "#\n",
    "# John's notebook\n",
    "# Drink a lot of water (health)\n",
    "# Wash hands frequently (health)\n",
    "# Always say \"Thank you\" (social)"
   ]
  },
  {
   "cell_type": "code",
   "execution_count": null,
   "id": "89db8a9a-d8b1-4ac5-9658-29b42f8dbe43",
   "metadata": {},
   "outputs": [],
   "source": []
  },
  {
   "cell_type": "code",
   "execution_count": null,
   "id": "a67af1c2-8819-40f8-9e95-2d12237b22f5",
   "metadata": {},
   "outputs": [],
   "source": [
    "print(\"Library Pickle:\")\n",
    "\n",
    "# What is pickle in Python?\n",
    "# The pickle module is a built-in Python library that lets you save (serialize) Python objects to a file or string, \n",
    "# and later load (deserialize) them back into memory.\n",
    "\n",
    "# Think of it like this:\n",
    "# 🧠 You want to “remember” a Python object — like a list, dictionary, or even a trained ML model — and bring it back later. \n",
    "# pickle lets you do that.\n",
    "\n",
    "# ✅ What it does:\n",
    "# Serialization = converting a Python object into a byte stream\n",
    "# Deserialization = converting that byte stream back into a Python object\n",
    "\n",
    "# 🔧 Common Use Cases\n",
    "# Saving the state of a program\n",
    "# Saving trained models (e.g. from scikit-learn)\n",
    "# Caching data (e.g. a preprocessed dataset)\n",
    "# Inter-process communication"
   ]
  },
  {
   "cell_type": "code",
   "execution_count": null,
   "id": "cee11d22-9d69-4141-b11c-eed866d22161",
   "metadata": {},
   "outputs": [],
   "source": []
  },
  {
   "cell_type": "code",
   "execution_count": 19,
   "id": "aa0e41f1-197c-4372-9655-59bef8951edc",
   "metadata": {},
   "outputs": [
    {
     "name": "stdout",
     "output_type": "stream",
     "text": [
      "[1, 2, 3]\n",
      "{1: 'hello', 2: 'bye'}\n",
      "100\n",
      "(2, 3)\n"
     ]
    }
   ],
   "source": [
    "import pickle\n",
    "\n",
    "with open('test.dat', 'wb') as fout:\n",
    "    pickle.dump([1, 2, 3], fout)\n",
    "    pickle.dump({1: 'hello', 2: 'bye'}, fout)\n",
    "    pickle.dump(100, fout)\n",
    "    pickle.dump(Point(2, 3), fout)\n",
    "\n",
    "with open('test.dat', 'rb') as fin:\n",
    "    \n",
    "    # l = pickle.load(fin)\n",
    "    # d = pickle.load(fin)\n",
    "    # n = pickle.load(fin)\n",
    "    # print(l)\n",
    "    # print(d)\n",
    "    # print(n)\n",
    "    # p = pickle.load(fin)\n",
    "    # print(p)\n",
    "\n",
    "    while True:\n",
    "        try:\n",
    "            curr = pickle.load(fin)\n",
    "            print(curr)\n",
    "        except EOFError:\n",
    "            break"
   ]
  },
  {
   "cell_type": "code",
   "execution_count": null,
   "id": "c3dc4699-cae1-4354-8e61-4d121a5c1683",
   "metadata": {},
   "outputs": [],
   "source": []
  },
  {
   "cell_type": "code",
   "execution_count": null,
   "id": "e6d6ca4e-62fd-40cf-b416-05a827d6df02",
   "metadata": {},
   "outputs": [],
   "source": [
    "print(\"Re-writing the code by using the library pickle\")"
   ]
  },
  {
   "cell_type": "code",
   "execution_count": 26,
   "id": "9f87131e-9410-4e75-b67a-d0b1e4afedb0",
   "metadata": {},
   "outputs": [
    {
     "name": "stdout",
     "output_type": "stream",
     "text": [
      "John's notebook\n",
      "1. Drink a lot of water (health)\n",
      "2. Wash hands frequently (health)\n",
      "3. Always say \"Thank you\" (social)\n",
      "4. Drink a lot of water (health)\n",
      "5. Wash hands frequently (health)\n",
      "6. Always say \"Thank you\" (social)\n",
      "7. Drink a lot of water (health)\n",
      "8. Wash hands frequently (health)\n",
      "9. Always say \"Thank you\" (social)\n",
      "10. Drink a lot of water (health)\n",
      "11. Wash hands frequently (health)\n",
      "12. Always say \"Thank you\" (social)\n",
      "13. Drink a lot of water (health)\n",
      "14. Wash hands frequently (health)\n",
      "15. Always say \"Thank you\" (social)\n",
      "16. Drink a lot of water (health)\n",
      "17. Wash hands frequently (health)\n",
      "18. Always say \"Thank you\" (social)\n",
      "19. Drink a lot of water (health)\n",
      "20. Wash hands frequently (health)\n",
      "21. Always say \"Thank you\" (social)\n",
      "\n",
      "John's notebook\n",
      "1. Drink a lot of water (health)\n",
      "2. Wash hands frequently (health)\n",
      "3. Always say \"Thank you\" (social)\n",
      "4. Drink a lot of water (health)\n",
      "5. Wash hands frequently (health)\n",
      "6. Always say \"Thank you\" (social)\n",
      "7. Drink a lot of water (health)\n",
      "8. Wash hands frequently (health)\n",
      "9. Always say \"Thank you\" (social)\n",
      "10. Drink a lot of water (health)\n",
      "11. Wash hands frequently (health)\n",
      "12. Always say \"Thank you\" (social)\n",
      "13. Drink a lot of water (health)\n",
      "14. Wash hands frequently (health)\n",
      "15. Always say \"Thank you\" (social)\n",
      "16. Drink a lot of water (health)\n",
      "17. Wash hands frequently (health)\n",
      "18. Always say \"Thank you\" (social)\n",
      "19. Drink a lot of water (health)\n",
      "20. Wash hands frequently (health)\n",
      "21. Always say \"Thank you\" (social)\n",
      "\n",
      "John's notebook\n",
      "1. Drink a lot of water (health)\n",
      "2. Wash hands frequently (health)\n",
      "3. Always say \"Thank you\" (social)\n",
      "4. Drink a lot of water (health)\n",
      "5. Wash hands frequently (health)\n",
      "6. Always say \"Thank you\" (social)\n",
      "7. Drink a lot of water (health)\n",
      "8. Wash hands frequently (health)\n",
      "9. Always say \"Thank you\" (social)\n",
      "10. Drink a lot of water (health)\n",
      "11. Wash hands frequently (health)\n",
      "12. Always say \"Thank you\" (social)\n",
      "13. Drink a lot of water (health)\n",
      "14. Wash hands frequently (health)\n",
      "15. Always say \"Thank you\" (social)\n",
      "16. Drink a lot of water (health)\n",
      "17. Wash hands frequently (health)\n",
      "18. Always say \"Thank you\" (social)\n",
      "19. Drink a lot of water (health)\n",
      "20. Wash hands frequently (health)\n",
      "21. Always say \"Thank you\" (social)\n",
      "\n"
     ]
    }
   ],
   "source": [
    "from os.path import exists\n",
    "import pickle\n",
    "\n",
    "class Notebook:\n",
    "    def __init__(self, title, filename):\n",
    "        self.title = title\n",
    "        self.notes = []\n",
    "        self.filename = filename\n",
    "        self.load()\n",
    "\n",
    "    # load the notebook content from the file by the filename\n",
    "    # update the title and populate self.notes\n",
    "\n",
    "    def load(self):\n",
    "        if exists(self.filename):\n",
    "            with open(self.filename, 'rb') as fin:\n",
    "                self.title = pickle.load(fin)\n",
    "                self.notes = pickle.load(fin)\n",
    "\n",
    "    def add_note(self, content, category):\n",
    "        self.notes.append(Note(content, category))\n",
    "\n",
    "    def save(self):\n",
    "        with open(self.filename, 'wb') as fout:\n",
    "            pickle.dump(self.title, fout)\n",
    "            pickle.dump(self.notes, fout)\n",
    "\n",
    "    def __str__(self):\n",
    "        result = '{}\\n'.format(self.title)\n",
    "        for index, note in enumerate(self.notes, start=1):\n",
    "            result += '{}. {}\\n'.format(index, note)             # A numbered list of all notes\n",
    "        return result\n",
    "\n",
    "\n",
    "if __name__ == '__main__':\n",
    "    nb = Notebook(\"John's notebook\", 'john_notebook.dat')\n",
    "    nb.add_note('Drink a lot of water', 'health')\n",
    "    nb.add_note('Wash hands frequently', 'health')\n",
    "    nb.add_note('Always say \"Thank you\"', 'social')\n",
    "\n",
    "    nb.save()\n",
    "    print(nb)\n",
    "\n",
    "\n",
    "text = str(nb)\n",
    "print(text)\n",
    "\n",
    "print(nb.__str__())"
   ]
  },
  {
   "cell_type": "code",
   "execution_count": null,
   "id": "a29e0cf8-9b98-4c6f-bd4f-36020beac561",
   "metadata": {},
   "outputs": [],
   "source": []
  },
  {
   "cell_type": "code",
   "execution_count": null,
   "id": "24068510-ef33-44e5-a3d3-beaa1870d0c6",
   "metadata": {},
   "outputs": [],
   "source": []
  },
  {
   "cell_type": "code",
   "execution_count": null,
   "id": "b5ed56af-b412-42a0-b50f-fd889a98d190",
   "metadata": {},
   "outputs": [],
   "source": []
  },
  {
   "cell_type": "code",
   "execution_count": null,
   "id": "f439b821-2157-4e0e-99df-d7644da21781",
   "metadata": {},
   "outputs": [],
   "source": []
  },
  {
   "cell_type": "code",
   "execution_count": null,
   "id": "5aaffb1f-d328-4425-8918-a28e71dbb652",
   "metadata": {},
   "outputs": [],
   "source": []
  },
  {
   "cell_type": "code",
   "execution_count": null,
   "id": "ced30aa1-0c6f-4571-9c70-5140ffa5efc9",
   "metadata": {},
   "outputs": [],
   "source": []
  }
 ],
 "metadata": {
  "kernelspec": {
   "display_name": "Python 3 (ipykernel)",
   "language": "python",
   "name": "python3"
  },
  "language_info": {
   "codemirror_mode": {
    "name": "ipython",
    "version": 3
   },
   "file_extension": ".py",
   "mimetype": "text/x-python",
   "name": "python",
   "nbconvert_exporter": "python",
   "pygments_lexer": "ipython3",
   "version": "3.12.2"
  }
 },
 "nbformat": 4,
 "nbformat_minor": 5
}
