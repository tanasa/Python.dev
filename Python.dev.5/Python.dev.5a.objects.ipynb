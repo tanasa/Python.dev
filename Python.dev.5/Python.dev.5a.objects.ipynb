{
 "cells": [
  {
   "cell_type": "code",
   "execution_count": 11,
   "id": "71d8495a-3dda-49cd-bdf3-418eece0aef0",
   "metadata": {},
   "outputs": [
    {
     "name": "stdout",
     "output_type": "stream",
     "text": [
      "Object Oriented Programming\n"
     ]
    }
   ],
   "source": [
    "print(\"Object Oriented Programming\")"
   ]
  },
  {
   "cell_type": "code",
   "execution_count": null,
   "id": "fecd79aa-bfdb-4689-9e00-d903acb99d3b",
   "metadata": {},
   "outputs": [],
   "source": []
  },
  {
   "cell_type": "code",
   "execution_count": null,
   "id": "4079099e-ba48-453d-b8df-37e5e1cef9f3",
   "metadata": {},
   "outputs": [],
   "source": [
    "print(\"code version 1:\")"
   ]
  },
  {
   "cell_type": "code",
   "execution_count": null,
   "id": "9bbce908-1889-4a90-b638-efaa96d9a4a9",
   "metadata": {},
   "outputs": [],
   "source": []
  },
  {
   "cell_type": "code",
   "execution_count": 3,
   "id": "247d29b3-0964-4de4-ad5f-6dd3bd5635a6",
   "metadata": {},
   "outputs": [
    {
     "name": "stdout",
     "output_type": "stream",
     "text": [
      "{'x': 3, 'y': 4}\n",
      "{'x': 4, 'y': 6}\n",
      "7.211102550927978\n"
     ]
    }
   ],
   "source": [
    "# calculate the distance between points on the 2D space\n",
    "# data structure should we use to present each point ?\n",
    "\n",
    "import math\n",
    "\n",
    "def move(pt, x, y):\n",
    "    pt['x'] += x\n",
    "    pt['y'] += y\n",
    "\n",
    "def distance(pt):\n",
    "    return math.sqrt(pt['x'] ** 2 + pt['y'] ** 2)\n",
    "\n",
    "pt = {'x': 3, 'y': 4}\n",
    "print(pt)\n",
    "move(pt, 1, 2)\n",
    "print(pt)\n",
    "\n",
    "d = distance(pt) # distance between pt and (0, 0)\n",
    "print(d)"
   ]
  },
  {
   "cell_type": "code",
   "execution_count": null,
   "id": "7eff6af5-1dc0-4d88-b679-6385ca630fd8",
   "metadata": {},
   "outputs": [],
   "source": [
    "print(\"code version 2:\")"
   ]
  },
  {
   "cell_type": "code",
   "execution_count": 8,
   "id": "f6fad919-66a6-49fc-9407-c41a5808fd8b",
   "metadata": {},
   "outputs": [
    {
     "name": "stdout",
     "output_type": "stream",
     "text": [
      "DYNAMICALLY add ATTRIBUTES\n",
      "\n",
      "\n",
      "Even though Point() is an empty class (i.e. it has no predefined attributes or methods), \n",
      "Python allows you to dynamically add attributes to instances of a class — \n",
      "as long as you're not using __slots__.\n",
      "\n",
      "\n"
     ]
    }
   ],
   "source": [
    "print(\"DYNAMICALLY add ATTRIBUTES\")\n",
    "\n",
    "print('''\n",
    "\n",
    "Even though Point() is an empty class (i.e. it has no predefined attributes or methods), \n",
    "Python allows you to dynamically add attributes to instances of a class — \n",
    "as long as you're not using __slots__.\n",
    "\n",
    "''')"
   ]
  },
  {
   "cell_type": "code",
   "execution_count": 9,
   "id": "5ff134a1-ab8d-4709-ad0c-88faa0cc3133",
   "metadata": {},
   "outputs": [
    {
     "name": "stdout",
     "output_type": "stream",
     "text": [
      "3 4\n",
      "4 6\n",
      "7.211102550927978\n",
      "{'x': 4, 'y': 6}\n"
     ]
    }
   ],
   "source": [
    "import math\n",
    "\n",
    "class Point:   # an empty class\n",
    "    pass\n",
    "\n",
    "def move(pt, x, y):\n",
    "    pt.x += x\n",
    "    pt.y += y\n",
    "\n",
    "def distance(pt):\n",
    "    return math.sqrt(pt.x ** 2 + pt.y ** 2)\n",
    "\n",
    "pt = Point()\n",
    "pt.x = 3\n",
    "pt.y = 4\n",
    "\n",
    "print(pt.x, pt.y)\n",
    "move(pt, 1, 2)\n",
    "print(pt.x, pt.y)\n",
    "\n",
    "d = distance(pt)\n",
    "print(d)\n",
    "\n",
    "# Python's default object model supports this because every object has a built-in dictionary (__dict__) \n",
    "# where its attributes are stored. You can see it:\n",
    "\n",
    "print(pt.__dict__)  # Output: {'x': 3, 'y': 4}"
   ]
  },
  {
   "cell_type": "code",
   "execution_count": 10,
   "id": "0b434304-7825-44a0-a823-5d13c672dfc3",
   "metadata": {},
   "outputs": [
    {
     "name": "stdout",
     "output_type": "stream",
     "text": [
      "\n",
      "\n",
      "But is it good practice?\n",
      "\n",
      "Usually no — it's better practice to define your attributes explicitly in an __init__ constructor \n",
      "so they're always present and predictable.\n",
      "\n",
      "\n"
     ]
    }
   ],
   "source": [
    "print('''\n",
    "\n",
    "But is it good practice?\n",
    "\n",
    "Usually no — it's better practice to define your attributes explicitly in an __init__ constructor \n",
    "so they're always present and predictable.\n",
    "\n",
    "''')"
   ]
  },
  {
   "cell_type": "code",
   "execution_count": null,
   "id": "3e1800bc-87e6-42fa-b018-80e20192375b",
   "metadata": {},
   "outputs": [],
   "source": [
    "print(\"code version 3:\")"
   ]
  },
  {
   "cell_type": "code",
   "execution_count": 12,
   "id": "714afdb9-2844-466e-a8bb-442f5d73d203",
   "metadata": {},
   "outputs": [
    {
     "name": "stdout",
     "output_type": "stream",
     "text": [
      "3 4\n",
      "1 2\n",
      "2.23606797749979\n"
     ]
    }
   ],
   "source": [
    "import math\n",
    "\n",
    "class Point:\n",
    "    def move(pt, x, y):\n",
    "        pt.x = x\n",
    "        pt.y = y\n",
    "\n",
    "    def distance(pt):\n",
    "        return math.sqrt(pt.x ** 2 + pt.y ** 2)\n",
    "\n",
    "\n",
    "pt = Point()\n",
    "pt.x = 3\n",
    "pt.y = 4\n",
    "\n",
    "print(pt.x, pt.y)\n",
    "Point.move(pt, 1, 2)\n",
    "print(pt.x, pt.y)\n",
    "d = Point.distance(pt)\n",
    "print(d)"
   ]
  },
  {
   "cell_type": "code",
   "execution_count": null,
   "id": "b80d198b-c90f-4811-ae15-dd82f96a9dfb",
   "metadata": {},
   "outputs": [],
   "source": [
    "print(\"code version 4:\")"
   ]
  },
  {
   "cell_type": "code",
   "execution_count": 15,
   "id": "7d7210b7-e9e5-4457-9c92-1e17b3555c81",
   "metadata": {},
   "outputs": [
    {
     "name": "stdout",
     "output_type": "stream",
     "text": [
      "3 4\n",
      "4 6\n",
      "7.211102550927978\n"
     ]
    }
   ],
   "source": [
    "import math\n",
    "\n",
    "class Point:\n",
    "    def move(self, x, y):\n",
    "        self.x += x\n",
    "        self.y += y\n",
    "\n",
    "    def distance(self):\n",
    "        return math.sqrt(self.x ** 2 + self.y ** 2)\n",
    "\n",
    "\n",
    "pt = Point()\n",
    "pt.x = 3\n",
    "pt.y = 4\n",
    "\n",
    "print(pt.x, pt.y)\n",
    "pt.move(1, 2)      # Point.move(pt, 1, 2)\n",
    "print(pt.x, pt.y)\n",
    "\n",
    "d = pt.distance()  # d = Point.distance(pt)\n",
    "print(d)"
   ]
  },
  {
   "cell_type": "code",
   "execution_count": null,
   "id": "38e1bcb4-3c95-4aa6-b3bb-6c38808d4f81",
   "metadata": {},
   "outputs": [],
   "source": [
    "print(\"code version 5:\")"
   ]
  },
  {
   "cell_type": "code",
   "execution_count": 22,
   "id": "86e7266d-0be5-4105-9b4a-bfb86fb7702a",
   "metadata": {},
   "outputs": [
    {
     "name": "stdout",
     "output_type": "stream",
     "text": [
      "\n",
      "\n",
      "Think of SELF as: a reference to \"this object\"\n",
      "\n",
      "self.x means: \"x stored inside this object\"\n",
      "\n",
      "By saving values as self.x, you're giving the object MEMORY \n",
      "\n",
      "— a way to remember data passed to it when it was created.\n",
      "\n",
      "\n"
     ]
    }
   ],
   "source": [
    "# x and y are parameters passed into the method when you create a Point object. \n",
    "# so they are external to the object at the time of creation.\n",
    "\n",
    "# We use self. to record (or store) external variables into the object’s internal state so that they persist \n",
    "# beyond the constructor and can be accessed or modified later by other methods or code.\n",
    "\n",
    "# 🧠 Without self:\n",
    "# If you just write:\n",
    "\n",
    "def __init__(self, x, y):\n",
    "    x = x\n",
    "    y = y\n",
    "\n",
    "# It does nothing meaningful. It just creates local variables x and y that disappear after __init__ finishes. \n",
    "# The object itself stores nothing.\n",
    "\n",
    "# ✅ With self:\n",
    "\n",
    "def __init__(self, x, y):\n",
    "    self.x = x\n",
    "    self.y = y\n",
    "\n",
    "# This assigns the external values (x, y) to attributes of the object. Now you can later access them like:\n",
    "\n",
    "# pt = Point(3, 4)\n",
    "# print(pt.x)  # → 3\n",
    "# print(pt.y)  # → 4\n",
    "\n",
    "print('''\n",
    "\n",
    "Think of SELF as: a reference to \"this object\"\n",
    "\n",
    "self.x means: \"x stored inside this object\"\n",
    "\n",
    "By saving values as self.x, you're giving the object MEMORY \n",
    "\n",
    "— a way to remember data passed to it when it was created.\n",
    "\n",
    "''')"
   ]
  },
  {
   "cell_type": "code",
   "execution_count": 23,
   "id": "d08315f7-a560-4f37-8e62-86b015aa7a39",
   "metadata": {},
   "outputs": [
    {
     "name": "stdout",
     "output_type": "stream",
     "text": [
      "3 4\n",
      "(3, 4)\n",
      "4 6\n",
      "7.211102550927978\n",
      "\n",
      "\n",
      "If we write:\n",
      "\n",
      "def distance(self, x, y):\n",
      "    return math.sqrt(x ** 2 + y ** 2)\n",
      "\n",
      "You would need to call it like this:\n",
      "\n",
      "pt.distance(3, 4)\n",
      "\n",
      "And then what's the point of storing self.x and self.y in the object?\n",
      "\n",
      "So it defeats the purpose of object-oriented design, \n",
      "\n",
      "where data lives inside the object and methods use that internal data.\n",
      "\n",
      "\n"
     ]
    }
   ],
   "source": [
    "import math\n",
    "\n",
    "\n",
    "\n",
    "class Point:\n",
    "    # automatically called when an object is created\n",
    "    # initialize the newly created object\n",
    "    \n",
    "    def __init__(self, x, y):\n",
    "        self.x = x\n",
    "        self.y = y\n",
    "\n",
    "    # automatically called when calling str(obj)\n",
    "    def __str__(self):\n",
    "        return '({}, {})'.format(self.x, self.y)\n",
    "\n",
    "    # for an instance method, we have to use caller (self) as the first parameter\n",
    "    def move(self, x, y):\n",
    "        self.x += x\n",
    "        self.y += y\n",
    "\n",
    "    def distance(self):\n",
    "        return math.sqrt(self.x ** 2 + self.y ** 2)\n",
    "\n",
    "# create a new blank object\n",
    "# obj.__init__(3, 4)\n",
    "# Point.__init__(obj, 3, 4)\n",
    "\n",
    "pt = Point(3, 4)\n",
    "# pt.x = 3\n",
    "# pt.y = 4\n",
    "\n",
    "print(pt.x, pt.y)\n",
    "print(str(pt)) # print(pt) -> str(pt) provides the string representation of pt\n",
    "\n",
    "pt.move(1, 2)  # Point.move(pt, 1, 2)\n",
    "print(pt.x, pt.y)\n",
    "\n",
    "d = pt.distance()  # d = Point.distance(pt)\n",
    "print(d)\n",
    "\n",
    "# We don’t need to pass x and y into distance(self) because they’re already stored inside the object as self.x and self.y. \n",
    "# That's the whole point of using self. — to save values so they can be reused later without needing to pass them again.\n",
    "\n",
    "print('''\n",
    "\n",
    "If we write:\n",
    "\n",
    "def distance(self, x, y):\n",
    "    return math.sqrt(x ** 2 + y ** 2)\n",
    "\n",
    "You would need to call it like this:\n",
    "\n",
    "pt.distance(3, 4)\n",
    "\n",
    "And then what's the point of storing self.x and self.y in the object?\n",
    "\n",
    "So it defeats the purpose of object-oriented design, \n",
    "\n",
    "where data lives inside the object and methods use that internal data.\n",
    "\n",
    "''')"
   ]
  },
  {
   "cell_type": "code",
   "execution_count": 24,
   "id": "72b2a332-351d-476d-a8f2-f3bd0c0c16fa",
   "metadata": {},
   "outputs": [
    {
     "name": "stdout",
     "output_type": "stream",
     "text": [
      "\n",
      "\n",
      "🎯 Summary:\n",
      "\n",
      "Use self.x, self.y when the data already lives inside the object\n",
      "\n",
      "Use extra parameters when the method needs additional input not stored inside the object\n",
      "\n",
      "\n"
     ]
    }
   ],
   "source": [
    "print('''\n",
    "\n",
    "🎯 Summary:\n",
    "\n",
    "Use self.x, self.y when the data already lives inside the object\n",
    "\n",
    "Use extra parameters when the method needs additional input not stored inside the object\n",
    "\n",
    "''')"
   ]
  },
  {
   "cell_type": "code",
   "execution_count": 25,
   "id": "eed46355-19e4-4c1c-b520-83140f99357f",
   "metadata": {},
   "outputs": [
    {
     "name": "stdout",
     "output_type": "stream",
     "text": [
      "\n",
      "\n",
      "Method needs extra input\n",
      "\n",
      "Now let’s say you want to compute the distance from this point to another point. \n",
      "\n",
      "That other point's coordinates aren’t stored inside the object, so you need to pass them as parameters:\n",
      "\n",
      "\n",
      "5.0\n",
      "5.0\n"
     ]
    }
   ],
   "source": [
    "print('''\n",
    "\n",
    "Method needs extra input\n",
    "\n",
    "Now let’s say you want to compute the distance from this point to another point. \n",
    "\n",
    "That other point's coordinates aren’t stored inside the object, so you need to pass them as parameters:\n",
    "\n",
    "''')\n",
    "\n",
    "class Point:\n",
    "    def __init__(self, x, y):\n",
    "        self.x = x\n",
    "        self.y = y\n",
    "\n",
    "    def distance_to(self, other_x, other_y):\n",
    "        dx = self.x - other_x\n",
    "        dy = self.y - other_y\n",
    "        return (dx ** 2 + dy ** 2) ** 0.5\n",
    "\n",
    "pt = Point(3, 4)\n",
    "print(pt.distance_to(0, 0))  # Distance to origin → 5.0\n",
    "print(pt.distance_to(6, 8))  # Distance to another point"
   ]
  },
  {
   "cell_type": "code",
   "execution_count": 27,
   "id": "d9db90a1-db51-498e-8b42-a69f13dc9862",
   "metadata": {},
   "outputs": [
    {
     "name": "stdout",
     "output_type": "stream",
     "text": [
      "Custom equality checking in Python :\n"
     ]
    }
   ],
   "source": [
    "print(\"Custom equality checking in Python :\")"
   ]
  },
  {
   "cell_type": "code",
   "execution_count": 28,
   "id": "a1b2be84-8795-4302-85a6-90ec128416b6",
   "metadata": {},
   "outputs": [
    {
     "name": "stdout",
     "output_type": "stream",
     "text": [
      "\n",
      "\n",
      "__eq__ is a special method that defines what == means for two Point objects.\n",
      "\n",
      "It checks that the other object is a Point, and then compares x and y values.\n",
      "\n",
      "\n"
     ]
    }
   ],
   "source": [
    "print('''\n",
    "\n",
    "__eq__ is a special method that defines what == means for two Point objects.\n",
    "\n",
    "It checks that the other object is a Point, and then compares x and y values.\n",
    "\n",
    "''')"
   ]
  },
  {
   "cell_type": "code",
   "execution_count": 30,
   "id": "c1069ec1-f725-4122-b7ca-d435aca3a337",
   "metadata": {},
   "outputs": [
    {
     "name": "stdout",
     "output_type": "stream",
     "text": [
      "p (3, 4)\n",
      "q (3, 4)\n",
      "True\n",
      "r (3, 4)\n",
      "True\n",
      "False\n",
      "True\n"
     ]
    }
   ],
   "source": [
    "import math\n",
    "\n",
    "class Point:\n",
    "    # automatically called when an object is created\n",
    "    # initialize the newly created object\n",
    "    def __init__(self, x, y):\n",
    "        self.x = x\n",
    "        self.y = y\n",
    "\n",
    "    # automatically called when calling str(obj)\n",
    "    def __str__(self):\n",
    "         return '({}, {})'.format(self.x, self.y)\n",
    "\n",
    "    # if two Point objects have the same x and y values\n",
    "    # they are equal\n",
    "    \n",
    "    def __eq__(self, other):\n",
    "        if isinstance(other, Point):\n",
    "            return self.x == other.x and self.y == other.y\n",
    "        else:\n",
    "            return False\n",
    "\n",
    "# by default == equality checking is\n",
    "# to check if two variables refer to same object (identical)\n",
    "\n",
    "# In this example, we overide the default behavior of ==.\n",
    "# By default, == checks object identity (i.e., same memory address).\n",
    "# With __eq__, we tell Python:\n",
    "# “Two Points are equal if their x and y values are equal.”\n",
    "# isinstance(other, Point) ensures we're only comparing Point objects, and not something else like a Car.\n",
    "\n",
    "p = Point(3, 4)\n",
    "q = Point(3, 4)\n",
    "print('p', p)\n",
    "print('q', q)\n",
    "print(p == q) # Point.__eq__(p, q) => p.__eq__(q)\n",
    "\n",
    "# If Point had no __eq__, p == q would be False even with the same values, because it would fall back to:\n",
    "# p is q  # identity comparison\n",
    "\n",
    "r = p\n",
    "print('r', r)\n",
    "print(p == r)\n",
    "\n",
    "class Car:\n",
    "    def __eq__(self, other):\n",
    "        return True\n",
    "\n",
    "c = Car()\n",
    "c.x = 3\n",
    "c.y = 4\n",
    "print(p == c) # False — because Point.__eq__ sees c is not a Point\n",
    "print(c == q) # True — because Car.__eq__ returns True no matter what\n",
    "              # == start from c and if __eq__ is not provided, try q"
   ]
  },
  {
   "cell_type": "code",
   "execution_count": 31,
   "id": "4600ce05-a1b5-4ca9-ab5a-fb276b6a5081",
   "metadata": {},
   "outputs": [
    {
     "name": "stdout",
     "output_type": "stream",
     "text": [
      "\n",
      "\n",
      "🧠 Summary:\n",
      "\n",
      "__eq__ lets you define what “equality” means for your class.\n",
      "\n",
      "Default == checks identity (like is).\n",
      "\n",
      "Overriding __eq__ is Pythonic when comparing custom objects.\n",
      "\n",
      "You can even override __str__, __lt__, etc., for more natural behavior.\n",
      "\n",
      "\n"
     ]
    }
   ],
   "source": [
    "print('''\n",
    "\n",
    "🧠 Summary:\n",
    "\n",
    "__eq__ lets you define what “equality” means for your class.\n",
    "\n",
    "Default == checks identity (like is).\n",
    "\n",
    "Overriding __eq__ is Pythonic when comparing custom objects.\n",
    "\n",
    "You can even override __str__, __lt__, etc., for more natural behavior.\n",
    "\n",
    "''')"
   ]
  },
  {
   "cell_type": "code",
   "execution_count": 34,
   "id": "65ab3253-2d31-4266-9b5b-8eacf7a087d6",
   "metadata": {},
   "outputs": [
    {
     "name": "stdout",
     "output_type": "stream",
     "text": [
      "\n",
      "\n",
      "__hash__ — for sets and dictionary keys\n",
      "\n",
      "By default, objects are hashable by identity (i.e., memory address). \n",
      "\n",
      "But if you override __eq__, Python removes the default hashability unless you also define __hash__.\n",
      "\n",
      "def __hash__(self):\n",
      "    return hash((self.x, self.y))\n",
      "\n",
      "This makes the hash based on content — so two points with the same x and y are considered the same in sets and dicts.\n",
      "\n",
      "\n",
      "2\n"
     ]
    }
   ],
   "source": [
    "print('''\n",
    "\n",
    "__hash__ — for sets and dictionary keys\n",
    "\n",
    "By default, objects are hashable by identity (i.e., memory address). \n",
    "\n",
    "But if you override __eq__, Python removes the default hashability unless you also define __hash__.\n",
    "\n",
    "def __hash__(self):\n",
    "    return hash((self.x, self.y))\n",
    "\n",
    "This makes the hash based on content — so two points with the same x and y are considered the same in sets and dicts.\n",
    "\n",
    "''')\n",
    "\n",
    "import math\n",
    "\n",
    "class Point:\n",
    "    def __init__(self, x, y):\n",
    "        self.x = x\n",
    "        self.y = y\n",
    "\n",
    "    def __eq__(self, other):\n",
    "        return isinstance(other, Point) and self.x == other.x and self.y == other.y\n",
    "\n",
    "    def __hash__(self):\n",
    "        return hash((self.x, self.y))\n",
    "\n",
    "    def __str__(self):\n",
    "        return f\"({self.x}, {self.y})\"\n",
    "\n",
    "\n",
    "p1 = Point(1, 2)\n",
    "p2 = Point(1, 2)\n",
    "p3 = Point(2, 3)\n",
    "\n",
    "points = {p1, p2, p3}\n",
    "print(len(points))  # ✅ 2, because p1 == p2 and hashes match\n"
   ]
  },
  {
   "cell_type": "code",
   "execution_count": null,
   "id": "c9ee2d9a-78bf-4ce7-8353-82a38e77c5ab",
   "metadata": {},
   "outputs": [],
   "source": []
  }
 ],
 "metadata": {
  "kernelspec": {
   "display_name": "Python 3 (ipykernel)",
   "language": "python",
   "name": "python3"
  },
  "language_info": {
   "codemirror_mode": {
    "name": "ipython",
    "version": 3
   },
   "file_extension": ".py",
   "mimetype": "text/x-python",
   "name": "python",
   "nbconvert_exporter": "python",
   "pygments_lexer": "ipython3",
   "version": "3.12.2"
  }
 },
 "nbformat": 4,
 "nbformat_minor": 5
}
