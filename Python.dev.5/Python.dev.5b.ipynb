{
 "cells": [
  {
   "cell_type": "code",
   "execution_count": null,
   "id": "0b0f5bfe-b6ab-4bc9-91c3-74838a1bc97a",
   "metadata": {},
   "outputs": [],
   "source": []
  },
  {
   "cell_type": "code",
   "execution_count": 1,
   "id": "8ef95d5f-1082-406d-b0cc-b2193d1a4b2c",
   "metadata": {},
   "outputs": [
    {
     "name": "stdout",
     "output_type": "stream",
     "text": [
      "RECURSION:\n"
     ]
    }
   ],
   "source": [
    "print(\"RECURSION:\")"
   ]
  },
  {
   "cell_type": "code",
   "execution_count": 2,
   "id": "602f5e96-168f-42ed-82b1-6b77275b8360",
   "metadata": {},
   "outputs": [
    {
     "name": "stdout",
     "output_type": "stream",
     "text": [
      "2101\n"
     ]
    }
   ],
   "source": [
    "# This function recursively converts a decimal number into base-3 (ternary), but in reverse order.\n",
    "\n",
    "def magic(val):\n",
    "    dig = '' + str(val % 3)            # This gives the remainder when dividing val by 3 — the rightmost digit in base-3.\n",
    "\n",
    "    if val // 3 > 0:\n",
    "        return dig + magic(val // 3)   # This gives the quotient, i.e. the \"next step\" in converting to base-3.\n",
    "\n",
    "    return dig\n",
    "\n",
    "print(magic(32))\n"
   ]
  },
  {
   "cell_type": "code",
   "execution_count": null,
   "id": "8b6cd30f-c36d-4a10-92a5-348acf160a3a",
   "metadata": {},
   "outputs": [],
   "source": []
  },
  {
   "cell_type": "code",
   "execution_count": 3,
   "id": "ec30a40c-e2aa-4734-9efa-476e0345702a",
   "metadata": {},
   "outputs": [
    {
     "name": "stdout",
     "output_type": "stream",
     "text": [
      "HOPSCOTCH:\n"
     ]
    }
   ],
   "source": [
    "print(\"HOPSCOTCH:\")\n",
    "\n",
    "# Hopscotch is a classic children's game played on the ground, typically drawn with chalk on pavement or marked on indoor floors. \n",
    "# It combines jumping, balance, and counting, and it's popular around the world with slight regional variations"
   ]
  },
  {
   "cell_type": "code",
   "execution_count": 4,
   "id": "ba5510b4-8c91-4d88-9cbb-94da78cbe256",
   "metadata": {},
   "outputs": [
    {
     "name": "stdout",
     "output_type": "stream",
     "text": [
      "11\n"
     ]
    }
   ],
   "source": [
    "# Count how many valid paths exist from the top-left corner (0,0) to the bottom-right corner (R-1,C-1), where:\n",
    "# Movement is only down and right (strictly increasing row and column).\n",
    "# You can only move to a cell that has a different color from the current one.\n",
    "\n",
    "\n",
    "def get_ways(grid, i, j):\n",
    "    \n",
    "    R = len(grid) - 1             # Defines the maximum row and column indices.\n",
    "    C = len(grid[0]) - 1          # Defines the maximum row and column indices.\n",
    "\n",
    "    if i == R and j == C:         # base case\n",
    "       return 1                   # if you're at the bottom-right corner, you've completed a valid path — return 1\n",
    "    \n",
    "    result = 0                    # recursive step \n",
    "    for x in range(i + 1, R + 1):\n",
    "        for y in range(j + 1, C + 1):\n",
    "            if grid[i][j] != grid[x][y]:\n",
    "                result += get_ways(grid, x, y)\n",
    "    return result\n",
    "\n",
    "# It checks all positions strictly to the right and below (i+1...R, j+1...C)\n",
    "# Only moves to cells with a different color\n",
    "# For each valid move, it recursively counts paths from that cell\n",
    "\n",
    "with open('hopscotch_map_2.in') as fin:\n",
    "    \n",
    "    R, C = [int(part) for part in fin.readline().strip().split()]\n",
    "    grid = []                      # The variable grid becomes a list of lists — more specifically:\n",
    "                                   # grid: List[List[str]] : It’s a 2D list (a list of rows)\n",
    "    for _ in range(R):\n",
    "        line = fin.readline().strip()\n",
    "        grid.append(list(line))\n",
    "\n",
    "    result = get_ways(grid, 0, 0)\n",
    "    print(result)\n",
    "\n",
    "# A list of lists can be considered a matrix in Python.\n",
    "# grid[i][j]\tMeans\n",
    "# i\tRow index\n",
    "# j\tColumn index\n",
    "\n",
    "# import numpy as np\n",
    "# arr = np.array(grid)\n",
    "# NumPy is faster and supports true matrix math."
   ]
  },
  {
   "cell_type": "code",
   "execution_count": null,
   "id": "1d2e9447-4e85-4d84-9331-79271852d323",
   "metadata": {},
   "outputs": [],
   "source": []
  },
  {
   "cell_type": "code",
   "execution_count": 5,
   "id": "cc9debbe-f6e3-4a9f-bad3-1028e55e07bb",
   "metadata": {},
   "outputs": [
    {
     "name": "stdout",
     "output_type": "stream",
     "text": [
      "NUMBER of ISLANDS:\n"
     ]
    }
   ],
   "source": [
    "print(\"NUMBER of ISLANDS:\")"
   ]
  },
  {
   "cell_type": "code",
   "execution_count": 6,
   "id": "025f05ad-229b-47d4-bb25-c09cdda22bec",
   "metadata": {},
   "outputs": [],
   "source": [
    "# This code is a classic solution to the \"Number of Islands\" problem using a Depth-First Search (DFS) approach \n",
    "# (specifically a recursive flood fill algorithm).\n",
    "# 🏝️ Goal: count how many islands are in the map.\n",
    "# An island is a group of 1s (land) connected up, down, left, or right (not diagonally).\n",
    "# 0 means water.\n"
   ]
  },
  {
   "cell_type": "code",
   "execution_count": 7,
   "id": "1ca92b44-bdc6-4f1d-87b5-70888279663b",
   "metadata": {},
   "outputs": [
    {
     "name": "stdout",
     "output_type": "stream",
     "text": [
      "4\n"
     ]
    }
   ],
   "source": [
    "# 0 means water and 1 means land\n",
    "# how many islands in the map\n",
    "\n",
    "map_ = [\n",
    "    [0, 1, 0, 0, 1, 0],\n",
    "    [0, 0, 0, 1, 1, 0],\n",
    "    [0, 0, 1, 0, 1, 1],\n",
    "    [0, 1, 1, 0, 0, 0],\n",
    "    [1, 1, 1, 0, 1, 1]\n",
    "]\n",
    "\n",
    "R = len(map_)\n",
    "C = len(map_[0])\n",
    "\n",
    "islands = 0\n",
    "\n",
    "visited = []  # visited keeps track of which cells have already been processed to avoid double-counting.\n",
    "\n",
    "for i in range(R):\n",
    "    visited.append([False] * C)\n",
    "\n",
    "def flood_fill(i, j):\n",
    "    \n",
    "    visited[i][j] = True   # This function marks the current land cell as visited, and recursively explores its unvisited land neighbors \n",
    "                           # (top, bottom, left, right).\n",
    "    \n",
    "    if i > 0 and map_[i-1][j] == 1 and not visited[i-1][j]:\n",
    "        flood_fill(i-1, j)\n",
    "    if i < R-1 and map_[i+1][j] == 1 and not visited[i+1][j]:\n",
    "        flood_fill(i+1, j)\n",
    "    if j > 0 and map_[i][j-1] == 1 and not visited[i][j-1]:\n",
    "        flood_fill(i, j-1)\n",
    "    if j < C-1 and map_[i][j+1] == 1 and not visited[i][j+1]:\n",
    "        flood_fill(i, j+1)\n",
    "\n",
    "for i in range(R):\n",
    "    for j in range(C):\n",
    "        if map_[i][j] == 1 and not visited[i][j]:\n",
    "            islands += 1\n",
    "            flood_fill(i, j)\n",
    "\n",
    "print(islands)\n",
    "\n",
    "# Why does a single 1 count as an island?\n",
    "# Because:\n",
    "# It is land (1)\n",
    "# It is not connected to any other land cells\n",
    "# So, it's a valid island of size 1"
   ]
  },
  {
   "cell_type": "code",
   "execution_count": null,
   "id": "2ee627cf-a0c6-43b2-a42f-8b8f56f65dbe",
   "metadata": {},
   "outputs": [],
   "source": []
  },
  {
   "cell_type": "code",
   "execution_count": 8,
   "id": "4b631a05-a76d-4b98-aadb-cf9f9b5e4799",
   "metadata": {},
   "outputs": [
    {
     "name": "stdout",
     "output_type": "stream",
     "text": [
      "MERGE SORT : a recursive solution, Divide et Impera (divide and conquer)\n"
     ]
    }
   ],
   "source": [
    "print(\"MERGE SORT : a recursive solution, Divide et Impera (divide and conquer)\")\n",
    "# it is a solution proposed in class"
   ]
  },
  {
   "cell_type": "code",
   "execution_count": 9,
   "id": "32fb5f32-8485-4be6-a0f6-5fd34e1e6434",
   "metadata": {},
   "outputs": [
    {
     "name": "stdout",
     "output_type": "stream",
     "text": [
      "[8, 1, 4, 6, 2, 5, 3, 7]\n",
      "[1, 2, 3, 4, 5, 6, 7, 8]\n"
     ]
    }
   ],
   "source": [
    "# mergesort() recursively splits the array into halves until each part is sorted (size 1).\n",
    "# merge() then combines those sorted parts back together in order.\n",
    "# merge_sub() is a small helper that inserts values into the original array during the merging process.\n",
    "\n",
    "def merge_sub(arr, merge_index, sub, sub_index):\n",
    "    arr[merge_index] = sub[sub_index]\n",
    "    sub_index += 1\n",
    "    return sub_index\n",
    "\n",
    "# pre-condition: arr[start:middle+1] is sorted and\n",
    "#                arr[middle+1:end+1] is sorted\n",
    "# post-condition: arr[start:end] is sorted\n",
    "\n",
    "def merge(arr, start, middle, end):\n",
    "    left = arr[start:middle+1]\n",
    "    right = arr[middle+1:end+1]\n",
    "    left_index = 0\n",
    "    right_index = 0\n",
    "\n",
    "    merge_index = start\n",
    "    while merge_index <= end:\n",
    "        if right_index >= len(right):\n",
    "            left_index = merge_sub(arr, merge_index, left, left_index)\n",
    "        elif left_index >= len(left):\n",
    "            right_index = merge_sub(arr, merge_index, right, right_index)\n",
    "        elif left[left_index] < right[right_index]:\n",
    "            left_index = merge_sub(arr, merge_index, left, left_index)\n",
    "        else:\n",
    "            right_index = merge_sub(arr, merge_index, right, right_index)\n",
    "\n",
    "        merge_index += 1\n",
    "\n",
    "def mergesort(arr, start, end):\n",
    "    if start >= end:\n",
    "        return\n",
    "\n",
    "    middle = (start + end) // 2\n",
    "    mergesort(arr, start, middle)\n",
    "    mergesort(arr, middle+1, end)\n",
    "    merge(arr, start, middle, end)\n",
    "\n",
    "\n",
    "arr = [8, 1, 4, 6, 2, 5, 3, 7]\n",
    "print(arr)\n",
    "mergesort(arr, 0, len(arr) - 1)\n",
    "print(arr)"
   ]
  },
  {
   "cell_type": "code",
   "execution_count": 10,
   "id": "c083b608-74be-421a-9139-15ea5480922b",
   "metadata": {},
   "outputs": [
    {
     "name": "stdout",
     "output_type": "stream",
     "text": [
      "MERGE SORT : a recursive solution, Divide et Impera (divide and conquer) : a simpler solution\n"
     ]
    }
   ],
   "source": [
    "print(\"MERGE SORT : a recursive solution, Divide et Impera (divide and conquer) : a simpler solution\")"
   ]
  },
  {
   "cell_type": "code",
   "execution_count": 11,
   "id": "636b3853-10b6-4c99-b1fc-74e57cc477d5",
   "metadata": {},
   "outputs": [
    {
     "name": "stdout",
     "output_type": "stream",
     "text": [
      "Original array: [8, 1, 4, 6, 2, 5, 3, 7]\n",
      "Sorted array: [1, 2, 3, 4, 5, 6, 7, 8]\n"
     ]
    }
   ],
   "source": [
    "def merge_sort(arr):\n",
    "    \n",
    "    # Base case: if the array has 0 or 1 elements, it is already sorted\n",
    "    if len(arr) <= 1:\n",
    "        return arr\n",
    "\n",
    "    # Step 1: Split the array into two halves\n",
    "    middle = len(arr) // 2\n",
    "    left_half = merge_sort(arr[:middle])\n",
    "    right_half = merge_sort(arr[middle:])\n",
    "\n",
    "    # Step 2: Merge the two sorted halves\n",
    "    return merge(left_half, right_half)\n",
    "\n",
    "\n",
    "def merge(left, right):\n",
    "    \n",
    "    result = []\n",
    "    i = 0  # index for left half\n",
    "    j = 0  # index for right half\n",
    "\n",
    "    # Compare elements from both halves and add the smaller one to the result\n",
    "    # This loop runs as long as both lists have unprocessed elements.\n",
    "    while i < len(left) and j < len(right):\n",
    "        if left[i] < right[j]:\n",
    "            result.append(left[i])\n",
    "            i += 1\n",
    "        else:\n",
    "            result.append(right[j])\n",
    "            j += 1\n",
    "\n",
    "        # If the current element in left is smaller than in right, add it to the result.\n",
    "        # Move the pointer i to the next element in left.\n",
    "        # Otherwise, add the element from right and advance the pointer j.\n",
    "\n",
    "    # If there are leftover elements in either half, add them all\n",
    "    result.extend(left[i:])\n",
    "    result.extend(right[j:])\n",
    "\n",
    "    return result\n",
    "\n",
    "\n",
    "# Example usage:\n",
    "arr = [8, 1, 4, 6, 2, 5, 3, 7]\n",
    "print(\"Original array:\", arr)\n",
    "\n",
    "sorted_arr = merge_sort(arr)\n",
    "print(\"Sorted array:\", sorted_arr)\n"
   ]
  },
  {
   "cell_type": "code",
   "execution_count": null,
   "id": "1847771b-1e93-45e1-928f-1d1324791576",
   "metadata": {},
   "outputs": [],
   "source": []
  },
  {
   "cell_type": "code",
   "execution_count": null,
   "id": "3db281bc-cf8f-449c-8100-53322deb468a",
   "metadata": {},
   "outputs": [],
   "source": []
  },
  {
   "cell_type": "code",
   "execution_count": 12,
   "id": "94d76246-7c5a-436f-b6e6-6afdb862e447",
   "metadata": {},
   "outputs": [
    {
     "name": "stdout",
     "output_type": "stream",
     "text": [
      "KNAPSACK : a recursive solution, DYNAMIC PROGRAMMING\n"
     ]
    }
   ],
   "source": [
    "print(\"KNAPSACK : a recursive solution, DYNAMIC PROGRAMMING\")\n",
    "\n",
    "# Imagine you are a traveler with a backpack (knapsack) that can carry a limited weight, say 10 kg. \n",
    "# You have a set of items to choose from, and each item has:\n",
    "\n",
    "# A weight (how heavy it is)\n",
    "# A value (how useful or profitable it is)\n",
    "# Your goal is to:\n",
    "# Choose a subset of items that maximizes total value, without exceeding the total weight your knapsack can carry.\n",
    "\n",
    "# Why it’s important:\n",
    "# The knapsack problem models real-world resource allocation:\n",
    "# Limited capacity (memory, budget, time)\n",
    "# Choose among options with trade-offs (cost vs benefit)\n",
    "# Solve efficiently with techniques like dynamic programming, greedy, or branch & bound"
   ]
  },
  {
   "cell_type": "code",
   "execution_count": 13,
   "id": "1b4fe85f-80cd-4a03-9636-9af488cbc36b",
   "metadata": {},
   "outputs": [],
   "source": [
    "# You have a set of items, each with a weight and a value.\n",
    "# You have a knapsack (bag) that can carry at most max_weight.\n",
    "# Your goal is to maximize the total value of items placed in the knapsack without exceeding its weight limit.\n",
    "# Each item can be used at most once."
   ]
  },
  {
   "cell_type": "code",
   "execution_count": 14,
   "id": "c8fc807a-bd53-4725-addf-90fa0f08a848",
   "metadata": {},
   "outputs": [
    {
     "name": "stdout",
     "output_type": "stream",
     "text": [
      "[[0, 0, 0, 0, 0, 0, 0, 0, 0, 0, 0], [0, 0, 0, 0, 0, 0, 0, 0, 0, 0, 0], [0, 0, 0, 0, 0, 0, 0, 0, 0, 0, 0], [0, 0, 0, 0, 0, 0, 0, 0, 0, 0, 0], [0, 0, 0, 0, 0, 0, 0, 0, 0, 0, 0]]\n",
      "5\n",
      "[[0, 0, 0, 0, 0, 0, 0, 0, 0, 0, 0], [0, 0, 3, 3, 3, 3, 3, 3, 3, 3, 3], [0, 0, 3, 4, 4, 7, 7, 7, 7, 7, 7], [0, 0, 3, 4, 5, 7, 8, 9, 9, 12, 12], [0, 0, 3, 4, 5, 7, 8, 9, 10, 12, 13]]\n",
      "13\n"
     ]
    }
   ],
   "source": [
    "\n",
    "# 1. optimal sub-structures: the optimal solution to the original problem\n",
    "# can be constructed by combining the optimal solutions to its similar sub-problems\n",
    "# 2. overlapping sub-problems: the number of the unique sub-problems is small\n",
    "\n",
    "# (weight, value)\n",
    "items = [\n",
    "    (2, 3), (3, 4), (4, 5), (5, 6)\n",
    "]\n",
    "\n",
    "# knapsack capacity: max weight a bag can hold\n",
    "max_weight = 10\n",
    "\n",
    "# dp[i][w] as the maximum value that can be obtained using the first i items\n",
    "# with the knapsack capacity as w\n",
    "\n",
    "dp = []\n",
    "\n",
    "for i in range(len(items) + 1):\n",
    "    dp.append([0] * (max_weight + 1))\n",
    "\n",
    "\n",
    "print(dp)\n",
    "print(len(dp))\n",
    "\n",
    "# We create a 2D DP table dp with dimensions (number of items + 1) × (max_weight + 1)\n",
    "# dp[i][w] will hold the maximum value you can get using the first i items and a bag with capacity w\n",
    "# Initialize all values to 0 (base cases: no items or no capacity)\n",
    "\n",
    "# Iterate over each item (starting from item 1)\n",
    "# items[index - 1] because dp[0][...] is the 0-item row (base case)\n",
    "# Unpack the weight and value of the current item\n",
    "\n",
    "# If the item fits in the knapsack (i.e., doesn't exceed the current weight limit):\n",
    "# You choose the better of:\n",
    "# * Not taking the item → value stays the same (dp[index-1][weight])\n",
    "# * Taking the item → add its value to the remaining capacity (dp[index-1][weight - item_weight] + item_value)\n",
    "\n",
    "# If the item does not fit, you can't take it, so inherit the value from the row above.\n",
    "# dp[-1][-1] is the maximum value you can achieve using all items with a full knapsack (capacity = 10)\n",
    "\n",
    "for index in range(1, len(dp)):\n",
    "    for weight in range(1, len(dp[index])):\n",
    "        item_weight, item_value = items[index - 1]\n",
    "        if item_weight <= weight:\n",
    "            dp[index][weight] = max(\n",
    "                dp[index-1][weight],\n",
    "                dp[index-1][weight-item_weight] + item_value\n",
    "            )\n",
    "        else:\n",
    "            dp[index][weight] = dp[index-1][weight]\n",
    "\n",
    "print(dp)\n",
    "print(dp[-1][-1])\n",
    "\n",
    "# [\n",
    "# [0, 0, 0, 0, 0, 0, 0, 0, 0, 0, 0],\n",
    "# [0, 0, 3, 3, 3, 3, 3, 3, 3, 3, 3],\n",
    "# [0, 0, 3, 4, 4, 7, 7, 7, 7, 7, 7],\n",
    "# [0, 0, 3, 4, 5, 7, 8, 9, 9, 12, 12],\n",
    "# [0, 0, 3, 4, 5, 7, 8, 9, 10, 12, 13]\n",
    "# ]\n"
   ]
  },
  {
   "cell_type": "code",
   "execution_count": 15,
   "id": "a3c0d901-8a7e-4b39-b45c-f58d84aec5c4",
   "metadata": {},
   "outputs": [
    {
     "name": "stdout",
     "output_type": "stream",
     "text": [
      "KNAPSACK : a recursive solution, DYNAMIC PROGRAMMING : comments\n"
     ]
    }
   ],
   "source": [
    "print(\"KNAPSACK : a recursive solution, DYNAMIC PROGRAMMING : comments\")"
   ]
  },
  {
   "cell_type": "code",
   "execution_count": 16,
   "id": "1a197745-8db3-497c-bf3d-a74b06d80544",
   "metadata": {},
   "outputs": [
    {
     "name": "stdout",
     "output_type": "stream",
     "text": [
      "4\n",
      "[0, 0, 0, 0, 0, 0, 0, 0, 0, 0, 0]\n",
      "[0, 0, 3, 3, 3, 3, 3, 3, 3, 3, 3]\n",
      "[0, 0, 3, 4, 4, 7, 7, 7, 7, 7, 7]\n",
      "[0, 0, 3, 4, 5, 7, 8, 9, 9, 12, 12]\n",
      "[0, 0, 3, 4, 5, 7, 8, 9, 10, 12, 13]\n",
      "Maximum value that fits into the knapsack: 13\n"
     ]
    }
   ],
   "source": [
    "# List of items: each item is a (weight, value) pair\n",
    "items = [(2, 3), (3, 4), (4, 5), (5, 6)]\n",
    "\n",
    "# Maximum weight the knapsack can carry\n",
    "max_weight = 10\n",
    "\n",
    "# Number of items\n",
    "n = len(items)\n",
    "print(n)\n",
    "\n",
    "# Create a 2D table where dp[i][w] means:\n",
    "# the maximum value we can get using the first i items with a max weight of w\n",
    "\n",
    "dp = []\n",
    "\n",
    "for i in range(n + 1):\n",
    "    row = [0] * (max_weight + 1)\n",
    "    dp.append(row)\n",
    "\n",
    "# Fill the table row by row\n",
    "for i in range(1, n + 1):  # i represents the number of items considered so far\n",
    "    item_weight, item_value = items[i - 1]   # current item's weight and value\n",
    "    \n",
    "    for w in range(1, max_weight + 1):  # go through each possible weight\n",
    "        if item_weight <= w:\n",
    "            # We can choose to include this item or not\n",
    "            dp[i][w] = max(\n",
    "                dp[i - 1][w],                        # not taking the item\n",
    "                dp[i - 1][w - item_weight] + item_value  # taking the item\n",
    "            )\n",
    "        else:\n",
    "            # Can't take the item, if does not fit in the bag\n",
    "            dp[i][w] = dp[i - 1][w]\n",
    "\n",
    "\n",
    "# w is the current capacity of the knapsack we're testing\n",
    "# we'll try to compute the best value possible using the first i items with a max weight w\n",
    "\n",
    "# Print the entire table (optional, for understanding)\n",
    "for row in dp:\n",
    "    print(row)\n",
    "\n",
    "# The answer is in the last cell: max value we can carry\n",
    "print(\"Maximum value that fits into the knapsack:\", dp[n][max_weight])\n"
   ]
  },
  {
   "cell_type": "code",
   "execution_count": 17,
   "id": "cd3d6ac8-6278-4ae3-a657-329521a2fd71",
   "metadata": {},
   "outputs": [],
   "source": [
    "\n",
    "# We make a table with:\n",
    "# n + 1 rows → for 0 to n items\n",
    "# max_weight + 1 columns → for weight capacities from 0 to max_weight\n",
    "# Each row i in the DP table represents:\n",
    "\n",
    "# The best possible value you can achieve using the first i items.\n",
    "# Rows represent:\n",
    "# dp[0] = using 0 items\n",
    "# \n",
    "# dp[1] = using first 1 item\n",
    "#\n",
    "# ...\n",
    "\n",
    "# dp[n] = using all n items\n",
    "\n",
    "# So we need n + 1 rows to include the case where we use no items at all — which is the base case.\n",
    "\n",
    "# Why max_weight + 1 columns?\n",
    "\n",
    "# Each column w represents:\n",
    "# The best possible value with a knapsack of capacity w.\n",
    "# So we need max_weight + 1 columns to include weight 0 up to max_weight.  "
   ]
  },
  {
   "cell_type": "code",
   "execution_count": 18,
   "id": "4df8bc35-d567-4387-a6d5-d294b1976875",
   "metadata": {},
   "outputs": [
    {
     "name": "stdout",
     "output_type": "stream",
     "text": [
      "KNAPSACK : a recursive solution, DYNAMIC PROGRAMMING : a simpler solution\n"
     ]
    }
   ],
   "source": [
    "print(\"KNAPSACK : a recursive solution, DYNAMIC PROGRAMMING : a simpler solution\")"
   ]
  },
  {
   "cell_type": "code",
   "execution_count": 19,
   "id": "00be55ec-3215-4d02-a477-da0c70beac75",
   "metadata": {},
   "outputs": [
    {
     "name": "stdout",
     "output_type": "stream",
     "text": [
      "Max value in knapsack: 13\n"
     ]
    }
   ],
   "source": [
    "# Items: (weight, value)\n",
    "\n",
    "items = [(2, 3), (3, 4), (4, 5), (5, 6)]\n",
    "max_weight = 10\n",
    "\n",
    "n = len(items)\n",
    "\n",
    "# Create a DP table with n+1 rows and max_weight+1 columns\n",
    "dp = [[0] * (max_weight + 1) for _ in range(n + 1)]\n",
    "\n",
    "# Fill the table\n",
    "for i in range(1, n + 1):\n",
    "    weight, value = items[i - 1]\n",
    "    for w in range(max_weight + 1):\n",
    "        if weight <= w:\n",
    "            dp[i][w] = max(dp[i - 1][w], dp[i - 1][w - weight] + value)\n",
    "        else:\n",
    "            dp[i][w] = dp[i - 1][w]\n",
    "\n",
    "# Final result: maximum value we can carry\n",
    "print(\"Max value in knapsack:\", dp[n][max_weight])\n"
   ]
  },
  {
   "cell_type": "code",
   "execution_count": 20,
   "id": "3eef8550-8787-42e5-a780-0bc9a4977f79",
   "metadata": {},
   "outputs": [
    {
     "name": "stdout",
     "output_type": "stream",
     "text": [
      "KNAPSACK : a recursive solution, DYNAMIC PROGRAMMING and BACKTRACKING : a simpler solution\n"
     ]
    }
   ],
   "source": [
    "print(\"KNAPSACK : a recursive solution, DYNAMIC PROGRAMMING and BACKTRACKING : a simpler solution\")"
   ]
  },
  {
   "cell_type": "code",
   "execution_count": 21,
   "id": "0f2eea9d-d17e-4fad-92d4-8fac6679d5ad",
   "metadata": {},
   "outputs": [
    {
     "name": "stdout",
     "output_type": "stream",
     "text": [
      "Max value in knapsack: 13\n",
      "Selected items (weight, value): [(2, 3), (3, 4), (5, 6)]\n"
     ]
    }
   ],
   "source": [
    "# Items: (weight, value)\n",
    "items = [(2, 3), (3, 4), (4, 5), (5, 6)]\n",
    "max_weight = 10\n",
    "n = len(items)\n",
    "\n",
    "# Step 1: Build DP table\n",
    "dp = [[0] * (max_weight + 1) for _ in range(n + 1)]\n",
    "\n",
    "for i in range(1, n + 1):\n",
    "    weight, value = items[i - 1]\n",
    "    for w in range(max_weight + 1):\n",
    "        if weight <= w:\n",
    "            dp[i][w] = max(dp[i - 1][w], dp[i - 1][w - weight] + value)\n",
    "        else:\n",
    "            dp[i][w] = dp[i - 1][w]\n",
    "\n",
    "# Step 2: Backtrack to find which items were included\n",
    "w = max_weight\n",
    "selected_items = []\n",
    "\n",
    "for i in range(n, 0, -1):  # go backward through items\n",
    "    if dp[i][w] != dp[i - 1][w]:  # item was taken\n",
    "        selected_items.append(items[i - 1])\n",
    "        w -= items[i - 1][0]  # subtract the weight of the item\n",
    "\n",
    "# Step 3: Output results\n",
    "print(\"Max value in knapsack:\", dp[n][max_weight])\n",
    "print(\"Selected items (weight, value):\", list(reversed(selected_items)))\n"
   ]
  },
  {
   "cell_type": "code",
   "execution_count": 22,
   "id": "e1c2d61f-c262-4d30-b777-f07b43bad6d6",
   "metadata": {},
   "outputs": [],
   "source": [
    "# Why it is Dynamic Programming:\n",
    "\n",
    "# It solves subproblems:\n",
    "# For each item and each weight capacity, it finds the best solution by building on previous solutions.\n",
    "# It stores results in a table (dp) to avoid recalculating the same subproblems — this is called memoization (when done with a table, it’s tabulation).\n",
    "\n",
    "# It considers all combinations of items (in a smart, efficient way) to guarantee the optimal solution.\n",
    "\n",
    "# ❌ Why it is not Greedy:\n",
    "\n",
    "# A greedy algorithm:\n",
    "# Makes the best immediate (local) choice at each step.\n",
    "# Does not go back to reconsider decisions.\n",
    "# Often doesn’t give the optimal answer for problems like 0/1 knapsack."
   ]
  }
 ],
 "metadata": {
  "kernelspec": {
   "display_name": "Python 3 (ipykernel)",
   "language": "python",
   "name": "python3"
  },
  "language_info": {
   "codemirror_mode": {
    "name": "ipython",
    "version": 3
   },
   "file_extension": ".py",
   "mimetype": "text/x-python",
   "name": "python",
   "nbconvert_exporter": "python",
   "pygments_lexer": "ipython3",
   "version": "3.12.2"
  }
 },
 "nbformat": 4,
 "nbformat_minor": 5
}
